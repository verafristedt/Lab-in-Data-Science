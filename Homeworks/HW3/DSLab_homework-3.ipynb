{
 "cells": [
  {
   "cell_type": "markdown",
   "metadata": {},
   "source": [
    "# Homework 3 - Uncovering World Events using Twitter Hashtags\n",
    "\n",
    "## ... and learning about Spark `DataFrames` along the way\n",
    "\n",
    "In this notebook, we will use temporal information about Twitter hashtags to discover trending topics and potentially uncover world events as they occurred. \n",
    "\n",
    "__Hand-in:__\n",
    "\n",
    "- __Due: 28.04.2020 23:59:59 CET__\n",
    "- `git push` your final verion to your group's Renku repository before the due\n",
    "- check if `Dockerfile`, `environment.yml` and `requirements.txt` are properly written\n",
    "- add necessary comments and discussion to make your codes readable"
   ]
  },
  {
   "cell_type": "markdown",
   "metadata": {},
   "source": [
    "### Hashtags\n",
    "\n",
    "The idea here is that when an event is happening and people are having a conversation about it on Twitter, a set of uniform hashtags that represent the event spontaneously evolves. Twitter users then use those hashtags to communicate with one another. Some hashtags, like `#RT` for \"retweet\" or just `#retweet` are used frequently and don't tell us much about what is going on. But a sudden appearance of a hashtag like `#oscars` probably indicates that the oscars are underway. For a particularly cool example of this type of analysis, check out [this blog post about earthquake detection using Twitter data](https://blog.twitter.com/official/en_us/a/2015/usgs-twitter-data-earthquake-detection.html) (although they search the text and not necessarily hashtags)."
   ]
  },
  {
   "cell_type": "code",
   "execution_count": 1,
   "metadata": {
    "scrolled": true
   },
   "outputs": [],
   "source": [
    "%%local\n",
    "%matplotlib inline\n",
    "import matplotlib.pylab as plt\n",
    "plt.rcParams['figure.figsize'] = (10,6)\n",
    "plt.rcParams['font.size'] = 18\n",
    "plt.style.use('fivethirtyeight')"
   ]
  },
  {
   "cell_type": "markdown",
   "metadata": {},
   "source": [
    "## Initialize the `SparkSession`"
   ]
  },
  {
   "cell_type": "code",
   "execution_count": 2,
   "metadata": {},
   "outputs": [
    {
     "name": "stdout",
     "output_type": "stream",
     "text": [
      "Starting Spark application\n"
     ]
    },
    {
     "data": {
      "text/html": [
       "<table>\n",
       "<tr><th>ID</th><th>YARN Application ID</th><th>Kind</th><th>State</th><th>Spark UI</th><th>Driver log</th><th>Current session?</th></tr><tr><td>3772</td><td>application_1587988164357_0388</td><td>pyspark</td><td>idle</td><td><a target=\"_blank\" href=\"http://iccluster044.iccluster.epfl.ch:8088/proxy/application_1587988164357_0388/\">Link</a></td><td><a target=\"_blank\" href=\"http://iccluster068.iccluster.epfl.ch:8042/node/containerlogs/container_e05_1587988164357_0388_01_000001/ebouille\">Link</a></td><td>✔</td></tr></table>"
      ],
      "text/plain": [
       "<IPython.core.display.HTML object>"
      ]
     },
     "metadata": {},
     "output_type": "display_data"
    },
    {
     "data": {
      "application/vnd.jupyter.widget-view+json": {
       "model_id": "",
       "version_major": 2,
       "version_minor": 0
      },
      "text/plain": [
       "FloatProgress(value=0.0, bar_style='info', description='Progress:', layout=Layout(height='25px', width='50%'),…"
      ]
     },
     "metadata": {},
     "output_type": "display_data"
    },
    {
     "name": "stdout",
     "output_type": "stream",
     "text": [
      "SparkSession available as 'spark'.\n"
     ]
    },
    {
     "data": {
      "application/vnd.jupyter.widget-view+json": {
       "model_id": "",
       "version_major": 2,
       "version_minor": 0
      },
      "text/plain": [
       "FloatProgress(value=0.0, bar_style='info', description='Progress:', layout=Layout(height='25px', width='50%'),…"
      ]
     },
     "metadata": {},
     "output_type": "display_data"
    },
    {
     "name": "stdout",
     "output_type": "stream",
     "text": [
      "<pyspark.sql.session.SparkSession object at 0x7f48771a6210>"
     ]
    }
   ],
   "source": [
    "spark"
   ]
  },
  {
   "cell_type": "code",
   "execution_count": 3,
   "metadata": {},
   "outputs": [
    {
     "data": {
      "text/html": [
       "Current session configs: <tt>{'driverMemory': '1000M', 'executorMemory': '4G', 'executorCores': 4, 'numExecutors': 10, 'kind': 'pyspark'}</tt><br>"
      ],
      "text/plain": [
       "<IPython.core.display.HTML object>"
      ]
     },
     "metadata": {},
     "output_type": "display_data"
    },
    {
     "data": {
      "text/html": [
       "<table>\n",
       "<tr><th>ID</th><th>YARN Application ID</th><th>Kind</th><th>State</th><th>Spark UI</th><th>Driver log</th><th>Current session?</th></tr><tr><td>3744</td><td>application_1587988164357_0360</td><td>pyspark</td><td>idle</td><td><a target=\"_blank\" href=\"http://iccluster044.iccluster.epfl.ch:8088/proxy/application_1587988164357_0360/\">Link</a></td><td><a target=\"_blank\" href=\"http://iccluster065.iccluster.epfl.ch:8042/node/containerlogs/container_e05_1587988164357_0360_01_000001/ebouille\">Link</a></td><td></td></tr><tr><td>3750</td><td>application_1587988164357_0366</td><td>pyspark</td><td>busy</td><td><a target=\"_blank\" href=\"http://iccluster044.iccluster.epfl.ch:8088/proxy/application_1587988164357_0366/\">Link</a></td><td><a target=\"_blank\" href=\"http://iccluster068.iccluster.epfl.ch:8042/node/containerlogs/container_e05_1587988164357_0366_01_000001/ebouille\">Link</a></td><td></td></tr><tr><td>3751</td><td>application_1587988164357_0367</td><td>pyspark</td><td>busy</td><td><a target=\"_blank\" href=\"http://iccluster044.iccluster.epfl.ch:8088/proxy/application_1587988164357_0367/\">Link</a></td><td><a target=\"_blank\" href=\"http://iccluster067.iccluster.epfl.ch:8042/node/containerlogs/container_e05_1587988164357_0367_01_000001/ebouille\">Link</a></td><td></td></tr><tr><td>3752</td><td>application_1587988164357_0368</td><td>pyspark</td><td>idle</td><td><a target=\"_blank\" href=\"http://iccluster044.iccluster.epfl.ch:8088/proxy/application_1587988164357_0368/\">Link</a></td><td><a target=\"_blank\" href=\"http://iccluster071.iccluster.epfl.ch:8042/node/containerlogs/container_e05_1587988164357_0368_01_000001/ebouille\">Link</a></td><td></td></tr><tr><td>3754</td><td>application_1587988164357_0370</td><td>pyspark</td><td>idle</td><td><a target=\"_blank\" href=\"http://iccluster044.iccluster.epfl.ch:8088/proxy/application_1587988164357_0370/\">Link</a></td><td><a target=\"_blank\" href=\"http://iccluster069.iccluster.epfl.ch:8042/node/containerlogs/container_e05_1587988164357_0370_01_000001/ebouille\">Link</a></td><td></td></tr><tr><td>3755</td><td>application_1587988164357_0371</td><td>pyspark</td><td>idle</td><td><a target=\"_blank\" href=\"http://iccluster044.iccluster.epfl.ch:8088/proxy/application_1587988164357_0371/\">Link</a></td><td><a target=\"_blank\" href=\"http://iccluster066.iccluster.epfl.ch:8042/node/containerlogs/container_e05_1587988164357_0371_01_000001/ebouille\">Link</a></td><td></td></tr><tr><td>3756</td><td>application_1587988164357_0372</td><td>pyspark</td><td>busy</td><td><a target=\"_blank\" href=\"http://iccluster044.iccluster.epfl.ch:8088/proxy/application_1587988164357_0372/\">Link</a></td><td><a target=\"_blank\" href=\"http://iccluster065.iccluster.epfl.ch:8042/node/containerlogs/container_e05_1587988164357_0372_01_000001/ebouille\">Link</a></td><td></td></tr><tr><td>3757</td><td>application_1587988164357_0373</td><td>pyspark</td><td>idle</td><td><a target=\"_blank\" href=\"http://iccluster044.iccluster.epfl.ch:8088/proxy/application_1587988164357_0373/\">Link</a></td><td><a target=\"_blank\" href=\"http://iccluster072.iccluster.epfl.ch:8042/node/containerlogs/container_e05_1587988164357_0373_01_000001/ebouille\">Link</a></td><td>✔</td></tr></table>"
      ],
      "text/plain": [
       "<IPython.core.display.HTML object>"
      ]
     },
     "metadata": {},
     "output_type": "display_data"
    }
   ],
   "source": [
    "%%info"
   ]
  },
  {
   "cell_type": "code",
   "execution_count": 4,
   "metadata": {},
   "outputs": [
    {
     "data": {
      "text/html": [
       "\n",
       "<table>\n",
       "  <tr>\n",
       "    <th>Magic</th>\n",
       "    <th>Example</th>\n",
       "    <th>Explanation</th>\n",
       "  </tr>\n",
       "  <tr>\n",
       "    <td>info</td>\n",
       "    <td>%%info</td>\n",
       "    <td>Outputs session information for the current Livy endpoint.</td>\n",
       "  </tr>\n",
       "  <tr>\n",
       "    <td>cleanup</td>\n",
       "    <td>%%cleanup -f</td>\n",
       "    <td>Deletes all sessions for the current Livy endpoint, including this notebook's session. The force flag is mandatory.</td>\n",
       "  </tr>\n",
       "  <tr>\n",
       "    <td>delete</td>\n",
       "    <td>%%delete -f -s 0</td>\n",
       "    <td>Deletes a session by number for the current Livy endpoint. Cannot delete this kernel's session.</td>\n",
       "  </tr>\n",
       "  <tr>\n",
       "    <td>logs</td>\n",
       "    <td>%%logs</td>\n",
       "    <td>Outputs the current session's Livy logs.</td>\n",
       "  </tr>\n",
       "  <tr>\n",
       "    <td>configure</td>\n",
       "    <td>%%configure -f<br/>{\"executorMemory\": \"1000M\", \"executorCores\": 4}</td>\n",
       "    <td>Configure the session creation parameters. The force flag is mandatory if a session has already been\n",
       "    created and the session will be dropped and recreated.<br/>Look at <a href=\"https://github.com/cloudera/livy#request-body\">\n",
       "    Livy's POST /sessions Request Body</a> for a list of valid parameters. Parameters must be passed in as a JSON string.</td>\n",
       "  </tr>\n",
       "  <tr>\n",
       "    <td>spark</td>\n",
       "    <td>%%spark -o df<br/>df = spark.read.parquet('...</td>\n",
       "    <td>Executes spark commands.\n",
       "    Parameters:\n",
       "      <ul>\n",
       "        <li>-o VAR_NAME: The Spark dataframe of name VAR_NAME will be available in the %%local Python context as a\n",
       "          <a href=\"http://pandas.pydata.org/\">Pandas</a> dataframe with the same name.</li>\n",
       "        <li>-m METHOD: Sample method, either <tt>take</tt> or <tt>sample</tt>.</li>\n",
       "        <li>-n MAXROWS: The maximum number of rows of a dataframe that will be pulled from Livy to Jupyter.\n",
       "            If this number is negative, then the number of rows will be unlimited.</li>\n",
       "        <li>-r FRACTION: Fraction used for sampling.</li>\n",
       "      </ul>\n",
       "    </td>\n",
       "  </tr>\n",
       "  <tr>\n",
       "    <td>sql</td>\n",
       "    <td>%%sql -o tables -q<br/>SHOW TABLES</td>\n",
       "    <td>Executes a SQL query against the variable sqlContext (Spark v1.x) or spark (Spark v2.x).\n",
       "    Parameters:\n",
       "      <ul>\n",
       "        <li>-o VAR_NAME: The result of the SQL query will be available in the %%local Python context as a\n",
       "          <a href=\"http://pandas.pydata.org/\">Pandas</a> dataframe.</li>\n",
       "        <li>-q: The magic will return None instead of the dataframe (no visualization).</li>\n",
       "        <li>-m, -n, -r are the same as the %%spark parameters above.</li>\n",
       "      </ul>\n",
       "    </td>\n",
       "  </tr>\n",
       "  <tr>\n",
       "    <td>local</td>\n",
       "    <td>%%local<br/>a = 1</td>\n",
       "    <td>All the code in subsequent lines will be executed locally. Code must be valid Python code.</td>\n",
       "  </tr>\n",
       "  <tr>\n",
       "    <td>send_to_spark</td>\n",
       "    <td>%%send_to_spark -o variable -t str -n var</td>\n",
       "    <td>Sends a variable from local output to spark cluster.\n",
       "    <br/>\n",
       "    Parameters:\n",
       "      <ul>\n",
       "        <li>-i VAR_NAME: Local Pandas DataFrame(or String) of name VAR_NAME will be available in the %%spark context as a \n",
       "          Spark dataframe(or String) with the same name.</li>\n",
       "        <li>-t TYPE: Specifies the type of variable passed as -i. Available options are:\n",
       "         `str` for string and `df` for Pandas DataFrame. Optional, defaults to `str`.</li>\n",
       "        <li>-n NAME: Custom name of variable passed as -i. Optional, defaults to -i variable name.</li>\n",
       "        <li>-m MAXROWS: Maximum amount of Pandas rows that will be sent to Spark. Defaults to 2500.</li>\n",
       "      </ul>\n",
       "    </td>\n",
       "  </tr>\n",
       "</table>\n"
      ],
      "text/plain": [
       "<IPython.core.display.HTML object>"
      ]
     },
     "metadata": {},
     "output_type": "display_data"
    }
   ],
   "source": [
    "%%help"
   ]
  },
  {
   "cell_type": "markdown",
   "metadata": {},
   "source": [
    "## PART I: Set up the hashtag `DataFrame` (10 points / 60)\n",
    "\n",
    "We have prepared the hashtag data spanning the time from May to July, 2016. This is a significant time in modern European history, e.g. see [Brexit](https://en.wikipedia.org/wiki/Brexit). Lets see if we can see any interesting trends about these events in the Twitter data. "
   ]
  },
  {
   "cell_type": "code",
   "execution_count": 3,
   "metadata": {
    "scrolled": true
   },
   "outputs": [
    {
     "data": {
      "application/vnd.jupyter.widget-view+json": {
       "model_id": "",
       "version_major": 2,
       "version_minor": 0
      },
      "text/plain": [
       "FloatProgress(value=0.0, bar_style='info', description='Progress:', layout=Layout(height='25px', width='50%'),…"
      ]
     },
     "metadata": {},
     "output_type": "display_data"
    }
   ],
   "source": [
    "import pyspark.sql.functions as functions"
   ]
  },
  {
   "cell_type": "markdown",
   "metadata": {},
   "source": [
    "### I.a: TODO (1 point/10)\n",
    "\n",
    "Load the **parquet** data from `/data/twitter/parquet/hashtags` into a Spark dataframe using the appropriate `SparkSession` method. \n",
    "\n",
    "Look at the first few rows of the dataset - note the timestamp and its units!"
   ]
  },
  {
   "cell_type": "code",
   "execution_count": 4,
   "metadata": {
    "scrolled": true
   },
   "outputs": [
    {
     "data": {
      "application/vnd.jupyter.widget-view+json": {
       "model_id": "",
       "version_major": 2,
       "version_minor": 0
      },
      "text/plain": [
       "FloatProgress(value=0.0, bar_style='info', description='Progress:', layout=Layout(height='25px', width='50%'),…"
      ]
     },
     "metadata": {},
     "output_type": "display_data"
    }
   ],
   "source": [
    "df = spark.read.parquet(\"/data/twitter/parquet/hashtags\")"
   ]
  },
  {
   "cell_type": "code",
   "execution_count": 7,
   "metadata": {},
   "outputs": [
    {
     "data": {
      "application/vnd.jupyter.widget-view+json": {
       "model_id": "",
       "version_major": 2,
       "version_minor": 0
      },
      "text/plain": [
       "FloatProgress(value=0.0, bar_style='info', description='Progress:', layout=Layout(height='25px', width='50%'),…"
      ]
     },
     "metadata": {},
     "output_type": "display_data"
    },
    {
     "name": "stdout",
     "output_type": "stream",
     "text": [
      "root\n",
      " |-- timestamp_s: long (nullable = true)\n",
      " |-- id: long (nullable = true)\n",
      " |-- lang: string (nullable = true)\n",
      " |-- hashtag: string (nullable = true)"
     ]
    }
   ],
   "source": [
    "df.printSchema()"
   ]
  },
  {
   "cell_type": "code",
   "execution_count": 8,
   "metadata": {
    "scrolled": true
   },
   "outputs": [
    {
     "data": {
      "application/vnd.jupyter.widget-view+json": {
       "model_id": "",
       "version_major": 2,
       "version_minor": 0
      },
      "text/plain": [
       "FloatProgress(value=0.0, bar_style='info', description='Progress:', layout=Layout(height='25px', width='50%'),…"
      ]
     },
     "metadata": {},
     "output_type": "display_data"
    },
    {
     "name": "stdout",
     "output_type": "stream",
     "text": [
      "+-----------+------------------+----+-------+\n",
      "|timestamp_s|                id|lang|hashtag|\n",
      "+-----------+------------------+----+-------+\n",
      "| 1464768480|737918607980670976|  tr|lovebts|\n",
      "| 1464768480|737918607980670976|  tr|  방탄소년단|\n",
      "| 1464768480|737918607963873281|  ja|tokyofm|\n",
      "| 1464768480|737918607976452096|  en|SotoBot|\n",
      "| 1464768480|737918607976497152|  en| Fenton|\n",
      "+-----------+------------------+----+-------+\n",
      "only showing top 5 rows"
     ]
    }
   ],
   "source": [
    "df.show(5)"
   ]
  },
  {
   "cell_type": "markdown",
   "metadata": {},
   "source": [
    "### User-defined functions\n",
    "\n",
    "A neat trick of spark dataframes is that you can essentially use something very much like an RDD `map` method but without switching to the RDD. If you are familiar with database languages, this works very much like e.g. a user-defined function in SQL. \n",
    "\n",
    "So, for example, if we wanted to make a user-defined python function that returns the hashtags in lowercase, we could do something like this:"
   ]
  },
  {
   "cell_type": "code",
   "execution_count": 5,
   "metadata": {
    "scrolled": true
   },
   "outputs": [
    {
     "data": {
      "application/vnd.jupyter.widget-view+json": {
       "model_id": "",
       "version_major": 2,
       "version_minor": 0
      },
      "text/plain": [
       "FloatProgress(value=0.0, bar_style='info', description='Progress:', layout=Layout(height='25px', width='50%'),…"
      ]
     },
     "metadata": {},
     "output_type": "display_data"
    }
   ],
   "source": [
    "@functions.udf\n",
    "def lowercase(text):\n",
    "    \"\"\"Convert text to lowercase\"\"\"\n",
    "    return text.lower()"
   ]
  },
  {
   "cell_type": "markdown",
   "metadata": {},
   "source": [
    "The @functions.udf is a \"decorator\" -- this is really handy python syntactic sugar and in this case is equivalent to:\n",
    "\n",
    "```python\n",
    "def lowercase(text):\n",
    "    return text.lower()\n",
    "    \n",
    "lowercase = functions.udf(lowercase)\n",
    "```\n",
    "\n",
    "It basically takes our function and adds to its functionality. In this case, it registers our function as a pyspark dataframe user-defined function (UDF).\n",
    "\n",
    "Using these UDFs is very straightforward and analogous to other Spark dataframe operations. For example:"
   ]
  },
  {
   "cell_type": "code",
   "execution_count": 6,
   "metadata": {
    "scrolled": true
   },
   "outputs": [
    {
     "data": {
      "application/vnd.jupyter.widget-view+json": {
       "model_id": "",
       "version_major": 2,
       "version_minor": 0
      },
      "text/plain": [
       "FloatProgress(value=0.0, bar_style='info', description='Progress:', layout=Layout(height='25px', width='50%'),…"
      ]
     },
     "metadata": {},
     "output_type": "display_data"
    },
    {
     "name": "stdout",
     "output_type": "stream",
     "text": [
      "+------------------+\n",
      "|lowercase(hashtag)|\n",
      "+------------------+\n",
      "|           lovebts|\n",
      "|             방탄소년단|\n",
      "|           tokyofm|\n",
      "|           sotobot|\n",
      "|            fenton|\n",
      "|      vintageglass|\n",
      "|         glassbell|\n",
      "|           vintage|\n",
      "|             1970s|\n",
      "|               mod|\n",
      "|         ابن_الغيم|\n",
      "| creativitybooster|\n",
      "|     growthhacking|\n",
      "|  entrepreneurship|\n",
      "|     jewelryonetsy|\n",
      "|           jetteam|\n",
      "|        teenchoice|\n",
      "|  choicemalehottie|\n",
      "|        nowplaying|\n",
      "|              maui|\n",
      "+------------------+\n",
      "only showing top 20 rows"
     ]
    }
   ],
   "source": [
    "df.select(lowercase(df.hashtag)).show()"
   ]
  },
  {
   "cell_type": "markdown",
   "metadata": {},
   "source": [
    "Using a framework like Spark is all about understanding the ins and outs of how it functions and knowing what it offers. One of the cool things about the dataframe API is that many functions are already defined for you (turning strings into lowercase being one of them). \n",
    "\n",
    "### I.b: TODO (2 points / 10)\n",
    "\n",
    "Find the [Spark python API documentation](https://spark.apache.org/docs/latest/api/python/index.html). Look for the `sql` section and find the listing of `sql.functions`. Repeat the above (turning hashtags into lowercase) but use the built-in function."
   ]
  },
  {
   "cell_type": "code",
   "execution_count": 7,
   "metadata": {
    "scrolled": true
   },
   "outputs": [
    {
     "data": {
      "application/vnd.jupyter.widget-view+json": {
       "model_id": "",
       "version_major": 2,
       "version_minor": 0
      },
      "text/plain": [
       "FloatProgress(value=0.0, bar_style='info', description='Progress:', layout=Layout(height='25px', width='50%'),…"
      ]
     },
     "metadata": {},
     "output_type": "display_data"
    },
    {
     "name": "stdout",
     "output_type": "stream",
     "text": [
      "+-----------------+\n",
      "|          hashtag|\n",
      "+-----------------+\n",
      "|          lovebts|\n",
      "|            방탄소년단|\n",
      "|          tokyofm|\n",
      "|          sotobot|\n",
      "|           fenton|\n",
      "|     vintageglass|\n",
      "|        glassbell|\n",
      "|          vintage|\n",
      "|            1970s|\n",
      "|              mod|\n",
      "|        ابن_الغيم|\n",
      "|creativitybooster|\n",
      "|    growthhacking|\n",
      "| entrepreneurship|\n",
      "|    jewelryonetsy|\n",
      "|          jetteam|\n",
      "|       teenchoice|\n",
      "| choicemalehottie|\n",
      "|       nowplaying|\n",
      "|             maui|\n",
      "+-----------------+\n",
      "only showing top 20 rows"
     ]
    }
   ],
   "source": [
    "# Create a new dataframe with hashtags in lowercase and remove unnecessary columns\n",
    "df_lowercase = df.withColumn('hashtag_lower', functions.lower(functions.col('hashtag'))) \n",
    "df_lowercase = df_lowercase.drop(df_lowercase.id).drop(df_lowercase.hashtag)\n",
    "df_lowercase = df_lowercase.withColumnRenamed('hashtag_lower', 'hashtag')\n",
    "df_lowercase.select('hashtag').show() "
   ]
  },
  {
   "cell_type": "markdown",
   "metadata": {},
   "source": [
    "We'll work with a combination of these built-in functions and user-defined functions for the remainder of this homework. \n",
    "\n",
    "### I.c: TODO (3 points/10)\n",
    "\n",
    "Create `english_df` consisting of **lowercase** hashtags from only english-language tweets. In addition, convert the timestamp to a more readable format like this and name the column `date`:\n",
    "\n",
    "```\n",
    "2016-05-01 08:30:00\n",
    "```"
   ]
  },
  {
   "cell_type": "markdown",
   "metadata": {},
   "source": [
    "Your `english_df` should look something like this:\n",
    "\n",
    "```\n",
    "+-----------+----+------------+-------------------+\n",
    "|timestamp_s|lang|     hashtag|               date|\n",
    "+-----------+----+------------+-------------------+\n",
    "| 1464768480|  en|     sotobot|2016-06-01 10:08:00|\n",
    "| 1464768480|  en|      fenton|2016-06-01 10:08:00|\n",
    "| 1464768480|  en|vintageglass|2016-06-01 10:08:00|\n",
    "| 1464768480|  en|   glassbell|2016-06-01 10:08:00|\n",
    "| 1464768480|  en|     vintage|2016-06-01 10:08:00|\n",
    "+-----------+----+------------+-------------------+\n",
    "```"
   ]
  },
  {
   "cell_type": "code",
   "execution_count": 8,
   "metadata": {
    "scrolled": true
   },
   "outputs": [
    {
     "data": {
      "application/vnd.jupyter.widget-view+json": {
       "model_id": "",
       "version_major": 2,
       "version_minor": 0
      },
      "text/plain": [
       "FloatProgress(value=0.0, bar_style='info', description='Progress:', layout=Layout(height='25px', width='50%'),…"
      ]
     },
     "metadata": {},
     "output_type": "display_data"
    },
    {
     "name": "stdout",
     "output_type": "stream",
     "text": [
      "+-----------+----+------------------+-------------------+\n",
      "|timestamp_s|lang|           hashtag|               date|\n",
      "+-----------+----+------------------+-------------------+\n",
      "| 1464768480|  en|           sotobot|2016-06-01 10:08:00|\n",
      "| 1464768480|  en|            fenton|2016-06-01 10:08:00|\n",
      "| 1464768480|  en|      vintageglass|2016-06-01 10:08:00|\n",
      "| 1464768480|  en|         glassbell|2016-06-01 10:08:00|\n",
      "| 1464768480|  en|           vintage|2016-06-01 10:08:00|\n",
      "| 1464768480|  en|             1970s|2016-06-01 10:08:00|\n",
      "| 1464768480|  en|               mod|2016-06-01 10:08:00|\n",
      "| 1464768481|  en| creativitybooster|2016-06-01 10:08:01|\n",
      "| 1464768481|  en|     growthhacking|2016-06-01 10:08:01|\n",
      "| 1464768481|  en|  entrepreneurship|2016-06-01 10:08:01|\n",
      "| 1464768481|  en|     jewelryonetsy|2016-06-01 10:08:01|\n",
      "| 1464768481|  en|           jetteam|2016-06-01 10:08:01|\n",
      "| 1464768481|  en|        teenchoice|2016-06-01 10:08:01|\n",
      "| 1464768481|  en|  choicemalehottie|2016-06-01 10:08:01|\n",
      "| 1464768481|  en|        nowplaying|2016-06-01 10:08:01|\n",
      "| 1464768481|  en|              maui|2016-06-01 10:08:01|\n",
      "| 1464768481|  en|    24hnurburgring|2016-06-01 10:08:01|\n",
      "| 1464768481|  en|           porsche|2016-06-01 10:08:01|\n",
      "| 1464768481|  en|caymangt4clubsport|2016-06-01 10:08:01|\n",
      "| 1464768481|  en|   artificialgrass|2016-06-01 10:08:01|\n",
      "| 1464768482|  en|       gameinsight|2016-06-01 10:08:02|\n",
      "| 1464768482|  en|   paradiseisland2|2016-06-01 10:08:02|\n",
      "| 1464768481|  en|       kylielipkit|2016-06-01 10:08:01|\n",
      "| 1464768483|  en| mychemicalromance|2016-06-01 10:08:03|\n",
      "| 1464768484|  en|            hiring|2016-06-01 10:08:04|\n",
      "| 1464768484|  en|       ormondbeach|2016-06-01 10:08:04|\n",
      "| 1464768484|  en|                fl|2016-06-01 10:08:04|\n",
      "| 1464768484|  en|              jobs|2016-06-01 10:08:04|\n",
      "| 1464768484|  en|               job|2016-06-01 10:08:04|\n",
      "| 1464768485|  en|    refreshthecity|2016-06-01 10:08:05|\n",
      "+-----------+----+------------------+-------------------+\n",
      "only showing top 30 rows"
     ]
    }
   ],
   "source": [
    "# Filter out all languages but english and convert timestamp to correct format in new column\n",
    "english_df = df_lowercase.filter(df_lowercase.lang == 'en')\n",
    "english_df = english_df.withColumn('date', functions.from_unixtime('timestamp_s','yyyy-MM-dd hh:mm:ss')) \n",
    "english_df.show(30)"
   ]
  },
  {
   "cell_type": "markdown",
   "metadata": {},
   "source": [
    "### I.d: TODO (4 points/10)\n",
    "\n",
    "We \"claim\" the data contains all twitters from May to July 2017, however, that's not true. Check which (date, hour) are in `english_df` and which are missing, e.g. 2016-05-01, 10h is in the dataframe while 2016-04-01, 10h not."
   ]
  },
  {
   "cell_type": "code",
   "execution_count": 8,
   "metadata": {},
   "outputs": [
    {
     "data": {
      "application/vnd.jupyter.widget-view+json": {
       "model_id": "",
       "version_major": 2,
       "version_minor": 0
      },
      "text/plain": [
       "FloatProgress(value=0.0, bar_style='info', description='Progress:', layout=Layout(height='25px', width='50%'),…"
      ]
     },
     "metadata": {},
     "output_type": "display_data"
    }
   ],
   "source": [
    "import pyspark.sql.functions\n",
    "import pandas as pd\n",
    "from pyspark.sql.functions import monotonically_increasing_id\n",
    "\n",
    "# Create a date range with all dates and hours from 1st of May to 1st of July\n",
    "date_clean = pd.date_range(start='5/1/2016 1:00', end='8/1/2016 07:00', freq='H')\n",
    "\n",
    "# Extract all of the dates and hours from english_df and keep only distinct ones\n",
    "date_dirty = english_df.withColumn('date_hour', functions.date_trunc('hour', english_df.date))\n",
    "date_dirty = date_dirty.select('date_hour').distinct()"
   ]
  },
  {
   "cell_type": "markdown",
   "metadata": {},
   "source": [
    "***Observations:*** *When creating the date range, we get a range of hours between 00-24. However, in our english_df, we only have hours in the range 01-12. This is most likely due to the fact that the timestamps were stored on Twitter using and AM & PM format. To be able to find which dates and hours that are missing in our date range, we remove the hours 00 & 13-23 from the date range.*"
   ]
  },
  {
   "cell_type": "code",
   "execution_count": 9,
   "metadata": {},
   "outputs": [
    {
     "data": {
      "application/vnd.jupyter.widget-view+json": {
       "model_id": "",
       "version_major": 2,
       "version_minor": 0
      },
      "text/plain": [
       "FloatProgress(value=0.0, bar_style='info', description='Progress:', layout=Layout(height='25px', width='50%'),…"
      ]
     },
     "metadata": {},
     "output_type": "display_data"
    },
    {
     "name": "stdout",
     "output_type": "stream",
     "text": [
      "+----+\n",
      "|hour|\n",
      "+----+\n",
      "|   1|\n",
      "|   2|\n",
      "|   3|\n",
      "|   4|\n",
      "|   5|\n",
      "|   6|\n",
      "|   7|\n",
      "|   8|\n",
      "|   9|\n",
      "|  10|\n",
      "|  11|\n",
      "|  12|\n",
      "+----+"
     ]
    }
   ],
   "source": [
    "from pyspark.sql.functions import hour\n",
    "import datetime\n",
    "\n",
    "# Show what hours that are stored in the twitter df\n",
    "english_df.select(hour('date').alias('hour')).distinct().sort('hour').show()\n",
    "\n",
    "# Keep only the relevant hours in date range\n",
    "date_clean = date_clean[date_clean.hour < 13]\n",
    "date_clean = date_clean[date_clean.hour > 0]"
   ]
  },
  {
   "cell_type": "code",
   "execution_count": 10,
   "metadata": {},
   "outputs": [
    {
     "data": {
      "application/vnd.jupyter.widget-view+json": {
       "model_id": "",
       "version_major": 2,
       "version_minor": 0
      },
      "text/plain": [
       "FloatProgress(value=0.0, bar_style='info', description='Progress:', layout=Layout(height='25px', width='50%'),…"
      ]
     },
     "metadata": {},
     "output_type": "display_data"
    }
   ],
   "source": [
    "# Create Spark dataframe with date_clean in order to be able to use subtract()\n",
    "date_clean = pd.DataFrame(date_clean).rename(columns={0:'date_hour'})\n",
    "date_clean = sqlContext.createDataFrame(date_clean)\n",
    "\n",
    "# Get the dates & hours missing in english_df\n",
    "missing = date_clean.subtract(date_dirty).sort('date_hour')"
   ]
  },
  {
   "cell_type": "code",
   "execution_count": 11,
   "metadata": {},
   "outputs": [
    {
     "data": {
      "application/vnd.jupyter.widget-view+json": {
       "model_id": "",
       "version_major": 2,
       "version_minor": 0
      },
      "text/plain": [
       "FloatProgress(value=0.0, bar_style='info', description='Progress:', layout=Layout(height='25px', width='50%'),…"
      ]
     },
     "metadata": {},
     "output_type": "display_data"
    },
    {
     "name": "stdout",
     "output_type": "stream",
     "text": [
      "74"
     ]
    }
   ],
   "source": [
    "missing.count()"
   ]
  },
  {
   "cell_type": "code",
   "execution_count": 12,
   "metadata": {},
   "outputs": [
    {
     "data": {
      "application/vnd.jupyter.widget-view+json": {
       "model_id": "",
       "version_major": 2,
       "version_minor": 0
      },
      "text/plain": [
       "FloatProgress(value=0.0, bar_style='info', description='Progress:', layout=Layout(height='25px', width='50%'),…"
      ]
     },
     "metadata": {},
     "output_type": "display_data"
    },
    {
     "name": "stdout",
     "output_type": "stream",
     "text": [
      "+-------------------+\n",
      "|          date_hour|\n",
      "+-------------------+\n",
      "|2016-05-02 01:00:00|\n",
      "|2016-05-02 02:00:00|\n",
      "|2016-06-02 08:00:00|\n",
      "|2016-06-02 09:00:00|\n",
      "|2016-06-02 10:00:00|\n",
      "|2016-06-02 11:00:00|\n",
      "|2016-06-03 01:00:00|\n",
      "|2016-06-03 02:00:00|\n",
      "|2016-06-03 03:00:00|\n",
      "|2016-06-03 04:00:00|\n",
      "|2016-06-03 05:00:00|\n",
      "|2016-06-03 06:00:00|\n",
      "|2016-06-03 07:00:00|\n",
      "|2016-06-03 08:00:00|\n",
      "|2016-06-03 09:00:00|\n",
      "|2016-06-03 10:00:00|\n",
      "|2016-06-03 11:00:00|\n",
      "|2016-06-03 12:00:00|\n",
      "|2016-06-04 01:00:00|\n",
      "|2016-06-04 02:00:00|\n",
      "|2016-06-04 03:00:00|\n",
      "|2016-06-04 04:00:00|\n",
      "|2016-06-04 05:00:00|\n",
      "|2016-06-04 06:00:00|\n",
      "|2016-06-04 07:00:00|\n",
      "|2016-06-04 08:00:00|\n",
      "|2016-06-04 09:00:00|\n",
      "|2016-06-04 10:00:00|\n",
      "|2016-06-04 11:00:00|\n",
      "|2016-06-04 12:00:00|\n",
      "|2016-06-05 01:00:00|\n",
      "|2016-06-05 02:00:00|\n",
      "|2016-06-05 03:00:00|\n",
      "|2016-06-05 04:00:00|\n",
      "|2016-06-05 05:00:00|\n",
      "|2016-06-05 06:00:00|\n",
      "|2016-06-05 07:00:00|\n",
      "|2016-06-05 08:00:00|\n",
      "|2016-06-05 09:00:00|\n",
      "|2016-06-05 10:00:00|\n",
      "|2016-06-05 11:00:00|\n",
      "|2016-06-05 12:00:00|\n",
      "|2016-06-06 01:00:00|\n",
      "|2016-06-06 02:00:00|\n",
      "|2016-06-06 03:00:00|\n",
      "|2016-06-06 04:00:00|\n",
      "|2016-06-06 05:00:00|\n",
      "|2016-06-06 06:00:00|\n",
      "|2016-06-06 07:00:00|\n",
      "|2016-06-06 08:00:00|\n",
      "|2016-06-06 09:00:00|\n",
      "|2016-06-06 10:00:00|\n",
      "|2016-06-06 11:00:00|\n",
      "|2016-06-06 12:00:00|\n",
      "|2016-06-07 01:00:00|\n",
      "|2016-06-07 02:00:00|\n",
      "|2016-06-07 03:00:00|\n",
      "|2016-06-07 04:00:00|\n",
      "|2016-06-07 05:00:00|\n",
      "|2016-06-07 06:00:00|\n",
      "|2016-06-07 07:00:00|\n",
      "|2016-06-07 12:00:00|\n",
      "|2016-06-17 01:00:00|\n",
      "|2016-06-17 02:00:00|\n",
      "|2016-06-17 03:00:00|\n",
      "|2016-06-17 04:00:00|\n",
      "|2016-06-17 05:00:00|\n",
      "|2016-06-17 06:00:00|\n",
      "|2016-06-17 07:00:00|\n",
      "|2016-06-17 08:00:00|\n",
      "|2016-06-17 09:00:00|\n",
      "|2016-06-17 10:00:00|\n",
      "|2016-06-17 11:00:00|\n",
      "|2016-06-17 12:00:00|\n",
      "+-------------------+"
     ]
    }
   ],
   "source": [
    "missing.show(74)"
   ]
  },
  {
   "cell_type": "markdown",
   "metadata": {},
   "source": [
    "***Observations:*** *We can see that there are 74 dates & hours missing in our english_df in the time period 1st of May to 1st of July 2016. Some dates have no data at all, for example the 3rd of June 2016.\n",
    "More specifically, the following timestamps are missing:*\n",
    "- 2016-05-02 01-02h\n",
    "- 2016-06-02 08-11h\n",
    "- 2016-06-03 01-12h\n",
    "- 2016-06-04 01-12h\n",
    "- 2016-06-05 01-12h\n",
    "- 2016-06-06 01-12h\n",
    "- 2016-06-07 01-12h\n",
    "- 2016-06-17 01-12h"
   ]
  },
  {
   "cell_type": "markdown",
   "metadata": {},
   "source": [
    "## PART II: Twitter hashtag trends (50 points / 60)\n",
    "\n",
    "In this section we will try to do a slightly more complicated analysis of the tweets. Our goal is to get an idea of tweet frequency as a function of time for certain hashtags. \n",
    "\n",
    "Lets build this up in steps. First, lets see how we can start to organize the tweets by their timestamps. \n",
    "\n",
    "As a first easy example, lets say we just want to count the number of tweets per minute over the entire span of our data. For this, we first need a \"global\" minute value, e.g. \"minute of the year\" or something similar. \n",
    "\n",
    "Spark provides us with some handy built-in dataframe functions that are made for transforming date and time fields. \n",
    "\n",
    "Have a look [here](http://spark.apache.org/docs/latest/api/python/pyspark.sql.html#module-pyspark.sql.functions) to see the whole list of custom dataframe functions - you will need to use them to complete the next set of TODO items."
   ]
  },
  {
   "cell_type": "markdown",
   "metadata": {},
   "source": [
    "Note that the functions can be combined. Consider the following dataframe and its transformation:"
   ]
  },
  {
   "cell_type": "code",
   "execution_count": 13,
   "metadata": {
    "scrolled": true
   },
   "outputs": [
    {
     "data": {
      "application/vnd.jupyter.widget-view+json": {
       "model_id": "",
       "version_major": 2,
       "version_minor": 0
      },
      "text/plain": [
       "FloatProgress(value=0.0, bar_style='info', description='Progress:', layout=Layout(height='25px', width='50%'),…"
      ]
     },
     "metadata": {},
     "output_type": "display_data"
    },
    {
     "name": "stdout",
     "output_type": "stream",
     "text": [
      "+---------------------+\n",
      "|SIN(RADIANS(degrees))|\n",
      "+---------------------+\n",
      "|                  0.0|\n",
      "|  0.01745240643728351|\n",
      "|  0.03489949670250097|\n",
      "|  0.05233595624294383|\n",
      "|   0.0697564737441253|\n",
      "|  0.08715574274765817|\n",
      "|  0.10452846326765346|\n",
      "|  0.12186934340514748|\n",
      "|  0.13917310096006544|\n",
      "|  0.15643446504023087|\n",
      "|  0.17364817766693033|\n",
      "|   0.1908089953765448|\n",
      "|  0.20791169081775931|\n",
      "|  0.22495105434386498|\n",
      "|  0.24192189559966773|\n",
      "|  0.25881904510252074|\n",
      "|  0.27563735581699916|\n",
      "|   0.2923717047227367|\n",
      "|   0.3090169943749474|\n",
      "|   0.3255681544571567|\n",
      "+---------------------+\n",
      "only showing top 20 rows"
     ]
    }
   ],
   "source": [
    "from pyspark.sql import Row\n",
    "\n",
    "# Create a sample dataframe with one column \"degrees\" going from 0 to 180\n",
    "test_df = spark.createDataFrame(spark.sparkContext.range(180).map(lambda x: Row(degrees=x)), ['degrees'])\n",
    "\n",
    "# Define a function \"sin_rad\" that first converts degrees to radians and then takes the sine using built-in functions\n",
    "sin_rad = functions.sin(functions.radians(test_df.degrees))\n",
    "\n",
    "test_df.select(sin_rad).show()"
   ]
  },
  {
   "cell_type": "markdown",
   "metadata": {},
   "source": [
    "### DataFrames `groupBy`\n",
    "\n",
    "We used `groupBy` already in the previous notebook, but here we will take more advantage of its features. \n",
    "\n",
    "One important thing to note is that unlike other RDD or DataFrame transformations, the `groupBy` does not return another DataFrame, but a `GroupedData` object instead, with its own methods. These methods allow you to do various transformations and aggregations on the data of the grouped rows. \n",
    "\n",
    "Conceptually the procedure is a lot like this:\n",
    "\n",
    "![groupby](https://i.stack.imgur.com/sgCn1.jpg)\n",
    "\n",
    "The column that is used for the `groupBy` is the `key` - once we have the values of a particular key all together, we can use various aggregation functions on them to generate a transformed dataset. In this example, the aggregation function is a simple `sum`. In the simple procedure below, the `key` will be the hashtag."
   ]
  },
  {
   "cell_type": "markdown",
   "metadata": {},
   "source": [
    "### II.a: TODO (1 point / 50)\n",
    "\n",
    "Calculate the top five most common hashtags in the whole english-language dataset.\n",
    "\n",
    "This should be your result:\n",
    "\n",
    "```\n",
    "+-------------+------+\n",
    "|      hashtag| count|\n",
    "+-------------+------+\n",
    "|   mtvhottest|800527|\n",
    "|veranomtv2016|539028|\n",
    "|   teenchoice|345208|\n",
    "|   nowplaying|178561|\n",
    "|  gameinsight|165237|\n",
    "+-------------+------+\n",
    "```"
   ]
  },
  {
   "cell_type": "code",
   "execution_count": 14,
   "metadata": {},
   "outputs": [
    {
     "data": {
      "application/vnd.jupyter.widget-view+json": {
       "model_id": "",
       "version_major": 2,
       "version_minor": 0
      },
      "text/plain": [
       "FloatProgress(value=0.0, bar_style='info', description='Progress:', layout=Layout(height='25px', width='50%'),…"
      ]
     },
     "metadata": {},
     "output_type": "display_data"
    },
    {
     "name": "stdout",
     "output_type": "stream",
     "text": [
      "+-------------+------+\n",
      "|      hashtag| count|\n",
      "+-------------+------+\n",
      "|   mtvhottest|800527|\n",
      "|veranomtv2016|539028|\n",
      "|   teenchoice|345208|\n",
      "|   nowplaying|178561|\n",
      "|  gameinsight|165237|\n",
      "+-------------+------+\n",
      "only showing top 5 rows"
     ]
    }
   ],
   "source": [
    "# Show the top 5 most common hashtags\n",
    "hashtag_count = english_df.groupBy('hashtag')\\\n",
    "                          .agg(functions.count('hashtag').alias('count'))\\\n",
    "                          .sort(functions.desc(('count')))\n",
    "hashtag_count.show(5)"
   ]
  },
  {
   "cell_type": "markdown",
   "metadata": {},
   "source": [
    "## Daily hashtag trends\n",
    "\n",
    "Now we will start to complicate the analysis a bit. Remember, our goal is to uncover trending topics on a timescale of a few days. A much needed column then is simply `day`. To convert the date string into day-of-year, you can use the built-in [dayofyear](http://spark.apache.org/docs/latest/api/python/pyspark.sql.html#pyspark.sql.functions.dayofyear) function. \n",
    "\n",
    "In the subsequent sections we will then not only see which hashtags are globally most popular, but which ones experience the biggest changes in popularity - those are the \"trending\" topics. If there is suddenly a substantial increase of a hashtag over a matter of a day or two, it may signify an event taking place. "
   ]
  },
  {
   "cell_type": "markdown",
   "metadata": {},
   "source": [
    "### II.b: TODO (2 points / 50)\n",
    "\n",
    "Create a dataframe called `daily_hashtag` that includes the columns `month`, `week`, `day` and `hashtag`. Use the `english_df` you made above to start, and make sure you find the appropriate spark dataframe functions to make your life easier. Show the result.\n",
    "\n",
    "Try to match this view:\n",
    "\n",
    "```\n",
    "+-----+----+---+------------+\n",
    "|month|week|day|     hashtag|\n",
    "+-----+----+---+------------+\n",
    "|    6|  22|153|     sotobot|\n",
    "|    6|  22|153|      fenton|\n",
    "|    6|  22|153|vintageglass|\n",
    "|    6|  22|153|   glassbell|\n",
    "|    6|  22|153|     vintage|\n",
    "+-----+----+---+------------+\n",
    "```"
   ]
  },
  {
   "cell_type": "code",
   "execution_count": 10,
   "metadata": {
    "scrolled": true
   },
   "outputs": [
    {
     "data": {
      "application/vnd.jupyter.widget-view+json": {
       "model_id": "",
       "version_major": 2,
       "version_minor": 0
      },
      "text/plain": [
       "FloatProgress(value=0.0, bar_style='info', description='Progress:', layout=Layout(height='25px', width='50%'),…"
      ]
     },
     "metadata": {},
     "output_type": "display_data"
    },
    {
     "name": "stdout",
     "output_type": "stream",
     "text": [
      "+-----+----+---+------------+\n",
      "|month|week|day|     hashtag|\n",
      "+-----+----+---+------------+\n",
      "|    6|  22|153|     sotobot|\n",
      "|    6|  22|153|      fenton|\n",
      "|    6|  22|153|vintageglass|\n",
      "|    6|  22|153|   glassbell|\n",
      "|    6|  22|153|     vintage|\n",
      "+-----+----+---+------------+\n",
      "only showing top 5 rows"
     ]
    }
   ],
   "source": [
    "# Drop unnecessary columns\n",
    "daily_hashtag = english_df.drop(english_df.timestamp_s).drop(english_df.lang)\n",
    "\n",
    "# Create new dataframe with month, week of the year and day of the year\n",
    "daily_hashtag = daily_hashtag.withColumn('month', functions.month(english_df.date))\\\n",
    "                             .withColumn('week', functions.weekofyear(english_df.date))\\\n",
    "                             .withColumn('day', functions.dayofyear(english_df.date))\n",
    "daily_hashtag = daily_hashtag.select(functions.col('month'), functions.col('week'), \n",
    "                                     functions.col('day'), functions.col('hashtag'))\n",
    "daily_hashtag.show(5)"
   ]
  },
  {
   "cell_type": "markdown",
   "metadata": {},
   "source": [
    "### II.c: TODO (2 points / 50)\n",
    "\n",
    "Now we want to calculate the number of times a hashtag is used per day. Sort in descending order of daily counts and show the result. Call the resulting dataframe `day_counts`.\n",
    "\n",
    "Your output should look like this:\n",
    "\n",
    "```\n",
    "+---+----------+----+-----+\n",
    "|day|   hashtag|week|count|\n",
    "+---+----------+----+-----+\n",
    "|204|mtvhottest|  29|66372|\n",
    "|205|mtvhottest|  29|63495|\n",
    "|207|mtvhottest|  30|60768|\n",
    "|208|mtvhottest|  30|59065|\n",
    "|199|mtvhottest|  28|57956|\n",
    "+---+----------+----+-----+\n",
    "```\n",
    "\n",
    "<div class=\"alert alert-info\">\n",
    "<p>Make sure you use `cache()` when you create `day_counts` because we will need it in the steps that follow!</p>\n",
    "</div>"
   ]
  },
  {
   "cell_type": "code",
   "execution_count": 11,
   "metadata": {
    "scrolled": true
   },
   "outputs": [
    {
     "data": {
      "application/vnd.jupyter.widget-view+json": {
       "model_id": "",
       "version_major": 2,
       "version_minor": 0
      },
      "text/plain": [
       "FloatProgress(value=0.0, bar_style='info', description='Progress:', layout=Layout(height='25px', width='50%'),…"
      ]
     },
     "metadata": {},
     "output_type": "display_data"
    },
    {
     "name": "stdout",
     "output_type": "stream",
     "text": [
      "+---+----------+----+-----+\n",
      "|day|   hashtag|week|count|\n",
      "+---+----------+----+-----+\n",
      "|204|mtvhottest|  29|66372|\n",
      "|205|mtvhottest|  29|63495|\n",
      "|207|mtvhottest|  30|60768|\n",
      "|208|mtvhottest|  30|59065|\n",
      "|199|mtvhottest|  28|57956|\n",
      "+---+----------+----+-----+\n",
      "only showing top 5 rows"
     ]
    }
   ],
   "source": [
    "# Create new dataframe with daily counts of all hashtags\n",
    "day_counts = daily_hashtag.cache()\n",
    "day_counts = day_counts.groupBy('day','hashtag','week')\\\n",
    "                       .agg(functions.count('hashtag').alias('count'))\\\n",
    "                       .sort(functions.desc(('count')))\n",
    "day_counts.show(5)"
   ]
  },
  {
   "cell_type": "markdown",
   "metadata": {},
   "source": [
    "### II.d: TODO (2 points / 50)\n",
    "\n",
    "To get an idea of which hashtags stay popular for several days, calculate the average number of daily occurences for each week. \n",
    "\n",
    "__Hint:__ use the `week` column we created above. Sort in descending order and show the top 20."
   ]
  },
  {
   "cell_type": "code",
   "execution_count": 17,
   "metadata": {
    "scrolled": true
   },
   "outputs": [
    {
     "data": {
      "application/vnd.jupyter.widget-view+json": {
       "model_id": "",
       "version_major": 2,
       "version_minor": 0
      },
      "text/plain": [
       "FloatProgress(value=0.0, bar_style='info', description='Progress:', layout=Layout(height='25px', width='50%'),…"
      ]
     },
     "metadata": {},
     "output_type": "display_data"
    },
    {
     "name": "stdout",
     "output_type": "stream",
     "text": [
      "+----+-------------------+------------------+\n",
      "|week|            hashtag|   daily_occur_avg|\n",
      "+----+-------------------+------------------+\n",
      "|  29|         mtvhottest| 52061.42857142857|\n",
      "|  30|         mtvhottest|           47927.0|\n",
      "|  19|         teenchoice|20068.571428571428|\n",
      "|  25|      veranomtv2016| 17867.85714285714|\n",
      "|  26|      veranomtv2016| 17116.14285714286|\n",
      "|  27|      veranomtv2016| 14476.57142857143|\n",
      "|  31|         mtvhottest|           14062.0|\n",
      "|  30|      veranomtv2016|12510.285714285714|\n",
      "|  28|         mtvhottest|12287.714285714286|\n",
      "|  23|      mtvawardsstar|12191.833333333334|\n",
      "|  23|       ripchristina|           11963.5|\n",
      "|  27|      altonsterling|           10266.2|\n",
      "|  30|       demsinphilly|10063.714285714286|\n",
      "|  28|aldub1stanniversary|           8413.25|\n",
      "|  29|      veranomtv2016| 8323.857142857143|\n",
      "|  29|           rncincle| 8195.285714285714|\n",
      "|  30| pushawardslizquens|            8148.0|\n",
      "|  25|       1dreamboy2ff|            7219.0|\n",
      "|  25|             brexit| 7021.714285714285|\n",
      "|  23|     prayfororlando|            6904.0|\n",
      "+----+-------------------+------------------+\n",
      "only showing top 20 rows"
     ]
    }
   ],
   "source": [
    "# Calculate the average number of daily occurences for each week\n",
    "week_avg = day_counts.cache()\n",
    "week_avg = week_avg.groupBy('week', 'hashtag')\\\n",
    "                   .agg(functions.avg('count').alias('daily_occur_avg'))\\\n",
    "                   .sort(functions.desc(('daily_occur_avg')))\n",
    "week_avg.show(20)"
   ]
  },
  {
   "cell_type": "markdown",
   "metadata": {},
   "source": [
    "### Using `Window` functions \n",
    "\n",
    "Window functions are another awesome feature of dataframes. They allow users to accomplish complex tasks using very concise and simple code. \n",
    "\n",
    "Above we computed just the hashtag that had the most occurrences on *any* day. Now lets say we want to know the top tweets for *each* day.  \n",
    "\n",
    "This is a non-trivial thing to compute and requires \"windowing\" our data. I recommend reading this [window functions article](https://databricks.com/blog/2015/07/15/introducing-window-functions-in-spark-sql.html) to get acquainted with the idea. You can think of a window function as a fine-grained and more flexible `groupBy`. \n",
    "\n",
    "There are two things we need to define to use window functions:\n",
    "\n",
    "1. the \"window\" to use, based on which columns (partitioning) and how the rows should be ordered \n",
    "2. the computation to carry out for each windowed group, e.g. a max, an average etc.\n",
    "\n",
    "Lets see how this works by example. We will define a window function, `daily_window` that will partition data based on the `day` column. Within each window, the rows will be ordered by the daily hashtag count that we computed above. Finally, we will use the rank function **over** this window to give us the ranking of top tweets. \n",
    "\n",
    "In the end, this is a fairly complicated operation achieved in just a few lines of code! (can you think of how to do this with an RDD??)"
   ]
  },
  {
   "cell_type": "code",
   "execution_count": 12,
   "metadata": {
    "scrolled": true
   },
   "outputs": [
    {
     "data": {
      "application/vnd.jupyter.widget-view+json": {
       "model_id": "",
       "version_major": 2,
       "version_minor": 0
      },
      "text/plain": [
       "FloatProgress(value=0.0, bar_style='info', description='Progress:', layout=Layout(height='25px', width='50%'),…"
      ]
     },
     "metadata": {},
     "output_type": "display_data"
    }
   ],
   "source": [
    "from pyspark.sql import Window"
   ]
  },
  {
   "cell_type": "markdown",
   "metadata": {},
   "source": [
    "First, we specify the window function and the ordering:"
   ]
  },
  {
   "cell_type": "code",
   "execution_count": 13,
   "metadata": {
    "scrolled": true
   },
   "outputs": [
    {
     "data": {
      "application/vnd.jupyter.widget-view+json": {
       "model_id": "",
       "version_major": 2,
       "version_minor": 0
      },
      "text/plain": [
       "FloatProgress(value=0.0, bar_style='info', description='Progress:', layout=Layout(height='25px', width='50%'),…"
      ]
     },
     "metadata": {},
     "output_type": "display_data"
    }
   ],
   "source": [
    "daily_window = Window.partitionBy('day').orderBy(functions.desc('count'))"
   ]
  },
  {
   "cell_type": "markdown",
   "metadata": {},
   "source": [
    "The above window function says that we should window the data on the `day` column and order it by count. \n",
    "\n",
    "Now we need to define what we want to compute on the windowed data. We will start by just calculating the daily ranking of hashtags, so we can use the helpful built-in `functions.rank()` and sort:"
   ]
  },
  {
   "cell_type": "code",
   "execution_count": 14,
   "metadata": {
    "scrolled": true
   },
   "outputs": [
    {
     "data": {
      "application/vnd.jupyter.widget-view+json": {
       "model_id": "",
       "version_major": 2,
       "version_minor": 0
      },
      "text/plain": [
       "FloatProgress(value=0.0, bar_style='info', description='Progress:', layout=Layout(height='25px', width='50%'),…"
      ]
     },
     "metadata": {},
     "output_type": "display_data"
    }
   ],
   "source": [
    "daily_rank = functions.rank() \\\n",
    "                      .over(daily_window) \\\n",
    "                      .alias('rank')"
   ]
  },
  {
   "cell_type": "markdown",
   "metadata": {},
   "source": [
    "### II.e: TODO (3 points / 50)\n",
    "Now compute the top five hashtags for each day in our data:"
   ]
  },
  {
   "cell_type": "code",
   "execution_count": 21,
   "metadata": {
    "scrolled": true
   },
   "outputs": [
    {
     "data": {
      "application/vnd.jupyter.widget-view+json": {
       "model_id": "",
       "version_major": 2,
       "version_minor": 0
      },
      "text/plain": [
       "FloatProgress(value=0.0, bar_style='info', description='Progress:', layout=Layout(height='25px', width='50%'),…"
      ]
     },
     "metadata": {},
     "output_type": "display_data"
    },
    {
     "name": "stdout",
     "output_type": "stream",
     "text": [
      "+---+-----+--------------------+----+\n",
      "|day|count|             hashtag|rank|\n",
      "+---+-----+--------------------+----+\n",
      "|122| 2096|aldubkiligsasweetday|   1|\n",
      "|122| 1986|         btsisonfire|   2|\n",
      "|122| 1927|                whcd|   3|\n",
      "|122| 1609|       piousbhandara|   4|\n",
      "|122| 1567|                  더쇼|   5|\n",
      "|123| 1634|       gameofthrones|   1|\n",
      "|123| 1323|     aldubsportsfest|   2|\n",
      "|123| 1300|                lcfc|   3|\n",
      "|123| 1269|                 job|   4|\n",
      "|123| 1165|    aldubfinalscript|   5|\n",
      "|124|21012|             metgala|   1|\n",
      "|124| 5127|    aldubfinalscript|   2|\n",
      "|124| 3983|thistimepremieren...|   3|\n",
      "|124| 2627|    dolceamoresearch|   4|\n",
      "|124| 2288|          nowplaying|   5|\n",
      "|125| 5482|  maythe4thbewithyou|   1|\n",
      "|125| 5007|  aldubtickettoitaly|   2|\n",
      "|125| 2802|         starwarsday|   3|\n",
      "|125| 2508|       voicesavenick|   4|\n",
      "|125| 2250|          nowplaying|   5|\n",
      "+---+-----+--------------------+----+\n",
      "only showing top 20 rows"
     ]
    }
   ],
   "source": [
    "# Create new dataframe with the top 5 hashtags for each day\n",
    "top_five = day_counts.select(functions.col('day'), functions.col('count'),\n",
    "                             functions.col('hashtag'), functions.rank()\\\n",
    "                     .over(daily_window).alias('rank'))\n",
    "top_five = top_five.filter(top_five.rank < 6).orderBy('day', 'rank')\n",
    "\n",
    "top_five.show()"
   ]
  },
  {
   "cell_type": "markdown",
   "metadata": {},
   "source": [
    "## II.f: TODO - Compute the top five trending tweets per week (20 points / 50)\n",
    "\n",
    "Use window functions (or other techniques!) to produce lists of top few trending tweets for each week. What's a \"trending\" tweet? Something that seems to be suddenly growing very rapidly in popularity. You should identify \"brexit\" in week 25 and other events like the death of The Artist Formerly Known as Prince, the Met gala, Euro 2016, the terrorist attacks in Nice, France etc. Make it as simple or as complicated as you want! The final listing should be clear and concise and the flow of your analysis should be easy to follow. If you make an implementation that is not immediately obvious, make sure you provide comments either in markdown cells or in comments in the code itself. \n"
   ]
  },
  {
   "cell_type": "markdown",
   "metadata": {},
   "source": [
    "**Methodology**: To identify trending hashtags, we will calculate the difference between  hashtag counts of the current week and the previous week, by element (Counts [week_i] - Counts[week_i-1]). If the difference is positive, this means that there was a weekly increase in the counts and the trend is positive. We create a new column with these differences and rank all hashtags by the difference column."
   ]
  },
  {
   "cell_type": "code",
   "execution_count": 22,
   "metadata": {
    "scrolled": true
   },
   "outputs": [
    {
     "data": {
      "application/vnd.jupyter.widget-view+json": {
       "model_id": "",
       "version_major": 2,
       "version_minor": 0
      },
      "text/plain": [
       "FloatProgress(value=0.0, bar_style='info', description='Progress:', layout=Layout(height='25px', width='50%'),…"
      ]
     },
     "metadata": {},
     "output_type": "display_data"
    }
   ],
   "source": [
    "# Create new dataframe with hashtag counts per week\n",
    "week_counts = daily_hashtag.cache()\n",
    "week_counts = week_counts.groupBy('week','hashtag')\\\n",
    "                         .agg(functions.count('hashtag').alias('counts'))\\\n",
    "                         .sort('hashtag','week')\n",
    "\n",
    "# Add new column to dataframe with value from previous week for each hashtag\n",
    "# The first week for each hashtag gets the previous value set to null\n",
    "counts_window = Window.partitionBy('hashtag').orderBy(functions.asc('week'))\n",
    "week_counts = week_counts.withColumn('prev_value', \n",
    "                                     functions.lag(week_counts.counts)\\\n",
    "                                              .over(counts_window))\n",
    "\n",
    "# Calculate the difference for each week compared to previous week\n",
    "# The first week that a hashtag shows, the difference is set to its value\n",
    "week_counts = week_counts.withColumn('diff', \n",
    "                                     functions.when(functions.isnull(week_counts.counts - week_counts.prev_value), \n",
    "                                                    week_counts.counts)\n",
    "                                              .otherwise((week_counts.counts - week_counts.prev_value)))\n",
    "\n",
    "# Rank the hashtags based on 'diff' column\n",
    "ranks_window = Window.partitionBy('week').orderBy(functions.desc('diff'))\n",
    "week_ranks = week_counts.select(functions.col('week'), functions.col('hashtag'),\n",
    "                                functions.col('counts'), functions.col('diff'),\n",
    "                                functions.rank().over(ranks_window).alias('rank'))\n",
    "\n",
    "# Filter out the top 5 ranks for each week\n",
    "# Remove week 17 (the first week) since there were no previous values when calculating this difference\n",
    "top_week = week_ranks.filter(week_ranks.rank < 6).filter(week_ranks.week > 17).orderBy('week', 'rank')"
   ]
  },
  {
   "cell_type": "code",
   "execution_count": 23,
   "metadata": {},
   "outputs": [
    {
     "data": {
      "application/vnd.jupyter.widget-view+json": {
       "model_id": "",
       "version_major": 2,
       "version_minor": 0
      },
      "text/plain": [
       "FloatProgress(value=0.0, bar_style='info', description='Progress:', layout=Layout(height='25px', width='50%'),…"
      ]
     },
     "metadata": {},
     "output_type": "display_data"
    },
    {
     "name": "stdout",
     "output_type": "stream",
     "text": [
      "+----+--------------------+------+------+----+\n",
      "|week|             hashtag|counts|  diff|rank|\n",
      "+----+--------------------+------+------+----+\n",
      "|  18|             metgala| 24314| 24260|   1|\n",
      "|  18|          nowplaying| 14354| 12914|   2|\n",
      "|  18|   dolceamorethesong| 12654| 12654|   3|\n",
      "|  18|                 job| 13807| 12377|   4|\n",
      "|  18|                jobs| 12573| 11488|   5|\n",
      "|  19|          teenchoice|140480|140473|   1|\n",
      "|  19|          eurovision| 31250| 30513|   2|\n",
      "|  19|choicemusicgroupmale| 23144| 23144|   3|\n",
      "|  19|        choicefandom| 16423| 16422|   4|\n",
      "|  19|dolceamoreitsallc...| 16311| 16311|   5|\n",
      "+----+--------------------+------+------+----+\n",
      "only showing top 10 rows"
     ]
    }
   ],
   "source": [
    "# Show first 10 rows of ranked results\n",
    "top_week.show(10)"
   ]
  },
  {
   "cell_type": "markdown",
   "metadata": {},
   "source": [
    "*We can see the metgala hashtag above which was trending in week 18. Now lets check that we have the other hashtags mentioned in the exercise description which are 'brexit', 'euro2016', 'prayfornice'.*"
   ]
  },
  {
   "cell_type": "code",
   "execution_count": 24,
   "metadata": {},
   "outputs": [
    {
     "data": {
      "application/vnd.jupyter.widget-view+json": {
       "model_id": "",
       "version_major": 2,
       "version_minor": 0
      },
      "text/plain": [
       "FloatProgress(value=0.0, bar_style='info', description='Progress:', layout=Layout(height='25px', width='50%'),…"
      ]
     },
     "metadata": {},
     "output_type": "display_data"
    },
    {
     "name": "stdout",
     "output_type": "stream",
     "text": [
      "+----+-------+------+-----+----+\n",
      "|week|hashtag|counts| diff|rank|\n",
      "+----+-------+------+-----+----+\n",
      "|  25| brexit| 49152|43798|   2|\n",
      "+----+-------+------+-----+----+\n",
      "\n",
      "+----+--------+------+-----+----+\n",
      "|week| hashtag|counts| diff|rank|\n",
      "+----+--------+------+-----+----+\n",
      "|  23|euro2016| 21174|18878|   3|\n",
      "+----+--------+------+-----+----+\n",
      "\n",
      "+----+-------+------+----+----+\n",
      "|week|hashtag|counts|diff|rank|\n",
      "+----+-------+------+----+----+\n",
      "+----+-------+------+----+----+"
     ]
    }
   ],
   "source": [
    "top_week.filter(top_week.hashtag.contains('brexit')).show()\n",
    "top_week.filter(top_week.hashtag.contains('euro2016')).show()     \n",
    "top_week.filter(top_week.hashtag.contains('prayfornice')).show()"
   ]
  },
  {
   "cell_type": "markdown",
   "metadata": {},
   "source": [
    "*The 'prayfornice' hashtag is missing in the top 5 ranking. Lets check why this is. We look at what rank 'prayfornice' has gotten.*"
   ]
  },
  {
   "cell_type": "code",
   "execution_count": 25,
   "metadata": {},
   "outputs": [
    {
     "data": {
      "application/vnd.jupyter.widget-view+json": {
       "model_id": "",
       "version_major": 2,
       "version_minor": 0
      },
      "text/plain": [
       "FloatProgress(value=0.0, bar_style='info', description='Progress:', layout=Layout(height='25px', width='50%'),…"
      ]
     },
     "metadata": {},
     "output_type": "display_data"
    },
    {
     "name": "stdout",
     "output_type": "stream",
     "text": [
      "+----+--------------------+------+-----+----+\n",
      "|week|             hashtag|counts| diff|rank|\n",
      "+----+--------------------+------+-----+----+\n",
      "|  28|          mtvhottest| 86014|85841|   1|\n",
      "|  28| aldub1stanniversary| 33653|33650|   2|\n",
      "|  28|           pokemongo| 34166|16145|   3|\n",
      "|  28|              turkey| 15521|15168|   4|\n",
      "|  28|          teenchoice| 45079|13026|   5|\n",
      "|  28|         prayfornice| 12086|12086|   6|\n",
      "|  28|aldubimagineyouandme| 10153|10148|   7|\n",
      "|  28|         kcacolombia|  7069| 7068|   8|\n",
      "|  28|                nice|  7170| 6909|   9|\n",
      "|  28|   aldub52ndweeksary|  6553| 6553|  10|\n",
      "+----+--------------------+------+-----+----+\n",
      "only showing top 10 rows"
     ]
    }
   ],
   "source": [
    "week_ranks.filter(week_ranks.week.contains(28)).show(10)"
   ]
  },
  {
   "cell_type": "markdown",
   "metadata": {},
   "source": [
    "*As we can see, it got rank 6 and didn't make the cut for top 5. We can see that a strange hashtag is trending in week 28 called 'aldub1stanniversary' which is ranked higher than 'prayfornice'. Lets see what data we have on this.*"
   ]
  },
  {
   "cell_type": "markdown",
   "metadata": {},
   "source": [
    "***Observations:*** *As we have thought, special events like UK's Brexit cause a spike in the respective weekly hashtags which classifies it as a trending hashtag. There are other events, like EURO 2016 championships (represented by #euro2016), which starts a trend in week 23 when the championship commences. Other hashtags which do not correspond to an event can also be trending such as several hastags including 'aldub' in week 28, which are related to a tv-show.*"
   ]
  },
  {
   "cell_type": "markdown",
   "metadata": {},
   "source": [
    "## Plotting the timeseries of hashtag counts and using KMeans clustering\n",
    "\n",
    "### II.g: TODO (8 points / 50)\n",
    "\n",
    "The lists we obtained above are nice, but lets actually visualize some data. \n",
    "\n",
    "1. create a matrix that consists of hashtags as rows and daily counts as columns (hint: use `groupBy` and methods of `GroupedData`). \n",
    "2. use the `VectorAssembler` from the Spark ML library to create the feature vector which will consist of daily counts. \n",
    "\n",
    "If you extract any of these vectors you will obtain an array that represents the time series of daily counts - plot this time series for a few interesting hashtags you identified above. \n",
    "\n",
    "__Hint__: `isin` method of DataFrame columns might be useful. "
   ]
  },
  {
   "cell_type": "code",
   "execution_count": 15,
   "metadata": {
    "scrolled": true
   },
   "outputs": [
    {
     "data": {
      "application/vnd.jupyter.widget-view+json": {
       "model_id": "",
       "version_major": 2,
       "version_minor": 0
      },
      "text/plain": [
       "FloatProgress(value=0.0, bar_style='info', description='Progress:', layout=Layout(height='25px', width='50%'),…"
      ]
     },
     "metadata": {},
     "output_type": "display_data"
    }
   ],
   "source": [
    "# Create the pivot table with hashtags as rows and daily counts as columns\n",
    "day_counts = daily_hashtag.cache()\n",
    "pivot_daily = day_counts.groupBy('hashtag').pivot('day').agg(functions.count('hashtag')).na.fill(0)\n",
    "\n",
    "# Create input string list (res) with days for the Vector Assembler\n",
    "selected = pivot_daily.drop('day')\n",
    "selected = selected.drop('hashtag')\n",
    "selected = selected.columns\n",
    "res = [''.join(ele) for ele in selected]"
   ]
  },
  {
   "cell_type": "code",
   "execution_count": 16,
   "metadata": {},
   "outputs": [
    {
     "data": {
      "application/vnd.jupyter.widget-view+json": {
       "model_id": "",
       "version_major": 2,
       "version_minor": 0
      },
      "text/plain": [
       "FloatProgress(value=0.0, bar_style='info', description='Progress:', layout=Layout(height='25px', width='50%'),…"
      ]
     },
     "metadata": {},
     "output_type": "display_data"
    }
   ],
   "source": [
    "from pyspark.ml.linalg import Vectors\n",
    "from pyspark.ml.feature import VectorAssembler\n",
    "\n",
    "# Create a feature vector holding daily counts/hashtag with VectorAssembler and define output df holding it\n",
    "assembler = VectorAssembler(inputCols=res, outputCol= 'feature_vector')\n",
    "output = assembler.transform(pivot_daily)\n",
    "\n",
    "# From the output dataframe, define the feature vectors for three hashtags brexit, euref and euro2016\n",
    "brexit = output.filter(output.hashtag == 'brexit')\n",
    "brexit = brexit.collect()\n",
    "\n",
    "euref = output.filter(output.hashtag == 'euref')\n",
    "euref = euref.collect()\n",
    "\n",
    "euro = output.filter(output.hashtag == 'euro2016')\n",
    "euro = euro.collect()\n",
    "\n",
    "brexit_feat = brexit[0].feature_vector.values.tolist()\n",
    "euro_feat = euro[0].feature_vector.values.tolist()\n",
    "euref_feat = euref[0].feature_vector.values.tolist()\n",
    "\n",
    "# Define day vector for timeseries (without the missing days)\n",
    "days =[i for i in range(122, 215) \n",
    "       if (i != 155 and i != 156 and i != 157 and i != 158 and i != 169)]\n",
    "\n",
    "# Create SQL-dataframe format for the 3 hashtags with a schema for the time series.\n",
    "brexit_series = sqlContext.createDataFrame(zip(days, brexit_feat), schema=['days', 'brexit_feat'])\n",
    "euref_series = sqlContext.createDataFrame(zip(days, euref_feat), schema=['days', 'euref_feat'])\n",
    "euro_series = sqlContext.createDataFrame(zip(days, euro_feat), schema=['days', 'euro_feat'])"
   ]
  },
  {
   "cell_type": "code",
   "execution_count": 17,
   "metadata": {},
   "outputs": [
    {
     "data": {
      "application/vnd.jupyter.widget-view+json": {
       "model_id": "",
       "version_major": 2,
       "version_minor": 0
      },
      "text/plain": [
       "FloatProgress(value=0.0, bar_style='info', description='Progress:', layout=Layout(height='25px', width='50%'),…"
      ]
     },
     "metadata": {},
     "output_type": "display_data"
    },
    {
     "data": {
      "application/vnd.jupyter.widget-view+json": {
       "model_id": "",
       "version_major": 2,
       "version_minor": 0
      },
      "text/plain": [
       "FloatProgress(value=0.0, bar_style='info', description='Progress:', layout=Layout(height='25px', width='50%'),…"
      ]
     },
     "metadata": {},
     "output_type": "display_data"
    }
   ],
   "source": [
    "%%spark -o brexit_series"
   ]
  },
  {
   "cell_type": "code",
   "execution_count": 18,
   "metadata": {},
   "outputs": [
    {
     "data": {
      "application/vnd.jupyter.widget-view+json": {
       "model_id": "",
       "version_major": 2,
       "version_minor": 0
      },
      "text/plain": [
       "FloatProgress(value=0.0, bar_style='info', description='Progress:', layout=Layout(height='25px', width='50%'),…"
      ]
     },
     "metadata": {},
     "output_type": "display_data"
    },
    {
     "data": {
      "application/vnd.jupyter.widget-view+json": {
       "model_id": "",
       "version_major": 2,
       "version_minor": 0
      },
      "text/plain": [
       "FloatProgress(value=0.0, bar_style='info', description='Progress:', layout=Layout(height='25px', width='50%'),…"
      ]
     },
     "metadata": {},
     "output_type": "display_data"
    }
   ],
   "source": [
    "%%spark -o euro_series"
   ]
  },
  {
   "cell_type": "code",
   "execution_count": 19,
   "metadata": {},
   "outputs": [
    {
     "data": {
      "application/vnd.jupyter.widget-view+json": {
       "model_id": "",
       "version_major": 2,
       "version_minor": 0
      },
      "text/plain": [
       "FloatProgress(value=0.0, bar_style='info', description='Progress:', layout=Layout(height='25px', width='50%'),…"
      ]
     },
     "metadata": {},
     "output_type": "display_data"
    },
    {
     "data": {
      "application/vnd.jupyter.widget-view+json": {
       "model_id": "",
       "version_major": 2,
       "version_minor": 0
      },
      "text/plain": [
       "FloatProgress(value=0.0, bar_style='info', description='Progress:', layout=Layout(height='25px', width='50%'),…"
      ]
     },
     "metadata": {},
     "output_type": "display_data"
    }
   ],
   "source": [
    "%%spark -o euref_series"
   ]
  },
  {
   "cell_type": "code",
   "execution_count": 23,
   "metadata": {},
   "outputs": [
    {
     "data": {
      "text/plain": [
       "<matplotlib.legend.Legend at 0x7f3fd17a0ed0>"
      ]
     },
     "execution_count": 23,
     "metadata": {},
     "output_type": "execute_result"
    },
    {
     "data": {
      "image/png": "[encoded data removed]",
      "text/plain": [
       "<Figure size 720x432 with 1 Axes>"
      ]
     },
     "metadata": {},
     "output_type": "display_data"
    }
   ],
   "source": [
    "%%local\n",
    "# Plot the timeseries of 3 trending hashtags in the local environment\n",
    "plt.plot(brexit_series['days'], brexit_series['brexit_feat'])\n",
    "plt.plot(euref_series['days'], euref_series['euref_feat'])\n",
    "plt.plot(euro_series['days'], euro_series['euro_feat'])\n",
    "plt.xlabel('Day')\n",
    "plt.ylabel('Daily Hashtag Count')\n",
    "plt.title('Daily hashtag counts of trending hashtags between 1st May and 1st August 2016')\n",
    "plt.legend(['#brexit', '#euref', '#euro2016'])"
   ]
  },
  {
   "cell_type": "markdown",
   "metadata": {},
   "source": [
    "***Observations:*** When inspecting the Brexit events, we can notice a significant count increase/spike  between the days 170-180. This period corresponds to the week of UK's referendum day, which was on the 23rd of June 2016. We can also notice how the timeseries of #brexit and #euref are highly correlated, which makes sense, since they correspond to the same event.\n",
    "The #euro2016 timeseries has a different shape. It has a slight even distribution over the days = [160,...,190]. This can be explained by the event as is, since the European Footbal Championship '16 was not a single-day event, but a 4-week occasion.\n",
    "It is also important to note that some days are missing, such as the 3rd June 2016 (as identified in 1d)."
   ]
  },
  {
   "cell_type": "markdown",
   "metadata": {},
   "source": [
    "### II.h: TODO - Use KMeans to cluster hashtags based on the daily count timeseries (12 points / 50)\n",
    "\n",
    "Use the DataFrame you created above to cluster the hashtag timeseries. Train the model and calculate the cluster membership for all hashtags. \n",
    "\n",
    "Show the cluster that includes \"brexit\" - does it make sense?\n",
    "\n",
    "Again, be creative and see if you can get the clustering to give you meaningful hashtag groupings. Make sure you document your process and code and make your final notebook easy to understand even if the result is not optimal or complete. \n",
    "\n",
    "__Hint:__ Additional data cleaning or filtering might be necessary to get useful results from the model. "
   ]
  },
  {
   "cell_type": "markdown",
   "metadata": {},
   "source": [
    "***Chosen method/preprocessing:*** Before doing the KMeans on the feature vectors, it is necessary to do a preprocessing on the data. The first step is to only cluster hashtags which have a total count over the period below the threshhold of 150000 and above 100, which we have chosen by looking at the total counts of interesting hashtags like brexit or euro2016. With this step, we make sure that there are no spam hashtags which could overweigh the cluster centers, so that the interesting hashtags would all end up in one cluster.\n",
    "We also find the max count and the min count for a hashtag and only keep hashtags that have significant changes over the course of time. This step aims to filter out the common hashtags people use everyday and are not related to current events."
   ]
  },
  {
   "cell_type": "code",
   "execution_count": 30,
   "metadata": {},
   "outputs": [
    {
     "data": {
      "application/vnd.jupyter.widget-view+json": {
       "model_id": "",
       "version_major": 2,
       "version_minor": 0
      },
      "text/plain": [
       "FloatProgress(value=0.0, bar_style='info', description='Progress:', layout=Layout(height='25px', width='50%'),…"
      ]
     },
     "metadata": {},
     "output_type": "display_data"
    }
   ],
   "source": [
    "# Rename feature vector for KMeans \n",
    "features = output.withColumnRenamed('feature_vector', 'features')\n",
    "col = features.columns[1:-1]\n",
    "\n",
    "minf = functions.lit(float(\"-inf\"))\n",
    "maxf = functions.lit(float(\"inf\"))\n",
    "\n",
    "rowmax = functions.greatest(*[functions.coalesce(functions.col(x), minf) for x in col])\n",
    "rowmin = functions.least(*[functions.coalesce(functions.col(x), maxf) for x in col])\n",
    "\n",
    "# Sum count of hashtags over total period and filter for hashtag counts below & above threshhold and with no significant change\n",
    "newdf = features.withColumn('total', sum(features[c] for c in col))\n",
    "newdf = newdf.withColumn('min', rowmin)\n",
    "newdf = newdf.withColumn('max', rowmax)\n",
    "filtered = newdf.filter((newdf.total <= 150000) & (newdf.total >= 100))\n",
    "filtered = filtered.filter((filtered.max - filtered.min) >= 50)"
   ]
  },
  {
   "cell_type": "code",
   "execution_count": 31,
   "metadata": {},
   "outputs": [
    {
     "data": {
      "application/vnd.jupyter.widget-view+json": {
       "model_id": "",
       "version_major": 2,
       "version_minor": 0
      },
      "text/plain": [
       "FloatProgress(value=0.0, bar_style='info', description='Progress:', layout=Layout(height='25px', width='50%'),…"
      ]
     },
     "metadata": {},
     "output_type": "display_data"
    }
   ],
   "source": [
    "from pyspark.ml.clustering import KMeans\n",
    "from pyspark.ml.evaluation import ClusteringEvaluator\n",
    "\n",
    "# Initiate KMeans with k=10 clusters and use the filtered df with feature vectors as input\n",
    "kmeans = KMeans().setK(10).setSeed(1)\n",
    "model = kmeans.fit(filtered)\n",
    "predictions = model.transform(filtered)"
   ]
  },
  {
   "cell_type": "code",
   "execution_count": 32,
   "metadata": {},
   "outputs": [
    {
     "data": {
      "application/vnd.jupyter.widget-view+json": {
       "model_id": "",
       "version_major": 2,
       "version_minor": 0
      },
      "text/plain": [
       "FloatProgress(value=0.0, bar_style='info', description='Progress:', layout=Layout(height='25px', width='50%'),…"
      ]
     },
     "metadata": {},
     "output_type": "display_data"
    },
    {
     "name": "stdout",
     "output_type": "stream",
     "text": [
      "+------------------+----------+\n",
      "|           hashtag|prediction|\n",
      "+------------------+----------+\n",
      "|             anime|         0|\n",
      "|               art|         1|\n",
      "|           jewelry|         1|\n",
      "|           eleague|         0|\n",
      "|labourinforbritain|         0|\n",
      "+------------------+----------+\n",
      "only showing top 5 rows"
     ]
    }
   ],
   "source": [
    "# Associate each hashtag with a cluster\n",
    "pred = predictions.select('hashtag', 'prediction')\n",
    "pred.show(5)"
   ]
  },
  {
   "cell_type": "markdown",
   "metadata": {},
   "source": [
    "*Lets look at what cluster #brexit is a part of and see what other hashtags are part of this cluster*"
   ]
  },
  {
   "cell_type": "code",
   "execution_count": 33,
   "metadata": {},
   "outputs": [
    {
     "data": {
      "application/vnd.jupyter.widget-view+json": {
       "model_id": "",
       "version_major": 2,
       "version_minor": 0
      },
      "text/plain": [
       "FloatProgress(value=0.0, bar_style='info', description='Progress:', layout=Layout(height='25px', width='50%'),…"
      ]
     },
     "metadata": {},
     "output_type": "display_data"
    },
    {
     "name": "stdout",
     "output_type": "stream",
     "text": [
      "+-------+----------+\n",
      "|hashtag|prediction|\n",
      "+-------+----------+\n",
      "| brexit|         3|\n",
      "+-------+----------+"
     ]
    }
   ],
   "source": [
    "brex = pred.filter(pred.hashtag == 'brexit')\n",
    "brex.show()"
   ]
  },
  {
   "cell_type": "code",
   "execution_count": 34,
   "metadata": {},
   "outputs": [
    {
     "data": {
      "application/vnd.jupyter.widget-view+json": {
       "model_id": "",
       "version_major": 2,
       "version_minor": 0
      },
      "text/plain": [
       "FloatProgress(value=0.0, bar_style='info', description='Progress:', layout=Layout(height='25px', width='50%'),…"
      ]
     },
     "metadata": {},
     "output_type": "display_data"
    },
    {
     "name": "stdout",
     "output_type": "stream",
     "text": [
      "+-------+----------+\n",
      "|hashtag|prediction|\n",
      "+-------+----------+\n",
      "| brexit|         3|\n",
      "+-------+----------+"
     ]
    }
   ],
   "source": [
    "cluster1 = pred.filter(pred.prediction == 3)\n",
    "cluster1.show(cluster1.count())"
   ]
  },
  {
   "cell_type": "markdown",
   "metadata": {},
   "source": [
    "***Observations:*** We see that with k=10, for the #brexit cluster (3), there are no hashtags that no other hashtags other than #brexit. Another approach is needed.\n",
    "\n",
    "***Another Approach***\n",
    "In stead of using solely the daily counts we also wanted to incorporate daily rate of change. The intuition behind this is that two related hastags would likely to have spikes around the same time even if their daily counts are different. For example, the hashtag 'brexit' is much more commonly used than 'euref' but they both have sudden spikes on the same day. "
   ]
  },
  {
   "cell_type": "code",
   "execution_count": 286,
   "metadata": {},
   "outputs": [
    {
     "data": {
      "application/vnd.jupyter.widget-view+json": {
       "model_id": "",
       "version_major": 2,
       "version_minor": 0
      },
      "text/plain": [
       "FloatProgress(value=0.0, bar_style='info', description='Progress:', layout=Layout(height='25px', width='50%'),…"
      ]
     },
     "metadata": {},
     "output_type": "display_data"
    },
    {
     "name": "stdout",
     "output_type": "stream",
     "text": [
      "+---+--------------------+------+----+\n",
      "|day|             hashtag|counts|prev|\n",
      "+---+--------------------+------+----+\n",
      "|190|                 08n|     1|   0|\n",
      "|193|        100daysoffit|     1|   0|\n",
      "|140|             100daze|     1|   0|\n",
      "|124|            100pac12|     1|   0|\n",
      "|127|            100pac12|     1|   1|\n",
      "|131|            100pac12|     1|   1|\n",
      "|138|            100pac12|     2|   1|\n",
      "|145|            100pac12|     1|   2|\n",
      "|152|            100pac12|     2|   1|\n",
      "|159|            100pac12|     1|   2|\n",
      "|144|100thindianapolis500|     1|   0|\n",
      "|150|100thindianapolis500|     1|   1|\n",
      "|125|    10añosrubelangel|     1|   0|\n",
      "|138|       10daystill727|     2|   0|\n",
      "|188|10kforindependenc...|     1|   0|\n",
      "|190| 10marathonsin10days|     1|   0|\n",
      "|130|            10points|     1|   0|\n",
      "|136|            10points|     6|   1|\n",
      "|140|            10points|     1|   6|\n",
      "|198|            10points|     2|   1|\n",
      "+---+--------------------+------+----+\n",
      "only showing top 20 rows"
     ]
    }
   ],
   "source": [
    "day_counts = daily_hashtag.cache()\n",
    "day_counts = day_counts.groupBy('day','hashtag')\\\n",
    "                         .agg(functions.count('hashtag').alias('counts'))\\\n",
    "                         .sort('hashtag','day').na.fill(0)\n",
    "\n",
    "# Add new column to dataframe with value from previous day for each hashtag\n",
    "# The first day for each hashtag gets the previous value set to null\n",
    "counts_window = Window.partitionBy('hashtag').orderBy(functions.asc('day'))\n",
    "day_counts = day_counts.withColumn('prev', \n",
    "                                     functions.lag(day_counts.counts)\\\n",
    "                                              .over(counts_window)).na.fill(0)\n",
    "\n",
    "day_counts.show()"
   ]
  },
  {
   "cell_type": "code",
   "execution_count": 287,
   "metadata": {},
   "outputs": [
    {
     "data": {
      "application/vnd.jupyter.widget-view+json": {
       "model_id": "",
       "version_major": 2,
       "version_minor": 0
      },
      "text/plain": [
       "FloatProgress(value=0.0, bar_style='info', description='Progress:', layout=Layout(height='25px', width='50%'),…"
      ]
     },
     "metadata": {},
     "output_type": "display_data"
    }
   ],
   "source": [
    "#Calculate the daily count difference between hashtags\n",
    "day_counts = day_counts.withColumn('diff', day_counts.counts - day_counts.prev)\n",
    "day_counts = day_counts.drop('prev')\n",
    "day_counts = day_counts.drop('counts')\n",
    "\n",
    "pivot_daily1 = day_counts.groupBy('hashtag').pivot('day').agg({'diff': 'max'}).na.fill(0)\n",
    "\n",
    "# Create input string list (res) with days for the Vector Assembler\n",
    "selected = pivot_daily.drop('day')\n",
    "selected = selected.drop('hashtag')\n",
    "selected = selected.columns\n",
    "res = [''.join(ele) for ele in selected]"
   ]
  },
  {
   "cell_type": "code",
   "execution_count": 288,
   "metadata": {},
   "outputs": [
    {
     "data": {
      "application/vnd.jupyter.widget-view+json": {
       "model_id": "",
       "version_major": 2,
       "version_minor": 0
      },
      "text/plain": [
       "FloatProgress(value=0.0, bar_style='info', description='Progress:', layout=Layout(height='25px', width='50%'),…"
      ]
     },
     "metadata": {},
     "output_type": "display_data"
    }
   ],
   "source": [
    "assembler1 = VectorAssembler(inputCols=res, outputCol= 'features1')\n",
    "#output1 contains change in counts of two consecutive days\n",
    "output1 = assembler1.transform(pivot_daily1)"
   ]
  },
  {
   "cell_type": "code",
   "execution_count": 289,
   "metadata": {},
   "outputs": [
    {
     "data": {
      "application/vnd.jupyter.widget-view+json": {
       "model_id": "",
       "version_major": 2,
       "version_minor": 0
      },
      "text/plain": [
       "FloatProgress(value=0.0, bar_style='info', description='Progress:', layout=Layout(height='25px', width='50%'),…"
      ]
     },
     "metadata": {},
     "output_type": "display_data"
    }
   ],
   "source": [
    "for i in days:\n",
    "    output1 = output1.withColumnRenamed(str(i), 'diff' + str(i))"
   ]
  },
  {
   "cell_type": "code",
   "execution_count": 290,
   "metadata": {},
   "outputs": [
    {
     "data": {
      "application/vnd.jupyter.widget-view+json": {
       "model_id": "",
       "version_major": 2,
       "version_minor": 0
      },
      "text/plain": [
       "FloatProgress(value=0.0, bar_style='info', description='Progress:', layout=Layout(height='25px', width='50%'),…"
      ]
     },
     "metadata": {},
     "output_type": "display_data"
    }
   ],
   "source": [
    "output1 = output1.withColumnRenamed('hashtag', 'hashtag1')\n",
    "df = output1.join(output, (output1.hashtag1 == output.hashtag))"
   ]
  },
  {
   "cell_type": "code",
   "execution_count": 293,
   "metadata": {},
   "outputs": [
    {
     "data": {
      "application/vnd.jupyter.widget-view+json": {
       "model_id": "",
       "version_major": 2,
       "version_minor": 0
      },
      "text/plain": [
       "FloatProgress(value=0.0, bar_style='info', description='Progress:', layout=Layout(height='25px', width='50%'),…"
      ]
     },
     "metadata": {},
     "output_type": "display_data"
    }
   ],
   "source": [
    "s = df.drop('features1')\n",
    "s = s.drop('feature_vector')\n",
    "s = s.drop('hashtag')\n",
    "\n",
    "\n",
    "selected = s.columns\n",
    "res = [''.join(ele) for ele in selected]\n",
    "\n",
    "assembler2 = VectorAssembler(inputCols=res, outputCol= 'features')\n",
    "output2 = assembler2.transform(df)"
   ]
  },
  {
   "cell_type": "code",
   "execution_count": 294,
   "metadata": {},
   "outputs": [
    {
     "data": {
      "application/vnd.jupyter.widget-view+json": {
       "model_id": "",
       "version_major": 2,
       "version_minor": 0
      },
      "text/plain": [
       "FloatProgress(value=0.0, bar_style='info', description='Progress:', layout=Layout(height='25px', width='50%'),…"
      ]
     },
     "metadata": {},
     "output_type": "display_data"
    }
   ],
   "source": [
    "# Initiate KMeans with k=10 clusters and use the filtered df with feature vectors as input\n",
    "kmeans1 = KMeans().setK(10).setSeed(1)\n",
    "model1 = kmeans1.fit(output2)\n",
    "predictions1 = model1.transform(output2)"
   ]
  },
  {
   "cell_type": "code",
   "execution_count": 295,
   "metadata": {},
   "outputs": [
    {
     "data": {
      "application/vnd.jupyter.widget-view+json": {
       "model_id": "",
       "version_major": 2,
       "version_minor": 0
      },
      "text/plain": [
       "FloatProgress(value=0.0, bar_style='info', description='Progress:', layout=Layout(height='25px', width='50%'),…"
      ]
     },
     "metadata": {},
     "output_type": "display_data"
    },
    {
     "name": "stdout",
     "output_type": "stream",
     "text": [
      "+-------+----------+\n",
      "|hashtag|prediction|\n",
      "+-------+----------+\n",
      "| brexit|         7|\n",
      "+-------+----------+"
     ]
    }
   ],
   "source": [
    "pred1 = predictions1.select('hashtag', 'prediction')\n",
    "brex = pred1.filter(pred1.hashtag == 'brexit')\n",
    "brex.show()"
   ]
  },
  {
   "cell_type": "code",
   "execution_count": 296,
   "metadata": {},
   "outputs": [
    {
     "data": {
      "application/vnd.jupyter.widget-view+json": {
       "model_id": "",
       "version_major": 2,
       "version_minor": 0
      },
      "text/plain": [
       "FloatProgress(value=0.0, bar_style='info', description='Progress:', layout=Layout(height='25px', width='50%'),…"
      ]
     },
     "metadata": {},
     "output_type": "display_data"
    },
    {
     "name": "stdout",
     "output_type": "stream",
     "text": [
      "+-------------------+----------+\n",
      "|            hashtag|prediction|\n",
      "+-------------------+----------+\n",
      "|                art|         7|\n",
      "|            jewelry|         7|\n",
      "|             travel|         7|\n",
      "|           etsymntt|         7|\n",
      "|aldub1stanniversary|         7|\n",
      "|           bigolive|         7|\n",
      "|            android|         7|\n",
      "|              euref|         7|\n",
      "|           rncincle|         7|\n",
      "|             hiring|         7|\n",
      "|               mufc|         7|\n",
      "|        gameinsight|         7|\n",
      "|               mgwv|         7|\n",
      "|              trump|         7|\n",
      "|         soundcloud|         7|\n",
      "|               news|         7|\n",
      "|                 rt|         7|\n",
      "|             dallas|         7|\n",
      "|           giveaway|         7|\n",
      "|               love|         7|\n",
      "|               porn|         7|\n",
      "|              porno|         7|\n",
      "|           euro2016|         7|\n",
      "|            metgala|         7|\n",
      "|     teamfollowback|         7|\n",
      "|                 np|         7|\n",
      "|                job|         7|\n",
      "|               etsy|         7|\n",
      "|        photography|         7|\n",
      "|          marketing|         7|\n",
      "|               free|         7|\n",
      "|      mtvawardsstar|         7|\n",
      "|            retweet|         7|\n",
      "|               nsfw|         7|\n",
      "|      gameofthrones|         7|\n",
      "|               maga|         7|\n",
      "|       mplusrewards|         7|\n",
      "|              music|         7|\n",
      "|                xxx|         7|\n",
      "|      altonsterling|         7|\n",
      "|          periscope|         7|\n",
      "|          trump2016|         7|\n",
      "|               tcot|         7|\n",
      "|             trecru|         7|\n",
      "|               got7|         7|\n",
      "|        competition|         7|\n",
      "|             turkey|         7|\n",
      "|                win|         7|\n",
      "|        followtrick|         7|\n",
      "|             follow|         7|\n",
      "|    philandocastile|         7|\n",
      "|          nbafinals|         7|\n",
      "|          pokemongo|         7|\n",
      "|              deals|         7|\n",
      "|               jobs|         7|\n",
      "|              quote|         7|\n",
      "|              방탄소년단|         7|\n",
      "|          kcamexico|         7|\n",
      "|             brexit|         7|\n",
      "|         nowplaying|         7|\n",
      "|   blacklivesmatter|         7|\n",
      "|           えどがわイケメン|         7|\n",
      "|                bts|         7|\n",
      "|           business|         7|\n",
      "|       androidgames|         7|\n",
      "|        socialmedia|         7|\n",
      "|                sex|         7|\n",
      "| pushawardslizquens|         7|\n",
      "|        mplusplaces|         7|\n",
      "|               tech|         7|\n",
      "|            fashion|         7|\n",
      "+-------------------+----------+"
     ]
    }
   ],
   "source": [
    "cluster1 = pred1.filter(pred1.prediction == 7)\n",
    "cluster1.show(cluster1.count())"
   ]
  },
  {
   "cell_type": "markdown",
   "metadata": {},
   "source": [
    "***Observations:*** With this approach we run into the same problem as the previous part where there is no optimal K to get satisfying results. With K = 10, we have a seemingly random set of hashtags that contains random hashtags, but also an associated hashtag to the brexit event (#euref). "
   ]
  }
 ],
 "metadata": {
  "kernelspec": {
   "display_name": "PySpark",
   "language": "",
   "name": "pysparkkernel"
  },
  "language_info": {
   "codemirror_mode": {
    "name": "python",
    "version": 3
   },
   "mimetype": "text/x-python",
   "name": "pyspark",
   "pygments_lexer": "python3"
  }
 },
 "nbformat": 4,
 "nbformat_minor": 4
}
