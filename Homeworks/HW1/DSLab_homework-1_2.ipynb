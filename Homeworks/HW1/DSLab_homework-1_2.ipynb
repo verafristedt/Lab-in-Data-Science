{
 "cells": [
  {
   "cell_type": "markdown",
   "metadata": {},
   "source": [
    "# Homework 1 - Data Wrangling with Hadoop\n",
    "\n",
    "The goal of this assignment is to put into action the data wrangling techniques from the exercises of week-3 and week-4. We highly suggest you to finish these two exercises first and then start the homework. In this homework, we are going to reuse the same __sbb__ dataset as we see in two exercises. \n",
    "\n",
    "Try to use as much as HiveQL as possible and use pandas operations only when it's necessary.\n",
    "   \n",
    "__Hand-in:__\n",
    "- __Due: 24.03.2020 23:59 CET__\n",
    "- `git push` your final verion to your group's Renku repository before the due\n",
    "- check if `Dockerfile`, `environment.yml` and `requirements.txt` are properly written\n",
    "- add necessary comments and discussion to make your queries readable\n",
    "\n",
    "\n",
    "__Cluster Usage__\n",
    "\n",
    "As there are many of you working with the cluster, we encourage you to prototype your queries on small data samples before running them on whole datasets.\n",
    "\n",
    "__Documentation__\n",
    "\n",
    "Hive queries: <https://cwiki.apache.org/confluence/display/Hive/LanguageManual+Select>\n",
    "\n",
    "Hive functions: <https://cwiki.apache.org/confluence/display/Hive/LanguageManual+UDF>\n"
   ]
  },
  {
   "cell_type": "code",
   "execution_count": 1,
   "metadata": {},
   "outputs": [],
   "source": [
    "import os\n",
    "import pandas as pd\n",
    "pd.set_option(\"display.max_columns\", 50)\n",
    "import matplotlib.pyplot as plt\n",
    "%matplotlib inline\n",
    "from datetime import datetime\n",
    "from pyhive import hive\n",
    "import numpy as np\n",
    "\n",
    "username = os.environ['JUPYTERHUB_USER']\n",
    "# create connection\n",
    "conn = hive.connect(host='iccluster059.iccluster.epfl.ch', port=10000, username=username) \n",
    "# create cursor\n",
    "cur = conn.cursor()"
   ]
  },
  {
   "cell_type": "markdown",
   "metadata": {},
   "source": [
    "## Data from SBB/CFF/FFS\n",
    "\n",
    "Data source: <https://opentransportdata.swiss/en/dataset/istdaten>\n",
    "\n",
    "In this part, you will leverage Hive to perform exploratory analysis of data published by the [Open Data Platform Swiss Public Transport](https://opentransportdata.swiss).\n",
    "\n",
    "Format: the dataset is originally presented as a collection of textfiles with fields separated by ';' (semi-colon). For efficiency, the textfiles have been compressed into Optimized Row Columnar ([ORC](https://cwiki.apache.org/confluence/display/Hive/LanguageManual+ORC)) file format. \n",
    "\n",
    "Location: you can find the data in ORC format on HDFS at the path `/data/sbb/orc/istdaten`.\n",
    "\n",
    "The full description from opentransportdata.swiss can be found in <https://opentransportdata.swiss/de/cookbook/ist-daten/> in four languages. Because of the translation typos there may be some misunderstandings. We suggest you rely on the German version and use an automated translator when necessary. We will clarify if there is still anything unclear in class and Slack. Here are the relevant column descriptions:\n",
    "\n",
    "- `BETRIEBSTAG`: date of the trip\n",
    "- `FAHRT_BEZEICHNER`: identifies the trip\n",
    "- `BETREIBER_ABK`, `BETREIBER_NAME`: operator (name will contain the full name, e.g. Schweizerische Bundesbahnen for SBB)\n",
    "- `PRODUKT_ID`: type of transport, e.g. train, bus\n",
    "- `LINIEN_ID`: for trains, this is the train number\n",
    "- `LINIEN_TEXT`,`VERKEHRSMITTEL_TEXT`: for trains, the service type (IC, IR, RE, etc.)\n",
    "- `ZUSATZFAHRT_TF`: boolean, true if this is an additional trip (not part of the regular schedule)\n",
    "- `FAELLT_AUS_TF`: boolean, true if this trip failed (cancelled or not completed)\n",
    "- `HALTESTELLEN_NAME`: name of the stop\n",
    "- `ANKUNFTSZEIT`: arrival time at the stop according to schedule\n",
    "- `AN_PROGNOSE`: actual arrival time\n",
    "- `AN_PROGNOSE_STATUS`: show how the actual arrival time is calcluated\n",
    "- `ABFAHRTSZEIT`: departure time at the stop according to schedule\n",
    "- `AB_PROGNOSE`: actual departure time\n",
    "- `AB_PROGNOSE_STATUS`: show how the actual departure time is calcluated\n",
    "- `DURCHFAHRT_TF`: boolean, true if the transport does not stop there\n",
    "\n",
    "Each line of the file represents a stop and contains arrival and departure times. When the stop is the start or end of a journey, the corresponding columns will be empty (`ANKUNFTSZEIT`/`ABFAHRTSZEIT`).\n",
    "\n",
    "In some cases, the actual times were not measured so the `AN_PROGNOSE_STATUS`/`AB_PROGNOSE_STATUS` will be empty or set to `PROGNOSE` and `AN_PROGNOSE`/`AB_PROGNOSE` will be empty."
   ]
  },
  {
   "cell_type": "markdown",
   "metadata": {},
   "source": [
    "### Question I.a - 5 Points\n",
    "\n",
    "In the exercise, you were asked to find how many stops of each type of transportation for the date 05.11.2018. Now, let's do the same for the whole dataset. \n",
    "\n",
    "Show the results with a stacked bar chart (you can use `pandas` to create a pivot table if necessary). Document any patterns you can see.\n",
    "\n",
    "__Hint__: \n",
    "- To properly order by date, you may have to parse them using the `unix_timestamp` function.\n",
    "- When using `pd.read_sql(query, conn, ...)` to retrieve the query results, there is one `parse_dates` argument for date parsing.\n",
    "- If you think it is not nice to display all the data in one plot, you can select a small period of data, i.e. 3 months, for visualization to detect the pattern."
   ]
  },
  {
   "cell_type": "code",
   "execution_count": 2,
   "metadata": {},
   "outputs": [
    {
     "data": {
      "text/html": [
       "<div>\n",
       "<style scoped>\n",
       "    .dataframe tbody tr th:only-of-type {\n",
       "        vertical-align: middle;\n",
       "    }\n",
       "\n",
       "    .dataframe tbody tr th {\n",
       "        vertical-align: top;\n",
       "    }\n",
       "\n",
       "    .dataframe thead th {\n",
       "        text-align: right;\n",
       "    }\n",
       "</style>\n",
       "<table border=\"1\" class=\"dataframe\">\n",
       "  <thead>\n",
       "    <tr style=\"text-align: right;\">\n",
       "      <th></th>\n",
       "      <th>sbb_orc.betriebstag</th>\n",
       "      <th>sbb_orc.fahrt_bezeichner</th>\n",
       "      <th>sbb_orc.betreiber_id</th>\n",
       "      <th>sbb_orc.betreiber_abk</th>\n",
       "      <th>sbb_orc.betreiber_name</th>\n",
       "      <th>sbb_orc.produkt_id</th>\n",
       "      <th>sbb_orc.linien_id</th>\n",
       "      <th>sbb_orc.linien_text</th>\n",
       "      <th>sbb_orc.umlauf_id</th>\n",
       "      <th>sbb_orc.verkehrsmittel_text</th>\n",
       "      <th>sbb_orc.zusatzfahrt_tf</th>\n",
       "      <th>sbb_orc.faellt_aus_tf</th>\n",
       "      <th>sbb_orc.bpuic</th>\n",
       "      <th>sbb_orc.haltestellen_name</th>\n",
       "      <th>sbb_orc.ankunftszeit</th>\n",
       "      <th>sbb_orc.an_prognose</th>\n",
       "      <th>sbb_orc.an_prognose_status</th>\n",
       "      <th>sbb_orc.abfahrtszeit</th>\n",
       "      <th>sbb_orc.ab_prognose</th>\n",
       "      <th>sbb_orc.ab_prognose_status</th>\n",
       "      <th>sbb_orc.durchfahrt_tf</th>\n",
       "    </tr>\n",
       "  </thead>\n",
       "  <tbody>\n",
       "    <tr>\n",
       "      <th>0</th>\n",
       "      <td>29.11.2019</td>\n",
       "      <td>80:06____:17012:000</td>\n",
       "      <td>80:06____</td>\n",
       "      <td>DB</td>\n",
       "      <td>DB Regio AG Baden-Württemberg</td>\n",
       "      <td>Zug</td>\n",
       "      <td>17012</td>\n",
       "      <td>RE</td>\n",
       "      <td></td>\n",
       "      <td>RE</td>\n",
       "      <td>false</td>\n",
       "      <td>false</td>\n",
       "      <td>8500090</td>\n",
       "      <td>Basel Bad Bf</td>\n",
       "      <td></td>\n",
       "      <td></td>\n",
       "      <td>PROGNOSE</td>\n",
       "      <td>29.11.2019 06:34</td>\n",
       "      <td></td>\n",
       "      <td>UNBEKANNT</td>\n",
       "      <td>false</td>\n",
       "    </tr>\n",
       "    <tr>\n",
       "      <th>1</th>\n",
       "      <td>29.11.2019</td>\n",
       "      <td>80:06____:17013:000</td>\n",
       "      <td>80:06____</td>\n",
       "      <td>DB</td>\n",
       "      <td>DB Regio AG Baden-Württemberg</td>\n",
       "      <td>Zug</td>\n",
       "      <td>17013</td>\n",
       "      <td>RE</td>\n",
       "      <td></td>\n",
       "      <td>RE</td>\n",
       "      <td>false</td>\n",
       "      <td>false</td>\n",
       "      <td>8500090</td>\n",
       "      <td>Basel Bad Bf</td>\n",
       "      <td>29.11.2019 06:25</td>\n",
       "      <td></td>\n",
       "      <td>UNBEKANNT</td>\n",
       "      <td></td>\n",
       "      <td></td>\n",
       "      <td>PROGNOSE</td>\n",
       "      <td>false</td>\n",
       "    </tr>\n",
       "    <tr>\n",
       "      <th>2</th>\n",
       "      <td>29.11.2019</td>\n",
       "      <td>80:06____:17014:000</td>\n",
       "      <td>80:06____</td>\n",
       "      <td>DB</td>\n",
       "      <td>DB Regio AG Baden-Württemberg</td>\n",
       "      <td>Zug</td>\n",
       "      <td>17014</td>\n",
       "      <td>RE</td>\n",
       "      <td></td>\n",
       "      <td>RE</td>\n",
       "      <td>false</td>\n",
       "      <td>false</td>\n",
       "      <td>8500090</td>\n",
       "      <td>Basel Bad Bf</td>\n",
       "      <td></td>\n",
       "      <td></td>\n",
       "      <td>PROGNOSE</td>\n",
       "      <td>29.11.2019 09:48</td>\n",
       "      <td></td>\n",
       "      <td>UNBEKANNT</td>\n",
       "      <td>false</td>\n",
       "    </tr>\n",
       "  </tbody>\n",
       "</table>\n",
       "</div>"
      ],
      "text/plain": [
       "  sbb_orc.betriebstag sbb_orc.fahrt_bezeichner sbb_orc.betreiber_id  \\\n",
       "0          29.11.2019      80:06____:17012:000            80:06____   \n",
       "1          29.11.2019      80:06____:17013:000            80:06____   \n",
       "2          29.11.2019      80:06____:17014:000            80:06____   \n",
       "\n",
       "  sbb_orc.betreiber_abk         sbb_orc.betreiber_name sbb_orc.produkt_id  \\\n",
       "0                    DB  DB Regio AG Baden-Württemberg                Zug   \n",
       "1                    DB  DB Regio AG Baden-Württemberg                Zug   \n",
       "2                    DB  DB Regio AG Baden-Württemberg                Zug   \n",
       "\n",
       "  sbb_orc.linien_id sbb_orc.linien_text sbb_orc.umlauf_id  \\\n",
       "0             17012                  RE                     \n",
       "1             17013                  RE                     \n",
       "2             17014                  RE                     \n",
       "\n",
       "  sbb_orc.verkehrsmittel_text sbb_orc.zusatzfahrt_tf sbb_orc.faellt_aus_tf  \\\n",
       "0                          RE                  false                 false   \n",
       "1                          RE                  false                 false   \n",
       "2                          RE                  false                 false   \n",
       "\n",
       "  sbb_orc.bpuic sbb_orc.haltestellen_name sbb_orc.ankunftszeit  \\\n",
       "0       8500090              Basel Bad Bf                        \n",
       "1       8500090              Basel Bad Bf     29.11.2019 06:25   \n",
       "2       8500090              Basel Bad Bf                        \n",
       "\n",
       "  sbb_orc.an_prognose sbb_orc.an_prognose_status sbb_orc.abfahrtszeit  \\\n",
       "0                                       PROGNOSE     29.11.2019 06:34   \n",
       "1                                      UNBEKANNT                        \n",
       "2                                       PROGNOSE     29.11.2019 09:48   \n",
       "\n",
       "  sbb_orc.ab_prognose sbb_orc.ab_prognose_status sbb_orc.durchfahrt_tf  \n",
       "0                                      UNBEKANNT                 false  \n",
       "1                                       PROGNOSE                 false  \n",
       "2                                      UNBEKANNT                 false  "
      ]
     },
     "execution_count": 2,
     "metadata": {},
     "output_type": "execute_result"
    }
   ],
   "source": [
    "# Drop your database\n",
    "query = \"\"\"\n",
    "    drop database if exists {0} cascade\n",
    "\"\"\".format(username)\n",
    "cur.execute(query)\n",
    "\n",
    "# Create your database\n",
    "query = \"\"\"\n",
    "    create database {0} location \"/user/{0}/hive\"\n",
    "\"\"\".format(username)\n",
    "cur.execute(query)\n",
    "\n",
    "# Drop the sbb table\n",
    "query = \"\"\"\n",
    "    drop table if exists {0}.sbb_orc\n",
    "\"\"\".format(username)\n",
    "cur.execute(query)\n",
    "\n",
    "# Create the sbb table\n",
    "query = \"\"\"\n",
    "    create external table {0}.sbb_orc(\n",
    "        BETRIEBSTAG string,\n",
    "        FAHRT_BEZEICHNER string,\n",
    "        BETREIBER_ID string,\n",
    "        BETREIBER_ABK string,\n",
    "        BETREIBER_NAME string,\n",
    "        PRODUKT_ID string,\n",
    "        LINIEN_ID string,\n",
    "        LINIEN_TEXT string,\n",
    "        UMLAUF_ID string,\n",
    "        VERKEHRSMITTEL_TEXT string,\n",
    "        ZUSATZFAHRT_TF string,\n",
    "        FAELLT_AUS_TF string,\n",
    "        BPUIC string,\n",
    "        HALTESTELLEN_NAME string,\n",
    "        ANKUNFTSZEIT string,\n",
    "        AN_PROGNOSE string,\n",
    "        AN_PROGNOSE_STATUS string,\n",
    "        ABFAHRTSZEIT string,\n",
    "        AB_PROGNOSE string,\n",
    "        AB_PROGNOSE_STATUS string,\n",
    "        DURCHFAHRT_TF string\n",
    "    )\n",
    "    row format delimited fields terminated by ';'\n",
    "    stored as ORC\n",
    "    location '/data/sbb/orc/istdaten'\n",
    "    tblproperties (\"skip.header.line.count\"=\"1\")\n",
    "\"\"\".format(username)\n",
    "cur.execute(query)\n",
    "\n",
    "# Show 3 rows of created sbb table\n",
    "query = \"\"\"\n",
    "    select * \n",
    "    from {0}.sbb_orc\n",
    "    limit 3\n",
    "\"\"\".format(username)\n",
    "pd.read_sql(query, conn)"
   ]
  },
  {
   "cell_type": "code",
   "execution_count": null,
   "metadata": {},
   "outputs": [],
   "source": [
    "# Extract number of stops of each transportation type, for december 2018\n",
    "query = \"\"\"\n",
    "    select lower(PRODUKT_ID) as ttype, \n",
    "        count(*) as stops, \n",
    "        unix_timestamp(BETRIEBSTAG, 'dd.MM.yyyy') as dates\n",
    "    from {0}.sbb_orc\n",
    "    where \n",
    "        YEAR(TO_DATE(FROM_UNIXTIME(unix_timestamp(BETRIEBSTAG, 'dd.MM.yyyy')))) like '2018' and\n",
    "        MONTH(TO_DATE(FROM_UNIXTIME(unix_timestamp(BETRIEBSTAG, 'dd.MM.yyyy')))) like '12'\n",
    "    group by lower(PRODUKT_ID), unix_timestamp(BETRIEBSTAG, 'dd.MM.yyyy')\n",
    "    order by dates asc\n",
    "\"\"\".format(username)\n",
    "df_tstops18 = pd.read_sql(query, conn, parse_dates='dates')"
   ]
  },
  {
   "cell_type": "code",
   "execution_count": null,
   "metadata": {},
   "outputs": [],
   "source": [
    "# Extract number of stops of each transportation type, for december 2019\n",
    "query = \"\"\"\n",
    "    select lower(PRODUKT_ID) as ttype, \n",
    "        count(*) as stops, \n",
    "        unix_timestamp(BETRIEBSTAG, 'dd.MM.yyyy') as dates\n",
    "    from {0}.sbb_orc\n",
    "    where \n",
    "        YEAR(TO_DATE(FROM_UNIXTIME(unix_timestamp(BETRIEBSTAG, 'dd.MM.yyyy')))) like '2019' and\n",
    "        MONTH(TO_DATE(FROM_UNIXTIME(unix_timestamp(BETRIEBSTAG, 'dd.MM.yyyy')))) like '12'\n",
    "    group by lower(PRODUKT_ID), unix_timestamp(BETRIEBSTAG, 'dd.MM.yyyy')\n",
    "    order by dates asc\n",
    "\"\"\".format(username)\n",
    "df_tstops19 = pd.read_sql(query, conn, parse_dates='dates')"
   ]
  },
  {
   "cell_type": "code",
   "execution_count": 61,
   "metadata": {},
   "outputs": [],
   "source": [
    "# Merge the two december dataframes into one\n",
    "df_tstops = pd.concat([df_tstops18, df_tstops19])\n",
    "df_tstops.replace([''], 'unknown', inplace=True)\n",
    "df_tstops.dates = df_tstops.dates.astype(str)"
   ]
  },
  {
   "cell_type": "code",
   "execution_count": 77,
   "metadata": {},
   "outputs": [
    {
     "data": {
      "text/plain": [
       "<function matplotlib.pyplot.show(*args, **kw)>"
      ]
     },
     "execution_count": 77,
     "metadata": {},
     "output_type": "execute_result"
    },
    {
     "data": {
      "image/png": "[encoded data removed]",
      "text/plain": [
       "<Figure size 936x504 with 1 Axes>"
      ]
     },
     "metadata": {
      "needs_background": "light"
     },
     "output_type": "display_data"
    }
   ],
   "source": [
    "# Create pivot table and plot the results in a stacked bar chart\n",
    "pivot_df = df_tstops.pivot(index='dates', columns='ttype', values='stops')\n",
    "pivot_df.plot.bar(stacked=True,\n",
    "    color=['#95A5A6', '#F655DB', '#2ECC71', '#F39C12', '#3498DB', '#E74C3C', '#9B59B6'], \n",
    "    figsize=(13,7), rot=90)\n",
    "plt.title('Stacked number of stops for each type of transportation (December 2018 & 2019)')\n",
    "plt.ylabel('Number of stops')\n",
    "plt.xlabel('Date')\n",
    "plt.xticks(fontsize=8)\n",
    "plt.show"
   ]
  },
  {
   "cell_type": "markdown",
   "metadata": {},
   "source": [
    "**Observation:** *The plot shows that the sbb traffic increased from 2018 to 2019.\n",
    "The trafic types: bus, tram and zug; are the most common transportation types.\n",
    "It is possible to see a general pattern with holidays vs. weekdays where there is less transportation on holidays in comparison to weekdays.*"
   ]
  },
  {
   "cell_type": "markdown",
   "metadata": {},
   "source": [
    "### Question I.b - 10 Points\n",
    "\n",
    "Get the set of IC (`VERKEHRSMITTEL_TEXT`) trains you can take to go (without connections) from Genève to Lausanne on a typical week day (not Saturday, not Sunday, not a bank holiday). Display the train number (`LINIEN_ID`) as well as the schedule of the trains.\n",
    "\n",
    "__Note:__ do not hesitate to create intermediary tables. You can use the advanced search of SBB's website to check your answer, the schedule of IC from Genève to Lausanne has not changed."
   ]
  },
  {
   "cell_type": "code",
   "execution_count": 70,
   "metadata": {},
   "outputs": [],
   "source": [
    "# Drop table if exists\n",
    "query = \"\"\"\n",
    "    drop table if exists {0}.sbb_geneve\n",
    "\"\"\".format(username)\n",
    "cur.execute(query)\n",
    "\n",
    "# Create a table for IC trains in Geneva for a week day (e.g. 05/11/2019)\n",
    "query = \"\"\"\n",
    "    create table {0}.sbb_geneve\n",
    "    stored as orc\n",
    "    as \n",
    "        select *\n",
    "        from {0}.sbb_orc\n",
    "        where VERKEHRSMITTEL_TEXT like 'IC' \n",
    "        and HALTESTELLEN_NAME like 'Genève' \n",
    "        and BETRIEBSTAG like '05.11.2019'\n",
    "\"\"\".format(username)\n",
    "cur.execute(query)\n",
    "\n",
    "# Drop table if exists\n",
    "query = \"\"\"\n",
    "    drop table if exists {0}.sbb_Lausanne\n",
    "\"\"\".format(username)\n",
    "cur.execute(query)\n",
    "\n",
    "# Create a table for IC trains in Lausanne for a week day (e.g. 05/11/2019)\n",
    "query = \"\"\"\n",
    "    create table {0}.sbb_Lausanne\n",
    "    stored as orc\n",
    "    as \n",
    "        select *\n",
    "        from {0}.sbb_orc\n",
    "        where VERKEHRSMITTEL_TEXT like 'IC' \n",
    "        and HALTESTELLEN_NAME like 'Lausanne' \n",
    "        and BETRIEBSTAG like '05.11.2019'\n",
    "\"\"\".format(username)\n",
    "cur.execute(query)"
   ]
  },
  {
   "cell_type": "code",
   "execution_count": 71,
   "metadata": {},
   "outputs": [
    {
     "data": {
      "text/html": [
       "<div>\n",
       "<style scoped>\n",
       "    .dataframe tbody tr th:only-of-type {\n",
       "        vertical-align: middle;\n",
       "    }\n",
       "\n",
       "    .dataframe tbody tr th {\n",
       "        vertical-align: top;\n",
       "    }\n",
       "\n",
       "    .dataframe thead th {\n",
       "        text-align: right;\n",
       "    }\n",
       "</style>\n",
       "<table border=\"1\" class=\"dataframe\">\n",
       "  <thead>\n",
       "    <tr style=\"text-align: right;\">\n",
       "      <th></th>\n",
       "      <th>trains</th>\n",
       "      <th>id</th>\n",
       "      <th>departure_time_g</th>\n",
       "      <th>arrival_time_l</th>\n",
       "    </tr>\n",
       "  </thead>\n",
       "  <tbody>\n",
       "    <tr>\n",
       "      <th>0</th>\n",
       "      <td>IC</td>\n",
       "      <td>707</td>\n",
       "      <td>1572932580</td>\n",
       "      <td>1572934680</td>\n",
       "    </tr>\n",
       "    <tr>\n",
       "      <th>1</th>\n",
       "      <td>IC</td>\n",
       "      <td>709</td>\n",
       "      <td>1572936360</td>\n",
       "      <td>1572938460</td>\n",
       "    </tr>\n",
       "    <tr>\n",
       "      <th>2</th>\n",
       "      <td>IC</td>\n",
       "      <td>711</td>\n",
       "      <td>1572939780</td>\n",
       "      <td>1572942180</td>\n",
       "    </tr>\n",
       "  </tbody>\n",
       "</table>\n",
       "</div>"
      ],
      "text/plain": [
       "  trains   id  departure_time_g  arrival_time_l\n",
       "0     IC  707        1572932580      1572934680\n",
       "1     IC  709        1572936360      1572938460\n",
       "2     IC  711        1572939780      1572942180"
      ]
     },
     "execution_count": 71,
     "metadata": {},
     "output_type": "execute_result"
    }
   ],
   "source": [
    "# Select relevant parameters from Geneva table and do an outer join with the train ID's\n",
    "# Filter for trains from Geneva to Lausanne by the prognosed departure/arrival times \n",
    "query = \"\"\"\n",
    "    select \n",
    "        upper(g.VERKEHRSMITTEL_TEXT) as trains, \n",
    "        g.LINIEN_ID as id, \n",
    "        unix_timestamp(g.AB_PROGNOSE, 'dd.MM.yyy HH:mm') as departure_time_g,\n",
    "        unix_timestamp(l.AN_PROGNOSE, 'dd.MM.yyy HH:mm') as arrival_time_l  \n",
    "    from {0}.sbb_geneve g FULL OUTER JOIN {0}.sbb_Lausanne l ON (g.LINIEN_ID = l.LINIEN_ID)\n",
    "    where \n",
    "        unix_timestamp(l.AN_PROGNOSE, 'dd.MM.yyy HH:mm') > 0 and \n",
    "        unix_timestamp(g.AB_PROGNOSE, 'dd.MM.yyy HH:mm') > 0 and \n",
    "        unix_timestamp(l.AN_PROGNOSE, 'dd.MM.yyy HH:mm') > unix_timestamp(g.AB_PROGNOSE, 'dd.MM.yyy HH:mm')\n",
    "\"\"\".format(username)\n",
    "df_g_l = pd.read_sql(query, conn)\n",
    "df_g_l.head(3)"
   ]
  },
  {
   "cell_type": "code",
   "execution_count": 72,
   "metadata": {},
   "outputs": [
    {
     "name": "stdout",
     "output_type": "stream",
     "text": [
      "IC-trains without connections from Geneva to Lausanne, on a typical weekday:\n"
     ]
    },
    {
     "data": {
      "text/html": [
       "<div>\n",
       "<style scoped>\n",
       "    .dataframe tbody tr th:only-of-type {\n",
       "        vertical-align: middle;\n",
       "    }\n",
       "\n",
       "    .dataframe tbody tr th {\n",
       "        vertical-align: top;\n",
       "    }\n",
       "\n",
       "    .dataframe thead th {\n",
       "        text-align: right;\n",
       "    }\n",
       "</style>\n",
       "<table border=\"1\" class=\"dataframe\">\n",
       "  <thead>\n",
       "    <tr style=\"text-align: right;\">\n",
       "      <th></th>\n",
       "      <th>trains</th>\n",
       "      <th>id</th>\n",
       "      <th>departure_time_g</th>\n",
       "      <th>arrival_time_l</th>\n",
       "    </tr>\n",
       "  </thead>\n",
       "  <tbody>\n",
       "    <tr>\n",
       "      <th>0</th>\n",
       "      <td>IC</td>\n",
       "      <td>707</td>\n",
       "      <td>2019-11-05 05:43:00</td>\n",
       "      <td>2019-11-05 06:18:00</td>\n",
       "    </tr>\n",
       "    <tr>\n",
       "      <th>1</th>\n",
       "      <td>IC</td>\n",
       "      <td>709</td>\n",
       "      <td>2019-11-05 06:46:00</td>\n",
       "      <td>2019-11-05 07:21:00</td>\n",
       "    </tr>\n",
       "    <tr>\n",
       "      <th>2</th>\n",
       "      <td>IC</td>\n",
       "      <td>711</td>\n",
       "      <td>2019-11-05 07:43:00</td>\n",
       "      <td>2019-11-05 08:23:00</td>\n",
       "    </tr>\n",
       "    <tr>\n",
       "      <th>3</th>\n",
       "      <td>IC</td>\n",
       "      <td>713</td>\n",
       "      <td>2019-11-05 08:44:00</td>\n",
       "      <td>2019-11-05 09:18:00</td>\n",
       "    </tr>\n",
       "    <tr>\n",
       "      <th>4</th>\n",
       "      <td>IC</td>\n",
       "      <td>715</td>\n",
       "      <td>2019-11-05 09:42:00</td>\n",
       "      <td>2019-11-05 10:16:00</td>\n",
       "    </tr>\n",
       "    <tr>\n",
       "      <th>5</th>\n",
       "      <td>IC</td>\n",
       "      <td>717</td>\n",
       "      <td>2019-11-05 10:42:00</td>\n",
       "      <td>2019-11-05 11:16:00</td>\n",
       "    </tr>\n",
       "    <tr>\n",
       "      <th>11</th>\n",
       "      <td>IC</td>\n",
       "      <td>719</td>\n",
       "      <td>2019-11-05 11:43:00</td>\n",
       "      <td>2019-11-05 12:17:00</td>\n",
       "    </tr>\n",
       "    <tr>\n",
       "      <th>6</th>\n",
       "      <td>IC</td>\n",
       "      <td>721</td>\n",
       "      <td>2019-11-05 12:42:00</td>\n",
       "      <td>2019-11-05 13:18:00</td>\n",
       "    </tr>\n",
       "    <tr>\n",
       "      <th>12</th>\n",
       "      <td>IC</td>\n",
       "      <td>723</td>\n",
       "      <td>2019-11-05 13:47:00</td>\n",
       "      <td>2019-11-05 14:22:00</td>\n",
       "    </tr>\n",
       "    <tr>\n",
       "      <th>13</th>\n",
       "      <td>IC</td>\n",
       "      <td>725</td>\n",
       "      <td>2019-11-05 14:42:00</td>\n",
       "      <td>2019-11-05 15:17:00</td>\n",
       "    </tr>\n",
       "    <tr>\n",
       "      <th>14</th>\n",
       "      <td>IC</td>\n",
       "      <td>727</td>\n",
       "      <td>2019-11-05 15:46:00</td>\n",
       "      <td>2019-11-05 16:19:00</td>\n",
       "    </tr>\n",
       "    <tr>\n",
       "      <th>7</th>\n",
       "      <td>IC</td>\n",
       "      <td>729</td>\n",
       "      <td>2019-11-05 16:42:00</td>\n",
       "      <td>2019-11-05 17:19:00</td>\n",
       "    </tr>\n",
       "    <tr>\n",
       "      <th>15</th>\n",
       "      <td>IC</td>\n",
       "      <td>731</td>\n",
       "      <td>2019-11-05 17:44:00</td>\n",
       "      <td>2019-11-05 18:23:00</td>\n",
       "    </tr>\n",
       "    <tr>\n",
       "      <th>8</th>\n",
       "      <td>IC</td>\n",
       "      <td>733</td>\n",
       "      <td>2019-11-05 18:45:00</td>\n",
       "      <td>2019-11-05 19:20:00</td>\n",
       "    </tr>\n",
       "    <tr>\n",
       "      <th>9</th>\n",
       "      <td>IC</td>\n",
       "      <td>735</td>\n",
       "      <td>2019-11-05 19:43:00</td>\n",
       "      <td>2019-11-05 20:19:00</td>\n",
       "    </tr>\n",
       "    <tr>\n",
       "      <th>10</th>\n",
       "      <td>IC</td>\n",
       "      <td>737</td>\n",
       "      <td>2019-11-05 20:43:00</td>\n",
       "      <td>2019-11-05 21:19:00</td>\n",
       "    </tr>\n",
       "  </tbody>\n",
       "</table>\n",
       "</div>"
      ],
      "text/plain": [
       "   trains   id     departure_time_g       arrival_time_l\n",
       "0      IC  707  2019-11-05 05:43:00  2019-11-05 06:18:00\n",
       "1      IC  709  2019-11-05 06:46:00  2019-11-05 07:21:00\n",
       "2      IC  711  2019-11-05 07:43:00  2019-11-05 08:23:00\n",
       "3      IC  713  2019-11-05 08:44:00  2019-11-05 09:18:00\n",
       "4      IC  715  2019-11-05 09:42:00  2019-11-05 10:16:00\n",
       "5      IC  717  2019-11-05 10:42:00  2019-11-05 11:16:00\n",
       "11     IC  719  2019-11-05 11:43:00  2019-11-05 12:17:00\n",
       "6      IC  721  2019-11-05 12:42:00  2019-11-05 13:18:00\n",
       "12     IC  723  2019-11-05 13:47:00  2019-11-05 14:22:00\n",
       "13     IC  725  2019-11-05 14:42:00  2019-11-05 15:17:00\n",
       "14     IC  727  2019-11-05 15:46:00  2019-11-05 16:19:00\n",
       "7      IC  729  2019-11-05 16:42:00  2019-11-05 17:19:00\n",
       "15     IC  731  2019-11-05 17:44:00  2019-11-05 18:23:00\n",
       "8      IC  733  2019-11-05 18:45:00  2019-11-05 19:20:00\n",
       "9      IC  735  2019-11-05 19:43:00  2019-11-05 20:19:00\n",
       "10     IC  737  2019-11-05 20:43:00  2019-11-05 21:19:00"
      ]
     },
     "execution_count": 72,
     "metadata": {},
     "output_type": "execute_result"
    }
   ],
   "source": [
    "# Use correct date and time format and sort dataframe\n",
    "df_g_l['departure_time_g'] = df_g_l['departure_time_g']\\\n",
    "    .map(lambda x: datetime.utcfromtimestamp(x).strftime('%Y-%m-%d %H:%M:%S'))\n",
    "df_g_l['arrival_time_l'] = df_g_l['arrival_time_l']\\\n",
    "    .map(lambda x: datetime.utcfromtimestamp(x).strftime('%Y-%m-%d %H:%M:%S'))\n",
    "df_g_l = df_g_l.sort_values(by='departure_time_g')\n",
    "\n",
    "print('IC-trains without connections from Geneva to Lausanne, on a typical weekday:')\n",
    "df_g_l"
   ]
  },
  {
   "cell_type": "markdown",
   "metadata": {},
   "source": [
    "### Question I.c - 10 Points\n",
    "\n",
    "In the exercise, we discussed a little bit about two interesting status, `AN_PROGNOSE_STATUS` and `AB_PROGNOSE_STATUS`. We will continue here to see how things evolved in the past two years.\n",
    "\n",
    "i) Please show us how the monthly distribution of `AN_PROGNOSE_STATUS` (arrival forcast status) for __IC 733__ train at the Lausanne station changes over time, i.e., how many of them are REAL, GESCHAETZT, etc. in every month. Use `pandas` to create a pivot table if necessary."
   ]
  },
  {
   "cell_type": "code",
   "execution_count": 147,
   "metadata": {},
   "outputs": [
    {
     "data": {
      "text/html": [
       "<div>\n",
       "<style scoped>\n",
       "    .dataframe tbody tr th:only-of-type {\n",
       "        vertical-align: middle;\n",
       "    }\n",
       "\n",
       "    .dataframe tbody tr th {\n",
       "        vertical-align: top;\n",
       "    }\n",
       "\n",
       "    .dataframe thead th {\n",
       "        text-align: right;\n",
       "    }\n",
       "</style>\n",
       "<table border=\"1\" class=\"dataframe\">\n",
       "  <thead>\n",
       "    <tr style=\"text-align: right;\">\n",
       "      <th></th>\n",
       "      <th>status</th>\n",
       "      <th>changes</th>\n",
       "      <th>month</th>\n",
       "      <th>year</th>\n",
       "    </tr>\n",
       "  </thead>\n",
       "  <tbody>\n",
       "    <tr>\n",
       "      <th>0</th>\n",
       "      <td>PROGNOSE</td>\n",
       "      <td>1</td>\n",
       "      <td>1</td>\n",
       "      <td>2018</td>\n",
       "    </tr>\n",
       "    <tr>\n",
       "      <th>1</th>\n",
       "      <td>GESCHAETZT</td>\n",
       "      <td>30</td>\n",
       "      <td>1</td>\n",
       "      <td>2018</td>\n",
       "    </tr>\n",
       "    <tr>\n",
       "      <th>2</th>\n",
       "      <td>PROGNOSE</td>\n",
       "      <td>1</td>\n",
       "      <td>2</td>\n",
       "      <td>2018</td>\n",
       "    </tr>\n",
       "  </tbody>\n",
       "</table>\n",
       "</div>"
      ],
      "text/plain": [
       "       status  changes  month  year\n",
       "0    PROGNOSE        1      1  2018\n",
       "1  GESCHAETZT       30      1  2018\n",
       "2    PROGNOSE        1      2  2018"
      ]
     },
     "execution_count": 147,
     "metadata": {},
     "output_type": "execute_result"
    }
   ],
   "source": [
    "# Count number of statuses each month for the train IC 733 in Lausanne\n",
    "query = \"\"\"\n",
    "    select \n",
    "        AN_PROGNOSE_STATUS as status, \n",
    "        count(AN_PROGNOSE_STATUS) as changes, \n",
    "        MONTH(TO_DATE(FROM_UNIXTIME(UNIX_TIMESTAMP(BETRIEBSTAG, 'dd.MM.yyyy')))) as month, \n",
    "        YEAR(TO_DATE(FROM_UNIXTIME(UNIX_TIMESTAMP(BETRIEBSTAG, 'dd.MM.yyyy')))) as year\n",
    "    from {0}.sbb_orc\n",
    "    where VERKEHRSMITTEL_TEXT like 'IC' and HALTESTELLEN_NAME like 'Lausanne' and LINIEN_ID like '733'\n",
    "    group by \n",
    "        AN_PROGNOSE_STATUS, \n",
    "        MONTH(TO_DATE(FROM_UNIXTIME(UNIX_TIMESTAMP(BETRIEBSTAG, 'dd.MM.yyyy')))), \n",
    "        YEAR(TO_DATE(FROM_UNIXTIME(UNIX_TIMESTAMP(BETRIEBSTAG, 'dd.MM.yyyy'))))\n",
    "    order by year, month asc\n",
    "\"\"\".format(username)\n",
    "df_status733 = pd.read_sql(query, conn)\n",
    "df_status733.head(3)"
   ]
  },
  {
   "cell_type": "code",
   "execution_count": 171,
   "metadata": {},
   "outputs": [],
   "source": [
    "from datetime import datetime\n",
    "\n",
    "# Define a dateindex, which represents a month and a year\n",
    "dateindex =  df_status733['year'].astype(str) + '/' + df_status733['month'].astype(str)\n",
    "df_status733['dateindex'] = dateindex.map(lambda x: datetime.strptime(x, '%Y/%m'))"
   ]
  },
  {
   "cell_type": "code",
   "execution_count": 182,
   "metadata": {},
   "outputs": [
    {
     "data": {
      "text/plain": [
       "<function matplotlib.pyplot.show(*args, **kw)>"
      ]
     },
     "execution_count": 182,
     "metadata": {},
     "output_type": "execute_result"
    },
    {
     "data": {
      "image/png": "[encoded data removed]",
      "text/plain": [
       "<Figure size 720x504 with 1 Axes>"
      ]
     },
     "metadata": {
      "needs_background": "light"
     },
     "output_type": "display_data"
    }
   ],
   "source": [
    "# Create pivot table and plot results using stacked bar chart\n",
    "pivot_df = df_status733.pivot(index='dateindex', columns='status', values='changes')\n",
    "ax = pivot_df.plot.bar(stacked=True, color=['#E74C3C', '#3498DB', '#2ECC71'], \n",
    "                       figsize=(10,7), xticks=range(0,len(pivot_df.index)))\n",
    "ax.set_xticklabels(np.array(dateindex.unique()))\n",
    "plt.title('Arrival forecast status for train IC733')\n",
    "plt.ylabel('Number of arrivals')\n",
    "plt.xlabel('Month/Year')\n",
    "plt.show"
   ]
  },
  {
   "cell_type": "markdown",
   "metadata": {},
   "source": [
    "ii) Show how the monthly distribution of `AN_PROGNOSE_STATUS` for all the trains that arrived at Lausanne station. Document any anything you observed."
   ]
  },
  {
   "cell_type": "code",
   "execution_count": 168,
   "metadata": {},
   "outputs": [
    {
     "data": {
      "text/html": [
       "<div>\n",
       "<style scoped>\n",
       "    .dataframe tbody tr th:only-of-type {\n",
       "        vertical-align: middle;\n",
       "    }\n",
       "\n",
       "    .dataframe tbody tr th {\n",
       "        vertical-align: top;\n",
       "    }\n",
       "\n",
       "    .dataframe thead th {\n",
       "        text-align: right;\n",
       "    }\n",
       "</style>\n",
       "<table border=\"1\" class=\"dataframe\">\n",
       "  <thead>\n",
       "    <tr style=\"text-align: right;\">\n",
       "      <th></th>\n",
       "      <th>status</th>\n",
       "      <th>changes</th>\n",
       "      <th>month</th>\n",
       "      <th>year</th>\n",
       "    </tr>\n",
       "  </thead>\n",
       "  <tbody>\n",
       "    <tr>\n",
       "      <th>0</th>\n",
       "      <td>GESCHAETZT</td>\n",
       "      <td>13208</td>\n",
       "      <td>1</td>\n",
       "      <td>2018</td>\n",
       "    </tr>\n",
       "    <tr>\n",
       "      <th>1</th>\n",
       "      <td>PROGNOSE</td>\n",
       "      <td>23</td>\n",
       "      <td>1</td>\n",
       "      <td>2018</td>\n",
       "    </tr>\n",
       "    <tr>\n",
       "      <th>2</th>\n",
       "      <td>GESCHAETZT</td>\n",
       "      <td>12017</td>\n",
       "      <td>2</td>\n",
       "      <td>2018</td>\n",
       "    </tr>\n",
       "    <tr>\n",
       "      <th>3</th>\n",
       "      <td>PROGNOSE</td>\n",
       "      <td>23</td>\n",
       "      <td>2</td>\n",
       "      <td>2018</td>\n",
       "    </tr>\n",
       "    <tr>\n",
       "      <th>4</th>\n",
       "      <td>PROGNOSE</td>\n",
       "      <td>71</td>\n",
       "      <td>3</td>\n",
       "      <td>2018</td>\n",
       "    </tr>\n",
       "  </tbody>\n",
       "</table>\n",
       "</div>"
      ],
      "text/plain": [
       "       status  changes  month  year\n",
       "0  GESCHAETZT    13208      1  2018\n",
       "1    PROGNOSE       23      1  2018\n",
       "2  GESCHAETZT    12017      2  2018\n",
       "3    PROGNOSE       23      2  2018\n",
       "4    PROGNOSE       71      3  2018"
      ]
     },
     "execution_count": 168,
     "metadata": {},
     "output_type": "execute_result"
    }
   ],
   "source": [
    "# Count number of statuses for each month for all the trains in Lausanne\n",
    "query = \"\"\"\n",
    "    select \n",
    "        AN_PROGNOSE_STATUS as status, \n",
    "        count(AN_PROGNOSE_STATUS) as changes, \n",
    "        MONTH(TO_DATE(FROM_UNIXTIME(UNIX_TIMESTAMP(BETRIEBSTAG, 'dd.MM.yyyy')))) as month, \n",
    "        YEAR(TO_DATE(FROM_UNIXTIME(UNIX_TIMESTAMP(BETRIEBSTAG, 'dd.MM.yyyy')))) as year\n",
    "    from {0}.sbb_orc\n",
    "    where HALTESTELLEN_NAME like 'Lausanne' and not(AN_PROGNOSE like '')\n",
    "    group by \n",
    "        AN_PROGNOSE_STATUS, \n",
    "        MONTH(TO_DATE(FROM_UNIXTIME(UNIX_TIMESTAMP(BETRIEBSTAG, 'dd.MM.yyyy')))), \n",
    "        YEAR(TO_DATE(FROM_UNIXTIME(UNIX_TIMESTAMP(BETRIEBSTAG, 'dd.MM.yyyy'))))\n",
    "    order by year, month asc\n",
    "\"\"\".format(username)\n",
    "df_lstatus=pd.read_sql(query, conn)\n",
    "df_lstatus.head(5)"
   ]
  },
  {
   "cell_type": "code",
   "execution_count": 183,
   "metadata": {},
   "outputs": [],
   "source": [
    "# Define a dateindex, which represents a month and a year\n",
    "dateindex =  df_lstatus['year'].astype(str) + '/' + df_lstatus['month'].astype(str)\n",
    "df_lstatus['dateindex'] = dateindex.map(lambda x: datetime.strptime(x, '%Y/%m'))"
   ]
  },
  {
   "cell_type": "code",
   "execution_count": 185,
   "metadata": {},
   "outputs": [
    {
     "data": {
      "text/plain": [
       "<function matplotlib.pyplot.show(*args, **kw)>"
      ]
     },
     "execution_count": 185,
     "metadata": {},
     "output_type": "execute_result"
    },
    {
     "data": {
      "image/png": "[encoded data removed]",
      "text/plain": [
       "<Figure size 720x504 with 1 Axes>"
      ]
     },
     "metadata": {
      "needs_background": "light"
     },
     "output_type": "display_data"
    }
   ],
   "source": [
    "# Create pivot table and plot results using stacked bar chart\n",
    "pivot_df = df_lstatus.pivot(index='dateindex', columns='status', values='changes')\n",
    "ax = pivot_df.plot.bar(stacked=True, color=['#E74C3C', '#3498DB', '#2ECC71'], \n",
    "                       figsize=(10,7), xticks=range(0,len(pivot_df.index)))\n",
    "ax.set_xticklabels(np.array(dateindex.unique()))\n",
    "plt.title('Arrival forecast status for trains at Lausanne station')\n",
    "plt.ylabel('Number of arrivals')\n",
    "plt.xlabel('Month/Year')\n",
    "plt.show"
   ]
  },
  {
   "cell_type": "markdown",
   "metadata": {},
   "source": [
    "**Observation:** *When we compare the monthly distributions of 2018 and 2019, 2019 has significantly more REAL-status values than 2018, which is good since it's a more effective way of calculating. July has a lot fewer forecasts than the rest of the months and this is because of missing data in July.*"
   ]
  },
  {
   "cell_type": "markdown",
   "metadata": {},
   "source": [
    "### Question I.d - 20 Points\n",
    "\n",
    "In this question, use __REAL__ for `AN_PROGNOSE_STATUS` and `AB_PROGNOSE_STATUS`.\n",
    "\n",
    "i) Display the distribution of delays for the __IC 733__ train at the Lausanne train station. Select the information from the database as a \"histogram\" with bin size of one minute and plot it in a proper way.\n",
    "\n",
    "__Note:__ when the train is ahead of schedule, count this as a delay of 0."
   ]
  },
  {
   "cell_type": "code",
   "execution_count": 9,
   "metadata": {},
   "outputs": [],
   "source": [
    "# Get departure times of IC 733 for the stop Lausanne\n",
    "# Calculate the delays and define bins such that we have 1min-bins for each delay\n",
    "query = \"\"\"\n",
    "    with Times as(\n",
    "        select upper(VERKEHRSMITTEL_TEXT) as stype, \n",
    "               unix_timestamp(ABFAHRTSZEIT, 'dd.MM.yyy HH:mm') as expected, \n",
    "               unix_timestamp(AB_PROGNOSE, 'dd.MM.yyy HH:mm:ss') as actual\n",
    "        from {0}.sbb_orc\n",
    "        where \n",
    "            VERKEHRSMITTEL_TEXT like 'IC' and \n",
    "            HALTESTELLEN_NAME like 'Lausanne' and \n",
    "            LINIEN_ID like '733' and \n",
    "            AB_PROGNOSE_STATUS like 'REAL'\n",
    "    )\n",
    "    select stype, actual - expected as delay, round((actual - expected)/60) as bins\n",
    "    from Times\n",
    "    where actual > expected\n",
    "    order by bins asc\n",
    "    limit 500\n",
    "\"\"\".format(username)\n",
    "df_delays733 = pd.read_sql(query, conn)"
   ]
  },
  {
   "cell_type": "code",
   "execution_count": 40,
   "metadata": {},
   "outputs": [
    {
     "data": {
      "text/plain": [
       "<function matplotlib.pyplot.show(*args, **kw)>"
      ]
     },
     "execution_count": 40,
     "metadata": {},
     "output_type": "execute_result"
    },
    {
     "data": {
      "image/png": "[encoded data removed]",
      "text/plain": [
       "<Figure size 432x288 with 1 Axes>"
      ]
     },
     "metadata": {
      "needs_background": "light"
     },
     "output_type": "display_data"
    }
   ],
   "source": [
    "# Show number of delays for the different delay times\n",
    "population = df_delays733['bins'].tolist()\n",
    "intpop = [int(x) for x in population]\n",
    "binn = np.arange(0,max(intpop) + 5,1) \n",
    "plt.hist(intpop, binn, histtype = 'bar', rwidth = 0.8)\n",
    "plt.title('Number of delays and delay time for IC 733 at Lausanne station')\n",
    "plt.ylabel('Number of delays')\n",
    "plt.xlabel('Delay time (min)')\n",
    "plt.show"
   ]
  },
  {
   "cell_type": "markdown",
   "metadata": {},
   "source": [
    "ii) Compute the 50th and 75th percentiles of delays for IC 702, 704, ..., 728, 730 (15 trains total) at Genève main station. Which trains are the most disrupted? Can you find the tendency and interpret?"
   ]
  },
  {
   "cell_type": "code",
   "execution_count": 14,
   "metadata": {},
   "outputs": [
    {
     "data": {
      "text/html": [
       "<div>\n",
       "<style scoped>\n",
       "    .dataframe tbody tr th:only-of-type {\n",
       "        vertical-align: middle;\n",
       "    }\n",
       "\n",
       "    .dataframe tbody tr th {\n",
       "        vertical-align: top;\n",
       "    }\n",
       "\n",
       "    .dataframe thead th {\n",
       "        text-align: right;\n",
       "    }\n",
       "</style>\n",
       "<table border=\"1\" class=\"dataframe\">\n",
       "  <thead>\n",
       "    <tr style=\"text-align: right;\">\n",
       "      <th></th>\n",
       "      <th>id</th>\n",
       "      <th>delay</th>\n",
       "    </tr>\n",
       "  </thead>\n",
       "  <tbody>\n",
       "    <tr>\n",
       "      <th>0</th>\n",
       "      <td>730</td>\n",
       "      <td>2</td>\n",
       "    </tr>\n",
       "    <tr>\n",
       "      <th>1</th>\n",
       "      <td>716</td>\n",
       "      <td>12</td>\n",
       "    </tr>\n",
       "    <tr>\n",
       "      <th>2</th>\n",
       "      <td>708</td>\n",
       "      <td>12</td>\n",
       "    </tr>\n",
       "  </tbody>\n",
       "</table>\n",
       "</div>"
      ],
      "text/plain": [
       "    id  delay\n",
       "0  730      2\n",
       "1  716     12\n",
       "2  708     12"
      ]
     },
     "execution_count": 14,
     "metadata": {},
     "output_type": "execute_result"
    }
   ],
   "source": [
    "# Get departure times for the train tuple IC 702,...,730 at Geneva station\n",
    "query = \"\"\"\n",
    "    with Times2 as(\n",
    "        select upper(VERKEHRSMITTEL_TEXT) as stype,\n",
    "               LINIEN_ID as id,\n",
    "               unix_timestamp(ABFAHRTSZEIT, 'dd.MM.yyy HH:mm') as expected, \n",
    "               unix_timestamp(AB_PROGNOSE, 'dd.MM.yyy HH:mm:ss') as actual\n",
    "        from {0}.sbb_orc\n",
    "        where \n",
    "            VERKEHRSMITTEL_TEXT like 'IC' and \n",
    "            HALTESTELLEN_NAME like 'Genève' and \n",
    "            AB_PROGNOSE_STATUS like 'REAL' and \n",
    "            cast(LINIEN_ID as int) >= 702 and \n",
    "            cast(LINIEN_ID as int) <= 730 and \n",
    "            (cast(LINIEN_ID as int)% 2) == 0\n",
    "    )\n",
    "    select id, actual - expected as delay\n",
    "    from Times2\n",
    "    where actual > expected\n",
    "    order by delay asc\n",
    "    limit 500\n",
    "\"\"\".format(username)\n",
    "df_delays700s = pd.read_sql(query, conn)\n",
    "df_delays700s.head(3)"
   ]
  },
  {
   "cell_type": "code",
   "execution_count": 41,
   "metadata": {},
   "outputs": [
    {
     "name": "stdout",
     "output_type": "stream",
     "text": [
      "50th percentile of delays (in seconds):\n"
     ]
    },
    {
     "data": {
      "text/plain": [
       "39.0"
      ]
     },
     "execution_count": 41,
     "metadata": {},
     "output_type": "execute_result"
    }
   ],
   "source": [
    "print('50th percentile of delays (in seconds):')\n",
    "df_delays700s['delay'].quantile(0.5)"
   ]
  },
  {
   "cell_type": "code",
   "execution_count": 43,
   "metadata": {},
   "outputs": [
    {
     "name": "stdout",
     "output_type": "stream",
     "text": [
      "75th percentile of delays (in seconds):\n"
     ]
    },
    {
     "data": {
      "text/plain": [
       "42.0"
      ]
     },
     "execution_count": 43,
     "metadata": {},
     "output_type": "execute_result"
    }
   ],
   "source": [
    "print('75th percentile of delays (in seconds):')\n",
    "df_delays700s['delay'].quantile(0.75)"
   ]
  },
  {
   "cell_type": "markdown",
   "metadata": {},
   "source": [
    "iii) Compute 25th, 50th and 75th percentiles of delays for all trains departing Lausanne gare within each hour and visualize your results. Can you find the tendency and interpret?"
   ]
  },
  {
   "cell_type": "markdown",
   "metadata": {},
   "source": [
    "*We want to compare what the different percentiles look like for different types of days, that is a weekday vs. a weekend day.*\n",
    "\n",
    "*We choose the date 20.12.2018 to look at delays on a weekday.*"
   ]
  },
  {
   "cell_type": "code",
   "execution_count": 31,
   "metadata": {},
   "outputs": [],
   "source": [
    "# Calculate departing delays at Lausanne every hour for 20.12.2018\n",
    "query = \"\"\"\n",
    "    with Times3 as(\n",
    "        select upper(VERKEHRSMITTEL_TEXT) as stype,\n",
    "               LINIEN_ID as id,\n",
    "               unix_timestamp(ABFAHRTSZEIT, 'dd.MM.yyy HH:mm') as expected, \n",
    "               unix_timestamp(AB_PROGNOSE, 'dd.MM.yyy HH:mm:ss') as actual, \n",
    "               HOUR((FROM_UNIXTIME(UNIX_TIMESTAMP(AB_PROGNOSE, 'dd.MM.yyy HH:mm:ss')))) as hour\n",
    "        from {0}.sbb_orc\n",
    "        where \n",
    "            HALTESTELLEN_NAME like 'Lausanne' and \n",
    "            AB_PROGNOSE_STATUS like 'REAL' and \n",
    "            BETRIEBSTAG like '20.12.2018'\n",
    "    )\n",
    "    select stype, id, hour, actual - expected as delay\n",
    "    from Times3\n",
    "    where actual > expected\n",
    "    limit 500\n",
    "\"\"\".format(username)\n",
    "df_ldelay = pd.read_sql(query, conn)"
   ]
  },
  {
   "cell_type": "code",
   "execution_count": 32,
   "metadata": {},
   "outputs": [
    {
     "data": {
      "text/plain": [
       "<function matplotlib.pyplot.show(*args, **kw)>"
      ]
     },
     "execution_count": 32,
     "metadata": {},
     "output_type": "execute_result"
    },
    {
     "data": {
      "image/png": "[encoded data removed]",
      "text/plain": [
       "<Figure size 432x288 with 1 Axes>"
      ]
     },
     "metadata": {
      "needs_background": "light"
     },
     "output_type": "display_data"
    }
   ],
   "source": [
    "# Calculate the percentiles and plot results\n",
    "perc_50 = df_ldelay.groupby(['hour'])['delay'].quantile(0.5).reset_index()\n",
    "perc_25 = df_ldelay.groupby(['hour'])['delay'].quantile(0.25).reset_index()\n",
    "perc_75 = df_ldelay.groupby(['hour'])['delay'].quantile(0.75).reset_index()\n",
    "\n",
    "plt.plot(perc_25['hour'], perc_25['delay'], label='25 percentile')\n",
    "plt.plot(perc_50['hour'], perc_50['delay'], label='50 percentile')\n",
    "plt.plot(perc_75['hour'], perc_75['delay'], label='75 percentile')\n",
    "plt.legend()\n",
    "plt.title('Percentiles of delays every hour at Lausanne station (20.12.2018)')\n",
    "plt.ylabel('Delay (s)')\n",
    "plt.xlabel('Hour of day')\n",
    "plt.show"
   ]
  },
  {
   "cell_type": "markdown",
   "metadata": {},
   "source": [
    "*We choose the date 04.11.2018 to look at delays on a weekend.*"
   ]
  },
  {
   "cell_type": "code",
   "execution_count": 28,
   "metadata": {},
   "outputs": [],
   "source": [
    "# Calculate departing delays at Lausanne every hour for 04.11.2018\n",
    "query = \"\"\"\n",
    "    with Times3 as(\n",
    "        select upper(VERKEHRSMITTEL_TEXT) as stype,\n",
    "               LINIEN_ID as id,\n",
    "               unix_timestamp(ABFAHRTSZEIT, 'dd.MM.yyy HH:mm') as expected, \n",
    "               unix_timestamp(AB_PROGNOSE, 'dd.MM.yyy HH:mm:ss') as actual, \n",
    "               HOUR((FROM_UNIXTIME(UNIX_TIMESTAMP(AB_PROGNOSE, 'dd.MM.yyy HH:mm:ss')))) as hour\n",
    "        from {0}.sbb_orc\n",
    "        where \n",
    "            HALTESTELLEN_NAME like 'Lausanne' and \n",
    "            AB_PROGNOSE_STATUS like 'REAL' and \n",
    "            BETRIEBSTAG like '04.11.2018'\n",
    "    )\n",
    "    select stype, id, hour, actual - expected as delay\n",
    "    from Times3\n",
    "    where actual > expected\n",
    "    limit 500\n",
    "\"\"\".format(username)\n",
    "df_ldelay = pd.read_sql(query, conn)"
   ]
  },
  {
   "cell_type": "code",
   "execution_count": 30,
   "metadata": {},
   "outputs": [
    {
     "data": {
      "text/plain": [
       "<function matplotlib.pyplot.show(*args, **kw)>"
      ]
     },
     "execution_count": 30,
     "metadata": {},
     "output_type": "execute_result"
    },
    {
     "data": {
      "image/png": "[encoded data removed]",
      "text/plain": [
       "<Figure size 432x288 with 1 Axes>"
      ]
     },
     "metadata": {
      "needs_background": "light"
     },
     "output_type": "display_data"
    }
   ],
   "source": [
    "# Calculate the percentiles and plot results\n",
    "perc_50 = df_ldelay.groupby(['hour'])['delay'].quantile(0.5).reset_index()\n",
    "perc_25 = df_ldelay.groupby(['hour'])['delay'].quantile(0.25).reset_index()\n",
    "perc_75 = df_ldelay.groupby(['hour'])['delay'].quantile(0.75).reset_index()\n",
    "\n",
    "plt.plot(perc_25['hour'], perc_25['delay'], label='25 percentile')\n",
    "plt.plot(perc_50['hour'], perc_50['delay'], label='50 percentile')\n",
    "plt.plot(perc_75['hour'], perc_75['delay'], label='75 percentile')\n",
    "plt.legend()\n",
    "plt.title('Percentiles of delays every hour at Lausanne station (04.11.2018)')\n",
    "plt.ylabel('Delay (s)')\n",
    "plt.xlabel('Hour of day')\n",
    "plt.show"
   ]
  },
  {
   "cell_type": "markdown",
   "metadata": {},
   "source": [
    "iv) Did you notice something \"strange\"? Can you try to find the reasons behind that? Feel free to check it out from different perspectives."
   ]
  },
  {
   "cell_type": "markdown",
   "metadata": {},
   "source": [
    "*During a normal work day, we see peaks in delays during rush hours, in the morning as well as in the evening. On a weekend, there is no clear pattern of the delays. However, we can see that there is more activity during the night hours on a weekend. Results that all seem to make sense.*"
   ]
  },
  {
   "cell_type": "markdown",
   "metadata": {},
   "source": [
    "### Question I.f - 15 Points\n",
    "\n",
    "If the departure time of one train is delayed, can it catch up with the schedule at a later station? Select __at least 2 trains from Genève (main station) to Lausanne gare__ as examples. Think about what kind of trains you want to select, direct or indirect (having stops in between), at rush hour or in midnight? Use HiveQL to select relevant data and show the results with a proper plot of arrival delay at Lausanne versus departure delay at Genève. Document and discuss your findings.\n",
    "\n",
    "__Note__: you can write some helper functions to generate the query for you."
   ]
  },
  {
   "cell_type": "markdown",
   "metadata": {},
   "source": [
    "*We start looking at how the departure and arrival times are connected, from Geneva to Lausanne on a weekday (04/11/2019). We choose to look at all IC-trains, direct and indirect.*"
   ]
  },
  {
   "cell_type": "code",
   "execution_count": null,
   "metadata": {},
   "outputs": [],
   "source": [
    "# Drop the table if it exists\n",
    "query = \"\"\"\n",
    "    drop table if exists {0}.sbb_geneve\n",
    "\"\"\".format(username)\n",
    "cur.execute(query)\n",
    "\n",
    "# Create a table for IC trains in Geneva for a week day (e.g.04/11/2019)\n",
    "query = \"\"\"\n",
    "    create table {0}.sbb_geneve\n",
    "    stored as orc\n",
    "    as \n",
    "        select *\n",
    "        from {0}.sbb_orc\n",
    "        where HALTESTELLEN_NAME like 'Genève' \n",
    "        and BETRIEBSTAG like '04.11.2019'\n",
    "\"\"\".format(username)\n",
    "cur.execute(query)\n",
    "\n",
    "# Drop the table if it exists\n",
    "query = \"\"\"\n",
    "    drop table if exists {0}.sbb_Lausanne\n",
    "\"\"\".format(username)\n",
    "cur.execute(query)\n",
    "\n",
    "# Create a table for IC trains in Lausanne for a week day (e.g.04/11/2019)\n",
    "query = \"\"\"\n",
    "    create table {0}.sbb_Lausanne\n",
    "    stored as orc\n",
    "    as \n",
    "        select *\n",
    "        from {0}.sbb_orc\n",
    "        where HALTESTELLEN_NAME like 'Lausanne' \n",
    "        and BETRIEBSTAG like '04.11.2019'\n",
    "\"\"\".format(username)\n",
    "cur.execute(query)"
   ]
  },
  {
   "cell_type": "code",
   "execution_count": 50,
   "metadata": {},
   "outputs": [
    {
     "data": {
      "text/plain": [
       "Text(0, 0.5, 'Arrival delay to Lausanne (s)')"
      ]
     },
     "execution_count": 50,
     "metadata": {},
     "output_type": "execute_result"
    },
    {
     "data": {
      "image/png": "[encoded data removed]",
      "text/plain": [
       "<Figure size 432x288 with 1 Axes>"
      ]
     },
     "metadata": {
      "needs_background": "light"
     },
     "output_type": "display_data"
    }
   ],
   "source": [
    "# Select relevant parameters and do an outer join with the train ID's\n",
    "# Filter for trains from Geneva to Lausanne by the prognosed departure/arrival times \n",
    "query = \"\"\"\n",
    "    with times4 as (\n",
    "    select \n",
    "        upper(g.VERKEHRSMITTEL_TEXT) as trains, \n",
    "        g.LINIEN_ID as id, \n",
    "        unix_timestamp(g.AB_PROGNOSE, 'dd.MM.yyy HH:mm:ss') as departure_time_g,\n",
    "        unix_timestamp(g.ABFAHRTSZEIT, 'dd.MM.yyy HH:mm') as expected_departure_g,\n",
    "        unix_timestamp(l.AN_PROGNOSE, 'dd.MM.yyy HH:mm:ss') as arrival_time_l, \n",
    "        unix_timestamp(l.ANKUNFTSZEIT, 'dd.MM.yyy HH:mm') as expected_arrival_l\n",
    "    from {0}.sbb_geneve g FULL OUTER JOIN {0}.sbb_Lausanne l ON (g.LINIEN_ID = l.LINIEN_ID)\n",
    "    where \n",
    "        unix_timestamp(l.AN_PROGNOSE, 'dd.MM.yyy HH:mm:ss') > 0 and \n",
    "        unix_timestamp(g.AB_PROGNOSE, 'dd.MM.yyy HH:mm:ss') > 0 and \n",
    "        unix_timestamp(l.AN_PROGNOSE, 'dd.MM.yyy HH:mm:ss') > unix_timestamp(g.AB_PROGNOSE, 'dd.MM.yyy HH:mm')\n",
    "    )\n",
    "    select trains, id, \n",
    "        departure_time_g - expected_departure_g as departure_delay, \n",
    "        arrival_time_l - expected_arrival_l as arrival_delay\n",
    "    from times4\n",
    "    where departure_time_g > expected_departure_g\n",
    "\"\"\".format(username)\n",
    "df_trains = pd.read_sql(query, conn)\n",
    "\n",
    "plt.scatter(df_trains['departure_delay'], df_trains['arrival_delay'])\n",
    "plt.title('Arrival vs departure delays on 04/11/2019')\n",
    "plt.xlabel('Departure delay from Geneva (s)')\n",
    "plt.ylabel('Arrival delay to Lausanne (s)')"
   ]
  },
  {
   "cell_type": "markdown",
   "metadata": {},
   "source": [
    "*We continue looking at how the departure and arrival times are connected, from Geneva to Lausanne on a weekday (04/11/2019) during rush hour (7am-10am). We choose to look at all IC-trains, direct and indirect.*"
   ]
  },
  {
   "cell_type": "code",
   "execution_count": 51,
   "metadata": {},
   "outputs": [
    {
     "data": {
      "text/plain": [
       "Text(0, 0.5, 'Arrival delay to Lausanne (s)')"
      ]
     },
     "execution_count": 51,
     "metadata": {},
     "output_type": "execute_result"
    },
    {
     "data": {
      "image/png": "[encoded data removed]",
      "text/plain": [
       "<Figure size 432x288 with 1 Axes>"
      ]
     },
     "metadata": {
      "needs_background": "light"
     },
     "output_type": "display_data"
    }
   ],
   "source": [
    "# Select relevant parameters from Geneva table and do an outer join with the train ID's\n",
    "# Filter for trains Geneva to Lausanne by the prognosed departure/arrival times and choose rush hour\n",
    "query = \"\"\"\n",
    "    with times4 as (\n",
    "    select \n",
    "        upper(g.VERKEHRSMITTEL_TEXT) as trains, \n",
    "        g.LINIEN_ID as id, \n",
    "        unix_timestamp(g.AB_PROGNOSE, 'dd.MM.yyy HH:mm:ss') as departure_time_g,\n",
    "        unix_timestamp(g.ABFAHRTSZEIT, 'dd.MM.yyy HH:mm') as expected_departure_g,\n",
    "        unix_timestamp(l.AN_PROGNOSE, 'dd.MM.yyy HH:mm:ss') as arrival_time_l, \n",
    "        unix_timestamp(l.ANKUNFTSZEIT, 'dd.MM.yyy HH:mm') as expected_arrival_l\n",
    "    from {0}.sbb_geneve g FULL OUTER JOIN {0}.sbb_Lausanne l ON (g.LINIEN_ID = l.LINIEN_ID)\n",
    "    where \n",
    "        unix_timestamp(l.AN_PROGNOSE, 'dd.MM.yyy HH:mm:ss') > 0 and \n",
    "        unix_timestamp(g.AB_PROGNOSE, 'dd.MM.yyy HH:mm:ss') > 0 and \n",
    "        unix_timestamp(l.AN_PROGNOSE, 'dd.MM.yyy HH:mm:ss') > unix_timestamp(g.AB_PROGNOSE, 'dd.MM.yyy HH:mm') and \n",
    "        HOUR((FROM_UNIXTIME(UNIX_TIMESTAMP(g.AB_PROGNOSE, 'dd.MM.yyy HH:mm:ss')))) >= 7 and\n",
    "        HOUR((FROM_UNIXTIME(UNIX_TIMESTAMP(g.AB_PROGNOSE, 'dd.MM.yyy HH:mm:ss')))) <= 10\n",
    "    )\n",
    "    select trains, id, \n",
    "        departure_time_g - expected_departure_g as departure_delay, \n",
    "        arrival_time_l - expected_arrival_l as arrival_delay\n",
    "    from times4\n",
    "    where departure_time_g > expected_departure_g\n",
    "\"\"\".format(username)\n",
    "rush_hour = pd.read_sql(query, conn)\n",
    "\n",
    "plt.scatter(rush_hour['departure_delay'], rush_hour['arrival_delay'])\n",
    "plt.title('Arrival vs departure delays during rush hours (04.11.2019)')\n",
    "plt.xlabel('Departure delay from Geneva (s)')\n",
    "plt.ylabel('Arrival delay to Lausanne (s)')"
   ]
  },
  {
   "cell_type": "markdown",
   "metadata": {},
   "source": [
    "*We end by looking at how the departure and arrival times are connected, from Geneva to Lausanne on a weekday (04/11/2019) during non-rush hour (8pm-11pm). We choose to look at all types of trains, direct and indirect.*"
   ]
  },
  {
   "cell_type": "code",
   "execution_count": 52,
   "metadata": {},
   "outputs": [
    {
     "data": {
      "text/plain": [
       "Text(0, 0.5, 'Arrival delay to Lausanne (s)')"
      ]
     },
     "execution_count": 52,
     "metadata": {},
     "output_type": "execute_result"
    },
    {
     "data": {
      "image/png": "[encoded data removed]",
      "text/plain": [
       "<Figure size 432x288 with 1 Axes>"
      ]
     },
     "metadata": {
      "needs_background": "light"
     },
     "output_type": "display_data"
    }
   ],
   "source": [
    "# Select relevant parameters from Geneva table and do an outer join with the train ID's\n",
    "# Filter for trains Geneva to Lausanne by the prognosed departure/arrival times and choose non-rush hour\n",
    "query = \"\"\"\n",
    "    with times4 as (\n",
    "    select \n",
    "        upper(g.VERKEHRSMITTEL_TEXT) as trains, \n",
    "        g.LINIEN_ID as id, \n",
    "        unix_timestamp(g.AB_PROGNOSE, 'dd.MM.yyy HH:mm:ss') as departure_time_g,\n",
    "        unix_timestamp(g.ABFAHRTSZEIT, 'dd.MM.yyy HH:mm') as expected_departure_g,\n",
    "        unix_timestamp(l.AN_PROGNOSE, 'dd.MM.yyy HH:mm:ss') as arrival_time_l, \n",
    "        unix_timestamp(l.ANKUNFTSZEIT, 'dd.MM.yyy HH:mm') as expected_arrival_l\n",
    "    from {0}.sbb_geneve g FULL OUTER JOIN {0}.sbb_Lausanne l ON (g.LINIEN_ID = l.LINIEN_ID)\n",
    "    where \n",
    "        unix_timestamp(l.AN_PROGNOSE, 'dd.MM.yyy HH:mm:ss') > 0 and \n",
    "        unix_timestamp(g.AB_PROGNOSE, 'dd.MM.yyy HH:mm:ss') > 0 and \n",
    "        unix_timestamp(l.AN_PROGNOSE, 'dd.MM.yyy HH:mm:ss') > unix_timestamp(g.AB_PROGNOSE, 'dd.MM.yyy HH:mm') and \n",
    "        HOUR((FROM_UNIXTIME(UNIX_TIMESTAMP(g.AB_PROGNOSE, 'dd.MM.yyy HH:mm:ss')))) >= 20 and\n",
    "        HOUR((FROM_UNIXTIME(UNIX_TIMESTAMP(g.AB_PROGNOSE, 'dd.MM.yyy HH:mm:ss')))) <= 23\n",
    "    )\n",
    "    select trains, id, \n",
    "        departure_time_g - expected_departure_g as departure_delay, \n",
    "        arrival_time_l - expected_arrival_l as arrival_delay\n",
    "    from times4\n",
    "    where departure_time_g > expected_departure_g\n",
    "\"\"\".format(username)\n",
    "midnight = pd.read_sql(query, conn)\n",
    "\n",
    "plt.scatter(midnight['departure_delay'], midnight['arrival_delay'])\n",
    "plt.title('Arrival vs departure delays during non-rush hour (04.11.2019)')\n",
    "plt.xlabel('Departure delay from Geneva (s)')\n",
    "plt.ylabel('Arrival delay to Lausanne (s)')"
   ]
  },
  {
   "cell_type": "markdown",
   "metadata": {},
   "source": [
    "**Observations:**\n",
    "1. *There exists a linear relationship between the departure delay and the arrival delay. The higher the departure delay, the higher the arrival delay, and vice versa.*\n",
    "2. *The hour of the day had no clear effect on the delay.*\n",
    "3. *The trains that were delayed for less than ~90 seconds are more likely to catch up at a later stop.*\n",
    "4. *Negative values in the last plot means that the train arrived before the scheduled time.*"
   ]
  },
  {
   "cell_type": "markdown",
   "metadata": {},
   "source": [
    "*We tried to plot the delays of only two trains, for all days, but no pattern could be observed. Therefore, we chose to select all trains and plot the results for just one day (as seen above).*"
   ]
  },
  {
   "cell_type": "code",
   "execution_count": null,
   "metadata": {},
   "outputs": [],
   "source": []
  }
 ],
 "metadata": {
  "kernelspec": {
   "display_name": "Python 3",
   "language": "python",
   "name": "python3"
  },
  "language_info": {
   "codemirror_mode": {
    "name": "ipython",
    "version": 3
   },
   "file_extension": ".py",
   "mimetype": "text/x-python",
   "name": "python",
   "nbconvert_exporter": "python",
   "pygments_lexer": "ipython3",
   "version": "3.7.3"
  }
 },
 "nbformat": 4,
 "nbformat_minor": 4
}
