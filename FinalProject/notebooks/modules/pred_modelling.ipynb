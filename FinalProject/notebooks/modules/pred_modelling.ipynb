{
 "cells": [
  {
   "cell_type": "markdown",
   "metadata": {},
   "source": [
    "# Predictive modelling"
   ]
  },
  {
   "cell_type": "markdown",
   "metadata": {},
   "source": [
    "*Simple Probability Calculation at Nodes*\n",
    "\n",
    "We want to calculate the gaussian distribution of the delays, at each stop in an hourly time interval. That is, for each stop and each hour between 7-17 we have a mean and standard deviation value for the delay. These distribution will then be used to define the certainty of sucess of a trip."
   ]
  },
  {
   "cell_type": "code",
   "execution_count": 1,
   "metadata": {},
   "outputs": [
    {
     "data": {
      "text/html": [
       "Current session configs: <tt>{'conf': {'spark.app.name': 'MVAY_final'}, 'kind': 'pyspark'}</tt><br>"
      ],
      "text/plain": [
       "<IPython.core.display.HTML object>"
      ]
     },
     "metadata": {},
     "output_type": "display_data"
    },
    {
     "data": {
      "text/html": [
       "<table>\n",
       "<tr><th>ID</th><th>YARN Application ID</th><th>Kind</th><th>State</th><th>Spark UI</th><th>Driver log</th><th>Current session?</th></tr><tr><td>8639</td><td>application_1589299642358_3164</td><td>pyspark</td><td>busy</td><td><a target=\"_blank\" href=\"http://iccluster044.iccluster.epfl.ch:8088/proxy/application_1589299642358_3164/\">Link</a></td><td><a target=\"_blank\" href=\"http://iccluster067.iccluster.epfl.ch:8042/node/containerlogs/container_e06_1589299642358_3164_01_000001/ebouille\">Link</a></td><td></td></tr><tr><td>8642</td><td>application_1589299642358_3167</td><td>pyspark</td><td>idle</td><td><a target=\"_blank\" href=\"http://iccluster044.iccluster.epfl.ch:8088/proxy/application_1589299642358_3167/\">Link</a></td><td><a target=\"_blank\" href=\"http://iccluster068.iccluster.epfl.ch:8042/node/containerlogs/container_e06_1589299642358_3167_01_000001/ebouille\">Link</a></td><td></td></tr><tr><td>8693</td><td>application_1589299642358_3218</td><td>pyspark</td><td>idle</td><td><a target=\"_blank\" href=\"http://iccluster044.iccluster.epfl.ch:8088/proxy/application_1589299642358_3218/\">Link</a></td><td><a target=\"_blank\" href=\"http://iccluster072.iccluster.epfl.ch:8042/node/containerlogs/container_e06_1589299642358_3218_01_000001/ebouille\">Link</a></td><td></td></tr><tr><td>8700</td><td>application_1589299642358_3225</td><td>pyspark</td><td>idle</td><td><a target=\"_blank\" href=\"http://iccluster044.iccluster.epfl.ch:8088/proxy/application_1589299642358_3225/\">Link</a></td><td><a target=\"_blank\" href=\"http://iccluster069.iccluster.epfl.ch:8042/node/containerlogs/container_e06_1589299642358_3225_01_000001/ebouille\">Link</a></td><td></td></tr><tr><td>8702</td><td>application_1589299642358_3227</td><td>pyspark</td><td>idle</td><td><a target=\"_blank\" href=\"http://iccluster044.iccluster.epfl.ch:8088/proxy/application_1589299642358_3227/\">Link</a></td><td><a target=\"_blank\" href=\"http://iccluster065.iccluster.epfl.ch:8042/node/containerlogs/container_e06_1589299642358_3227_01_000001/ebouille\">Link</a></td><td></td></tr><tr><td>8705</td><td>application_1589299642358_3230</td><td>pyspark</td><td>busy</td><td><a target=\"_blank\" href=\"http://iccluster044.iccluster.epfl.ch:8088/proxy/application_1589299642358_3230/\">Link</a></td><td><a target=\"_blank\" href=\"http://iccluster068.iccluster.epfl.ch:8042/node/containerlogs/container_e06_1589299642358_3230_01_000001/ebouille\">Link</a></td><td></td></tr><tr><td>8707</td><td>application_1589299642358_3232</td><td>pyspark</td><td>busy</td><td><a target=\"_blank\" href=\"http://iccluster044.iccluster.epfl.ch:8088/proxy/application_1589299642358_3232/\">Link</a></td><td><a target=\"_blank\" href=\"http://iccluster070.iccluster.epfl.ch:8042/node/containerlogs/container_e06_1589299642358_3232_01_000001/ebouille\">Link</a></td><td></td></tr><tr><td>8708</td><td>application_1589299642358_3233</td><td>pyspark</td><td>idle</td><td><a target=\"_blank\" href=\"http://iccluster044.iccluster.epfl.ch:8088/proxy/application_1589299642358_3233/\">Link</a></td><td><a target=\"_blank\" href=\"http://iccluster069.iccluster.epfl.ch:8042/node/containerlogs/container_e06_1589299642358_3233_01_000001/ebouille\">Link</a></td><td></td></tr><tr><td>8709</td><td>application_1589299642358_3234</td><td>pyspark</td><td>idle</td><td><a target=\"_blank\" href=\"http://iccluster044.iccluster.epfl.ch:8088/proxy/application_1589299642358_3234/\">Link</a></td><td><a target=\"_blank\" href=\"http://iccluster068.iccluster.epfl.ch:8042/node/containerlogs/container_e06_1589299642358_3234_01_000001/ebouille\">Link</a></td><td></td></tr><tr><td>8712</td><td>application_1589299642358_3237</td><td>pyspark</td><td>idle</td><td><a target=\"_blank\" href=\"http://iccluster044.iccluster.epfl.ch:8088/proxy/application_1589299642358_3237/\">Link</a></td><td><a target=\"_blank\" href=\"http://iccluster066.iccluster.epfl.ch:8042/node/containerlogs/container_e06_1589299642358_3237_01_000001/ebouille\">Link</a></td><td></td></tr><tr><td>8714</td><td>application_1589299642358_3239</td><td>pyspark</td><td>idle</td><td><a target=\"_blank\" href=\"http://iccluster044.iccluster.epfl.ch:8088/proxy/application_1589299642358_3239/\">Link</a></td><td><a target=\"_blank\" href=\"http://iccluster069.iccluster.epfl.ch:8042/node/containerlogs/container_e06_1589299642358_3239_01_000001/ebouille\">Link</a></td><td></td></tr><tr><td>8715</td><td>application_1589299642358_3240</td><td>pyspark</td><td>idle</td><td><a target=\"_blank\" href=\"http://iccluster044.iccluster.epfl.ch:8088/proxy/application_1589299642358_3240/\">Link</a></td><td><a target=\"_blank\" href=\"http://iccluster071.iccluster.epfl.ch:8042/node/containerlogs/container_e06_1589299642358_3240_01_000001/ebouille\">Link</a></td><td></td></tr><tr><td>8716</td><td>application_1589299642358_3241</td><td>pyspark</td><td>idle</td><td><a target=\"_blank\" href=\"http://iccluster044.iccluster.epfl.ch:8088/proxy/application_1589299642358_3241/\">Link</a></td><td><a target=\"_blank\" href=\"http://iccluster072.iccluster.epfl.ch:8042/node/containerlogs/container_e06_1589299642358_3241_01_000001/ebouille\">Link</a></td><td></td></tr><tr><td>8719</td><td>application_1589299642358_3244</td><td>pyspark</td><td>idle</td><td><a target=\"_blank\" href=\"http://iccluster044.iccluster.epfl.ch:8088/proxy/application_1589299642358_3244/\">Link</a></td><td><a target=\"_blank\" href=\"http://iccluster070.iccluster.epfl.ch:8042/node/containerlogs/container_e06_1589299642358_3244_01_000001/ebouille\">Link</a></td><td></td></tr><tr><td>8720</td><td>application_1589299642358_3245</td><td>pyspark</td><td>idle</td><td><a target=\"_blank\" href=\"http://iccluster044.iccluster.epfl.ch:8088/proxy/application_1589299642358_3245/\">Link</a></td><td><a target=\"_blank\" href=\"http://iccluster065.iccluster.epfl.ch:8042/node/containerlogs/container_e06_1589299642358_3245_01_000001/ebouille\">Link</a></td><td></td></tr><tr><td>8722</td><td>application_1589299642358_3247</td><td>pyspark</td><td>idle</td><td><a target=\"_blank\" href=\"http://iccluster044.iccluster.epfl.ch:8088/proxy/application_1589299642358_3247/\">Link</a></td><td><a target=\"_blank\" href=\"http://iccluster068.iccluster.epfl.ch:8042/node/containerlogs/container_e06_1589299642358_3247_01_000001/ebouille\">Link</a></td><td></td></tr><tr><td>8725</td><td>application_1589299642358_3250</td><td>pyspark</td><td>busy</td><td><a target=\"_blank\" href=\"http://iccluster044.iccluster.epfl.ch:8088/proxy/application_1589299642358_3250/\">Link</a></td><td><a target=\"_blank\" href=\"http://iccluster065.iccluster.epfl.ch:8042/node/containerlogs/container_e06_1589299642358_3250_01_000001/ebouille\">Link</a></td><td></td></tr><tr><td>8728</td><td>application_1589299642358_3253</td><td>pyspark</td><td>idle</td><td><a target=\"_blank\" href=\"http://iccluster044.iccluster.epfl.ch:8088/proxy/application_1589299642358_3253/\">Link</a></td><td><a target=\"_blank\" href=\"http://iccluster065.iccluster.epfl.ch:8042/node/containerlogs/container_e06_1589299642358_3253_01_000001/ebouille\">Link</a></td><td></td></tr><tr><td>8729</td><td>application_1589299642358_3254</td><td>pyspark</td><td>idle</td><td><a target=\"_blank\" href=\"http://iccluster044.iccluster.epfl.ch:8088/proxy/application_1589299642358_3254/\">Link</a></td><td><a target=\"_blank\" href=\"http://iccluster066.iccluster.epfl.ch:8042/node/containerlogs/container_e06_1589299642358_3254_01_000001/ebouille\">Link</a></td><td></td></tr><tr><td>8730</td><td>application_1589299642358_3255</td><td>pyspark</td><td>idle</td><td><a target=\"_blank\" href=\"http://iccluster044.iccluster.epfl.ch:8088/proxy/application_1589299642358_3255/\">Link</a></td><td><a target=\"_blank\" href=\"http://iccluster071.iccluster.epfl.ch:8042/node/containerlogs/container_e06_1589299642358_3255_01_000001/ebouille\">Link</a></td><td></td></tr><tr><td>8731</td><td>application_1589299642358_3256</td><td>pyspark</td><td>idle</td><td><a target=\"_blank\" href=\"http://iccluster044.iccluster.epfl.ch:8088/proxy/application_1589299642358_3256/\">Link</a></td><td><a target=\"_blank\" href=\"http://iccluster072.iccluster.epfl.ch:8042/node/containerlogs/container_e06_1589299642358_3256_01_000001/ebouille\">Link</a></td><td></td></tr><tr><td>8732</td><td>application_1589299642358_3257</td><td>pyspark</td><td>idle</td><td><a target=\"_blank\" href=\"http://iccluster044.iccluster.epfl.ch:8088/proxy/application_1589299642358_3257/\">Link</a></td><td><a target=\"_blank\" href=\"http://iccluster066.iccluster.epfl.ch:8042/node/containerlogs/container_e06_1589299642358_3257_01_000001/ebouille\">Link</a></td><td></td></tr><tr><td>8733</td><td>application_1589299642358_3258</td><td>pyspark</td><td>idle</td><td><a target=\"_blank\" href=\"http://iccluster044.iccluster.epfl.ch:8088/proxy/application_1589299642358_3258/\">Link</a></td><td><a target=\"_blank\" href=\"http://iccluster065.iccluster.epfl.ch:8042/node/containerlogs/container_e06_1589299642358_3258_01_000001/ebouille\">Link</a></td><td></td></tr><tr><td>8734</td><td>application_1589299642358_3259</td><td>pyspark</td><td>idle</td><td><a target=\"_blank\" href=\"http://iccluster044.iccluster.epfl.ch:8088/proxy/application_1589299642358_3259/\">Link</a></td><td><a target=\"_blank\" href=\"http://iccluster065.iccluster.epfl.ch:8042/node/containerlogs/container_e06_1589299642358_3259_01_000001/ebouille\">Link</a></td><td></td></tr><tr><td>8735</td><td>application_1589299642358_3260</td><td>pyspark</td><td>idle</td><td><a target=\"_blank\" href=\"http://iccluster044.iccluster.epfl.ch:8088/proxy/application_1589299642358_3260/\">Link</a></td><td><a target=\"_blank\" href=\"http://iccluster071.iccluster.epfl.ch:8042/node/containerlogs/container_e06_1589299642358_3260_01_000001/ebouille\">Link</a></td><td></td></tr><tr><td>8736</td><td>application_1589299642358_3261</td><td>pyspark</td><td>idle</td><td><a target=\"_blank\" href=\"http://iccluster044.iccluster.epfl.ch:8088/proxy/application_1589299642358_3261/\">Link</a></td><td><a target=\"_blank\" href=\"http://iccluster067.iccluster.epfl.ch:8042/node/containerlogs/container_e06_1589299642358_3261_01_000001/ebouille\">Link</a></td><td></td></tr><tr><td>8737</td><td>application_1589299642358_3262</td><td>pyspark</td><td>idle</td><td><a target=\"_blank\" href=\"http://iccluster044.iccluster.epfl.ch:8088/proxy/application_1589299642358_3262/\">Link</a></td><td><a target=\"_blank\" href=\"http://iccluster072.iccluster.epfl.ch:8042/node/containerlogs/container_e06_1589299642358_3262_01_000001/ebouille\">Link</a></td><td></td></tr><tr><td>8739</td><td>application_1589299642358_3264</td><td>pyspark</td><td>idle</td><td><a target=\"_blank\" href=\"http://iccluster044.iccluster.epfl.ch:8088/proxy/application_1589299642358_3264/\">Link</a></td><td><a target=\"_blank\" href=\"http://iccluster072.iccluster.epfl.ch:8042/node/containerlogs/container_e06_1589299642358_3264_01_000001/ebouille\">Link</a></td><td></td></tr><tr><td>8740</td><td>application_1589299642358_3265</td><td>pyspark</td><td>idle</td><td><a target=\"_blank\" href=\"http://iccluster044.iccluster.epfl.ch:8088/proxy/application_1589299642358_3265/\">Link</a></td><td><a target=\"_blank\" href=\"http://iccluster065.iccluster.epfl.ch:8042/node/containerlogs/container_e06_1589299642358_3265_01_000001/ebouille\">Link</a></td><td></td></tr><tr><td>8741</td><td>application_1589299642358_3266</td><td>pyspark</td><td>idle</td><td><a target=\"_blank\" href=\"http://iccluster044.iccluster.epfl.ch:8088/proxy/application_1589299642358_3266/\">Link</a></td><td><a target=\"_blank\" href=\"http://iccluster072.iccluster.epfl.ch:8042/node/containerlogs/container_e06_1589299642358_3266_01_000001/ebouille\">Link</a></td><td></td></tr><tr><td>8742</td><td>application_1589299642358_3267</td><td>pyspark</td><td>busy</td><td><a target=\"_blank\" href=\"http://iccluster044.iccluster.epfl.ch:8088/proxy/application_1589299642358_3267/\">Link</a></td><td><a target=\"_blank\" href=\"http://iccluster071.iccluster.epfl.ch:8042/node/containerlogs/container_e06_1589299642358_3267_01_000001/ebouille\">Link</a></td><td></td></tr><tr><td>8743</td><td>application_1589299642358_3268</td><td>pyspark</td><td>busy</td><td><a target=\"_blank\" href=\"http://iccluster044.iccluster.epfl.ch:8088/proxy/application_1589299642358_3268/\">Link</a></td><td><a target=\"_blank\" href=\"http://iccluster072.iccluster.epfl.ch:8042/node/containerlogs/container_e06_1589299642358_3268_01_000001/ebouille\">Link</a></td><td></td></tr></table>"
      ],
      "text/plain": [
       "<IPython.core.display.HTML object>"
      ]
     },
     "metadata": {},
     "output_type": "display_data"
    }
   ],
   "source": [
    "%%configure\n",
    "{\"conf\": {\n",
    "    \"spark.app.name\": \"MVAY_final\"\n",
    "}}"
   ]
  },
  {
   "cell_type": "code",
   "execution_count": 2,
   "metadata": {},
   "outputs": [
    {
     "name": "stdout",
     "output_type": "stream",
     "text": [
      "Starting Spark application\n"
     ]
    },
    {
     "data": {
      "text/html": [
       "<table>\n",
       "<tr><th>ID</th><th>YARN Application ID</th><th>Kind</th><th>State</th><th>Spark UI</th><th>Driver log</th><th>Current session?</th></tr><tr><td>8744</td><td>application_1589299642358_3269</td><td>pyspark</td><td>idle</td><td><a target=\"_blank\" href=\"http://iccluster044.iccluster.epfl.ch:8088/proxy/application_1589299642358_3269/\">Link</a></td><td><a target=\"_blank\" href=\"http://iccluster072.iccluster.epfl.ch:8042/node/containerlogs/container_e06_1589299642358_3269_01_000001/ebouille\">Link</a></td><td>✔</td></tr></table>"
      ],
      "text/plain": [
       "<IPython.core.display.HTML object>"
      ]
     },
     "metadata": {},
     "output_type": "display_data"
    },
    {
     "data": {
      "application/vnd.jupyter.widget-view+json": {
       "model_id": "",
       "version_major": 2,
       "version_minor": 0
      },
      "text/plain": [
       "FloatProgress(value=0.0, bar_style='info', description='Progress:', layout=Layout(height='25px', width='50%'),…"
      ]
     },
     "metadata": {},
     "output_type": "display_data"
    },
    {
     "name": "stdout",
     "output_type": "stream",
     "text": [
      "SparkSession available as 'spark'.\n"
     ]
    },
    {
     "data": {
      "application/vnd.jupyter.widget-view+json": {
       "model_id": "",
       "version_major": 2,
       "version_minor": 0
      },
      "text/plain": [
       "FloatProgress(value=0.0, bar_style='info', description='Progress:', layout=Layout(height='25px', width='50%'),…"
      ]
     },
     "metadata": {},
     "output_type": "display_data"
    },
    {
     "name": "stdout",
     "output_type": "stream",
     "text": [
      "<pyspark.sql.session.SparkSession object at 0x7f26b971a6d0>"
     ]
    }
   ],
   "source": [
    "spark"
   ]
  },
  {
   "cell_type": "code",
   "execution_count": 3,
   "metadata": {},
   "outputs": [
    {
     "data": {
      "application/vnd.jupyter.widget-view+json": {
       "model_id": "",
       "version_major": 2,
       "version_minor": 0
      },
      "text/plain": [
       "FloatProgress(value=0.0, bar_style='info', description='Progress:', layout=Layout(height='25px', width='50%'),…"
      ]
     },
     "metadata": {},
     "output_type": "display_data"
    }
   ],
   "source": [
    "# Import necessary packages\n",
    "import pyspark.sql.functions as f\n",
    "import math\n",
    "from pyspark.sql.types import FloatType, IntegerType"
   ]
  },
  {
   "cell_type": "markdown",
   "metadata": {},
   "source": [
    "## Retrieve the stop_times_filt data"
   ]
  },
  {
   "cell_type": "code",
   "execution_count": 4,
   "metadata": {},
   "outputs": [
    {
     "data": {
      "application/vnd.jupyter.widget-view+json": {
       "model_id": "",
       "version_major": 2,
       "version_minor": 0
      },
      "text/plain": [
       "FloatProgress(value=0.0, bar_style='info', description='Progress:', layout=Layout(height='25px', width='50%'),…"
      ]
     },
     "metadata": {},
     "output_type": "display_data"
    }
   ],
   "source": [
    "stop_times_filt = spark.read.orc(\"/user/fristedt/stop_times_filt.orc\")"
   ]
  },
  {
   "cell_type": "markdown",
   "metadata": {},
   "source": [
    "## Retrieve the relevant sbb data"
   ]
  },
  {
   "cell_type": "code",
   "execution_count": 5,
   "metadata": {},
   "outputs": [
    {
     "data": {
      "application/vnd.jupyter.widget-view+json": {
       "model_id": "",
       "version_major": 2,
       "version_minor": 0
      },
      "text/plain": [
       "FloatProgress(value=0.0, bar_style='info', description='Progress:', layout=Layout(height='25px', width='50%'),…"
      ]
     },
     "metadata": {},
     "output_type": "display_data"
    }
   ],
   "source": [
    "# Load the entire sbb data\n",
    "sbb_data = spark.read.orc(\"/data/sbb/orc/istdaten/\")"
   ]
  },
  {
   "cell_type": "code",
   "execution_count": 6,
   "metadata": {},
   "outputs": [
    {
     "data": {
      "application/vnd.jupyter.widget-view+json": {
       "model_id": "",
       "version_major": 2,
       "version_minor": 0
      },
      "text/plain": [
       "FloatProgress(value=0.0, bar_style='info', description='Progress:', layout=Layout(height='25px', width='50%'),…"
      ]
     },
     "metadata": {},
     "output_type": "display_data"
    },
    {
     "name": "stdout",
     "output_type": "stream",
     "text": [
      "+-------+------------+----------------+-----------------+--------------------+--------------+\n",
      "|stop_id|   stop_name|    arrival_time|arrival_time_prog|arr_time_prog_status|transport_type|\n",
      "+-------+------------+----------------+-----------------+--------------------+--------------+\n",
      "|8500090|Basel Bad Bf|                |                 |            PROGNOSE|           Zug|\n",
      "|8500090|Basel Bad Bf|                |                 |            PROGNOSE|           Zug|\n",
      "|8500090|Basel Bad Bf|03.09.2018 06:25|                 |           UNBEKANNT|           Zug|\n",
      "+-------+------------+----------------+-----------------+--------------------+--------------+\n",
      "only showing top 3 rows"
     ]
    }
   ],
   "source": [
    "# Keep only the relevant columns\n",
    "sbb_data = sbb_data.select(f.col('bpuic').alias('stop_id'), f.col('haltestellen_name').alias('stop_name'), \n",
    "                           f.col('ankunftszeit').alias('arrival_time'), f.col('an_prognose').alias('arrival_time_prog'), \n",
    "                           f.col('an_prognose_status').alias('arr_time_prog_status'), f.col('produkt_id').alias('transport_type'))\n",
    "sbb_data.show(3)"
   ]
  },
  {
   "cell_type": "markdown",
   "metadata": {},
   "source": [
    "We choose to only keep the rows where arr_time_prog_status is set to GESCHAETZT, PROGNOSE or REAL as these are the ones that we are interested in. We also remove the rows where there is missing values for both arrival_time as well as arrival_time_prog as we are unable to use these."
   ]
  },
  {
   "cell_type": "code",
   "execution_count": 7,
   "metadata": {},
   "outputs": [
    {
     "data": {
      "application/vnd.jupyter.widget-view+json": {
       "model_id": "",
       "version_major": 2,
       "version_minor": 0
      },
      "text/plain": [
       "FloatProgress(value=0.0, bar_style='info', description='Progress:', layout=Layout(height='25px', width='50%'),…"
      ]
     },
     "metadata": {},
     "output_type": "display_data"
    }
   ],
   "source": [
    "relevant_data = sbb_data.where(f.col('arr_time_prog_status').isin(['GESCHAETZT', 'PROGNOSE', 'REAL']))\n",
    "relevant_data = relevant_data.where((relevant_data.arrival_time != '') & (relevant_data.arrival_time_prog != ''))"
   ]
  },
  {
   "cell_type": "code",
   "execution_count": 8,
   "metadata": {},
   "outputs": [
    {
     "data": {
      "application/vnd.jupyter.widget-view+json": {
       "model_id": "",
       "version_major": 2,
       "version_minor": 0
      },
      "text/plain": [
       "FloatProgress(value=0.0, bar_style='info', description='Progress:', layout=Layout(height='25px', width='50%'),…"
      ]
     },
     "metadata": {},
     "output_type": "display_data"
    },
    {
     "name": "stdout",
     "output_type": "stream",
     "text": [
      "767270257"
     ]
    }
   ],
   "source": [
    "relevant_data.cache()\n",
    "relevant_data.count()"
   ]
  },
  {
   "cell_type": "markdown",
   "metadata": {},
   "source": [
    "### Join the dataframes\n",
    "\n",
    "The stops from the filtered stop_times dataframe is joined with the relevant_data dataframe, such that we only compute the mean and standard deviation for the stops that are actually going to be in our directed graph."
   ]
  },
  {
   "cell_type": "code",
   "execution_count": 9,
   "metadata": {},
   "outputs": [
    {
     "data": {
      "application/vnd.jupyter.widget-view+json": {
       "model_id": "",
       "version_major": 2,
       "version_minor": 0
      },
      "text/plain": [
       "FloatProgress(value=0.0, bar_style='info', description='Progress:', layout=Layout(height='25px', width='50%'),…"
      ]
     },
     "metadata": {},
     "output_type": "display_data"
    },
    {
     "name": "stdout",
     "output_type": "stream",
     "text": [
      "+-------+-----------------+----------------+-------------------+--------------------+--------------+\n",
      "|stop_id|        stop_name|    arrival_time|  arrival_time_prog|arr_time_prog_status|transport_type|\n",
      "+-------+-----------------+----------------+-------------------+--------------------+--------------+\n",
      "|8502274|          Zufikon|03.09.2018 05:06|03.09.2018 05:07:04|                REAL|           Zug|\n",
      "|8502275|         Heinrüti|03.09.2018 05:10|03.09.2018 05:10:27|                REAL|           Zug|\n",
      "|8502268|Zufikon Belvédère|03.09.2018 05:11|03.09.2018 05:11:28|                REAL|           Zug|\n",
      "+-------+-----------------+----------------+-------------------+--------------------+--------------+\n",
      "only showing top 3 rows"
     ]
    }
   ],
   "source": [
    "# Retrieve the stop ids from the stop_times_filt df and join with the relevant_data df\n",
    "ids = stop_times_filt.select('stop_id').distinct()\n",
    "joined_df = ids.join(relevant_data, 'stop_id', 'inner')\n",
    "joined_df.cache()\n",
    "\n",
    "joined_df.show(3)"
   ]
  },
  {
   "cell_type": "code",
   "execution_count": 10,
   "metadata": {},
   "outputs": [
    {
     "data": {
      "application/vnd.jupyter.widget-view+json": {
       "model_id": "",
       "version_major": 2,
       "version_minor": 0
      },
      "text/plain": [
       "FloatProgress(value=0.0, bar_style='info', description='Progress:', layout=Layout(height='25px', width='50%'),…"
      ]
     },
     "metadata": {},
     "output_type": "display_data"
    },
    {
     "name": "stdout",
     "output_type": "stream",
     "text": [
      "184071303"
     ]
    }
   ],
   "source": [
    "joined_df.count()"
   ]
  },
  {
   "cell_type": "markdown",
   "metadata": {},
   "source": [
    "Went from having 767270257 rows in the relevant_data dataframe to having 193984287 rows in the joined df. The join was successful."
   ]
  },
  {
   "cell_type": "markdown",
   "metadata": {},
   "source": [
    "### Get the delay distributions\n",
    "\n",
    "Now we calculate the delay for each stop at every given time. Then we extract the hour from the timestamps and filter such that we only have times between 7AM to 5PM. After this, we group by the hour and alongside compute the mean and standard deviation of the delay column."
   ]
  },
  {
   "cell_type": "markdown",
   "metadata": {},
   "source": [
    "#### Extract hour and filter for business hours\n",
    "\n",
    "Since the timestamps are stored as strings, we can easily extract the hour from each scheduled arrival timestamp. We only keep the times that are within our time interval 7-17."
   ]
  },
  {
   "cell_type": "code",
   "execution_count": 11,
   "metadata": {},
   "outputs": [
    {
     "data": {
      "application/vnd.jupyter.widget-view+json": {
       "model_id": "",
       "version_major": 2,
       "version_minor": 0
      },
      "text/plain": [
       "FloatProgress(value=0.0, bar_style='info', description='Progress:', layout=Layout(height='25px', width='50%'),…"
      ]
     },
     "metadata": {},
     "output_type": "display_data"
    },
    {
     "name": "stdout",
     "output_type": "stream",
     "text": [
      "+-------+-----------------+----------------+-------------------+--------------------+--------------+------------+\n",
      "|stop_id|        stop_name|    arrival_time|  arrival_time_prog|arr_time_prog_status|transport_type|arrival_hour|\n",
      "+-------+-----------------+----------------+-------------------+--------------------+--------------+------------+\n",
      "|8502274|          Zufikon|03.09.2018 07:06|03.09.2018 07:06:58|                REAL|           Zug|           7|\n",
      "|8502275|         Heinrüti|03.09.2018 07:10|03.09.2018 07:10:22|                REAL|           Zug|           7|\n",
      "|8502268|Zufikon Belvédère|03.09.2018 07:11|03.09.2018 07:12:00|                REAL|           Zug|           7|\n",
      "+-------+-----------------+----------------+-------------------+--------------------+--------------+------------+\n",
      "only showing top 3 rows"
     ]
    }
   ],
   "source": [
    "# Extract the hour from the scheduled arrival timestamp\n",
    "hour_df = joined_df.withColumn('arrival_hour', joined_df.arrival_time.substr(12, 2).cast(IntegerType()))\n",
    "\n",
    "# Filter such that we only keep times between 7-17\n",
    "hour_df = hour_df.where((f.col('arrival_hour') >= 7) & (f.col('arrival_hour') <= 17))\n",
    "\n",
    "hour_df.show(3)"
   ]
  },
  {
   "cell_type": "markdown",
   "metadata": {},
   "source": [
    "#### Calculate delays\n",
    "\n",
    "By converting the string formatted timestamp to unix_timestamp we can easily calculate the delay. Note that there may be negative delays, which means that the transportation arrived before it was scheduled. We filter out delays that are very large or very small (more than an hour), as they don't belong to normal and may distort our distributions a lot."
   ]
  },
  {
   "cell_type": "code",
   "execution_count": 12,
   "metadata": {},
   "outputs": [
    {
     "data": {
      "application/vnd.jupyter.widget-view+json": {
       "model_id": "",
       "version_major": 2,
       "version_minor": 0
      },
      "text/plain": [
       "FloatProgress(value=0.0, bar_style='info', description='Progress:', layout=Layout(height='25px', width='50%'),…"
      ]
     },
     "metadata": {},
     "output_type": "display_data"
    },
    {
     "name": "stdout",
     "output_type": "stream",
     "text": [
      "+-------+-----------------+----------------+-------------------+--------------------+--------------+------------+------------+\n",
      "|stop_id|        stop_name|    arrival_time|  arrival_time_prog|arr_time_prog_status|transport_type|arrival_hour|minute_delay|\n",
      "+-------+-----------------+----------------+-------------------+--------------------+--------------+------------+------------+\n",
      "|8502274|          Zufikon|03.09.2018 07:06|03.09.2018 07:06:58|                REAL|           Zug|           7|         0.0|\n",
      "|8502275|         Heinrüti|03.09.2018 07:10|03.09.2018 07:10:22|                REAL|           Zug|           7|         0.0|\n",
      "|8502268|Zufikon Belvédère|03.09.2018 07:11|03.09.2018 07:12:00|                REAL|           Zug|           7|         1.0|\n",
      "+-------+-----------------+----------------+-------------------+--------------------+--------------+------------+------------+\n",
      "only showing top 3 rows"
     ]
    }
   ],
   "source": [
    "# Convert timestamp in string format to unix_timestamp format\n",
    "temp_df = hour_df.withColumn('scheduled', f.unix_timestamp(hour_df.arrival_time, 'dd.MM.yyy HH:mm'))\n",
    "temp_df = temp_df.withColumn('actual', f.unix_timestamp(temp_df.arrival_time_prog, 'dd.MM.yyy HH:mm'))\n",
    "\n",
    "# Calculate the delays\n",
    "delay_df = temp_df.withColumn('minute_delay', (temp_df.actual - temp_df.scheduled)/60).drop(*['scheduled', 'actual'])\n",
    "\n",
    "# Remove unreasonable delays that may distort the distributions\n",
    "delay_df = delay_df.where((f.col('minute_delay') < 60) & (f.col('minute_delay') > -60))\n",
    "\n",
    "delay_df.show(3)"
   ]
  },
  {
   "cell_type": "code",
   "execution_count": 13,
   "metadata": {},
   "outputs": [
    {
     "data": {
      "application/vnd.jupyter.widget-view+json": {
       "model_id": "",
       "version_major": 2,
       "version_minor": 0
      },
      "text/plain": [
       "FloatProgress(value=0.0, bar_style='info', description='Progress:', layout=Layout(height='25px', width='50%'),…"
      ]
     },
     "metadata": {},
     "output_type": "display_data"
    }
   ],
   "source": [
    "# Set negative delay to zero\n",
    "correctNegativeDiff = f.udf(lambda diff: 0 if diff < 0 else diff, FloatType())\n",
    "delay_df = delay_df.withColumn('minute_delay', correctNegativeDiff(delay_df.minute_delay))"
   ]
  },
  {
   "cell_type": "markdown",
   "metadata": {},
   "source": [
    "#### Group and calculate mean and standard deviation\n",
    "\n",
    "We group according to four columns: stop_id, arrival_hour, transport_type, arr_time_prog_status. Grouping by stop_id gives us all of the unique stop ids, grouping by arrival_hour gives us the desired time intervals, grouping by transport_type is done to see if there is a difference between diferent transport types, and gruping by arr_time_prog_status is done to distinguish the different prognose types."
   ]
  },
  {
   "cell_type": "code",
   "execution_count": null,
   "metadata": {},
   "outputs": [
    {
     "data": {
      "application/vnd.jupyter.widget-view+json": {
       "model_id": "ab7efbdf081049c2a5b166d9d881c4f5",
       "version_major": 2,
       "version_minor": 0
      },
      "text/plain": [
       "FloatProgress(value=0.0, bar_style='info', description='Progress:', layout=Layout(height='25px', width='50%'),…"
      ]
     },
     "metadata": {},
     "output_type": "display_data"
    }
   ],
   "source": [
    "# Group the dataframe, calculate mean and std and sort\n",
    "distribution_df = delay_df.groupBy(['stop_id', 'arrival_hour', 'transport_type', 'arr_time_prog_status'])\\\n",
    "                          .agg(f.mean('minute_delay').alias('mean_minute_delay'), \n",
    "                               f.stddev('minute_delay').alias('std_minute_delay'), \n",
    "                               f.count('minute_delay').alias('values_count'))\\\n",
    "                          .sort(f.asc('stop_id'), f.asc('arrival_hour'))\n",
    "\n",
    "distribution_df.cache()\n",
    "distribution_df.show(5)"
   ]
  },
  {
   "cell_type": "markdown",
   "metadata": {},
   "source": [
    "**Note:** Some groupings don't have many samples, which could potentially lead to statistical insignificance. "
   ]
  },
  {
   "cell_type": "markdown",
   "metadata": {},
   "source": [
    "## Calculate probability to be on time\n",
    "\n",
    "- Delay obliges a gaussian probability distribution.\n",
    "- being on time means seaching for a probability of having a delay inferior than 0 (or max delay on stop if we have time)\n",
    "- this means we search for : P(X <= 0) : this is a gaussian integral\n",
    "- our given parameters : std / mean / number of values\n",
    "\n",
    "To find the probability that the variable has a value LESS than or equal\n",
    "let's say 113, you'd use CDF cumulative Density Function\n",
    "\n",
    "##### scipy.stats.norm.cdf(113,100,12)\n",
    "Output: 0.86066975255037792\n",
    " or 86.07% probability\n",
    "\n",
    "- Source :https://stackoverflow.com/questions/12412895/calculate-probability-in-normal-distribution-given-mean-std-in-python\n",
    "\n",
    "loc=mean | scale=std | number1=z where  P( X ≤ z )"
   ]
  },
  {
   "cell_type": "code",
   "execution_count": null,
   "metadata": {},
   "outputs": [],
   "source": [
    "import scipy.stats\n",
    "\n",
    "# Function to calculate probability\n",
    "def calc_probability(mean, std): \n",
    "    p = scipy.stats.norm.cdf(0, loc=mean, scale=std)\n",
    "    return float(p)\n",
    "\n",
    "calc_prob = f.udf(calc_probability, FloatType())\n",
    "\n",
    "# Add probability for each stop to be on time\n",
    "distribution_df = distribution_df.withColumn('probability', calc_prob(distribution_df.mean_minute_delay,\n",
    "                                                                      distribution_df.std_minute_delay))\n",
    "\n",
    "distribution_df.show(3)"
   ]
  },
  {
   "cell_type": "code",
   "execution_count": null,
   "metadata": {},
   "outputs": [],
   "source": [
    "distribution_df.write.format(\"parquet\").mode('overwrite').save(\"/user/fristedt/distribution_df.parquet\")"
   ]
  },
  {
   "cell_type": "markdown",
   "metadata": {},
   "source": [
    "=================================================================================================================="
   ]
  },
  {
   "cell_type": "markdown",
   "metadata": {},
   "source": [
    "## Another idea that we could look at"
   ]
  },
  {
   "cell_type": "markdown",
   "metadata": {},
   "source": [
    "## Calculate delay interval with confidence percentage as input\n",
    "- Determine the confidence interval by first finding the standard error:\n",
    "##### SE = s / √n\n",
    "- Where s is your sample standard deviation and n is your sample size. For example, if you took a sample of 1,000 men to figure the average weight of a man, and got a sample standard deviation of 30, this would give:\n",
    "SE = 30 / √1000 = 30 / 31.62 = 0.95\n",
    "- To find the confidence interval from this, look up the confidence level you want to calculate the interval for in a Z-score table and multiply this value by the Z score. For a 95 percent confidence level, the Z-score is 1.96. Using the example, this means:\n",
    "\n",
    "#### Mean ± Z × SE= 180 pounds ± 1.96 × 0.95 = 180 ± 1.86 pounds\n",
    "\n",
    "Here, ± 1.86 pounds is the 95 percent confidence interval.\n",
    "\n",
    "- If you have this bit of information instead, along with the sample size and the standard deviation, you can calculate the confidence level by using the following formula:\n",
    "\n",
    "Z = 0.5 × size of confidence interval × √n / s\n",
    "\n",
    "- The size of the confidence interval is just twice the ± value, so in the example above, we know 0.5 times this is 1.86. This gives:\n",
    "\n",
    "Z = 1.86 × √1000 / 30 = 1.96\n",
    "\n",
    "- This gives us a value for Z, which you can look up in a Z-score table to find the corresponding confidence level."
   ]
  },
  {
   "cell_type": "code",
   "execution_count": 88,
   "metadata": {},
   "outputs": [
    {
     "data": {
      "application/vnd.jupyter.widget-view+json": {
       "model_id": "",
       "version_major": 2,
       "version_minor": 0
      },
      "text/plain": [
       "FloatProgress(value=0.0, bar_style='info', description='Progress:', layout=Layout(height='25px', width='50%'),…"
      ]
     },
     "metadata": {},
     "output_type": "display_data"
    },
    {
     "name": "stdout",
     "output_type": "stream",
     "text": [
      "+-------+------------------+--------------+------------------+------------------+-------------+-----------+---------------+\n",
      "|stop_id|arrival_time_round|transport_type|            mean_d|             std_d|number_of_ech|probability|time_confidence|\n",
      "+-------+------------------+--------------+------------------+------------------+-------------+-----------+---------------+\n",
      "|8500926|                 7|           Bus|0.3058918482647296|1.7318332358023905|         1239| 0.42989993|     0.09643318|\n",
      "|8500926|                 8|           Bus|0.1532258064516129|1.7408557581260544|         1240| 0.46493137|    0.096896484|\n",
      "|8500926|                 9|           Bus|0.6592292089249493|1.4382381403735474|          986| 0.32334733|     0.08977355|\n",
      "+-------+------------------+--------------+------------------+------------------+-------------+-----------+---------------+\n",
      "only showing top 3 rows"
     ]
    }
   ],
   "source": [
    "#Confidence level definition\n",
    "\n",
    "u=0.95\n",
    "import numpy as np\n",
    "#Get interval out of confidence level / 95% corresponds to 1,96 z-score\n",
    "\n",
    "def calc_interval(number, std):\n",
    "    p=(1.96*std)/math.sqrt(number)\n",
    "    return float(p)\n",
    "\n",
    "# User defined function\n",
    "calc_i = f.udf(calc_interval, FloatType())\n",
    "\n",
    "\n",
    "diff_m=diff_m.withColumn('time_confidence', calc_i(diff_m.number_of_ech,diff_m.std_d) )\n",
    "\n",
    "#z-score - confidence\n",
    "#1,65 - 90%\n",
    "#2,58 - 99%\n",
    "diff_m.show(3)\n",
    "\n",
    "#todo : correcting the code to get float and compute z-score out of confidence percentage"
   ]
  },
  {
   "cell_type": "code",
   "execution_count": null,
   "metadata": {},
   "outputs": [],
   "source": []
  }
 ],
 "metadata": {
  "kernelspec": {
   "display_name": "PySpark",
   "language": "",
   "name": "pysparkkernel"
  },
  "language_info": {
   "codemirror_mode": {
    "name": "python",
    "version": 3
   },
   "mimetype": "text/x-python",
   "name": "pyspark",
   "pygments_lexer": "python3"
  }
 },
 "nbformat": 4,
 "nbformat_minor": 4
}
