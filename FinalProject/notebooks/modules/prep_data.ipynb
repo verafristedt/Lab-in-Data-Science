{
 "cells": [
  {
   "cell_type": "markdown",
   "metadata": {},
   "source": [
    "# Preparing the data\n",
    "\n",
    "This notebook prepares the data for the predictive modelling part and the network building part."
   ]
  },
  {
   "cell_type": "code",
   "execution_count": 1,
   "metadata": {},
   "outputs": [
    {
     "data": {
      "text/html": [
       "Current session configs: <tt>{'conf': {'spark.app.name': 'MVAY_final'}, 'kind': 'pyspark'}</tt><br>"
      ],
      "text/plain": [
       "<IPython.core.display.HTML object>"
      ]
     },
     "metadata": {},
     "output_type": "display_data"
    },
    {
     "data": {
      "text/html": [
       "<table>\n",
       "<tr><th>ID</th><th>YARN Application ID</th><th>Kind</th><th>State</th><th>Spark UI</th><th>Driver log</th><th>Current session?</th></tr><tr><td>8491</td><td>application_1589299642358_3026</td><td>pyspark</td><td>idle</td><td><a target=\"_blank\" href=\"http://iccluster044.iccluster.epfl.ch:8088/proxy/application_1589299642358_3026/\">Link</a></td><td><a target=\"_blank\" href=\"http://iccluster065.iccluster.epfl.ch:8042/node/containerlogs/container_e06_1589299642358_3026_01_000001/ebouille\">Link</a></td><td></td></tr><tr><td>8521</td><td>application_1589299642358_3056</td><td>pyspark</td><td>idle</td><td><a target=\"_blank\" href=\"http://iccluster044.iccluster.epfl.ch:8088/proxy/application_1589299642358_3056/\">Link</a></td><td><a target=\"_blank\" href=\"http://iccluster071.iccluster.epfl.ch:8042/node/containerlogs/container_e06_1589299642358_3056_01_000001/ebouille\">Link</a></td><td></td></tr><tr><td>8639</td><td>application_1589299642358_3164</td><td>pyspark</td><td>idle</td><td><a target=\"_blank\" href=\"http://iccluster044.iccluster.epfl.ch:8088/proxy/application_1589299642358_3164/\">Link</a></td><td><a target=\"_blank\" href=\"http://iccluster067.iccluster.epfl.ch:8042/node/containerlogs/container_e06_1589299642358_3164_01_000001/ebouille\">Link</a></td><td></td></tr><tr><td>8642</td><td>application_1589299642358_3167</td><td>pyspark</td><td>idle</td><td><a target=\"_blank\" href=\"http://iccluster044.iccluster.epfl.ch:8088/proxy/application_1589299642358_3167/\">Link</a></td><td><a target=\"_blank\" href=\"http://iccluster068.iccluster.epfl.ch:8042/node/containerlogs/container_e06_1589299642358_3167_01_000001/ebouille\">Link</a></td><td></td></tr><tr><td>8658</td><td>application_1589299642358_3183</td><td>pyspark</td><td>idle</td><td><a target=\"_blank\" href=\"http://iccluster044.iccluster.epfl.ch:8088/proxy/application_1589299642358_3183/\">Link</a></td><td><a target=\"_blank\" href=\"http://iccluster071.iccluster.epfl.ch:8042/node/containerlogs/container_e06_1589299642358_3183_01_000001/ebouille\">Link</a></td><td></td></tr><tr><td>8667</td><td>application_1589299642358_3192</td><td>pyspark</td><td>idle</td><td><a target=\"_blank\" href=\"http://iccluster044.iccluster.epfl.ch:8088/proxy/application_1589299642358_3192/\">Link</a></td><td><a target=\"_blank\" href=\"http://iccluster066.iccluster.epfl.ch:8042/node/containerlogs/container_e06_1589299642358_3192_01_000001/ebouille\">Link</a></td><td></td></tr><tr><td>8677</td><td>application_1589299642358_3202</td><td>pyspark</td><td>busy</td><td><a target=\"_blank\" href=\"http://iccluster044.iccluster.epfl.ch:8088/proxy/application_1589299642358_3202/\">Link</a></td><td><a target=\"_blank\" href=\"http://iccluster067.iccluster.epfl.ch:8042/node/containerlogs/container_e06_1589299642358_3202_01_000001/ebouille\">Link</a></td><td></td></tr><tr><td>8680</td><td>application_1589299642358_3205</td><td>pyspark</td><td>idle</td><td><a target=\"_blank\" href=\"http://iccluster044.iccluster.epfl.ch:8088/proxy/application_1589299642358_3205/\">Link</a></td><td><a target=\"_blank\" href=\"http://iccluster069.iccluster.epfl.ch:8042/node/containerlogs/container_e06_1589299642358_3205_01_000001/ebouille\">Link</a></td><td></td></tr><tr><td>8684</td><td>application_1589299642358_3209</td><td>pyspark</td><td>idle</td><td><a target=\"_blank\" href=\"http://iccluster044.iccluster.epfl.ch:8088/proxy/application_1589299642358_3209/\">Link</a></td><td><a target=\"_blank\" href=\"http://iccluster067.iccluster.epfl.ch:8042/node/containerlogs/container_e06_1589299642358_3209_01_000001/ebouille\">Link</a></td><td></td></tr><tr><td>8685</td><td>application_1589299642358_3210</td><td>pyspark</td><td>idle</td><td><a target=\"_blank\" href=\"http://iccluster044.iccluster.epfl.ch:8088/proxy/application_1589299642358_3210/\">Link</a></td><td><a target=\"_blank\" href=\"http://iccluster065.iccluster.epfl.ch:8042/node/containerlogs/container_e06_1589299642358_3210_01_000001/ebouille\">Link</a></td><td></td></tr><tr><td>8686</td><td>application_1589299642358_3211</td><td>pyspark</td><td>idle</td><td><a target=\"_blank\" href=\"http://iccluster044.iccluster.epfl.ch:8088/proxy/application_1589299642358_3211/\">Link</a></td><td><a target=\"_blank\" href=\"http://iccluster070.iccluster.epfl.ch:8042/node/containerlogs/container_e06_1589299642358_3211_01_000001/ebouille\">Link</a></td><td></td></tr><tr><td>8687</td><td>application_1589299642358_3212</td><td>pyspark</td><td>idle</td><td><a target=\"_blank\" href=\"http://iccluster044.iccluster.epfl.ch:8088/proxy/application_1589299642358_3212/\">Link</a></td><td><a target=\"_blank\" href=\"http://iccluster071.iccluster.epfl.ch:8042/node/containerlogs/container_e06_1589299642358_3212_01_000001/ebouille\">Link</a></td><td></td></tr><tr><td>8688</td><td>application_1589299642358_3213</td><td>pyspark</td><td>busy</td><td><a target=\"_blank\" href=\"http://iccluster044.iccluster.epfl.ch:8088/proxy/application_1589299642358_3213/\">Link</a></td><td><a target=\"_blank\" href=\"http://iccluster068.iccluster.epfl.ch:8042/node/containerlogs/container_e06_1589299642358_3213_01_000001/ebouille\">Link</a></td><td></td></tr><tr><td>8692</td><td>application_1589299642358_3217</td><td>pyspark</td><td>idle</td><td><a target=\"_blank\" href=\"http://iccluster044.iccluster.epfl.ch:8088/proxy/application_1589299642358_3217/\">Link</a></td><td><a target=\"_blank\" href=\"http://iccluster065.iccluster.epfl.ch:8042/node/containerlogs/container_e06_1589299642358_3217_01_000001/ebouille\">Link</a></td><td></td></tr><tr><td>8693</td><td>application_1589299642358_3218</td><td>pyspark</td><td>idle</td><td><a target=\"_blank\" href=\"http://iccluster044.iccluster.epfl.ch:8088/proxy/application_1589299642358_3218/\">Link</a></td><td><a target=\"_blank\" href=\"http://iccluster072.iccluster.epfl.ch:8042/node/containerlogs/container_e06_1589299642358_3218_01_000001/ebouille\">Link</a></td><td></td></tr><tr><td>8694</td><td>application_1589299642358_3219</td><td>pyspark</td><td>busy</td><td><a target=\"_blank\" href=\"http://iccluster044.iccluster.epfl.ch:8088/proxy/application_1589299642358_3219/\">Link</a></td><td><a target=\"_blank\" href=\"http://iccluster066.iccluster.epfl.ch:8042/node/containerlogs/container_e06_1589299642358_3219_01_000001/ebouille\">Link</a></td><td></td></tr><tr><td>8695</td><td>application_1589299642358_3220</td><td>pyspark</td><td>idle</td><td><a target=\"_blank\" href=\"http://iccluster044.iccluster.epfl.ch:8088/proxy/application_1589299642358_3220/\">Link</a></td><td><a target=\"_blank\" href=\"http://iccluster066.iccluster.epfl.ch:8042/node/containerlogs/container_e06_1589299642358_3220_01_000001/ebouille\">Link</a></td><td></td></tr><tr><td>8696</td><td>application_1589299642358_3221</td><td>pyspark</td><td>idle</td><td><a target=\"_blank\" href=\"http://iccluster044.iccluster.epfl.ch:8088/proxy/application_1589299642358_3221/\">Link</a></td><td><a target=\"_blank\" href=\"http://iccluster071.iccluster.epfl.ch:8042/node/containerlogs/container_e06_1589299642358_3221_01_000001/ebouille\">Link</a></td><td></td></tr><tr><td>8697</td><td>application_1589299642358_3222</td><td>pyspark</td><td>idle</td><td><a target=\"_blank\" href=\"http://iccluster044.iccluster.epfl.ch:8088/proxy/application_1589299642358_3222/\">Link</a></td><td><a target=\"_blank\" href=\"http://iccluster065.iccluster.epfl.ch:8042/node/containerlogs/container_e06_1589299642358_3222_01_000001/ebouille\">Link</a></td><td></td></tr><tr><td>8698</td><td>application_1589299642358_3223</td><td>pyspark</td><td>idle</td><td><a target=\"_blank\" href=\"http://iccluster044.iccluster.epfl.ch:8088/proxy/application_1589299642358_3223/\">Link</a></td><td><a target=\"_blank\" href=\"http://iccluster072.iccluster.epfl.ch:8042/node/containerlogs/container_e06_1589299642358_3223_01_000001/ebouille\">Link</a></td><td></td></tr><tr><td>8699</td><td>application_1589299642358_3224</td><td>pyspark</td><td>busy</td><td><a target=\"_blank\" href=\"http://iccluster044.iccluster.epfl.ch:8088/proxy/application_1589299642358_3224/\">Link</a></td><td><a target=\"_blank\" href=\"http://iccluster072.iccluster.epfl.ch:8042/node/containerlogs/container_e06_1589299642358_3224_01_000001/ebouille\">Link</a></td><td></td></tr><tr><td>8700</td><td>application_1589299642358_3225</td><td>pyspark</td><td>idle</td><td><a target=\"_blank\" href=\"http://iccluster044.iccluster.epfl.ch:8088/proxy/application_1589299642358_3225/\">Link</a></td><td><a target=\"_blank\" href=\"http://iccluster069.iccluster.epfl.ch:8042/node/containerlogs/container_e06_1589299642358_3225_01_000001/ebouille\">Link</a></td><td></td></tr><tr><td>8702</td><td>application_1589299642358_3227</td><td>pyspark</td><td>busy</td><td><a target=\"_blank\" href=\"http://iccluster044.iccluster.epfl.ch:8088/proxy/application_1589299642358_3227/\">Link</a></td><td><a target=\"_blank\" href=\"http://iccluster065.iccluster.epfl.ch:8042/node/containerlogs/container_e06_1589299642358_3227_01_000001/ebouille\">Link</a></td><td></td></tr><tr><td>8703</td><td>application_1589299642358_3228</td><td>pyspark</td><td>idle</td><td><a target=\"_blank\" href=\"http://iccluster044.iccluster.epfl.ch:8088/proxy/application_1589299642358_3228/\">Link</a></td><td><a target=\"_blank\" href=\"http://iccluster071.iccluster.epfl.ch:8042/node/containerlogs/container_e06_1589299642358_3228_01_000001/ebouille\">Link</a></td><td></td></tr><tr><td>8704</td><td>application_1589299642358_3229</td><td>pyspark</td><td>busy</td><td><a target=\"_blank\" href=\"http://iccluster044.iccluster.epfl.ch:8088/proxy/application_1589299642358_3229/\">Link</a></td><td><a target=\"_blank\" href=\"http://iccluster066.iccluster.epfl.ch:8042/node/containerlogs/container_e06_1589299642358_3229_01_000001/ebouille\">Link</a></td><td></td></tr><tr><td>8705</td><td>application_1589299642358_3230</td><td>pyspark</td><td>busy</td><td><a target=\"_blank\" href=\"http://iccluster044.iccluster.epfl.ch:8088/proxy/application_1589299642358_3230/\">Link</a></td><td><a target=\"_blank\" href=\"http://iccluster068.iccluster.epfl.ch:8042/node/containerlogs/container_e06_1589299642358_3230_01_000001/ebouille\">Link</a></td><td></td></tr><tr><td>8707</td><td>application_1589299642358_3232</td><td>pyspark</td><td>busy</td><td><a target=\"_blank\" href=\"http://iccluster044.iccluster.epfl.ch:8088/proxy/application_1589299642358_3232/\">Link</a></td><td><a target=\"_blank\" href=\"http://iccluster070.iccluster.epfl.ch:8042/node/containerlogs/container_e06_1589299642358_3232_01_000001/ebouille\">Link</a></td><td></td></tr><tr><td>8708</td><td>application_1589299642358_3233</td><td>pyspark</td><td>idle</td><td><a target=\"_blank\" href=\"http://iccluster044.iccluster.epfl.ch:8088/proxy/application_1589299642358_3233/\">Link</a></td><td><a target=\"_blank\" href=\"http://iccluster069.iccluster.epfl.ch:8042/node/containerlogs/container_e06_1589299642358_3233_01_000001/ebouille\">Link</a></td><td></td></tr></table>"
      ],
      "text/plain": [
       "<IPython.core.display.HTML object>"
      ]
     },
     "metadata": {},
     "output_type": "display_data"
    }
   ],
   "source": [
    "%%configure\n",
    "{\"conf\": {\n",
    "    \"spark.app.name\": \"MVAY_final\"\n",
    "}}"
   ]
  },
  {
   "cell_type": "code",
   "execution_count": 2,
   "metadata": {},
   "outputs": [
    {
     "name": "stdout",
     "output_type": "stream",
     "text": [
      "Starting Spark application\n"
     ]
    },
    {
     "data": {
      "text/html": [
       "<table>\n",
       "<tr><th>ID</th><th>YARN Application ID</th><th>Kind</th><th>State</th><th>Spark UI</th><th>Driver log</th><th>Current session?</th></tr><tr><td>8709</td><td>application_1589299642358_3234</td><td>pyspark</td><td>idle</td><td><a target=\"_blank\" href=\"http://iccluster044.iccluster.epfl.ch:8088/proxy/application_1589299642358_3234/\">Link</a></td><td><a target=\"_blank\" href=\"http://iccluster068.iccluster.epfl.ch:8042/node/containerlogs/container_e06_1589299642358_3234_01_000001/ebouille\">Link</a></td><td>✔</td></tr></table>"
      ],
      "text/plain": [
       "<IPython.core.display.HTML object>"
      ]
     },
     "metadata": {},
     "output_type": "display_data"
    },
    {
     "data": {
      "application/vnd.jupyter.widget-view+json": {
       "model_id": "",
       "version_major": 2,
       "version_minor": 0
      },
      "text/plain": [
       "FloatProgress(value=0.0, bar_style='info', description='Progress:', layout=Layout(height='25px', width='50%'),…"
      ]
     },
     "metadata": {},
     "output_type": "display_data"
    },
    {
     "name": "stdout",
     "output_type": "stream",
     "text": [
      "SparkSession available as 'spark'.\n"
     ]
    },
    {
     "data": {
      "application/vnd.jupyter.widget-view+json": {
       "model_id": "",
       "version_major": 2,
       "version_minor": 0
      },
      "text/plain": [
       "FloatProgress(value=0.0, bar_style='info', description='Progress:', layout=Layout(height='25px', width='50%'),…"
      ]
     },
     "metadata": {},
     "output_type": "display_data"
    },
    {
     "name": "stdout",
     "output_type": "stream",
     "text": [
      "<pyspark.sql.session.SparkSession object at 0x7f7a622056d0>"
     ]
    }
   ],
   "source": [
    "spark"
   ]
  },
  {
   "cell_type": "code",
   "execution_count": 3,
   "metadata": {},
   "outputs": [
    {
     "data": {
      "application/vnd.jupyter.widget-view+json": {
       "model_id": "",
       "version_major": 2,
       "version_minor": 0
      },
      "text/plain": [
       "FloatProgress(value=0.0, bar_style='info', description='Progress:', layout=Layout(height='25px', width='50%'),…"
      ]
     },
     "metadata": {},
     "output_type": "display_data"
    }
   ],
   "source": [
    "# Import necessary packages\n",
    "import pyspark.sql.functions as f\n",
    "import math\n",
    "from pyspark.sql.types import FloatType, IntegerType"
   ]
  },
  {
   "cell_type": "markdown",
   "metadata": {},
   "source": [
    "## Load the data\n",
    "\n",
    "Load the stop_times dataset which includes the routes."
   ]
  },
  {
   "cell_type": "code",
   "execution_count": 4,
   "metadata": {},
   "outputs": [
    {
     "data": {
      "application/vnd.jupyter.widget-view+json": {
       "model_id": "",
       "version_major": 2,
       "version_minor": 0
      },
      "text/plain": [
       "FloatProgress(value=0.0, bar_style='info', description='Progress:', layout=Layout(height='25px', width='50%'),…"
      ]
     },
     "metadata": {},
     "output_type": "display_data"
    },
    {
     "name": "stdout",
     "output_type": "stream",
     "text": [
      "+--------------------+------------+--------------+-----------+-------------+-----------+-------------+\n",
      "|             trip_id|arrival_time|departure_time|    stop_id|stop_sequence|pickup_type|drop_off_type|\n",
      "+--------------------+------------+--------------+-----------+-------------+-----------+-------------+\n",
      "|1.TA.1-1-B-j19-1.1.R|    04:20:00|      04:20:00|8500010:0:3|            1|          0|            0|\n",
      "|1.TA.1-1-B-j19-1.1.R|    04:24:00|      04:24:00|8500020:0:3|            2|          0|            0|\n",
      "|1.TA.1-1-B-j19-1.1.R|    04:28:00|      04:28:00|8500021:0:5|            3|          0|            0|\n",
      "+--------------------+------------+--------------+-----------+-------------+-----------+-------------+\n",
      "only showing top 3 rows"
     ]
    }
   ],
   "source": [
    "stop_times = spark.read.orc(\"/data/sbb/timetables/orc/stop_times/\")\n",
    "stop_times.show(3)"
   ]
  },
  {
   "cell_type": "markdown",
   "metadata": {},
   "source": [
    "Load the stops dataset which includes the stops and their coordinates."
   ]
  },
  {
   "cell_type": "code",
   "execution_count": 5,
   "metadata": {},
   "outputs": [
    {
     "data": {
      "application/vnd.jupyter.widget-view+json": {
       "model_id": "",
       "version_major": 2,
       "version_minor": 0
      },
      "text/plain": [
       "FloatProgress(value=0.0, bar_style='info', description='Progress:', layout=Layout(height='25px', width='50%'),…"
      ]
     },
     "metadata": {},
     "output_type": "display_data"
    },
    {
     "name": "stdout",
     "output_type": "stream",
     "text": [
      "+-------+------------+----------------+----------------+-------------+--------------+\n",
      "|stop_id|   stop_name|        stop_lat|        stop_lon|location_type|parent_station|\n",
      "+-------+------------+----------------+----------------+-------------+--------------+\n",
      "|1322000|    Altoggio|46.1672513851495|  8.345807131427|             |              |\n",
      "|1322001|Antronapiana| 46.060121674738|8.11361957990831|             |              |\n",
      "|1322002|      Anzola|45.9898698225697|8.34571729989858|             |              |\n",
      "+-------+------------+----------------+----------------+-------------+--------------+\n",
      "only showing top 3 rows"
     ]
    }
   ],
   "source": [
    "stops = spark.read.orc(\"/data/sbb/timetables/orc/stops/\") \n",
    "stops.show(3)"
   ]
  },
  {
   "cell_type": "markdown",
   "metadata": {},
   "source": [
    "Load the calendar dataset which includes the schedule for the routes."
   ]
  },
  {
   "cell_type": "code",
   "execution_count": 6,
   "metadata": {},
   "outputs": [
    {
     "data": {
      "application/vnd.jupyter.widget-view+json": {
       "model_id": "",
       "version_major": 2,
       "version_minor": 0
      },
      "text/plain": [
       "FloatProgress(value=0.0, bar_style='info', description='Progress:', layout=Layout(height='25px', width='50%'),…"
      ]
     },
     "metadata": {},
     "output_type": "display_data"
    },
    {
     "name": "stdout",
     "output_type": "stream",
     "text": [
      "+----------+------+-------+---------+--------+------+--------+------+\n",
      "|service_id|monday|tuesday|wednesday|thursday|friday|saturday|sunday|\n",
      "+----------+------+-------+---------+--------+------+--------+------+\n",
      "|  TA+b0nx9|  true|   true|     true|    true|  true|   false| false|\n",
      "|  TA+b03bf|  true|   true|     true|    true|  true|   false| false|\n",
      "|  TA+b0008|  true|   true|     true|    true|  true|   false| false|\n",
      "+----------+------+-------+---------+--------+------+--------+------+\n",
      "only showing top 3 rows"
     ]
    }
   ],
   "source": [
    "calendar = spark.read.orc(\"/data/sbb/timetables/orc/calendar/\") \n",
    "calendar.show(3)"
   ]
  },
  {
   "cell_type": "markdown",
   "metadata": {},
   "source": [
    "Load the trips dataframe needed for retrieving the calendar for different trips."
   ]
  },
  {
   "cell_type": "code",
   "execution_count": 7,
   "metadata": {},
   "outputs": [
    {
     "data": {
      "application/vnd.jupyter.widget-view+json": {
       "model_id": "",
       "version_major": 2,
       "version_minor": 0
      },
      "text/plain": [
       "FloatProgress(value=0.0, bar_style='info', description='Progress:', layout=Layout(height='25px', width='50%'),…"
      ]
     },
     "metadata": {},
     "output_type": "display_data"
    },
    {
     "name": "stdout",
     "output_type": "stream",
     "text": [
      "+-----------+----------+--------------------+------------------+---------------+------------+\n",
      "|   route_id|service_id|             trip_id|     trip_headsign|trip_short_name|direction_id|\n",
      "+-----------+----------+--------------------+------------------+---------------+------------+\n",
      "|1-1-C-j19-1|  TA+b0001|5.TA.1-1-C-j19-1.3.R|Zofingen, Altachen|            108|           1|\n",
      "|1-1-C-j19-1|  TA+b0001|7.TA.1-1-C-j19-1.3.R|Zofingen, Altachen|            112|           1|\n",
      "|1-1-C-j19-1|  TA+b0001|9.TA.1-1-C-j19-1.3.R|Zofingen, Altachen|            116|           1|\n",
      "+-----------+----------+--------------------+------------------+---------------+------------+\n",
      "only showing top 3 rows"
     ]
    }
   ],
   "source": [
    "trips = spark.read.orc(\"/data/sbb/timetables/orc/trips/\") \n",
    "trips.show(3)"
   ]
  },
  {
   "cell_type": "markdown",
   "metadata": {},
   "source": [
    "**TO DO: Is this dataset used?** Load the routes dataframe in order to be able to retrieve the transportation time."
   ]
  },
  {
   "cell_type": "code",
   "execution_count": 8,
   "metadata": {},
   "outputs": [
    {
     "data": {
      "application/vnd.jupyter.widget-view+json": {
       "model_id": "",
       "version_major": 2,
       "version_minor": 0
      },
      "text/plain": [
       "FloatProgress(value=0.0, bar_style='info', description='Progress:', layout=Layout(height='25px', width='50%'),…"
      ]
     },
     "metadata": {},
     "output_type": "display_data"
    },
    {
     "name": "stdout",
     "output_type": "stream",
     "text": [
      "+-----------+---------+----------------+---------------+----------+----------+\n",
      "|   route_id|agency_id|route_short_name|route_long_name|route_desc|route_type|\n",
      "+-----------+---------+----------------+---------------+----------+----------+\n",
      "|11-40-j19-1|      801|             040|               |       Bus|       700|\n",
      "|11-61-j19-1|     7031|             061|               |       Bus|       700|\n",
      "|11-62-j19-1|     7031|             062|               |       Bus|       700|\n",
      "+-----------+---------+----------------+---------------+----------+----------+\n",
      "only showing top 3 rows"
     ]
    }
   ],
   "source": [
    "routes =  spark.read.orc(\"/data/sbb/timetables/orc/routes/\") \n",
    "routes.show(3)"
   ]
  },
  {
   "cell_type": "markdown",
   "metadata": {},
   "source": [
    "Load the transfers dataframe to get the time that it takes to walk between two stops."
   ]
  },
  {
   "cell_type": "code",
   "execution_count": 9,
   "metadata": {},
   "outputs": [
    {
     "data": {
      "application/vnd.jupyter.widget-view+json": {
       "model_id": "",
       "version_major": 2,
       "version_minor": 0
      },
      "text/plain": [
       "FloatProgress(value=0.0, bar_style='info', description='Progress:', layout=Layout(height='25px', width='50%'),…"
      ]
     },
     "metadata": {},
     "output_type": "display_data"
    },
    {
     "name": "stdout",
     "output_type": "stream",
     "text": [
      "+------------+-----------+-------------+-----------------+\n",
      "|from_stop_id| to_stop_id|transfer_type|min_transfer_time|\n",
      "+------------+-----------+-------------+-----------------+\n",
      "| 8500309:0:2|8500309:0:4|            2|              180|\n",
      "| 8500309:0:2|8500309:0:5|            2|              180|\n",
      "| 8500309:0:2|8500309:0:3|            2|              180|\n",
      "+------------+-----------+-------------+-----------------+\n",
      "only showing top 3 rows"
     ]
    }
   ],
   "source": [
    "transfers = spark.read.orc(\"/data/sbb/timetables/orc/transfers/\")\n",
    "transfers.show(3)"
   ]
  },
  {
   "cell_type": "markdown",
   "metadata": {},
   "source": [
    "## Clean the data"
   ]
  },
  {
   "cell_type": "markdown",
   "metadata": {},
   "source": [
    "### Filter calendar\n",
    "\n",
    "The calendar dataframe is filtered to only include trips that go every monday-friday."
   ]
  },
  {
   "cell_type": "code",
   "execution_count": 10,
   "metadata": {},
   "outputs": [
    {
     "data": {
      "application/vnd.jupyter.widget-view+json": {
       "model_id": "",
       "version_major": 2,
       "version_minor": 0
      },
      "text/plain": [
       "FloatProgress(value=0.0, bar_style='info', description='Progress:', layout=Layout(height='25px', width='50%'),…"
      ]
     },
     "metadata": {},
     "output_type": "display_data"
    },
    {
     "name": "stdout",
     "output_type": "stream",
     "text": [
      "+----------+------+-------+---------+--------+------+--------+------+\n",
      "|service_id|monday|tuesday|wednesday|thursday|friday|saturday|sunday|\n",
      "+----------+------+-------+---------+--------+------+--------+------+\n",
      "|  TA+b0nx9|  true|   true|     true|    true|  true|   false| false|\n",
      "+----------+------+-------+---------+--------+------+--------+------+\n",
      "only showing top 1 row"
     ]
    }
   ],
   "source": [
    "calendar.show(1)"
   ]
  },
  {
   "cell_type": "code",
   "execution_count": 11,
   "metadata": {},
   "outputs": [
    {
     "data": {
      "application/vnd.jupyter.widget-view+json": {
       "model_id": "",
       "version_major": 2,
       "version_minor": 0
      },
      "text/plain": [
       "FloatProgress(value=0.0, bar_style='info', description='Progress:', layout=Layout(height='25px', width='50%'),…"
      ]
     },
     "metadata": {},
     "output_type": "display_data"
    }
   ],
   "source": [
    "# Filter for services that have the schedlue mon-fri\n",
    "calendar_filt = calendar.filter((calendar.monday == True) & (calendar.tuesday == True)\n",
    "                                & (calendar.wednesday == True) & (calendar.thursday == True) \n",
    "                                & (calendar.friday == True) & (calendar.saturday == False) \n",
    "                                & (calendar.sunday == False))"
   ]
  },
  {
   "cell_type": "markdown",
   "metadata": {},
   "source": [
    "### Filter trips\n",
    "\n",
    "The trips dataframe is joined with the filtered calendar dataframe such that it only includes trips that go monday-friday."
   ]
  },
  {
   "cell_type": "code",
   "execution_count": 12,
   "metadata": {},
   "outputs": [
    {
     "data": {
      "application/vnd.jupyter.widget-view+json": {
       "model_id": "",
       "version_major": 2,
       "version_minor": 0
      },
      "text/plain": [
       "FloatProgress(value=0.0, bar_style='info', description='Progress:', layout=Layout(height='25px', width='50%'),…"
      ]
     },
     "metadata": {},
     "output_type": "display_data"
    },
    {
     "name": "stdout",
     "output_type": "stream",
     "text": [
      "+-----------+----------+--------------------+------------------+---------------+------------+\n",
      "|   route_id|service_id|             trip_id|     trip_headsign|trip_short_name|direction_id|\n",
      "+-----------+----------+--------------------+------------------+---------------+------------+\n",
      "|1-1-C-j19-1|  TA+b0001|5.TA.1-1-C-j19-1.3.R|Zofingen, Altachen|            108|           1|\n",
      "+-----------+----------+--------------------+------------------+---------------+------------+\n",
      "only showing top 1 row"
     ]
    }
   ],
   "source": [
    "trips.show(1)"
   ]
  },
  {
   "cell_type": "markdown",
   "metadata": {},
   "source": [
    "**TO DO: Don't filter for trips with mon-fri schedule anymore. Why? And why join with routes? What do we need in routes?**"
   ]
  },
  {
   "cell_type": "code",
   "execution_count": 14,
   "metadata": {},
   "outputs": [
    {
     "data": {
      "application/vnd.jupyter.widget-view+json": {
       "model_id": "",
       "version_major": 2,
       "version_minor": 0
      },
      "text/plain": [
       "FloatProgress(value=0.0, bar_style='info', description='Progress:', layout=Layout(height='25px', width='50%'),…"
      ]
     },
     "metadata": {},
     "output_type": "display_data"
    },
    {
     "name": "stdout",
     "output_type": "stream",
     "text": [
      "+----------+-----------+--------------------+----------+----------+\n",
      "|service_id|   route_id|             trip_id|route_desc|route_type|\n",
      "+----------+-----------+--------------------+----------+----------+\n",
      "|  TA+b0003|1-305-j19-1|12.TA.1-305-j19-1...|       Bus|       700|\n",
      "|  TA+b0003|1-305-j19-1|14.TA.1-305-j19-1...|       Bus|       700|\n",
      "|  TA+b0003|1-305-j19-1|20.TA.1-305-j19-1...|       Bus|       700|\n",
      "+----------+-----------+--------------------+----------+----------+\n",
      "only showing top 3 rows"
     ]
    }
   ],
   "source": [
    "# Get the service_ids that have the calendar mon-fri\n",
    "ids = calendar_filt.select('service_id').distinct()\n",
    "\n",
    "# Join in order to filter for trips with the schedule mon-fri and keep only relevant columns\n",
    "trips_filt = trips.join(ids, 'service_id', 'inner').select(['service_id', 'route_id', 'trip_id'])\n",
    "trips_filt = trips_filt.join(routes, 'route_id', 'inner').select(['service_id', 'route_id', 'trip_id','route_desc','route_type'])\n",
    "trips_filt.show(3)"
   ]
  },
  {
   "cell_type": "markdown",
   "metadata": {},
   "source": [
    "### Filter stops\n",
    "\n",
    "The stops dataframe is filtered to only include stops within a 15km radius from Zürich HB."
   ]
  },
  {
   "cell_type": "code",
   "execution_count": 15,
   "metadata": {},
   "outputs": [
    {
     "data": {
      "application/vnd.jupyter.widget-view+json": {
       "model_id": "",
       "version_major": 2,
       "version_minor": 0
      },
      "text/plain": [
       "FloatProgress(value=0.0, bar_style='info', description='Progress:', layout=Layout(height='25px', width='50%'),…"
      ]
     },
     "metadata": {},
     "output_type": "display_data"
    },
    {
     "name": "stdout",
     "output_type": "stream",
     "text": [
      "+-------+---------+----------------+--------------+-------------+--------------+\n",
      "|stop_id|stop_name|        stop_lat|      stop_lon|location_type|parent_station|\n",
      "+-------+---------+----------------+--------------+-------------+--------------+\n",
      "|1322000| Altoggio|46.1672513851495|8.345807131427|             |              |\n",
      "+-------+---------+----------------+--------------+-------------+--------------+\n",
      "only showing top 1 row"
     ]
    }
   ],
   "source": [
    "stops.show(1)"
   ]
  },
  {
   "cell_type": "markdown",
   "metadata": {},
   "source": [
    "To be able to use our user defined haversine formula, we add two columns to the dataframe that include the latitude and longitude values of Zurich HB and we convert the four columns that include latitude and longitude value to floats. "
   ]
  },
  {
   "cell_type": "code",
   "execution_count": 16,
   "metadata": {},
   "outputs": [
    {
     "data": {
      "application/vnd.jupyter.widget-view+json": {
       "model_id": "",
       "version_major": 2,
       "version_minor": 0
      },
      "text/plain": [
       "FloatProgress(value=0.0, bar_style='info', description='Progress:', layout=Layout(height='25px', width='50%'),…"
      ]
     },
     "metadata": {},
     "output_type": "display_data"
    },
    {
     "name": "stdout",
     "output_type": "stream",
     "text": [
      "+-------+------------+---------+--------+-------------+--------------+---------+--------+\n",
      "|stop_id|   stop_name| stop_lat|stop_lon|location_type|parent_station|  lat_zur| lon_zur|\n",
      "+-------+------------+---------+--------+-------------+--------------+---------+--------+\n",
      "|1322000|    Altoggio| 46.16725|8.345807|             |              |47.378178|8.540192|\n",
      "|1322001|Antronapiana|46.060123| 8.11362|             |              |47.378178|8.540192|\n",
      "|1322002|      Anzola| 45.98987|8.345717|             |              |47.378178|8.540192|\n",
      "+-------+------------+---------+--------+-------------+--------------+---------+--------+\n",
      "only showing top 3 rows"
     ]
    }
   ],
   "source": [
    "# Define the latitude and longitude for Zurich HB\n",
    "lat_zur = 47.378177\n",
    "lon_zur = 8.540192\n",
    "\n",
    "# Add columns with Zurich HB lat & lon values\n",
    "temp_stops = stops.withColumn('lat_zur', f.lit(lat_zur))\n",
    "temp_stops = temp_stops.withColumn('lon_zur', f.lit(lon_zur))\n",
    "\n",
    "# Make sure that the columns for calculating distance are as floats\n",
    "temp_stops = temp_stops.withColumn('stop_lat', temp_stops.stop_lat.cast(\"float\"))\\\n",
    "                        .withColumn('stop_lon', temp_stops.stop_lon.cast(\"float\"))\\\n",
    "                        .withColumn('lat_zur', temp_stops.lat_zur.cast(\"float\"))\\\n",
    "                        .withColumn('lon_zur', temp_stops.lon_zur.cast(\"float\"))\n",
    "\n",
    "temp_stops.show(3)"
   ]
  },
  {
   "cell_type": "markdown",
   "metadata": {},
   "source": [
    "We are using the haversine formula in a user defined function to calculate the distance in kilometers between two latitude and longitude values."
   ]
  },
  {
   "cell_type": "code",
   "execution_count": 17,
   "metadata": {},
   "outputs": [
    {
     "data": {
      "application/vnd.jupyter.widget-view+json": {
       "model_id": "",
       "version_major": 2,
       "version_minor": 0
      },
      "text/plain": [
       "FloatProgress(value=0.0, bar_style='info', description='Progress:', layout=Layout(height='25px', width='50%'),…"
      ]
     },
     "metadata": {},
     "output_type": "display_data"
    }
   ],
   "source": [
    "# Haversine formula for calculating the distance between two stops\n",
    "def calc_dist(lat_1, lat_2, lon_1, lon_2):\n",
    "    R = 6371 \n",
    "    dLat = math.radians(lat_1 - lat_2)\n",
    "    dLon = math.radians(lon_1 - lon_2)\n",
    "    a = math.sin(dLat/2) * math.sin(dLat/2) + math.cos(math.radians(lat_2)) \\\n",
    "        * math.cos(math.radians(lat_1)) * math.sin(dLon/2) * math.sin(dLon/2)\n",
    "    c = 2 * math.atan2(math.sqrt(a), math.sqrt(1-a))\n",
    "    d = R * c\n",
    "    return d"
   ]
  },
  {
   "cell_type": "markdown",
   "metadata": {},
   "source": [
    "The distance from each stop to Zurich HB is calculated and then we filter to only include stops within a 15 km radius."
   ]
  },
  {
   "cell_type": "code",
   "execution_count": 18,
   "metadata": {},
   "outputs": [
    {
     "data": {
      "application/vnd.jupyter.widget-view+json": {
       "model_id": "",
       "version_major": 2,
       "version_minor": 0
      },
      "text/plain": [
       "FloatProgress(value=0.0, bar_style='info', description='Progress:', layout=Layout(height='25px', width='50%'),…"
      ]
     },
     "metadata": {},
     "output_type": "display_data"
    },
    {
     "name": "stdout",
     "output_type": "stream",
     "text": [
      "+-----------+--------------------+---------+--------+-------------+--------------+--------------+\n",
      "|    stop_id|           stop_name| stop_lat|stop_lon|location_type|parent_station|dist_zurich_km|\n",
      "+-----------+--------------------+---------+--------+-------------+--------------+--------------+\n",
      "|    8500926|Oetwil a.d.L., Sc...|47.423626|8.403183|             |              |     11.483568|\n",
      "|    8502186|Dietikon Stoffelbach|47.393406|8.398943|             |      8502186P|     10.767946|\n",
      "|8502186:0:1|Dietikon Stoffelbach|47.393467|8.398943|             |      8502186P|      10.76901|\n",
      "+-----------+--------------------+---------+--------+-------------+--------------+--------------+\n",
      "only showing top 3 rows"
     ]
    }
   ],
   "source": [
    "# User defined function\n",
    "udf_func = f.udf(calc_dist, FloatType())\n",
    "\n",
    "# Calculate the distance from each stop to Zurich HB\n",
    "stops_filt = temp_stops.withColumn('dist_zurich_km', \n",
    "                                   udf_func(temp_stops.lat_zur, temp_stops.stop_lat, \n",
    "                                            temp_stops.lon_zur, temp_stops.stop_lon))\\\n",
    "                        .drop(*['lat_zur', 'lon_zur'])\n",
    "\n",
    "# Filter for stops within 15 km radius from Zurich HB\n",
    "stops_filt = stops_filt.filter(stops_filt.dist_zurich_km <= 15.0)\n",
    "\n",
    "stops_filt.show(3)"
   ]
  },
  {
   "cell_type": "markdown",
   "metadata": {},
   "source": [
    "### Filter stop_times\n",
    "\n",
    "#### Weekday trips\n",
    "The stop_times dataframe is joined with the filtered trips dataframe to only include the trips are scheduled monday to friday."
   ]
  },
  {
   "cell_type": "code",
   "execution_count": 19,
   "metadata": {},
   "outputs": [
    {
     "data": {
      "application/vnd.jupyter.widget-view+json": {
       "model_id": "",
       "version_major": 2,
       "version_minor": 0
      },
      "text/plain": [
       "FloatProgress(value=0.0, bar_style='info', description='Progress:', layout=Layout(height='25px', width='50%'),…"
      ]
     },
     "metadata": {},
     "output_type": "display_data"
    },
    {
     "name": "stdout",
     "output_type": "stream",
     "text": [
      "+--------------------+------------+--------------+-----------+-------------+-----------+-------------+\n",
      "|             trip_id|arrival_time|departure_time|    stop_id|stop_sequence|pickup_type|drop_off_type|\n",
      "+--------------------+------------+--------------+-----------+-------------+-----------+-------------+\n",
      "|1.TA.1-1-B-j19-1.1.R|    04:20:00|      04:20:00|8500010:0:3|            1|          0|            0|\n",
      "+--------------------+------------+--------------+-----------+-------------+-----------+-------------+\n",
      "only showing top 1 row"
     ]
    }
   ],
   "source": [
    "stop_times.show(1)"
   ]
  },
  {
   "cell_type": "code",
   "execution_count": 20,
   "metadata": {},
   "outputs": [
    {
     "data": {
      "application/vnd.jupyter.widget-view+json": {
       "model_id": "",
       "version_major": 2,
       "version_minor": 0
      },
      "text/plain": [
       "FloatProgress(value=0.0, bar_style='info', description='Progress:', layout=Layout(height='25px', width='50%'),…"
      ]
     },
     "metadata": {},
     "output_type": "display_data"
    },
    {
     "name": "stdout",
     "output_type": "stream",
     "text": [
      "+----------+-----------+--------------------+----------+----------+\n",
      "|service_id|   route_id|             trip_id|route_desc|route_type|\n",
      "+----------+-----------+--------------------+----------+----------+\n",
      "|  TA+b0003|1-305-j19-1|12.TA.1-305-j19-1...|       Bus|       700|\n",
      "+----------+-----------+--------------------+----------+----------+\n",
      "only showing top 1 row"
     ]
    }
   ],
   "source": [
    "trips_filt.show(1)"
   ]
  },
  {
   "cell_type": "code",
   "execution_count": 21,
   "metadata": {},
   "outputs": [
    {
     "data": {
      "application/vnd.jupyter.widget-view+json": {
       "model_id": "",
       "version_major": 2,
       "version_minor": 0
      },
      "text/plain": [
       "FloatProgress(value=0.0, bar_style='info', description='Progress:', layout=Layout(height='25px', width='50%'),…"
      ]
     },
     "metadata": {},
     "output_type": "display_data"
    },
    {
     "name": "stdout",
     "output_type": "stream",
     "text": [
      "+--------------------+------------+--------------+-------+-------------+----------+------------+----------+----------+\n",
      "|             trip_id|arrival_time|departure_time|stop_id|stop_sequence|service_id|    route_id|route_desc|route_type|\n",
      "+--------------------+------------+--------------+-------+-------------+----------+------------+----------+----------+\n",
      "|1.TA.16-440-j19-1...|    06:30:00|      06:30:00|8574776|            1|  TA+b0ei3|16-440-j19-1|       Bus|       700|\n",
      "|1.TA.16-440-j19-1...|    06:32:00|      06:32:00|8509650|            2|  TA+b0ei3|16-440-j19-1|       Bus|       700|\n",
      "|1.TA.16-440-j19-1...|    06:32:00|      06:32:00|8574777|            3|  TA+b0ei3|16-440-j19-1|       Bus|       700|\n",
      "+--------------------+------------+--------------+-------+-------------+----------+------------+----------+----------+\n",
      "only showing top 3 rows"
     ]
    }
   ],
   "source": [
    "# Join in order to filter for trips scheduled mon-fri and drop unecessary columns \n",
    "temp_filt = stop_times.join(trips_filt, 'trip_id', 'inner')\\\n",
    "                        .drop(*['pickup_type', 'drop_off_type'])\n",
    "temp_filt.show(3)"
   ]
  },
  {
   "cell_type": "markdown",
   "metadata": {},
   "source": [
    "#### Within 15km radius\n",
    "\n",
    "The stop_times dataframe is also joined with the filtered stops dataframe, such that it only include stops that are within the 15km radius of Zurich HB."
   ]
  },
  {
   "cell_type": "code",
   "execution_count": 22,
   "metadata": {},
   "outputs": [
    {
     "data": {
      "application/vnd.jupyter.widget-view+json": {
       "model_id": "",
       "version_major": 2,
       "version_minor": 0
      },
      "text/plain": [
       "FloatProgress(value=0.0, bar_style='info', description='Progress:', layout=Layout(height='25px', width='50%'),…"
      ]
     },
     "metadata": {},
     "output_type": "display_data"
    },
    {
     "name": "stdout",
     "output_type": "stream",
     "text": [
      "+-------+--------------------+---------+--------+-------------+--------------+--------------+\n",
      "|stop_id|           stop_name| stop_lat|stop_lon|location_type|parent_station|dist_zurich_km|\n",
      "+-------+--------------------+---------+--------+-------------+--------------+--------------+\n",
      "|8500926|Oetwil a.d.L., Sc...|47.423626|8.403183|             |              |     11.483568|\n",
      "+-------+--------------------+---------+--------+-------------+--------------+--------------+\n",
      "only showing top 1 row"
     ]
    }
   ],
   "source": [
    "stops_filt.show(1)"
   ]
  },
  {
   "cell_type": "code",
   "execution_count": 23,
   "metadata": {},
   "outputs": [
    {
     "data": {
      "application/vnd.jupyter.widget-view+json": {
       "model_id": "",
       "version_major": 2,
       "version_minor": 0
      },
      "text/plain": [
       "FloatProgress(value=0.0, bar_style='info', description='Progress:', layout=Layout(height='25px', width='50%'),…"
      ]
     },
     "metadata": {},
     "output_type": "display_data"
    },
    {
     "name": "stdout",
     "output_type": "stream",
     "text": [
      "+-----------+--------------------+------------+--------------+-------------+----------+------------+----------+--------------------+---------+--------+--------------+\n",
      "|    stop_id|             trip_id|arrival_time|departure_time|stop_sequence|service_id|    route_id|route_desc|           stop_name| stop_lat|stop_lon|parent_station|\n",
      "+-----------+--------------------+------------+--------------+-------------+----------+------------+----------+--------------------+---------+--------+--------------+\n",
      "|8503855:0:F|1005.TA.26-131-j1...|    16:14:00|      16:14:00|            1|  TA+b0nfm|26-131-j19-1|       Bus|     Horgen, Bahnhof|47.261856|8.596976|      8503855P|\n",
      "|    8589111|1005.TA.26-131-j1...|    16:15:00|      16:15:00|            2|  TA+b0nfm|26-131-j19-1|       Bus|Horgen, Gumelenst...|47.260857|8.592305|              |\n",
      "|    8573553|1005.TA.26-131-j1...|    16:16:00|      16:16:00|            3|  TA+b0nfm|26-131-j19-1|       Bus|     Horgen, Stocker|47.261517|8.588927|              |\n",
      "+-----------+--------------------+------------+--------------+-------------+----------+------------+----------+--------------------+---------+--------+--------------+\n",
      "only showing top 3 rows"
     ]
    }
   ],
   "source": [
    "# Join in order to filter for stops within 15km radius and drop unecessary columns\n",
    "stop_times_filt = temp_filt.join(stops_filt, 'stop_id', 'inner')\\\n",
    "                            .drop(*['location_type', 'dist_zurich_km','route_type'])\n",
    "stop_times_filt.show(3)"
   ]
  },
  {
   "cell_type": "markdown",
   "metadata": {},
   "source": [
    "Now it's important to keep in mind that this stop_times_filt dataset likely has some gaps in the trips. If a trip goes out of the 15km radius and then returns back within the 15 km radius, there are going to be numbers missing in the stop_sequence for the trip at question.\n"
   ]
  },
  {
   "cell_type": "markdown",
   "metadata": {},
   "source": [
    "#### Journey times within business hours"
   ]
  },
  {
   "cell_type": "markdown",
   "metadata": {},
   "source": [
    "The stop_times dataframe is further filtered to only include business hours: 8AM to 5PM. However we also include the hour 7AM to 8AM since a person needs some time to travel in order to arrive at their destination. If one wants to arrive at 8AM, they may have to leave an hour in advance."
   ]
  },
  {
   "cell_type": "code",
   "execution_count": 24,
   "metadata": {},
   "outputs": [
    {
     "data": {
      "application/vnd.jupyter.widget-view+json": {
       "model_id": "",
       "version_major": 2,
       "version_minor": 0
      },
      "text/plain": [
       "FloatProgress(value=0.0, bar_style='info', description='Progress:', layout=Layout(height='25px', width='50%'),…"
      ]
     },
     "metadata": {},
     "output_type": "display_data"
    },
    {
     "name": "stdout",
     "output_type": "stream",
     "text": [
      "+-----------+--------------------+------------+--------------+-------------+----------+------------+----------+--------------------+---------+--------+--------------+\n",
      "|    stop_id|             trip_id|arrival_time|departure_time|stop_sequence|service_id|    route_id|route_desc|           stop_name| stop_lat|stop_lon|parent_station|\n",
      "+-----------+--------------------+------------+--------------+-------------+----------+------------+----------+--------------------+---------+--------+--------------+\n",
      "|8503855:0:F|1005.TA.26-131-j1...|    16:14:00|      16:14:00|            1|  TA+b0nfm|26-131-j19-1|       Bus|     Horgen, Bahnhof|47.261856|8.596976|      8503855P|\n",
      "|    8589111|1005.TA.26-131-j1...|    16:15:00|      16:15:00|            2|  TA+b0nfm|26-131-j19-1|       Bus|Horgen, Gumelenst...|47.260857|8.592305|              |\n",
      "|    8573553|1005.TA.26-131-j1...|    16:16:00|      16:16:00|            3|  TA+b0nfm|26-131-j19-1|       Bus|     Horgen, Stocker|47.261517|8.588927|              |\n",
      "+-----------+--------------------+------------+--------------+-------------+----------+------------+----------+--------------------+---------+--------+--------------+\n",
      "only showing top 3 rows"
     ]
    }
   ],
   "source": [
    "# Creating 2 new columns where the hour is extracted from the arrival and departure timestamps\n",
    "stop_times_filt = stop_times_filt.withColumn('ar', stop_times_filt.arrival_time.substr(1, 2).cast(IntegerType()))\n",
    "stop_times_filt = stop_times_filt.withColumn('dep', stop_times_filt.departure_time.substr(1, 2).cast(IntegerType()))\n",
    "\n",
    "# Filter such that we only keep times between 7-17\n",
    "stop_times_filt = stop_times_filt.where((stop_times_filt.ar >= 7) \n",
    "                                        & (stop_times_filt.ar <= 17) \n",
    "                                        & (stop_times_filt.dep <= 17) \n",
    "                                        & (stop_times_filt.dep >= 7))\n",
    "\n",
    "# Drop unecessary columns\n",
    "stop_times_filt = stop_times_filt.drop(*['ar', 'dep'])\n",
    "\n",
    "stop_times_filt.cache()\n",
    "stop_times_filt.show(3)"
   ]
  },
  {
   "cell_type": "markdown",
   "metadata": {},
   "source": [
    "## Create the timetable\n",
    "\n",
    "Re-format the stop_times_filt dataframe and group it such that we get the table in the desired format for creating the graph. "
   ]
  },
  {
   "cell_type": "code",
   "execution_count": 34,
   "metadata": {},
   "outputs": [
    {
     "data": {
      "application/vnd.jupyter.widget-view+json": {
       "model_id": "",
       "version_major": 2,
       "version_minor": 0
      },
      "text/plain": [
       "FloatProgress(value=0.0, bar_style='info', description='Progress:', layout=Layout(height='25px', width='50%'),…"
      ]
     },
     "metadata": {},
     "output_type": "display_data"
    }
   ],
   "source": [
    "# Convert timestamps to unix timestamp format\n",
    "timetable_data = stop_times_filt.withColumn('arrival_time', f.unix_timestamp(stop_times_filt.arrival_time, 'HH:mm:ss'))\n",
    "timetable_data = timetable_data.withColumn('departure_time', f.unix_timestamp(timetable_data.departure_time, 'HH:mm:ss'))"
   ]
  },
  {
   "cell_type": "code",
   "execution_count": 32,
   "metadata": {},
   "outputs": [
    {
     "data": {
      "application/vnd.jupyter.widget-view+json": {
       "model_id": "",
       "version_major": 2,
       "version_minor": 0
      },
      "text/plain": [
       "FloatProgress(value=0.0, bar_style='info', description='Progress:', layout=Layout(height='25px', width='50%'),…"
      ]
     },
     "metadata": {},
     "output_type": "display_data"
    },
    {
     "name": "stdout",
     "output_type": "stream",
     "text": [
      "+--------------------+--------------------+--------------------+--------------------+--------------------+--------------------+--------------------+\n",
      "|             trip_id|            stop_ids|       stop_sequence|       arrival_times|     departure_times|                lats|               longs|\n",
      "+--------------------+--------------------+--------------------+--------------------+--------------------+--------------------+--------------------+\n",
      "|1005.TA.26-131-j1...|[8503855:0:F, 858...|[1, 2, 3, 4, 5, 6...|[54840, 54900, 54...|[54840, 54900, 54...|[47.261856, 47.26...|[8.596976, 8.5923...|\n",
      "|103.TA.26-925-j19...|  [8576082, 8576080]|            [20, 21]|      [23880, 24120]|      [23880, 24120]|[47.26727, 47.26944]|[8.650713, 8.644883]|\n",
      "|104.TA.26-733-j19...|[8573205:0:D, 858...|[1, 2, 3, 4, 5, 6...|[23580, 23580, 23...|[23580, 23580, 23...|[47.450684, 47.45...|[8.563729, 8.5656...|\n",
      "+--------------------+--------------------+--------------------+--------------------+--------------------+--------------------+--------------------+\n",
      "only showing top 3 rows"
     ]
    }
   ],
   "source": [
    "# Group the data\n",
    "timetable = timetable_data.groupBy(['trip_id']).agg(f.collect_list('stop_id').alias('stop_ids'), \n",
    "                                                    f.collect_list('stop_sequence').alias('stop_sequence'), \n",
    "                                                    f.collect_list('arrival_time').alias('arrival_times'), \n",
    "                                                    f.collect_list('departure_time').alias('departure_times'), \n",
    "                                                    f.collect_list('stop_lat').alias('lats'), \n",
    "                                                    f.collect_list('stop_lon').alias('longs'))\n",
    "timetable.show(3)"
   ]
  },
  {
   "cell_type": "markdown",
   "metadata": {},
   "source": [
    "## Saving necessary data for further use\n",
    "\n",
    "We have some dataframes that we want to use in other notebooks. This is solved by saving the in the following way."
   ]
  },
  {
   "cell_type": "code",
   "execution_count": 29,
   "metadata": {},
   "outputs": [
    {
     "data": {
      "application/vnd.jupyter.widget-view+json": {
       "model_id": "",
       "version_major": 2,
       "version_minor": 0
      },
      "text/plain": [
       "FloatProgress(value=0.0, bar_style='info', description='Progress:', layout=Layout(height='25px', width='50%'),…"
      ]
     },
     "metadata": {},
     "output_type": "display_data"
    }
   ],
   "source": [
    "# Saving dataframes in orc format\n",
    "stop_times_filt.write.format(\"orc\").mode('overwrite').save(\"/user/fristedt/stop_times_filt.orc\")"
   ]
  },
  {
   "cell_type": "code",
   "execution_count": 33,
   "metadata": {},
   "outputs": [
    {
     "data": {
      "application/vnd.jupyter.widget-view+json": {
       "model_id": "",
       "version_major": 2,
       "version_minor": 0
      },
      "text/plain": [
       "FloatProgress(value=0.0, bar_style='info', description='Progress:', layout=Layout(height='25px', width='50%'),…"
      ]
     },
     "metadata": {},
     "output_type": "display_data"
    }
   ],
   "source": [
    "# Saving dataframes in parquet format\n",
    "timetable.write.format(\"parquet\").mode('overwrite').save(\"/user/fristedt/timetable.parquet\")\n",
    "stops_filt.write.format(\"parquet\").mode('overwrite').save(\"/user/fristedt/stops_filt.parquet\")"
   ]
  },
  {
   "cell_type": "code",
   "execution_count": 36,
   "metadata": {},
   "outputs": [
    {
     "data": {
      "application/vnd.jupyter.widget-view+json": {
       "model_id": "",
       "version_major": 2,
       "version_minor": 0
      },
      "text/plain": [
       "FloatProgress(value=0.0, bar_style='info', description='Progress:', layout=Layout(height='25px', width='50%'),…"
      ]
     },
     "metadata": {},
     "output_type": "display_data"
    }
   ],
   "source": []
  },
  {
   "cell_type": "code",
   "execution_count": null,
   "metadata": {},
   "outputs": [],
   "source": []
  }
 ],
 "metadata": {
  "kernelspec": {
   "display_name": "PySpark",
   "language": "",
   "name": "pysparkkernel"
  },
  "language_info": {
   "codemirror_mode": {
    "name": "python",
    "version": 3
   },
   "mimetype": "text/x-python",
   "name": "pyspark",
   "pygments_lexer": "python3"
  }
 },
 "nbformat": 4,
 "nbformat_minor": 4
}
