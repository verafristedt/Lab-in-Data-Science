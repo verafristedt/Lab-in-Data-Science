{
 "cells": [
  {
   "cell_type": "markdown",
   "metadata": {},
   "source": [
    "# MVAY Final Project"
   ]
  },
  {
   "cell_type": "markdown",
   "metadata": {},
   "source": [
    "## Introduction"
   ]
  },
  {
   "cell_type": "markdown",
   "metadata": {},
   "source": [
    "In this final project we will build our own stochastic public transport route planner to improve on the problematic of route planning with travel time uncertainty. We are supposed to reuse the SBB dataset. The route planner can be build on a set of simplifying assumptions and has to meet the constraints of shortest travel time, user-defined certainty level and latest initial route departure time.\n",
    "\n",
    "The structure of this notebook, and the decomposition into smaller tasks, is the following:\n",
    "\n",
    "- *Data wrangling:* in this section, we are doing basic filtering for data that meets the constraints given by the project \n",
    "(business hours, 15km radius etc.).\n",
    "                   \n",
    "- *Timetable definition*: this part incorporates the creation of a lookup table (timetable) with distinct trip_id's that      represent the transportation network.\n",
    "\n",
    "- *Graph creation*: we can now build a connected graph of nodes and edges (stops and connections) with the timetable, this will serve as a base for the routing  algorithm.\n",
    "\n",
    "- *Modified Dijkstra*: we use a modified version of the Dijkstra algorithm combined with Yen's algorithm to search for n-shortest paths on the created graph given an user query.\n",
    "\n",
    "- *Predictive modeling*: this part incorporates the descriptive and inferential statistics calculation of the delay parameter, which can be used for route certainty definition.\n",
    "\n",
    "- *Route probability*: with a given set of short routes, and delay distributions on various groupings, we  calculate certainties of whole routes by a sequential sum product of stop certainties.\n",
    "\n",
    "- *Validation and Discussion*: we test and discuss the assumptions/groupings we have made during the whole assignment. We also highlight strenghts and weaknesses of our implementation."
   ]
  },
  {
   "cell_type": "code",
   "execution_count": 1,
   "metadata": {},
   "outputs": [
    {
     "data": {
      "text/html": [
       "Current session configs: <tt>{'conf': {'spark.app.name': 'MVAY_final'}, 'kind': 'pyspark'}</tt><br>"
      ],
      "text/plain": [
       "<IPython.core.display.HTML object>"
      ]
     },
     "metadata": {},
     "output_type": "display_data"
    },
    {
     "data": {
      "text/html": [
       "<table>\n",
       "<tr><th>ID</th><th>YARN Application ID</th><th>Kind</th><th>State</th><th>Spark UI</th><th>Driver log</th><th>Current session?</th></tr><tr><td>9112</td><td>application_1589299642358_3675</td><td>pyspark</td><td>idle</td><td><a target=\"_blank\" href=\"http://iccluster044.iccluster.epfl.ch:8088/proxy/application_1589299642358_3675/\">Link</a></td><td><a target=\"_blank\" href=\"http://iccluster070.iccluster.epfl.ch:8042/node/containerlogs/container_e06_1589299642358_3675_01_000005/ebouille\">Link</a></td><td></td></tr><tr><td>9130</td><td>application_1589299642358_3694</td><td>pyspark</td><td>busy</td><td><a target=\"_blank\" href=\"http://iccluster044.iccluster.epfl.ch:8088/proxy/application_1589299642358_3694/\">Link</a></td><td><a target=\"_blank\" href=\"http://iccluster068.iccluster.epfl.ch:8042/node/containerlogs/container_e06_1589299642358_3694_01_000001/ebouille\">Link</a></td><td></td></tr><tr><td>9145</td><td>application_1589299642358_3710</td><td>pyspark</td><td>idle</td><td><a target=\"_blank\" href=\"http://iccluster044.iccluster.epfl.ch:8088/proxy/application_1589299642358_3710/\">Link</a></td><td><a target=\"_blank\" href=\"http://iccluster068.iccluster.epfl.ch:8042/node/containerlogs/container_e06_1589299642358_3710_01_000001/ebouille\">Link</a></td><td></td></tr><tr><td>9171</td><td>application_1589299642358_3738</td><td>pyspark</td><td>idle</td><td><a target=\"_blank\" href=\"http://iccluster044.iccluster.epfl.ch:8088/proxy/application_1589299642358_3738/\">Link</a></td><td><a target=\"_blank\" href=\"http://iccluster069.iccluster.epfl.ch:8042/node/containerlogs/container_e06_1589299642358_3738_01_000001/ebouille\">Link</a></td><td></td></tr><tr><td>9176</td><td>application_1589299642358_3743</td><td>pyspark</td><td>busy</td><td><a target=\"_blank\" href=\"http://iccluster044.iccluster.epfl.ch:8088/proxy/application_1589299642358_3743/\">Link</a></td><td><a target=\"_blank\" href=\"http://iccluster066.iccluster.epfl.ch:8042/node/containerlogs/container_e06_1589299642358_3743_01_000001/ebouille\">Link</a></td><td></td></tr><tr><td>9177</td><td>application_1589299642358_3744</td><td>pyspark</td><td>idle</td><td><a target=\"_blank\" href=\"http://iccluster044.iccluster.epfl.ch:8088/proxy/application_1589299642358_3744/\">Link</a></td><td><a target=\"_blank\" href=\"http://iccluster068.iccluster.epfl.ch:8042/node/containerlogs/container_e06_1589299642358_3744_01_000001/ebouille\">Link</a></td><td></td></tr><tr><td>9180</td><td>application_1589299642358_3747</td><td>pyspark</td><td>idle</td><td><a target=\"_blank\" href=\"http://iccluster044.iccluster.epfl.ch:8088/proxy/application_1589299642358_3747/\">Link</a></td><td><a target=\"_blank\" href=\"http://iccluster067.iccluster.epfl.ch:8042/node/containerlogs/container_e06_1589299642358_3747_01_000001/ebouille\">Link</a></td><td></td></tr><tr><td>9181</td><td>application_1589299642358_3748</td><td>pyspark</td><td>idle</td><td><a target=\"_blank\" href=\"http://iccluster044.iccluster.epfl.ch:8088/proxy/application_1589299642358_3748/\">Link</a></td><td><a target=\"_blank\" href=\"http://iccluster065.iccluster.epfl.ch:8042/node/containerlogs/container_e06_1589299642358_3748_01_000001/ebouille\">Link</a></td><td></td></tr><tr><td>9182</td><td>application_1589299642358_3749</td><td>pyspark</td><td>busy</td><td><a target=\"_blank\" href=\"http://iccluster044.iccluster.epfl.ch:8088/proxy/application_1589299642358_3749/\">Link</a></td><td><a target=\"_blank\" href=\"http://iccluster065.iccluster.epfl.ch:8042/node/containerlogs/container_e06_1589299642358_3749_01_000001/ebouille\">Link</a></td><td></td></tr><tr><td>9183</td><td>application_1589299642358_3750</td><td>pyspark</td><td>idle</td><td><a target=\"_blank\" href=\"http://iccluster044.iccluster.epfl.ch:8088/proxy/application_1589299642358_3750/\">Link</a></td><td><a target=\"_blank\" href=\"http://iccluster072.iccluster.epfl.ch:8042/node/containerlogs/container_e06_1589299642358_3750_01_000001/ebouille\">Link</a></td><td></td></tr><tr><td>9187</td><td>application_1589299642358_3754</td><td>pyspark</td><td>idle</td><td><a target=\"_blank\" href=\"http://iccluster044.iccluster.epfl.ch:8088/proxy/application_1589299642358_3754/\">Link</a></td><td><a target=\"_blank\" href=\"http://iccluster068.iccluster.epfl.ch:8042/node/containerlogs/container_e06_1589299642358_3754_01_000001/ebouille\">Link</a></td><td></td></tr><tr><td>9188</td><td>application_1589299642358_3755</td><td>pyspark</td><td>idle</td><td><a target=\"_blank\" href=\"http://iccluster044.iccluster.epfl.ch:8088/proxy/application_1589299642358_3755/\">Link</a></td><td><a target=\"_blank\" href=\"http://iccluster066.iccluster.epfl.ch:8042/node/containerlogs/container_e06_1589299642358_3755_01_000001/ebouille\">Link</a></td><td></td></tr><tr><td>9189</td><td>application_1589299642358_3756</td><td>pyspark</td><td>idle</td><td><a target=\"_blank\" href=\"http://iccluster044.iccluster.epfl.ch:8088/proxy/application_1589299642358_3756/\">Link</a></td><td><a target=\"_blank\" href=\"http://iccluster068.iccluster.epfl.ch:8042/node/containerlogs/container_e06_1589299642358_3756_01_000001/ebouille\">Link</a></td><td></td></tr><tr><td>9190</td><td>application_1589299642358_3757</td><td>pyspark</td><td>busy</td><td><a target=\"_blank\" href=\"http://iccluster044.iccluster.epfl.ch:8088/proxy/application_1589299642358_3757/\">Link</a></td><td><a target=\"_blank\" href=\"http://iccluster068.iccluster.epfl.ch:8042/node/containerlogs/container_e06_1589299642358_3757_01_000001/ebouille\">Link</a></td><td></td></tr><tr><td>9191</td><td>application_1589299642358_3758</td><td>pyspark</td><td>idle</td><td><a target=\"_blank\" href=\"http://iccluster044.iccluster.epfl.ch:8088/proxy/application_1589299642358_3758/\">Link</a></td><td><a target=\"_blank\" href=\"http://iccluster070.iccluster.epfl.ch:8042/node/containerlogs/container_e06_1589299642358_3758_01_000001/ebouille\">Link</a></td><td></td></tr><tr><td>9192</td><td>application_1589299642358_3759</td><td>pyspark</td><td>idle</td><td><a target=\"_blank\" href=\"http://iccluster044.iccluster.epfl.ch:8088/proxy/application_1589299642358_3759/\">Link</a></td><td><a target=\"_blank\" href=\"http://iccluster070.iccluster.epfl.ch:8042/node/containerlogs/container_e06_1589299642358_3759_01_000001/ebouille\">Link</a></td><td></td></tr><tr><td>9194</td><td>application_1589299642358_3761</td><td>pyspark</td><td>idle</td><td><a target=\"_blank\" href=\"http://iccluster044.iccluster.epfl.ch:8088/proxy/application_1589299642358_3761/\">Link</a></td><td><a target=\"_blank\" href=\"http://iccluster067.iccluster.epfl.ch:8042/node/containerlogs/container_e06_1589299642358_3761_01_000001/ebouille\">Link</a></td><td></td></tr><tr><td>9195</td><td>application_1589299642358_3762</td><td>pyspark</td><td>idle</td><td><a target=\"_blank\" href=\"http://iccluster044.iccluster.epfl.ch:8088/proxy/application_1589299642358_3762/\">Link</a></td><td><a target=\"_blank\" href=\"http://iccluster071.iccluster.epfl.ch:8042/node/containerlogs/container_e06_1589299642358_3762_01_000001/ebouille\">Link</a></td><td></td></tr><tr><td>9196</td><td>application_1589299642358_3763</td><td>pyspark</td><td>idle</td><td><a target=\"_blank\" href=\"http://iccluster044.iccluster.epfl.ch:8088/proxy/application_1589299642358_3763/\">Link</a></td><td><a target=\"_blank\" href=\"http://iccluster068.iccluster.epfl.ch:8042/node/containerlogs/container_e06_1589299642358_3763_01_000001/ebouille\">Link</a></td><td></td></tr><tr><td>9198</td><td>application_1589299642358_3765</td><td>pyspark</td><td>dead</td><td><a target=\"_blank\" href=\"http://iccluster044.iccluster.epfl.ch:8088/cluster/app/application_1589299642358_3765\">Link</a></td><td><a target=\"_blank\" href=\"http://iccluster054.iccluster.epfl.ch:8188/applicationhistory/logs/iccluster071.iccluster.epfl.ch:45454/container_e06_1589299642358_3765_01_000001/container_e06_1589299642358_3765_01_000001/ebouille\">Link</a></td><td></td></tr><tr><td>9199</td><td>application_1589299642358_3766</td><td>pyspark</td><td>idle</td><td><a target=\"_blank\" href=\"http://iccluster044.iccluster.epfl.ch:8088/proxy/application_1589299642358_3766/\">Link</a></td><td><a target=\"_blank\" href=\"http://iccluster066.iccluster.epfl.ch:8042/node/containerlogs/container_e06_1589299642358_3766_01_000001/ebouille\">Link</a></td><td></td></tr><tr><td>9200</td><td>application_1589299642358_3767</td><td>pyspark</td><td>idle</td><td><a target=\"_blank\" href=\"http://iccluster044.iccluster.epfl.ch:8088/proxy/application_1589299642358_3767/\">Link</a></td><td><a target=\"_blank\" href=\"http://iccluster072.iccluster.epfl.ch:8042/node/containerlogs/container_e06_1589299642358_3767_01_000001/ebouille\">Link</a></td><td></td></tr><tr><td>9201</td><td>application_1589299642358_3768</td><td>pyspark</td><td>dead</td><td><a target=\"_blank\" href=\"http://iccluster044.iccluster.epfl.ch:8088/cluster/app/application_1589299642358_3768\">Link</a></td><td><a target=\"_blank\" href=\"http://iccluster054.iccluster.epfl.ch:8188/applicationhistory/logs/iccluster070.iccluster.epfl.ch:45454/container_e06_1589299642358_3768_01_000001/container_e06_1589299642358_3768_01_000001/ebouille\">Link</a></td><td></td></tr><tr><td>9202</td><td>application_1589299642358_3769</td><td>pyspark</td><td>idle</td><td><a target=\"_blank\" href=\"http://iccluster044.iccluster.epfl.ch:8088/proxy/application_1589299642358_3769/\">Link</a></td><td><a target=\"_blank\" href=\"http://iccluster066.iccluster.epfl.ch:8042/node/containerlogs/container_e06_1589299642358_3769_01_000001/ebouille\">Link</a></td><td></td></tr><tr><td>9203</td><td>application_1589299642358_3770</td><td>pyspark</td><td>idle</td><td><a target=\"_blank\" href=\"http://iccluster044.iccluster.epfl.ch:8088/proxy/application_1589299642358_3770/\">Link</a></td><td><a target=\"_blank\" href=\"http://iccluster067.iccluster.epfl.ch:8042/node/containerlogs/container_e06_1589299642358_3770_01_000001/ebouille\">Link</a></td><td></td></tr><tr><td>9204</td><td>None</td><td>pyspark</td><td>starting</td><td></td><td></td><td></td></tr></table>"
      ],
      "text/plain": [
       "<IPython.core.display.HTML object>"
      ]
     },
     "metadata": {},
     "output_type": "display_data"
    }
   ],
   "source": [
    "%%configure\n",
    "{\"conf\": {\n",
    "    \"spark.app.name\": \"MVAY_final\"\n",
    "}}"
   ]
  },
  {
   "cell_type": "markdown",
   "metadata": {},
   "source": [
    "### Start Spark"
   ]
  },
  {
   "cell_type": "code",
   "execution_count": 2,
   "metadata": {},
   "outputs": [
    {
     "name": "stdout",
     "output_type": "stream",
     "text": [
      "Starting Spark application\n"
     ]
    },
    {
     "data": {
      "text/html": [
       "<table>\n",
       "<tr><th>ID</th><th>YARN Application ID</th><th>Kind</th><th>State</th><th>Spark UI</th><th>Driver log</th><th>Current session?</th></tr><tr><td>8901</td><td>application_1589299642358_3433</td><td>pyspark</td><td>idle</td><td><a target=\"_blank\" href=\"http://iccluster044.iccluster.epfl.ch:8088/proxy/application_1589299642358_3433/\">Link</a></td><td><a target=\"_blank\" href=\"http://iccluster068.iccluster.epfl.ch:8042/node/containerlogs/container_e06_1589299642358_3433_01_000001/ebouille\">Link</a></td><td>✔</td></tr></table>"
      ],
      "text/plain": [
       "<IPython.core.display.HTML object>"
      ]
     },
     "metadata": {},
     "output_type": "display_data"
    },
    {
     "data": {
      "application/vnd.jupyter.widget-view+json": {
       "model_id": "",
       "version_major": 2,
       "version_minor": 0
      },
      "text/plain": [
       "FloatProgress(value=0.0, bar_style='info', description='Progress:', layout=Layout(height='25px', width='50%'),…"
      ]
     },
     "metadata": {},
     "output_type": "display_data"
    },
    {
     "name": "stdout",
     "output_type": "stream",
     "text": [
      "SparkSession available as 'spark'.\n"
     ]
    },
    {
     "data": {
      "application/vnd.jupyter.widget-view+json": {
       "model_id": "",
       "version_major": 2,
       "version_minor": 0
      },
      "text/plain": [
       "FloatProgress(value=0.0, bar_style='info', description='Progress:', layout=Layout(height='25px', width='50%'),…"
      ]
     },
     "metadata": {},
     "output_type": "display_data"
    },
    {
     "name": "stdout",
     "output_type": "stream",
     "text": [
      "<pyspark.sql.session.SparkSession object at 0x7f99d00164d0>"
     ]
    }
   ],
   "source": [
    "spark"
   ]
  },
  {
   "cell_type": "code",
   "execution_count": 1,
   "metadata": {},
   "outputs": [
    {
     "name": "stdout",
     "output_type": "stream",
     "text": [
      "Starting Spark application\n"
     ]
    },
    {
     "data": {
      "text/html": [
       "<table>\n",
       "<tr><th>ID</th><th>YARN Application ID</th><th>Kind</th><th>State</th><th>Spark UI</th><th>Driver log</th><th>Current session?</th></tr><tr><td>9463</td><td>application_1589299642358_4053</td><td>pyspark</td><td>idle</td><td><a target=\"_blank\" href=\"http://iccluster044.iccluster.epfl.ch:8088/proxy/application_1589299642358_4053/\">Link</a></td><td><a target=\"_blank\" href=\"http://iccluster070.iccluster.epfl.ch:8042/node/containerlogs/container_e06_1589299642358_4053_01_000001/ebouille\">Link</a></td><td>✔</td></tr></table>"
      ],
      "text/plain": [
       "<IPython.core.display.HTML object>"
      ]
     },
     "metadata": {},
     "output_type": "display_data"
    },
    {
     "data": {
      "application/vnd.jupyter.widget-view+json": {
       "model_id": "",
       "version_major": 2,
       "version_minor": 0
      },
      "text/plain": [
       "FloatProgress(value=0.0, bar_style='info', description='Progress:', layout=Layout(height='25px', width='50%'),…"
      ]
     },
     "metadata": {},
     "output_type": "display_data"
    },
    {
     "name": "stdout",
     "output_type": "stream",
     "text": [
      "SparkSession available as 'spark'.\n"
     ]
    },
    {
     "data": {
      "application/vnd.jupyter.widget-view+json": {
       "model_id": "",
       "version_major": 2,
       "version_minor": 0
      },
      "text/plain": [
       "FloatProgress(value=0.0, bar_style='info', description='Progress:', layout=Layout(height='25px', width='50%'),…"
      ]
     },
     "metadata": {},
     "output_type": "display_data"
    }
   ],
   "source": [
    "# Import packages\n",
    "import math\n",
    "import pandas as pd\n",
    "import pyspark.sql.functions as f\n",
    "from pyspark.sql.types import FloatType, IntegerType\n",
    "import time, datetime\n",
    "import heapq\n",
    "import scipy.stats"
   ]
  },
  {
   "cell_type": "markdown",
   "metadata": {},
   "source": [
    "## Load necessary data\n",
    "\n",
    "Load the `stop_times` dataframe which includes the trips."
   ]
  },
  {
   "cell_type": "code",
   "execution_count": 2,
   "metadata": {},
   "outputs": [
    {
     "data": {
      "application/vnd.jupyter.widget-view+json": {
       "model_id": "",
       "version_major": 2,
       "version_minor": 0
      },
      "text/plain": [
       "FloatProgress(value=0.0, bar_style='info', description='Progress:', layout=Layout(height='25px', width='50%'),…"
      ]
     },
     "metadata": {},
     "output_type": "display_data"
    },
    {
     "name": "stdout",
     "output_type": "stream",
     "text": [
      "+--------------------+------------+--------------+-----------+-------------+-----------+-------------+\n",
      "|             trip_id|arrival_time|departure_time|    stop_id|stop_sequence|pickup_type|drop_off_type|\n",
      "+--------------------+------------+--------------+-----------+-------------+-----------+-------------+\n",
      "|1.TA.1-1-B-j19-1.1.R|    04:20:00|      04:20:00|8500010:0:3|            1|          0|            0|\n",
      "|1.TA.1-1-B-j19-1.1.R|    04:24:00|      04:24:00|8500020:0:3|            2|          0|            0|\n",
      "+--------------------+------------+--------------+-----------+-------------+-----------+-------------+\n",
      "only showing top 2 rows"
     ]
    }
   ],
   "source": [
    "stop_times = spark.read.orc(\"/data/sbb/timetables/orc/stop_times/\")\n",
    "stop_times.show(2)"
   ]
  },
  {
   "cell_type": "markdown",
   "metadata": {},
   "source": [
    "Load the `stops` dataframe which includes the stops and their coordinates."
   ]
  },
  {
   "cell_type": "code",
   "execution_count": 3,
   "metadata": {},
   "outputs": [
    {
     "data": {
      "application/vnd.jupyter.widget-view+json": {
       "model_id": "",
       "version_major": 2,
       "version_minor": 0
      },
      "text/plain": [
       "FloatProgress(value=0.0, bar_style='info', description='Progress:', layout=Layout(height='25px', width='50%'),…"
      ]
     },
     "metadata": {},
     "output_type": "display_data"
    },
    {
     "name": "stdout",
     "output_type": "stream",
     "text": [
      "+-------+------------+----------------+----------------+-------------+--------------+\n",
      "|stop_id|   stop_name|        stop_lat|        stop_lon|location_type|parent_station|\n",
      "+-------+------------+----------------+----------------+-------------+--------------+\n",
      "|1322000|    Altoggio|46.1672513851495|  8.345807131427|             |              |\n",
      "|1322001|Antronapiana| 46.060121674738|8.11361957990831|             |              |\n",
      "|1322002|      Anzola|45.9898698225697|8.34571729989858|             |              |\n",
      "+-------+------------+----------------+----------------+-------------+--------------+\n",
      "only showing top 3 rows"
     ]
    }
   ],
   "source": [
    "stops = spark.read.orc(\"/data/sbb/timetables/orc/stops/\") \n",
    "stops.show(3)"
   ]
  },
  {
   "cell_type": "markdown",
   "metadata": {},
   "source": [
    "Load the `calendar`  dataframe which includes the schedule for the routes."
   ]
  },
  {
   "cell_type": "code",
   "execution_count": 4,
   "metadata": {},
   "outputs": [
    {
     "data": {
      "application/vnd.jupyter.widget-view+json": {
       "model_id": "",
       "version_major": 2,
       "version_minor": 0
      },
      "text/plain": [
       "FloatProgress(value=0.0, bar_style='info', description='Progress:', layout=Layout(height='25px', width='50%'),…"
      ]
     },
     "metadata": {},
     "output_type": "display_data"
    },
    {
     "name": "stdout",
     "output_type": "stream",
     "text": [
      "+----------+------+-------+---------+--------+------+--------+------+\n",
      "|service_id|monday|tuesday|wednesday|thursday|friday|saturday|sunday|\n",
      "+----------+------+-------+---------+--------+------+--------+------+\n",
      "|  TA+b0nx9|  true|   true|     true|    true|  true|   false| false|\n",
      "|  TA+b03bf|  true|   true|     true|    true|  true|   false| false|\n",
      "|  TA+b0008|  true|   true|     true|    true|  true|   false| false|\n",
      "+----------+------+-------+---------+--------+------+--------+------+\n",
      "only showing top 3 rows"
     ]
    }
   ],
   "source": [
    "calendar = spark.read.orc(\"/data/sbb/timetables/orc/calendar/\") \n",
    "calendar.show(3)"
   ]
  },
  {
   "cell_type": "markdown",
   "metadata": {},
   "source": [
    "Load the `trips` dataframe needed for retrieving the calendar for different trips."
   ]
  },
  {
   "cell_type": "code",
   "execution_count": 5,
   "metadata": {},
   "outputs": [
    {
     "data": {
      "application/vnd.jupyter.widget-view+json": {
       "model_id": "",
       "version_major": 2,
       "version_minor": 0
      },
      "text/plain": [
       "FloatProgress(value=0.0, bar_style='info', description='Progress:', layout=Layout(height='25px', width='50%'),…"
      ]
     },
     "metadata": {},
     "output_type": "display_data"
    },
    {
     "name": "stdout",
     "output_type": "stream",
     "text": [
      "+-----------+----------+--------------------+------------------+---------------+------------+\n",
      "|   route_id|service_id|             trip_id|     trip_headsign|trip_short_name|direction_id|\n",
      "+-----------+----------+--------------------+------------------+---------------+------------+\n",
      "|1-1-C-j19-1|  TA+b0001|5.TA.1-1-C-j19-1.3.R|Zofingen, Altachen|            108|           1|\n",
      "|1-1-C-j19-1|  TA+b0001|7.TA.1-1-C-j19-1.3.R|Zofingen, Altachen|            112|           1|\n",
      "|1-1-C-j19-1|  TA+b0001|9.TA.1-1-C-j19-1.3.R|Zofingen, Altachen|            116|           1|\n",
      "+-----------+----------+--------------------+------------------+---------------+------------+\n",
      "only showing top 3 rows"
     ]
    }
   ],
   "source": [
    "trips = spark.read.orc(\"/data/sbb/timetables/orc/trips/\") \n",
    "trips.show(3)"
   ]
  },
  {
   "cell_type": "markdown",
   "metadata": {},
   "source": [
    "Load the `routes` dataframe in order to be able to retrieve the transportation type."
   ]
  },
  {
   "cell_type": "code",
   "execution_count": 6,
   "metadata": {},
   "outputs": [
    {
     "data": {
      "application/vnd.jupyter.widget-view+json": {
       "model_id": "",
       "version_major": 2,
       "version_minor": 0
      },
      "text/plain": [
       "FloatProgress(value=0.0, bar_style='info', description='Progress:', layout=Layout(height='25px', width='50%'),…"
      ]
     },
     "metadata": {},
     "output_type": "display_data"
    },
    {
     "name": "stdout",
     "output_type": "stream",
     "text": [
      "+-----------+---------+----------------+---------------+----------+----------+\n",
      "|   route_id|agency_id|route_short_name|route_long_name|route_desc|route_type|\n",
      "+-----------+---------+----------------+---------------+----------+----------+\n",
      "|11-40-j19-1|      801|             040|               |       Bus|       700|\n",
      "|11-61-j19-1|     7031|             061|               |       Bus|       700|\n",
      "|11-62-j19-1|     7031|             062|               |       Bus|       700|\n",
      "+-----------+---------+----------------+---------------+----------+----------+\n",
      "only showing top 3 rows"
     ]
    }
   ],
   "source": [
    "routes =  spark.read.orc(\"/data/sbb/timetables/orc/routes/\") \n",
    "routes.show(3)"
   ]
  },
  {
   "cell_type": "markdown",
   "metadata": {},
   "source": [
    "Load the `transfers` dataframe to get the time that it takes to walk between two stops."
   ]
  },
  {
   "cell_type": "code",
   "execution_count": 7,
   "metadata": {},
   "outputs": [
    {
     "data": {
      "application/vnd.jupyter.widget-view+json": {
       "model_id": "",
       "version_major": 2,
       "version_minor": 0
      },
      "text/plain": [
       "FloatProgress(value=0.0, bar_style='info', description='Progress:', layout=Layout(height='25px', width='50%'),…"
      ]
     },
     "metadata": {},
     "output_type": "display_data"
    },
    {
     "name": "stdout",
     "output_type": "stream",
     "text": [
      "+------------+-----------+-------------+-----------------+\n",
      "|from_stop_id| to_stop_id|transfer_type|min_transfer_time|\n",
      "+------------+-----------+-------------+-----------------+\n",
      "| 8500309:0:2|8500309:0:4|            2|              180|\n",
      "| 8500309:0:2|8500309:0:5|            2|              180|\n",
      "| 8500309:0:2|8500309:0:3|            2|              180|\n",
      "+------------+-----------+-------------+-----------------+\n",
      "only showing top 3 rows"
     ]
    }
   ],
   "source": [
    "transfers = spark.read.orc(\"/data/sbb/timetables/orc/transfers/\")\n",
    "transfers.show(3)"
   ]
  },
  {
   "cell_type": "markdown",
   "metadata": {},
   "source": [
    "## Cleaning the data"
   ]
  },
  {
   "cell_type": "markdown",
   "metadata": {},
   "source": [
    "### Filter calendar\n",
    "\n",
    "The `calendar` dataframe is filtered to only include trips that go every monday-friday."
   ]
  },
  {
   "cell_type": "code",
   "execution_count": 8,
   "metadata": {},
   "outputs": [
    {
     "data": {
      "application/vnd.jupyter.widget-view+json": {
       "model_id": "",
       "version_major": 2,
       "version_minor": 0
      },
      "text/plain": [
       "FloatProgress(value=0.0, bar_style='info', description='Progress:', layout=Layout(height='25px', width='50%'),…"
      ]
     },
     "metadata": {},
     "output_type": "display_data"
    }
   ],
   "source": [
    "# Filter the calendar to only include services that have the schedlue mon-fri\n",
    "calendar_filt = calendar.filter((calendar.monday == True) & (calendar.tuesday == True)\n",
    "                                & (calendar.wednesday == True) & (calendar.thursday == True) \n",
    "                                & (calendar.friday == True) & (calendar.saturday == False) \n",
    "                                & (calendar.sunday == False))"
   ]
  },
  {
   "cell_type": "markdown",
   "metadata": {},
   "source": [
    "### Filter trips\n",
    "\n",
    "The `trips` dataframe is joined with the filtered `calendar` dataframe such that it only includes trips that go monday-friday."
   ]
  },
  {
   "cell_type": "code",
   "execution_count": 9,
   "metadata": {},
   "outputs": [
    {
     "data": {
      "application/vnd.jupyter.widget-view+json": {
       "model_id": "",
       "version_major": 2,
       "version_minor": 0
      },
      "text/plain": [
       "FloatProgress(value=0.0, bar_style='info', description='Progress:', layout=Layout(height='25px', width='50%'),…"
      ]
     },
     "metadata": {},
     "output_type": "display_data"
    },
    {
     "name": "stdout",
     "output_type": "stream",
     "text": [
      "+----------+-----------+--------------------+----------+----------+\n",
      "|service_id|   route_id|             trip_id|route_desc|route_type|\n",
      "+----------+-----------+--------------------+----------+----------+\n",
      "|  TA+b0003|1-305-j19-1|12.TA.1-305-j19-1...|       Bus|       700|\n",
      "|  TA+b0003|1-305-j19-1|14.TA.1-305-j19-1...|       Bus|       700|\n",
      "|  TA+b0003|1-305-j19-1|20.TA.1-305-j19-1...|       Bus|       700|\n",
      "+----------+-----------+--------------------+----------+----------+\n",
      "only showing top 3 rows"
     ]
    }
   ],
   "source": [
    "# Get the service_ids that have the calendar mon-fri\n",
    "ids = calendar_filt.select(calendar_filt.service_id).distinct()\n",
    "\n",
    "# Filter the trips df to only include mon-fri schedules and keep only relevant columns and join with routes df to show transportation medium.\n",
    "trips_filt = trips.join(ids, 'service_id', 'inner').select(['service_id', 'route_id', 'trip_id'])\n",
    "trips_filt = trips_filt.join(routes, 'route_id', 'inner').select(['service_id', 'route_id', 'trip_id','route_desc','route_type'])\n",
    "trips_filt.show(3)"
   ]
  },
  {
   "cell_type": "markdown",
   "metadata": {},
   "source": [
    "### Filter stops\n",
    "\n",
    "Filtering the `stops` dataset for stations within a 15km radius from Zürich HB."
   ]
  },
  {
   "cell_type": "markdown",
   "metadata": {},
   "source": [
    "To be able to use our user defined haversine formula, we add two columns to the dataframe that include the latitude and longitude values of Zurich HB and we convert the four columns that include latitude and longitude value to floats. "
   ]
  },
  {
   "cell_type": "code",
   "execution_count": 10,
   "metadata": {},
   "outputs": [
    {
     "data": {
      "application/vnd.jupyter.widget-view+json": {
       "model_id": "",
       "version_major": 2,
       "version_minor": 0
      },
      "text/plain": [
       "FloatProgress(value=0.0, bar_style='info', description='Progress:', layout=Layout(height='25px', width='50%'),…"
      ]
     },
     "metadata": {},
     "output_type": "display_data"
    },
    {
     "name": "stdout",
     "output_type": "stream",
     "text": [
      "+-------+------------+---------+--------+-------------+--------------+---------+--------+\n",
      "|stop_id|   stop_name| stop_lat|stop_lon|location_type|parent_station|  lat_zur| lon_zur|\n",
      "+-------+------------+---------+--------+-------------+--------------+---------+--------+\n",
      "|1322000|    Altoggio| 46.16725|8.345807|             |              |47.378178|8.540192|\n",
      "|1322001|Antronapiana|46.060123| 8.11362|             |              |47.378178|8.540192|\n",
      "|1322002|      Anzola| 45.98987|8.345717|             |              |47.378178|8.540192|\n",
      "+-------+------------+---------+--------+-------------+--------------+---------+--------+\n",
      "only showing top 3 rows"
     ]
    }
   ],
   "source": [
    "# Define the latitude and longitude for Zurich HB\n",
    "lat_zur = 47.378177\n",
    "lon_zur = 8.540192\n",
    "\n",
    "# Add columns with Zurich HB lat & lon values\n",
    "temp_stops = stops.withColumn('lat_zur', f.lit(lat_zur))\n",
    "temp_stops = temp_stops.withColumn('lon_zur', f.lit(lon_zur))\n",
    "\n",
    "# Make sure that the columns for calculating distance are as floats\n",
    "temp_stops = temp_stops.withColumn('stop_lat', temp_stops.stop_lat.cast(\"float\"))\\\n",
    "                        .withColumn('stop_lon', temp_stops.stop_lon.cast(\"float\"))\\\n",
    "                        .withColumn('lat_zur', temp_stops.lat_zur.cast(\"float\"))\\\n",
    "                        .withColumn('lon_zur', temp_stops.lon_zur.cast(\"float\"))\n",
    "\n",
    "temp_stops.show(3)"
   ]
  },
  {
   "cell_type": "markdown",
   "metadata": {},
   "source": [
    "We are using the haversine formula in a user defined function to calculate the distance in kilometers between two latitude and longitude values."
   ]
  },
  {
   "cell_type": "code",
   "execution_count": 11,
   "metadata": {},
   "outputs": [
    {
     "data": {
      "application/vnd.jupyter.widget-view+json": {
       "model_id": "",
       "version_major": 2,
       "version_minor": 0
      },
      "text/plain": [
       "FloatProgress(value=0.0, bar_style='info', description='Progress:', layout=Layout(height='25px', width='50%'),…"
      ]
     },
     "metadata": {},
     "output_type": "display_data"
    }
   ],
   "source": [
    "# Function for calculating the distance between each stop and Zurich HB\n",
    "def calc_dist(lat_1, lat_2, lon_1, lon_2):\n",
    "    R = 6371 \n",
    "    dLat = math.radians(lat_1 - lat_2)\n",
    "    dLon = math.radians(lon_1 - lon_2)\n",
    "    a = math.sin(dLat/2) * math.sin(dLat/2) + math.cos(math.radians(lat_2)) \\\n",
    "        * math.cos(math.radians(lat_1)) * math.sin(dLon/2) * math.sin(dLon/2)\n",
    "    c = 2 * math.atan2(math.sqrt(a), math.sqrt(1-a))\n",
    "    return R * c"
   ]
  },
  {
   "cell_type": "markdown",
   "metadata": {},
   "source": [
    "The distance from each stop to Zurich HB is calculated and then we filter to only include stops within a 15 km radius."
   ]
  },
  {
   "cell_type": "code",
   "execution_count": 15,
   "metadata": {},
   "outputs": [
    {
     "data": {
      "application/vnd.jupyter.widget-view+json": {
       "model_id": "",
       "version_major": 2,
       "version_minor": 0
      },
      "text/plain": [
       "FloatProgress(value=0.0, bar_style='info', description='Progress:', layout=Layout(height='25px', width='50%'),…"
      ]
     },
     "metadata": {},
     "output_type": "display_data"
    }
   ],
   "source": [
    "# User defined function\n",
    "udf_func = f.udf(calc_dist, FloatType())\n",
    "\n",
    "# Add distance from each stop to Zurich HB in a new column\n",
    "stops_filt = temp_stops.withColumn('dist_zurich_km', \n",
    "                                   udf_func(temp_stops.lat_zur, temp_stops.stop_lat, \n",
    "                                            temp_stops.lon_zur, temp_stops.stop_lon))\\\n",
    "                        .drop(*['lat_zur', 'lon_zur'])\n",
    "\n",
    "# Filter for stops within 15 km radius from Zurich HB\n",
    "stops_filt = stops_filt.filter(stops_filt.dist_zurich_km <= 15.0)"
   ]
  },
  {
   "cell_type": "markdown",
   "metadata": {},
   "source": [
    "### Filter stop_times\n",
    "\n",
    "#### Weekday trips\n",
    "The `stop_times` dataframe is joined with the filtered  `trips` dataframe to only include the trips are scheduled monday to friday."
   ]
  },
  {
   "cell_type": "code",
   "execution_count": 13,
   "metadata": {},
   "outputs": [
    {
     "data": {
      "application/vnd.jupyter.widget-view+json": {
       "model_id": "",
       "version_major": 2,
       "version_minor": 0
      },
      "text/plain": [
       "FloatProgress(value=0.0, bar_style='info', description='Progress:', layout=Layout(height='25px', width='50%'),…"
      ]
     },
     "metadata": {},
     "output_type": "display_data"
    },
    {
     "name": "stdout",
     "output_type": "stream",
     "text": [
      "+--------------------+------------+--------------+-------+-------------+----------+------------+----------+----------+\n",
      "|             trip_id|arrival_time|departure_time|stop_id|stop_sequence|service_id|    route_id|route_desc|route_type|\n",
      "+--------------------+------------+--------------+-------+-------------+----------+------------+----------+----------+\n",
      "|1.TA.16-440-j19-1...|    06:30:00|      06:30:00|8574776|            1|  TA+b0ei3|16-440-j19-1|       Bus|       700|\n",
      "|1.TA.16-440-j19-1...|    06:32:00|      06:32:00|8509650|            2|  TA+b0ei3|16-440-j19-1|       Bus|       700|\n",
      "|1.TA.16-440-j19-1...|    06:32:00|      06:32:00|8574777|            3|  TA+b0ei3|16-440-j19-1|       Bus|       700|\n",
      "+--------------------+------------+--------------+-------+-------------+----------+------------+----------+----------+\n",
      "only showing top 3 rows"
     ]
    }
   ],
   "source": [
    "temp_filt = stop_times.join(trips_filt, 'trip_id', 'inner').drop(*['pickup_type', 'drop_off_type'])\n",
    "temp_filt.show(3)"
   ]
  },
  {
   "cell_type": "markdown",
   "metadata": {},
   "source": [
    "#### Within 15km radius\n",
    "\n",
    "The `stop_times` dataframe is also joined with the filtered `stops` dataframe, such that it only include stops that are within the 15km radius of Zurich HB."
   ]
  },
  {
   "cell_type": "code",
   "execution_count": 16,
   "metadata": {},
   "outputs": [
    {
     "data": {
      "application/vnd.jupyter.widget-view+json": {
       "model_id": "",
       "version_major": 2,
       "version_minor": 0
      },
      "text/plain": [
       "FloatProgress(value=0.0, bar_style='info', description='Progress:', layout=Layout(height='25px', width='50%'),…"
      ]
     },
     "metadata": {},
     "output_type": "display_data"
    },
    {
     "name": "stdout",
     "output_type": "stream",
     "text": [
      "+-----------+--------------------+------------+--------------+-------------+----------+------------+----------+--------------------+---------+--------+--------------+\n",
      "|    stop_id|             trip_id|arrival_time|departure_time|stop_sequence|service_id|    route_id|route_desc|           stop_name| stop_lat|stop_lon|parent_station|\n",
      "+-----------+--------------------+------------+--------------+-------------+----------+------------+----------+--------------------+---------+--------+--------------+\n",
      "|8503855:0:F|1005.TA.26-131-j1...|    16:14:00|      16:14:00|            1|  TA+b0nfm|26-131-j19-1|       Bus|     Horgen, Bahnhof|47.261856|8.596976|      8503855P|\n",
      "|    8589111|1005.TA.26-131-j1...|    16:15:00|      16:15:00|            2|  TA+b0nfm|26-131-j19-1|       Bus|Horgen, Gumelenst...|47.260857|8.592305|              |\n",
      "|    8573553|1005.TA.26-131-j1...|    16:16:00|      16:16:00|            3|  TA+b0nfm|26-131-j19-1|       Bus|     Horgen, Stocker|47.261517|8.588927|              |\n",
      "+-----------+--------------------+------------+--------------+-------------+----------+------------+----------+--------------------+---------+--------+--------------+\n",
      "only showing top 3 rows"
     ]
    }
   ],
   "source": [
    "stop_times_filt = temp_filt.join(stops_filt, 'stop_id', 'inner').drop(*['location_type', 'dist_zurich_km','route_type'])\n",
    "stop_times_filt.show(3)"
   ]
  },
  {
   "cell_type": "markdown",
   "metadata": {},
   "source": [
    " Now it's important to keep in mind that this `stop_times_filt`  df likely has some gaps in the trips. If a trip goes out of the 15km radius and then returns back within the 15 km radius, there are going to be numbers missing in the *stop_sequence* for the trip at question. For simplicity reasons, in the graph construction, we did not incorporate trips that go out of the 15km radius."
   ]
  },
  {
   "cell_type": "markdown",
   "metadata": {},
   "source": [
    "#### Journey times within buisness hours"
   ]
  },
  {
   "cell_type": "markdown",
   "metadata": {},
   "source": [
    "The `stop_times` dataframe is further filtered to only include business hours: 8AM to 5PM. However we also include the hour 7AM to 8AM since a person needs some time to travel in order to arrive at their destination. If one wants to arrive at 8AM, they may have to leave an hour in advance."
   ]
  },
  {
   "cell_type": "code",
   "execution_count": 17,
   "metadata": {},
   "outputs": [
    {
     "data": {
      "application/vnd.jupyter.widget-view+json": {
       "model_id": "",
       "version_major": 2,
       "version_minor": 0
      },
      "text/plain": [
       "FloatProgress(value=0.0, bar_style='info', description='Progress:', layout=Layout(height='25px', width='50%'),…"
      ]
     },
     "metadata": {},
     "output_type": "display_data"
    },
    {
     "name": "stdout",
     "output_type": "stream",
     "text": [
      "+-----------+--------------------+------------+--------------+-------------+----------+------------+----------+--------------------+---------+--------+--------------+\n",
      "|    stop_id|             trip_id|arrival_time|departure_time|stop_sequence|service_id|    route_id|route_desc|           stop_name| stop_lat|stop_lon|parent_station|\n",
      "+-----------+--------------------+------------+--------------+-------------+----------+------------+----------+--------------------+---------+--------+--------------+\n",
      "|8503855:0:F|1005.TA.26-131-j1...|    16:14:00|      16:14:00|            1|  TA+b0nfm|26-131-j19-1|       Bus|     Horgen, Bahnhof|47.261856|8.596976|      8503855P|\n",
      "|    8589111|1005.TA.26-131-j1...|    16:15:00|      16:15:00|            2|  TA+b0nfm|26-131-j19-1|       Bus|Horgen, Gumelenst...|47.260857|8.592305|              |\n",
      "|    8573553|1005.TA.26-131-j1...|    16:16:00|      16:16:00|            3|  TA+b0nfm|26-131-j19-1|       Bus|     Horgen, Stocker|47.261517|8.588927|              |\n",
      "+-----------+--------------------+------------+--------------+-------------+----------+------------+----------+--------------------+---------+--------+--------------+\n",
      "only showing top 3 rows"
     ]
    }
   ],
   "source": [
    "# Creating 2 columns where time is int type\n",
    "stop_times_filt = stop_times_filt.withColumn('ar', stop_times_filt.arrival_time.substr(1, 2)\\\n",
    "                                                                     .cast(IntegerType()))\n",
    "stop_times_filt = stop_times_filt.withColumn('dep', stop_times_filt.departure_time.substr(1, 2)\\\n",
    "                                                                    .cast(IntegerType()))\n",
    "\n",
    "# Filter such that we only keep times between 8-17\n",
    "stop_times_filt = stop_times_filt.where((stop_times_filt.ar >= 7) \n",
    "                                        & (stop_times_filt.ar <= 17) \n",
    "                                        & (stop_times_filt.dep <= 17) \n",
    "                                        & (stop_times_filt.dep >= 7))\n",
    "\n",
    "stop_times_filt = stop_times_filt.drop(*['ar', 'dep'])\n",
    "\n",
    "stop_times_filt.cache()\n",
    "stop_times_filt.show(3)"
   ]
  },
  {
   "cell_type": "markdown",
   "metadata": {},
   "source": [
    "## Create the timetable\n",
    "\n",
    "Re-format the  `stop_times_filt` dataframe and group it such that we get a timetable in the desired format for creating the graph. "
   ]
  },
  {
   "cell_type": "code",
   "execution_count": 18,
   "metadata": {},
   "outputs": [
    {
     "data": {
      "application/vnd.jupyter.widget-view+json": {
       "model_id": "",
       "version_major": 2,
       "version_minor": 0
      },
      "text/plain": [
       "FloatProgress(value=0.0, bar_style='info', description='Progress:', layout=Layout(height='25px', width='50%'),…"
      ]
     },
     "metadata": {},
     "output_type": "display_data"
    }
   ],
   "source": [
    "# Convert timestamps to unix timestamp format\n",
    "timetable_data = stop_times_filt.withColumn('arrival_time', f.unix_timestamp(stop_times_filt.arrival_time, 'HH:mm:ss'))\n",
    "timetable_data = timetable_data.withColumn('departure_time', f.unix_timestamp(timetable_data.departure_time, 'HH:mm:ss'))"
   ]
  },
  {
   "cell_type": "code",
   "execution_count": 19,
   "metadata": {},
   "outputs": [
    {
     "data": {
      "application/vnd.jupyter.widget-view+json": {
       "model_id": "",
       "version_major": 2,
       "version_minor": 0
      },
      "text/plain": [
       "FloatProgress(value=0.0, bar_style='info', description='Progress:', layout=Layout(height='25px', width='50%'),…"
      ]
     },
     "metadata": {},
     "output_type": "display_data"
    },
    {
     "name": "stdout",
     "output_type": "stream",
     "text": [
      "+--------------------+--------------------+--------------------+--------------------+--------------------+--------------------+--------------------+\n",
      "|             trip_id|            stop_ids|       stop_sequence|       arrival_times|     departure_times|                lats|                lons|\n",
      "+--------------------+--------------------+--------------------+--------------------+--------------------+--------------------+--------------------+\n",
      "|1005.TA.26-131-j1...|[8503855:0:F, 858...|[1, 2, 3, 4, 5, 6...|[54840, 54900, 54...|[54840, 54900, 54...|[47.261856, 47.26...|[8.596976, 8.5923...|\n",
      "|103.TA.26-925-j19...|  [8576082, 8576080]|            [20, 21]|      [23880, 24120]|      [23880, 24120]|[47.26727, 47.26944]|[8.650713, 8.644883]|\n",
      "|104.TA.26-733-j19...|[8573205:0:D, 858...|[1, 2, 3, 4, 5, 6...|[23580, 23580, 23...|[23580, 23580, 23...|[47.450684, 47.45...|[8.563729, 8.5656...|\n",
      "+--------------------+--------------------+--------------------+--------------------+--------------------+--------------------+--------------------+\n",
      "only showing top 3 rows"
     ]
    }
   ],
   "source": [
    "# Group the data\n",
    "timetable = timetable_data.groupBy(['trip_id']).agg(f.collect_list('stop_id').alias('stop_ids'), \n",
    "                                                    f.collect_list('stop_sequence').alias('stop_sequence'), \n",
    "                                                    f.collect_list('arrival_time').alias('arrival_times'), \n",
    "                                                    f.collect_list('departure_time').alias('departure_times'), \n",
    "                                                    f.collect_list('stop_lat').alias('lats'), \n",
    "                                                    f.collect_list('stop_lon').alias('lons'))\n",
    "timetable.show(3)"
   ]
  },
  {
   "cell_type": "markdown",
   "metadata": {},
   "source": [
    "## Building the connected graph of stops\n",
    "\n",
    "With the timetable, we create a directed graph where each node represents a stop and the edges show the available routes between stops."
   ]
  },
  {
   "cell_type": "code",
   "execution_count": 20,
   "metadata": {},
   "outputs": [
    {
     "data": {
      "application/vnd.jupyter.widget-view+json": {
       "model_id": "",
       "version_major": 2,
       "version_minor": 0
      },
      "text/plain": [
       "FloatProgress(value=0.0, bar_style='info', description='Progress:', layout=Layout(height='25px', width='50%'),…"
      ]
     },
     "metadata": {},
     "output_type": "display_data"
    }
   ],
   "source": [
    "timetable_df = timetable.toPandas()"
   ]
  },
  {
   "cell_type": "code",
   "execution_count": 21,
   "metadata": {},
   "outputs": [
    {
     "data": {
      "application/vnd.jupyter.widget-view+json": {
       "model_id": "",
       "version_major": 2,
       "version_minor": 0
      },
      "text/plain": [
       "FloatProgress(value=0.0, bar_style='info', description='Progress:', layout=Layout(height='25px', width='50%'),…"
      ]
     },
     "metadata": {},
     "output_type": "display_data"
    }
   ],
   "source": [
    "#The class Stop maintains the necessary information about a transportation stop\n",
    "\n",
    "class Stop:\n",
    "    def __init__(self, ID, lat, lon, numInterval):\n",
    "        self.id = ID\n",
    "        self.lat = lat\n",
    "        self.lon = lon\n",
    "        self.connections = {}\n",
    "        self.walking = {}\n",
    "        self.numInterval = numInterval\n",
    "        self.probs = [(0, 0) for x in range(numInterval)]\n",
    "   \n",
    "    #Add an edge to a stop\n",
    "    def addConnection(self, conn, times, tripID):\n",
    "        if conn in self.connections.keys():\n",
    "            self.connections[conn].append((times, tripID))\n",
    "        else:\n",
    "            self.connections[conn] = [(times, tripID)]\n",
    "    \n",
    "    #For a connection, add its full timetable\n",
    "    def setTimes(self, conn, times):\n",
    "        self.connections[conn] = times\n",
    "    \n",
    "    #remove a particular trip to another stop given the departure/arrival time and trip ID\n",
    "    def removeEdge(self, conn, times, tripID):\n",
    "        if conn in self.connections.keys():\n",
    "            ind = -1\n",
    "            for i in range(len(self.connections[conn])):\n",
    "                if self.connections[conn][i][1] == tripID:\n",
    "                    ind = i\n",
    "            if ind == -1:\n",
    "                print(\"trip not found\")\n",
    "            self.connections[conn].pop(ind)\n",
    "        else:\n",
    "            print(\"connection not found\")\n",
    "            \n",
    "    #remove a connection entirely  \n",
    "    def removeConnection(self, conn):\n",
    "        self.connections[conn] = []\n",
    "    \n",
    "    #toString function (used to debug, doesn't acutally work)\n",
    "    def toString(self):\n",
    "        res = '\\t stop ' + str(self.id) + \": \\n\"\n",
    "        for key, val in self.connections:\n",
    "            res += '\\t \\t ' + key + 'at times ' + val.toString()\n",
    "        return res\n",
    "    \n",
    "    #Add a walkable edge given the walk time\n",
    "    def walkTo(self, conn, walkTime):\n",
    "        if conn in self.walking.keys():\n",
    "            return\n",
    "        else:\n",
    "            self.walking[conn] = walkTime\n",
    "            \n",
    "    #returns all stops within walking distance and their walk time\n",
    "    def getWalk(self):\n",
    "        return self.walking\n",
    "    \n",
    "    \n",
    "    #Following getters. returns requested information regarding this stop\n",
    "    \n",
    "    def getAllConnections(self):\n",
    "        return self.connections.keys()\n",
    "    \n",
    "    def getTimes(self, conn):\n",
    "        if conn not in self.connections.keys():\n",
    "            print(\"Connections not found\")\n",
    "            return None\n",
    "        else:\n",
    "            return self.connections[conn]\n",
    "        \n",
    "    def getLoc(self):\n",
    "        return self.lat, self.lon\n",
    "\n",
    "    def getID(self):\n",
    "        return self.id\n",
    "    \n",
    "    \n",
    "    #DEPRECATED\n",
    "    #this was from an old implementation which includes the uncertainty level\n",
    "    #It's no long in use. We leave it here in case we want to combine the \n",
    "    #two methods in the future for a more efficient version \n",
    "    \n",
    "    def addProbList(self, probs):\n",
    "        if(len(probs) != self.numInterval):\n",
    "            print(\"length mismatch\")\n",
    "        else:\n",
    "            self.probs = probs\n",
    "    def addProb(self, index, mean, std):\n",
    "        if(index >= self.numInterval):\n",
    "            print(\"index out of bound\")\n",
    "        else:\n",
    "            self.probs[index] = (mean, std)\n",
    "            \n",
    "    def getProbList(self):\n",
    "        return self.probs\n",
    "    \n",
    "    def getProb(self, index):\n",
    "        if(index >= self.numInterval):\n",
    "            print(\"index out of bound\")\n",
    "        else:\n",
    "            return self.probs[index]\n",
    "    \n",
    "   "
   ]
  },
  {
   "cell_type": "code",
   "execution_count": 23,
   "metadata": {},
   "outputs": [
    {
     "data": {
      "application/vnd.jupyter.widget-view+json": {
       "model_id": "",
       "version_major": 2,
       "version_minor": 0
      },
      "text/plain": [
       "FloatProgress(value=0.0, bar_style='info', description='Progress:', layout=Layout(height='25px', width='50%'),…"
      ]
     },
     "metadata": {},
     "output_type": "display_data"
    }
   ],
   "source": [
    "#The class Network  maintains the graph structure of our transportation network \n",
    "\n",
    "\n",
    "class Network:\n",
    "    \n",
    "    \n",
    "    #- self.stops maintains the list of stops in this network. \n",
    "    #  It is a dictionary with stop_id as its key and Stop object as its value\n",
    "    #- numStops the number of stops\n",
    "    #- numInterval: DEPRECATED\n",
    "    \n",
    "    \n",
    "    def __init__(self, numInterval):\n",
    "        self.stops = {}\n",
    "        self.numStops = 0\n",
    "        self.numInterval = numInterval\n",
    "        \n",
    "    \n",
    "    \n",
    "    #Given a stop ID (string), check if the stop is in the network\n",
    "    \n",
    "    def isIn(self, ID):\n",
    "        if ID in self.stops:\n",
    "            return True\n",
    "        else:\n",
    "            return False\n",
    "        \n",
    "    \n",
    "    #Add a stop to the network given its location and ID\n",
    "       \n",
    "    def addStop(self, ID, lat, lon):\n",
    "        self.numStops += 1\n",
    "        newStop = Stop(ID, lat, lon, self.numInterval)\n",
    "        self.stops[ID] = newStop\n",
    "        return newStop\n",
    "    \n",
    "    \n",
    "    #remove the connectino between s and t altogehter\n",
    "    \n",
    "    def removeConnection(self, s, t):\n",
    "        self.stops[s].removeConnection(t)\n",
    "            \n",
    "           \n",
    "    \n",
    "    #Remove only one trip between the two stops\n",
    "           \n",
    "    def removeEdge(self, s, t, time, tripID):\n",
    "        self.stops[s].removeEdge(t, time, tripID)\n",
    "        \n",
    "        \n",
    "    \n",
    "    #Add a trip between the two stops\n",
    "    \n",
    "    def addEdge(self, source, dest, time, tripID):\n",
    "        self.stops[source].addConnection(dest, time, tripID)\n",
    "        \n",
    "        \n",
    "    \n",
    "    #Add a walkable edge between two stops given the walk time\n",
    "       \n",
    "    def addWalkEdge(self, source, dest, walkTime):\n",
    "        self.stops[source].walkTo(dest, walkTime)\n",
    "        \n",
    "        \n",
    "    \n",
    "    #Set the time table between two stops\n",
    "    #Will overwrite old time table if exists\n",
    "        \n",
    "    def setTime(self, s, t, times):\n",
    "        self.stops[s].setTimes(t, times)\n",
    "        \n",
    "    \n",
    "    #Getters: returns the requested information\n",
    "    \n",
    "    \n",
    "    #returns a stop object given its ID\n",
    "    def getStop(self, ID):\n",
    "        if ID in self.stops.keys():\n",
    "            return self.stops[ID]\n",
    "        else:\n",
    "            print('stop not found ' + str(ID))\n",
    "            #print(ID)\n",
    "            return None      \n",
    "    #Get the entire timetable between two stops\n",
    "    def getAllTime(self, s, t):\n",
    "        return self.stops[s].getTimes(t)\n",
    "\n",
    "    #returns the list of stops\n",
    "    def getAllStops(self):\n",
    "        return self.stops.keys()\n",
    "    \n",
    "    def getNumStop(self):\n",
    "        return self.numStops\n",
    "    \n",
    "    def toString(self):\n",
    "        res = 'Number of stops: ' + str(self.numStops) + '\\n'\n",
    "        for key, val in self.stops:\n",
    "            res += 'Stop ' + key + ' connectecd to: ' + val.toString()\n",
    "    \n",
    "    def addProbList(self, stop, probs):\n",
    "        self.stops[stop].addProbList(probs)\n",
    "    \n",
    "    def addProb(self, stop, mean, std):\n",
    "        self.stops[stop].addProb(mean, std)"
   ]
  },
  {
   "cell_type": "code",
   "execution_count": 24,
   "metadata": {},
   "outputs": [
    {
     "data": {
      "application/vnd.jupyter.widget-view+json": {
       "model_id": "",
       "version_major": 2,
       "version_minor": 0
      },
      "text/plain": [
       "FloatProgress(value=0.0, bar_style='info', description='Progress:', layout=Layout(height='25px', width='50%'),…"
      ]
     },
     "metadata": {},
     "output_type": "display_data"
    }
   ],
   "source": [
    "network = Network(7)"
   ]
  },
  {
   "cell_type": "code",
   "execution_count": 25,
   "metadata": {},
   "outputs": [
    {
     "data": {
      "application/vnd.jupyter.widget-view+json": {
       "model_id": "",
       "version_major": 2,
       "version_minor": 0
      },
      "text/plain": [
       "FloatProgress(value=0.0, bar_style='info', description='Progress:', layout=Layout(height='25px', width='50%'),…"
      ]
     },
     "metadata": {},
     "output_type": "display_data"
    }
   ],
   "source": [
    "#Given a stop sequence s, the function isFullTrip(s) return \n",
    "#- True if the given sequence is complete \n",
    "#- False otherwise\n",
    "\n",
    "def isFullTrip(seq):\n",
    "    for i in range(len(seq) - 1):\n",
    "        if int(seq[i + 1]) - int(seq[i]) is not 1:\n",
    "            return False\n",
    "    return True"
   ]
  },
  {
   "cell_type": "code",
   "execution_count": 26,
   "metadata": {},
   "outputs": [
    {
     "data": {
      "application/vnd.jupyter.widget-view+json": {
       "model_id": "",
       "version_major": 2,
       "version_minor": 0
      },
      "text/plain": [
       "FloatProgress(value=0.0, bar_style='info', description='Progress:', layout=Layout(height='25px', width='50%'),…"
      ]
     },
     "metadata": {},
     "output_type": "display_data"
    },
    {
     "name": "stdout",
     "output_type": "stream",
     "text": [
      "<__builtin__.Stop instance at 0x7f6af6595950>\n",
      "<__builtin__.Stop instance at 0x7f6af65957a0>\n",
      "<__builtin__.Stop instance at 0x7f6b640f8128>\n",
      "<__builtin__.Stop instance at 0x7f6b640f8050>\n",
      "<__builtin__.Stop instance at 0x7f6b640f80e0>\n",
      "<__builtin__.Stop instance at 0x7f6b640f8290>\n",
      "<__builtin__.Stop instance at 0x7f6b640f8200>\n",
      "<__builtin__.Stop instance at 0x7f6b640f84d0>\n",
      "<__builtin__.Stop instance at 0x7f6b640f83b0>\n",
      "<__builtin__.Stop instance at 0x7f6b640f8830>\n",
      "<__builtin__.Stop instance at 0x7f6b640f8c68>\n",
      "<__builtin__.Stop instance at 0x7f6b640f8950>\n",
      "<__builtin__.Stop instance at 0x7f6b640f8ef0>\n",
      "<__builtin__.Stop instance at 0x7f6b640f8710>\n",
      "<__builtin__.Stop instance at 0x7f6b640f8680>\n",
      "<__builtin__.Stop instance at 0x7f6b640f89e0>\n",
      "<__builtin__.Stop instance at 0x7f6b640f88c0>\n",
      "<__builtin__.Stop instance at 0x7f6b640f8518>\n",
      "<__builtin__.Stop instance at 0x7f6b640f8cf8>\n",
      "<__builtin__.Stop instance at 0x7f6b640f8dd0>\n",
      "<__builtin__.Stop instance at 0x7f6b640f8c20>\n",
      "<__builtin__.Stop instance at 0x7f6b53525ef0>\n",
      "<__builtin__.Stop instance at 0x7f6b61b18bd8>\n",
      "<__builtin__.Stop instance at 0x7f6b61b18f38>\n",
      "<__builtin__.Stop instance at 0x7f6b61b18ea8>\n",
      "<__builtin__.Stop instance at 0x7f6b61b18fc8>\n",
      "<__builtin__.Stop instance at 0x7f6b61b18170>\n",
      "<__builtin__.Stop instance at 0x7f6b61b18248>\n",
      "<__builtin__.Stop instance at 0x7f6b64548758>\n",
      "<__builtin__.Stop instance at 0x7f6b61b183b0>\n",
      "<__builtin__.Stop instance at 0x7f6b61b18560>\n",
      "<__builtin__.Stop instance at 0x7f6b61b18440>\n",
      "<__builtin__.Stop instance at 0x7f6b640eecf8>\n",
      "<__builtin__.Stop instance at 0x7f6b640eec68>\n",
      "<__builtin__.Stop instance at 0x7f6b640eed88>\n",
      "<__builtin__.Stop instance at 0x7f6b640eefc8>\n",
      "<__builtin__.Stop instance at 0x7f6b5d0f2050>\n",
      "<__builtin__.Stop instance at 0x7f6b5d0f2290>\n",
      "<__builtin__.Stop instance at 0x7f6b5d0f2200>\n",
      "<__builtin__.Stop instance at 0x7f6b5d0f2320>\n",
      "<__builtin__.Stop instance at 0x7f6b5d0f23f8>\n",
      "<__builtin__.Stop instance at 0x7f6b5d0f24d0>\n",
      "<__builtin__.Stop instance at 0x7f6b5d0f2638>\n",
      "<__builtin__.Stop instance at 0x7f6b5d0f27a0>\n",
      "<__builtin__.Stop instance at 0x7f6b5d0f2b90>\n",
      "<__builtin__.Stop instance at 0x7f6b5d0f2b00>\n",
      "<__builtin__.Stop instance at 0x7f6b5d0f2c68>\n",
      "<__builtin__.Stop instance at 0x7f6b5d0f2d40>\n",
      "<__builtin__.Stop instance at 0x7f6b5d0f2ea8>\n",
      "<__builtin__.Stop instance at 0x7f6b5d104050>\n",
      "<__builtin__.Stop instance at 0x7f6b5d1041b8>\n",
      "<__builtin__.Stop instance at 0x7f6b5d104320>\n",
      "<__builtin__.Stop instance at 0x7f6b5d104488>\n",
      "<__builtin__.Stop instance at 0x7f6b5d1045f0>\n",
      "<__builtin__.Stop instance at 0x7f6b5d104758>\n",
      "<__builtin__.Stop instance at 0x7f6b5d1048c0>\n",
      "<__builtin__.Stop instance at 0x7f6b53584440>\n",
      "<__builtin__.Stop instance at 0x7f6b53584368>\n",
      "<__builtin__.Stop instance at 0x7f6b535844d0>\n",
      "<__builtin__.Stop instance at 0x7f6b535845a8>\n",
      "<__builtin__.Stop instance at 0x7f6b53584680>\n",
      "<__builtin__.Stop instance at 0x7f6b535847e8>\n",
      "<__builtin__.Stop instance at 0x7f6b53584950>\n",
      "<__builtin__.Stop instance at 0x7f6b53584ab8>\n",
      "<__builtin__.Stop instance at 0x7f6b53584c20>\n",
      "<__builtin__.Stop instance at 0x7f6b535564d0>\n",
      "<__builtin__.Stop instance at 0x7f6b535563f8>\n",
      "<__builtin__.Stop instance at 0x7f6b53556560>\n",
      "<__builtin__.Stop instance at 0x7f6b53556638>\n",
      "<__builtin__.Stop instance at 0x7f6b53556710>\n",
      "<__builtin__.Stop instance at 0x7f6b53556878>\n",
      "<__builtin__.Stop instance at 0x7f6b535569e0>\n",
      "<__builtin__.Stop instance at 0x7f6b53556b48>\n",
      "<__builtin__.Stop instance at 0x7f6b53556cb0>\n",
      "<__builtin__.Stop instance at 0x7f6b53556e18>\n",
      "<__builtin__.Stop instance at 0x7f6b5356e248>\n",
      "<__builtin__.Stop instance at 0x7f6b5356e1b8>\n",
      "<__builtin__.Stop instance at 0x7f6b5356e2d8>\n",
      "<__builtin__.Stop instance at 0x7f6b5356e3b0>\n",
      "<__builtin__.Stop instance at 0x7f6b5356e488>\n",
      "<__builtin__.Stop instance at 0x7f6b5356e5f0>\n",
      "<__builtin__.Stop instance at 0x7f6b5356ee60>\n",
      "<__builtin__.Stop instance at 0x7f6b5356ed88>\n",
      "<__builtin__.Stop instance at 0x7f6b5356eef0>\n",
      "<__builtin__.Stop instance at 0x7f6b5356efc8>\n",
      "<__builtin__.Stop instance at 0x7f6b535730e0>\n",
      "<__builtin__.Stop instance at 0x7f6b53573248>\n",
      "<__builtin__.Stop instance at 0x7f6b53573560>\n",
      "<__builtin__.Stop instance at 0x7f6b535736c8>\n",
      "<__builtin__.Stop instance at 0x7f6b53573830>\n",
      "<__builtin__.Stop instance at 0x7f6b53573998>\n",
      "<__builtin__.Stop instance at 0x7f6b53573b00>\n",
      "<__builtin__.Stop instance at 0x7f6b53573c68>\n",
      "<__builtin__.Stop instance at 0x7f6b53573dd0>\n",
      "<__builtin__.Stop instance at 0x7f6b53573f38>\n",
      "<__builtin__.Stop instance at 0x7f6b5ccda0e0>\n",
      "<__builtin__.Stop instance at 0x7f6b5ccda248>\n",
      "<__builtin__.Stop instance at 0x7f6b5ccda3b0>\n",
      "<__builtin__.Stop instance at 0x7f6b5ccda518>\n",
      "<__builtin__.Stop instance at 0x7f6b5ccdaa70>\n",
      "<__builtin__.Stop instance at 0x7f6b5ccda998>\n",
      "<__builtin__.Stop instance at 0x7f6b5ccdab00>\n",
      "<__builtin__.Stop instance at 0x7f6b5ccdabd8>\n",
      "<__builtin__.Stop instance at 0x7f6b5ccdacb0>\n",
      "<__builtin__.Stop instance at 0x7f6b5ccdae18>\n",
      "<__builtin__.Stop instance at 0x7f6b5ccdaf80>\n",
      "<__builtin__.Stop instance at 0x7f6b5cce8128>\n",
      "<__builtin__.Stop instance at 0x7f6b5cce8290>\n",
      "<__builtin__.Stop instance at 0x7f6b5cce83f8>\n",
      "<__builtin__.Stop instance at 0x7f6b5cce8560>\n",
      "<__builtin__.Stop instance at 0x7f6b5cce86c8>\n",
      "<__builtin__.Stop instance at 0x7f6b5cce8830>\n",
      "<__builtin__.Stop instance at 0x7f6b5cce8a70>\n",
      "<__builtin__.Stop instance at 0x7f6b5cce8e60>\n",
      "<__builtin__.Stop instance at 0x7f6b5cce8dd0>\n",
      "<__builtin__.Stop instance at 0x7f6b5cce8ef0>\n",
      "<__builtin__.Stop instance at 0x7f6b5ccf9050>\n",
      "<__builtin__.Stop instance at 0x7f6b5ccf9638>\n",
      "<__builtin__.Stop instance at 0x7f6b5ccf9758>\n",
      "<__builtin__.Stop instance at 0x7f6b5ccf98c0>\n",
      "<__builtin__.Stop instance at 0x7f6b5ccf9a28>\n",
      "<__builtin__.Stop instance at 0x7f6b5ccf9b90>\n",
      "<__builtin__.Stop instance at 0x7f6b5ccf9cf8>\n",
      "<__builtin__.Stop instance at 0x7f6b5ccf9e60>\n",
      "<__builtin__.Stop instance at 0x7f6b5ccf9fc8>\n",
      "<__builtin__.Stop instance at 0x7f6b5cd09170>\n",
      "<__builtin__.Stop instance at 0x7f6b5cd092d8>\n",
      "<__builtin__.Stop instance at 0x7f6b5cd097a0>\n",
      "<__builtin__.Stop instance at 0x7f6b5cd09710>\n",
      "<__builtin__.Stop instance at 0x7f6b5cd09830>\n",
      "<__builtin__.Stop instance at 0x7f6b5cd09908>\n",
      "<__builtin__.Stop instance at 0x7f6b5cd09c68>\n",
      "<__builtin__.Stop instance at 0x7f6b5cd09bd8>\n",
      "<__builtin__.Stop instance at 0x7f6b5cd09cf8>\n",
      "<__builtin__.Stop instance at 0x7f6b5cbdb0e0>\n",
      "<__builtin__.Stop instance at 0x7f6b5cbdb050>\n",
      "<__builtin__.Stop instance at 0x7f6b5cbdb170>\n",
      "<__builtin__.Stop instance at 0x7f6b5cbdb248>\n",
      "<__builtin__.Stop instance at 0x7f6b5cbdb320>\n",
      "<__builtin__.Stop instance at 0x7f6b5cbdb488>\n",
      "<__builtin__.Stop instance at 0x7f6b5cbdb5f0>\n",
      "<__builtin__.Stop instance at 0x7f6b5cbdb758>\n",
      "<__builtin__.Stop instance at 0x7f6b5cbdb8c0>\n",
      "<__builtin__.Stop instance at 0x7f6b5cbdbcb0>\n",
      "<__builtin__.Stop instance at 0x7f6b5cbdbc20>\n",
      "<__builtin__.Stop instance at 0x7f6b5cbdbd40>\n",
      "<__builtin__.Stop instance at 0x7f6b5cbdbe18>\n",
      "<__builtin__.Stop instance at 0x7f6b5cbdbef0>\n",
      "<__builtin__.Stop instance at 0x7f6b5cbf2098>\n",
      "<__builtin__.Stop instance at 0x7f6b5cbf23b0>\n",
      "<__builtin__.Stop instance at 0x7f6b5cbf2518>\n",
      "<__builtin__.Stop instance at 0x7f6b5cbf2680>\n",
      "<__builtin__.Stop instance at 0x7f6b5cbf27e8>\n",
      "<__builtin__.Stop instance at 0x7f6b5cbf2950>\n",
      "<__builtin__.Stop instance at 0x7f6b5cbf2ab8>\n",
      "<__builtin__.Stop instance at 0x7f6b5cbf2c20>\n",
      "<__builtin__.Stop instance at 0x7f6b5cbf2d88>\n",
      "<__builtin__.Stop instance at 0x7f6b5cbf9200>\n",
      "<__builtin__.Stop instance at 0x7f6b5cbf9320>\n",
      "<__builtin__.Stop instance at 0x7f6b5cbf9488>\n",
      "<__builtin__.Stop instance at 0x7f6b5cbf95f0>\n",
      "<__builtin__.Stop instance at 0x7f6b5cbf99e0>\n",
      "<__builtin__.Stop instance at 0x7f6b5cbf9950>\n",
      "<__builtin__.Stop instance at 0x7f6b5cbf9cb0>\n",
      "<__builtin__.Stop instance at 0x7f6b5cbf9c20>\n",
      "<__builtin__.Stop instance at 0x7f6b5cbf9d88>\n",
      "<__builtin__.Stop instance at 0x7f6b5cc083b0>\n",
      "<__builtin__.Stop instance at 0x7f6b5cc08488>\n",
      "<__builtin__.Stop instance at 0x7f6b5cc085f0>\n",
      "<__builtin__.Stop instance at 0x7f6b5cc08758>\n",
      "<__builtin__.Stop instance at 0x7f6b5cc088c0>\n",
      "<__builtin__.Stop instance at 0x7f6b5cc08a28>\n",
      "<__builtin__.Stop instance at 0x7f6b5cc08c68>\n",
      "<__builtin__.Stop instance at 0x7f6b5cc08dd0>\n",
      "<__builtin__.Stop instance at 0x7f6b5cc08f38>\n",
      "<__builtin__.Stop instance at 0x7f6b5ca9a0e0>\n",
      "<__builtin__.Stop instance at 0x7f6b5ca9a4d0>\n",
      "<__builtin__.Stop instance at 0x7f6b5ca9a710>\n",
      "<__builtin__.Stop instance at 0x7f6b5ca9ab00>\n",
      "<__builtin__.Stop instance at 0x7f6b5ca9aa70>\n",
      "<__builtin__.Stop instance at 0x7f6b5ca9ab90>\n",
      "<__builtin__.Stop instance at 0x7f6b5ca9ac68>\n",
      "<__builtin__.Stop instance at 0x7f6b5ca9ad40>\n",
      "<__builtin__.Stop instance at 0x7f6b5caaa248>\n",
      "<__builtin__.Stop instance at 0x7f6b5caaa1b8>\n",
      "<__builtin__.Stop instance at 0x7f6b5caaa2d8>\n",
      "<__builtin__.Stop instance at 0x7f6b5caaa3b0>\n",
      "<__builtin__.Stop instance at 0x7f6b5caaa488>\n",
      "<__builtin__.Stop instance at 0x7f6b5caaa5f0>\n",
      "<__builtin__.Stop instance at 0x7f6b5caaa758>\n",
      "<__builtin__.Stop instance at 0x7f6b5caaa8c0>\n",
      "<__builtin__.Stop instance at 0x7f6b5caaaa28>\n",
      "<__builtin__.Stop instance at 0x7f6b5caaab90>\n",
      "<__builtin__.Stop instance at 0x7f6b5caaacf8>\n",
      "<__builtin__.Stop instance at 0x7f6b5caaae60>\n",
      "<__builtin__.Stop instance at 0x7f6b5cabf290>\n",
      "<__builtin__.Stop instance at 0x7f6b5cac4488>\n",
      "<__builtin__.Stop instance at 0x7f6b5cac43b0>\n",
      "<__builtin__.Stop instance at 0x7f6b5cac4560>\n",
      "<__builtin__.Stop instance at 0x7f6b5cac4638>\n",
      "<__builtin__.Stop instance at 0x7f6b5cac47a0>\n",
      "<__builtin__.Stop instance at 0x7f6b5cac4908>\n",
      "<__builtin__.Stop instance at 0x7f6b5cac4a70>\n",
      "<__builtin__.Stop instance at 0x7f6b5cac4e60>\n",
      "<__builtin__.Stop instance at 0x7f6b5cac4dd0>\n",
      "<__builtin__.Stop instance at 0x7f6b5cac4ef0>\n",
      "<__builtin__.Stop instance at 0x7f6b5a70c050>\n",
      "<__builtin__.Stop instance at 0x7f6b5a70c1b8>\n",
      "<__builtin__.Stop instance at 0x7f6b5a70c320>\n",
      "<__builtin__.Stop instance at 0x7f6b5a70c488>\n",
      "<__builtin__.Stop instance at 0x7f6b5a70c5f0>\n",
      "<__builtin__.Stop instance at 0x7f6b5a70c758>\n",
      "<__builtin__.Stop instance at 0x7f6b5a70cb00>\n",
      "<__builtin__.Stop instance at 0x7f6b5a70cc20>\n",
      "<__builtin__.Stop instance at 0x7f6b5a721128>\n",
      "<__builtin__.Stop instance at 0x7f6b5a721098>\n",
      "<__builtin__.Stop instance at 0x7f6b5a7211b8>\n",
      "<__builtin__.Stop instance at 0x7f6b5a721638>\n",
      "<__builtin__.Stop instance at 0x7f6b5a721680>\n",
      "<__builtin__.Stop instance at 0x7f6b5a721878>\n",
      "<__builtin__.Stop instance at 0x7f6b5a7219e0>\n",
      "<__builtin__.Stop instance at 0x7f6b5a721b48>\n",
      "<__builtin__.Stop instance at 0x7f6b5a721cb0>\n",
      "<__builtin__.Stop instance at 0x7f6b5a721e18>\n",
      "<__builtin__.Stop instance at 0x7f6b5a721f80>\n",
      "<__builtin__.Stop instance at 0x7f6b5a731128>\n",
      "<__builtin__.Stop instance at 0x7f6b5a731290>\n",
      "<__builtin__.Stop instance at 0x7f6b5a7313f8>\n",
      "<__builtin__.Stop instance at 0x7f6b5a731560>\n",
      "<__builtin__.Stop instance at 0x7f6b5a7316c8>\n",
      "<__builtin__.Stop instance at 0x7f6b5a731830>\n",
      "<__builtin__.Stop instance at 0x7f6b5a731998>\n",
      "<__builtin__.Stop instance at 0x7f6b5a731b00>\n",
      "<__builtin__.Stop instance at 0x7f6b5a731ef0>\n",
      "<__builtin__.Stop instance at 0x7f6b5a731e60>\n",
      "<__builtin__.Stop instance at 0x7f6b5a731f80>\n",
      "<__builtin__.Stop instance at 0x7f6b5a740290>\n",
      "<__builtin__.Stop instance at 0x7f6b5a740200>\n",
      "<__builtin__.Stop instance at 0x7f6b5a740320>\n",
      "<__builtin__.Stop instance at 0x7f6b5a7403f8>\n",
      "<__builtin__.Stop instance at 0x7f6b5a7404d0>\n",
      "<__builtin__.Stop instance at 0x7f6b5a740638>\n",
      "<__builtin__.Stop instance at 0x7f6b5a7407a0>\n",
      "<__builtin__.Stop instance at 0x7f6b5a740908>\n",
      "<__builtin__.Stop instance at 0x7f6b5a740a70>\n",
      "<__builtin__.Stop instance at 0x7f6b5a740bd8>\n",
      "<__builtin__.Stop instance at 0x7f6b5a740e18>\n",
      "<__builtin__.Stop instance at 0x7f6b5a740f80>\n",
      "<__builtin__.Stop instance at 0x7f6b5a3d9128>\n",
      "<__builtin__.Stop instance at 0x7f6b5a3d9290>\n",
      "<__builtin__.Stop instance at 0x7f6b5a3d93f8>\n",
      "<__builtin__.Stop instance at 0x7f6b5a3d9560>\n",
      "<__builtin__.Stop instance at 0x7f6b5a3d96c8>\n",
      "<__builtin__.Stop instance at 0x7f6b5a3d9830>\n",
      "<__builtin__.Stop instance at 0x7f6b5a3e8248>\n",
      "<__builtin__.Stop instance at 0x7f6b5a3e8488>\n",
      "<__builtin__.Stop instance at 0x7f6b5a3e85f0>\n",
      "<__builtin__.Stop instance at 0x7f6b5a3e8758>\n",
      "<__builtin__.Stop instance at 0x7f6b5a3e88c0>\n",
      "<__builtin__.Stop instance at 0x7f6b5a3e8b00>\n",
      "<__builtin__.Stop instance at 0x7f6b5a3e8c68>\n",
      "<__builtin__.Stop instance at 0x7f6b5a3e8f80>\n",
      "<__builtin__.Stop instance at 0x7f6b5a3f51b8>\n",
      "<__builtin__.Stop instance at 0x7f6b5a3f5320>\n",
      "<__builtin__.Stop instance at 0x7f6b5a3f5488>\n",
      "<__builtin__.Stop instance at 0x7f6b5a3f5b90>\n",
      "<__builtin__.Stop instance at 0x7f6b5a3f5ab8>\n",
      "<__builtin__.Stop instance at 0x7f6b5a3f5c20>\n",
      "<__builtin__.Stop instance at 0x7f6b5a3f5cf8>\n",
      "<__builtin__.Stop instance at 0x7f6b5a3f5dd0>\n",
      "<__builtin__.Stop instance at 0x7f6b5a3f5f38>\n",
      "<__builtin__.Stop instance at 0x7f6b5a4030e0>\n",
      "<__builtin__.Stop instance at 0x7f6b5a403248>\n",
      "<__builtin__.Stop instance at 0x7f6b5a4033b0>\n",
      "<__builtin__.Stop instance at 0x7f6b5a403518>\n",
      "<__builtin__.Stop instance at 0x7f6b5a403680>\n",
      "<__builtin__.Stop instance at 0x7f6b5a4037e8>\n",
      "<__builtin__.Stop instance at 0x7f6b57f110e0>\n",
      "<__builtin__.Stop instance at 0x7f6b57f11200>\n",
      "<__builtin__.Stop instance at 0x7f6b57f11368>\n",
      "<__builtin__.Stop instance at 0x7f6b57f114d0>\n",
      "<__builtin__.Stop instance at 0x7f6b57f11638>\n",
      "<__builtin__.Stop instance at 0x7f6b57f117a0>\n",
      "<__builtin__.Stop instance at 0x7f6b57f1d518>\n",
      "<__builtin__.Stop instance at 0x7f6b57f1d560>\n",
      "<__builtin__.Stop instance at 0x7f6b57f1d638>\n",
      "<__builtin__.Stop instance at 0x7f6b57f1d7a0>\n",
      "<__builtin__.Stop instance at 0x7f6b57f1db90>\n",
      "<__builtin__.Stop instance at 0x7f6b57f1db00>\n",
      "<__builtin__.Stop instance at 0x7f6b57f1dc68>\n",
      "<__builtin__.Stop instance at 0x7f6b57f1dd40>\n",
      "<__builtin__.Stop instance at 0x7f6b57f1df80>\n",
      "<__builtin__.Stop instance at 0x7f6b57f26128>\n",
      "<__builtin__.Stop instance at 0x7f6b57f26290>\n",
      "<__builtin__.Stop instance at 0x7f6b57f263f8>\n",
      "<__builtin__.Stop instance at 0x7f6b57f26560>\n",
      "<__builtin__.Stop instance at 0x7f6b57f266c8>\n",
      "<__builtin__.Stop instance at 0x7f6b57f26830>\n",
      "<__builtin__.Stop instance at 0x7f6b57f26998>\n",
      "<__builtin__.Stop instance at 0x7f6b57f26d88>\n",
      "<__builtin__.Stop instance at 0x7f6b57f26e18>\n",
      "<__builtin__.Stop instance at 0x7f6b57f26f80>\n",
      "<__builtin__.Stop instance at 0x7f6b57f3c128>\n",
      "<__builtin__.Stop instance at 0x7f6b57f3c518>\n",
      "<__builtin__.Stop instance at 0x7f6b57f3c680>\n",
      "<__builtin__.Stop instance at 0x7f6b57f3ccf8>\n",
      "<__builtin__.Stop instance at 0x7f6b57f3cf38>\n",
      "<__builtin__.Stop instance at 0x7f6b57f430e0>\n",
      "<__builtin__.Stop instance at 0x7f6b57f43248>\n",
      "<__builtin__.Stop instance at 0x7f6b57f43488>\n",
      "<__builtin__.Stop instance at 0x7f6b57f435f0>\n",
      "<__builtin__.Stop instance at 0x7f6b57f43758>\n",
      "<__builtin__.Stop instance at 0x7f6b57f438c0>\n",
      "<__builtin__.Stop instance at 0x7f6b57f43a28>\n",
      "<__builtin__.Stop instance at 0x7f6b57f43b90>\n",
      "<__builtin__.Stop instance at 0x7f6b57f43cf8>\n",
      "<__builtin__.Stop instance at 0x7f6b57f43e60>\n",
      "<__builtin__.Stop instance at 0x7f6b57f43fc8>\n",
      "<__builtin__.Stop instance at 0x7f6b61ac23f8>\n",
      "<__builtin__.Stop instance at 0x7f6b61ac2368>\n",
      "<__builtin__.Stop instance at 0x7f6b61ac2488>\n",
      "<__builtin__.Stop instance at 0x7f6b61ac2560>\n",
      "<__builtin__.Stop instance at 0x7f6b61ac2638>\n",
      "<__builtin__.Stop instance at 0x7f6b61ac27a0>\n",
      "<__builtin__.Stop instance at 0x7f6b61ac2908>\n",
      "<__builtin__.Stop instance at 0x7f6b61ac2a70>\n",
      "<__builtin__.Stop instance at 0x7f6b61ac2bd8>\n",
      "<__builtin__.Stop instance at 0x7f6b61ac2d40>\n",
      "<__builtin__.Stop instance at 0x7f6b61ac2ea8>\n",
      "<__builtin__.Stop instance at 0x7f6b61ad2050>\n",
      "<__builtin__.Stop instance at 0x7f6b61ad21b8>\n",
      "<__builtin__.Stop instance at 0x7f6b61ad2320>\n",
      "<__builtin__.Stop instance at 0x7f6b61ad2488>\n",
      "<__builtin__.Stop instance at 0x7f6b61ad25f0>\n",
      "<__builtin__.Stop instance at 0x7f6b61ad2758>\n",
      "<__builtin__.Stop instance at 0x7f6b61ad28c0>\n",
      "<__builtin__.Stop instance at 0x7f6b61ad2a28>\n",
      "<__builtin__.Stop instance at 0x7f6b61ad2b90>\n",
      "<__builtin__.Stop instance at 0x7f6b61ad2cf8>\n",
      "<__builtin__.Stop instance at 0x7f6b61ad2e60>\n",
      "<__builtin__.Stop instance at 0x7f6b61ad2fc8>\n",
      "<__builtin__.Stop instance at 0x7f6b61ae4170>\n",
      "<__builtin__.Stop instance at 0x7f6b61ae42d8>\n",
      "<__builtin__.Stop instance at 0x7f6b61ae4440>\n",
      "<__builtin__.Stop instance at 0x7f6b61ae45a8>\n",
      "<__builtin__.Stop instance at 0x7f6b61ae4710>\n",
      "<__builtin__.Stop instance at 0x7f6b61ae4878>\n",
      "<__builtin__.Stop instance at 0x7f6b61ae49e0>\n",
      "<__builtin__.Stop instance at 0x7f6b61ae4ef0>\n",
      "<__builtin__.Stop instance at 0x7f6b61af33f8>\n",
      "<__builtin__.Stop instance at 0x7f6b61af3518>\n",
      "<__builtin__.Stop instance at 0x7f6b61af3680>\n",
      "<__builtin__.Stop instance at 0x7f6b61af37e8>\n",
      "<__builtin__.Stop instance at 0x7f6b61af3950>\n",
      "<__builtin__.Stop instance at 0x7f6b61a7ef38>\n",
      "<__builtin__.Stop instance at 0x7f6b61a7ee60>\n",
      "<__builtin__.Stop instance at 0x7f6b61a80050>\n",
      "<__builtin__.Stop instance at 0x7f6b61a80128>\n",
      "<__builtin__.Stop instance at 0x7f6b61a80290>\n",
      "<__builtin__.Stop instance at 0x7f6b61a803f8>\n",
      "<__builtin__.Stop instance at 0x7f6b61a80560>\n",
      "<__builtin__.Stop instance at 0x7f6b61a806c8>\n",
      "<__builtin__.Stop instance at 0x7f6b61a80830>\n",
      "<__builtin__.Stop instance at 0x7f6b61a80998>\n",
      "<__builtin__.Stop instance at 0x7f6b61a80b00>\n",
      "<__builtin__.Stop instance at 0x7f6b61a80c68>\n",
      "<__builtin__.Stop instance at 0x7f6b61a80dd0>\n",
      "<__builtin__.Stop instance at 0x7f6b61a80f38>\n",
      "<__builtin__.Stop instance at 0x7f6b61a950e0>\n",
      "<__builtin__.Stop instance at 0x7f6b61a95248>\n",
      "<__builtin__.Stop instance at 0x7f6b61a953b0>\n",
      "<__builtin__.Stop instance at 0x7f6b61a95518>\n",
      "<__builtin__.Stop instance at 0x7f6b61a95ab8>\n",
      "<__builtin__.Stop instance at 0x7f6b61a959e0>\n",
      "<__builtin__.Stop instance at 0x7f6b61a95b48>\n",
      "<__builtin__.Stop instance at 0x7f6b61a95c20>\n",
      "<__builtin__.Stop instance at 0x7f6b61a95cf8>\n",
      "<__builtin__.Stop instance at 0x7f6b61a95e60>\n",
      "<__builtin__.Stop instance at 0x7f6b61a95fc8>\n",
      "<__builtin__.Stop instance at 0x7f6b61aa1170>\n",
      "<__builtin__.Stop instance at 0x7f6b61aa1560>\n",
      "<__builtin__.Stop instance at 0x7f6b61aa1f38>\n",
      "<__builtin__.Stop instance at 0x7f6b61aa1ea8>\n",
      "<__builtin__.Stop instance at 0x7f6b61aa1fc8>\n",
      "<__builtin__.Stop instance at 0x7f6b61aac0e0>\n",
      "<__builtin__.Stop instance at 0x7f6b61aac1b8>\n",
      "<__builtin__.Stop instance at 0x7f6b61aac320>\n",
      "<__builtin__.Stop instance at 0x7f6b61aac488>\n",
      "<__builtin__.Stop instance at 0x7f6b61aac5f0>\n",
      "<__builtin__.Stop instance at 0x7f6b61aac9e0>\n",
      "<__builtin__.Stop instance at 0x7f6b61aac950>\n",
      "<__builtin__.Stop instance at 0x7f6b61aaca70>\n",
      "<__builtin__.Stop instance at 0x7f6b61aacb48>\n",
      "<__builtin__.Stop instance at 0x7f6b61aacdd0>\n",
      "<__builtin__.Stop instance at 0x7f6b619f9170>\n",
      "<__builtin__.Stop instance at 0x7f6b619f9248>\n",
      "<__builtin__.Stop instance at 0x7f6b619f93b0>\n",
      "<__builtin__.Stop instance at 0x7f6b619f9518>\n",
      "<__builtin__.Stop instance at 0x7f6b619f9758>\n",
      "<__builtin__.Stop instance at 0x7f6b619f9b48>\n",
      "<__builtin__.Stop instance at 0x7f6b619f9ab8>\n",
      "<__builtin__.Stop instance at 0x7f6b619f9bd8>\n",
      "<__builtin__.Stop instance at 0x7f6b619f9cb0>\n",
      "<__builtin__.Stop instance at 0x7f6b619f9d88>\n",
      "<__builtin__.Stop instance at 0x7f6b619f9ef0>\n",
      "<__builtin__.Stop instance at 0x7f6b61a0d3b0>\n",
      "<__builtin__.Stop instance at 0x7f6b61a0d368>\n",
      "<__builtin__.Stop instance at 0x7f6b61a0d488>\n",
      "<__builtin__.Stop instance at 0x7f6b61a0d560>\n",
      "<__builtin__.Stop instance at 0x7f6b61a0d638>\n",
      "<__builtin__.Stop instance at 0x7f6b61a0da28>\n",
      "<__builtin__.Stop instance at 0x7f6b61a0d998>\n",
      "<__builtin__.Stop instance at 0x7f6b61a155a8>\n",
      "<__builtin__.Stop instance at 0x7f6b61a15710>\n",
      "<__builtin__.Stop instance at 0x7f6b61a15878>\n",
      "<__builtin__.Stop instance at 0x7f6b61a159e0>\n",
      "<__builtin__.Stop instance at 0x7f6b61a15dd0>\n",
      "<__builtin__.Stop instance at 0x7f6b61a15d40>\n",
      "<__builtin__.Stop instance at 0x7f6b61a15e60>\n",
      "<__builtin__.Stop instance at 0x7f6b61a15f38>\n",
      "<__builtin__.Stop instance at 0x7f6b61a28050>\n",
      "<__builtin__.Stop instance at 0x7f6b61a281b8>\n",
      "<__builtin__.Stop instance at 0x7f6b61a28320>\n",
      "<__builtin__.Stop instance at 0x7f6b61a28710>\n",
      "<__builtin__.Stop instance at 0x7f6b61a28878>\n",
      "<__builtin__.Stop instance at 0x7f6b61a289e0>\n",
      "<__builtin__.Stop instance at 0x7f6b61a28b48>\n",
      "<__builtin__.Stop instance at 0x7f6b61a28cb0>\n",
      "<__builtin__.Stop instance at 0x7f6b61a28e18>\n",
      "<__builtin__.Stop instance at 0x7f6b61a28f80>\n",
      "<__builtin__.Stop instance at 0x7f6b61979128>\n",
      "<__builtin__.Stop instance at 0x7f6b61979290>\n",
      "<__builtin__.Stop instance at 0x7f6b619793f8>\n",
      "<__builtin__.Stop instance at 0x7f6b61979560>\n",
      "<__builtin__.Stop instance at 0x7f6b619796c8>\n",
      "<__builtin__.Stop instance at 0x7f6b61979830>\n",
      "<__builtin__.Stop instance at 0x7f6b61979998>\n",
      "<__builtin__.Stop instance at 0x7f6b61979b00>\n",
      "<__builtin__.Stop instance at 0x7f6b61979c68>\n",
      "<__builtin__.Stop instance at 0x7f6b61979fc8>\n",
      "<__builtin__.Stop instance at 0x7f6b61987050>\n",
      "<__builtin__.Stop instance at 0x7f6b61987128>\n",
      "<__builtin__.Stop instance at 0x7f6b61987200>\n",
      "<__builtin__.Stop instance at 0x7f6b619872d8>\n",
      "<__builtin__.Stop instance at 0x7f6b619876c8>\n",
      "<__builtin__.Stop instance at 0x7f6b61987830>\n",
      "<__builtin__.Stop instance at 0x7f6b61987998>\n",
      "<__builtin__.Stop instance at 0x7f6b61987b00>\n",
      "<__builtin__.Stop instance at 0x7f6b61987c68>\n",
      "<__builtin__.Stop instance at 0x7f6b61987fc8>\n",
      "<__builtin__.Stop instance at 0x7f6b61994050>\n",
      "<__builtin__.Stop instance at 0x7f6b61994128>\n",
      "<__builtin__.Stop instance at 0x7f6b61994200>\n",
      "<__builtin__.Stop instance at 0x7f6b619942d8>\n",
      "<__builtin__.Stop instance at 0x7f6b61994440>\n",
      "<__builtin__.Stop instance at 0x7f6b619a9b48>\n",
      "<__builtin__.Stop instance at 0x7f6b619a9a70>\n",
      "<__builtin__.Stop instance at 0x7f6b619a9bd8>\n",
      "<__builtin__.Stop instance at 0x7f6b619a9cb0>\n",
      "<__builtin__.Stop instance at 0x7f6b619a9d88>\n",
      "<__builtin__.Stop instance at 0x7f6b619a9ef0>\n",
      "<__builtin__.Stop instance at 0x7f6b618b7098>\n",
      "<__builtin__.Stop instance at 0x7f6b618b7758>\n",
      "<__builtin__.Stop instance at 0x7f6b618b7b00>\n",
      "<__builtin__.Stop instance at 0x7f6b618b7b90>\n",
      "<__builtin__.Stop instance at 0x7f6b618b7c20>\n",
      "<__builtin__.Stop instance at 0x7f6b618b7d88>\n",
      "<__builtin__.Stop instance at 0x7f6b618b7ef0>\n",
      "<__builtin__.Stop instance at 0x7f6b618bf098>\n",
      "<__builtin__.Stop instance at 0x7f6b618bf200>\n",
      "<__builtin__.Stop instance at 0x7f6b618bf368>\n",
      "<__builtin__.Stop instance at 0x7f6b618bf4d0>\n",
      "<__builtin__.Stop instance at 0x7f6b618bfc20>\n",
      "<__builtin__.Stop instance at 0x7f6b618bfb90>\n",
      "<__builtin__.Stop instance at 0x7f6b618cd1b8>\n",
      "<__builtin__.Stop instance at 0x7f6b618cd320>\n",
      "<__builtin__.Stop instance at 0x7f6b618cd488>\n",
      "<__builtin__.Stop instance at 0x7f6b618cd5f0>\n",
      "<__builtin__.Stop instance at 0x7f6b618cd758>\n",
      "<__builtin__.Stop instance at 0x7f6b618cd8c0>\n",
      "<__builtin__.Stop instance at 0x7f6b618cda28>\n",
      "<__builtin__.Stop instance at 0x7f6b618cdd40>\n",
      "<__builtin__.Stop instance at 0x7f6b618dc128>\n",
      "<__builtin__.Stop instance at 0x7f6b618dc098>\n",
      "<__builtin__.Stop instance at 0x7f6b618dc1b8>\n",
      "<__builtin__.Stop instance at 0x7f6b618dc290>\n",
      "<__builtin__.Stop instance at 0x7f6b618dc368>\n",
      "<__builtin__.Stop instance at 0x7f6b618dc4d0>\n",
      "<__builtin__.Stop instance at 0x7f6b618dc638>\n",
      "<__builtin__.Stop instance at 0x7f6b618dc7a0>\n",
      "<__builtin__.Stop instance at 0x7f6b618dc908>\n",
      "<__builtin__.Stop instance at 0x7f6b618dca70>\n",
      "<__builtin__.Stop instance at 0x7f6b618dcbd8>\n",
      "<__builtin__.Stop instance at 0x7f6b618dcd40>\n",
      "<__builtin__.Stop instance at 0x7f6b618ed248>\n",
      "<__builtin__.Stop instance at 0x7f6b618ef2d8>\n",
      "<__builtin__.Stop instance at 0x7f6b618ef248>\n",
      "<__builtin__.Stop instance at 0x7f6b618ef368>\n",
      "<__builtin__.Stop instance at 0x7f6b618ef440>\n",
      "<__builtin__.Stop instance at 0x7f6b618ef518>\n",
      "<__builtin__.Stop instance at 0x7f6b618ef680>\n",
      "<__builtin__.Stop instance at 0x7f6b618ef7e8>\n",
      "<__builtin__.Stop instance at 0x7f6b618efbd8>\n",
      "<__builtin__.Stop instance at 0x7f6b618efb48>\n",
      "<__builtin__.Stop instance at 0x7f6b618efcb0>\n",
      "<__builtin__.Stop instance at 0x7f6b618efd88>\n",
      "<__builtin__.Stop instance at 0x7f6b5d857170>\n",
      "<__builtin__.Stop instance at 0x7f6b5d857368>\n",
      "<__builtin__.Stop instance at 0x7f6b5d8575a8>\n",
      "<__builtin__.Stop instance at 0x7f6b5d857710>\n",
      "<__builtin__.Stop instance at 0x7f6b5d857878>\n",
      "<__builtin__.Stop instance at 0x7f6b5d857ab8>\n",
      "<__builtin__.Stop instance at 0x7f6b5d857f80>\n",
      "<__builtin__.Stop instance at 0x7f6b5d857ef0>\n",
      "<__builtin__.Stop instance at 0x7f6b5d867098>\n",
      "<__builtin__.Stop instance at 0x7f6b5d867170>\n",
      "<__builtin__.Stop instance at 0x7f6b5d8672d8>\n",
      "<__builtin__.Stop instance at 0x7f6b5d867440>\n",
      "<__builtin__.Stop instance at 0x7f6b5d867680>\n",
      "<__builtin__.Stop instance at 0x7f6b5d8677e8>\n",
      "<__builtin__.Stop instance at 0x7f6b5d867950>\n",
      "<__builtin__.Stop instance at 0x7f6b5d867b90>\n",
      "<__builtin__.Stop instance at 0x7f6b5d867cf8>\n",
      "<__builtin__.Stop instance at 0x7f6b5d867e60>\n",
      "<__builtin__.Stop instance at 0x7f6b5d867fc8>\n",
      "<__builtin__.Stop instance at 0x7f6b5d876170>\n",
      "<__builtin__.Stop instance at 0x7f6b5d8762d8>\n",
      "<__builtin__.Stop instance at 0x7f6b5d8765f0>\n",
      "<__builtin__.Stop instance at 0x7f6b5d876710>\n",
      "<__builtin__.Stop instance at 0x7f6b5d876878>\n",
      "<__builtin__.Stop instance at 0x7f6b5d8769e0>\n",
      "<__builtin__.Stop instance at 0x7f6b5d876b48>\n",
      "<__builtin__.Stop instance at 0x7f6b5d884e60>\n",
      "<__builtin__.Stop instance at 0x7f6b5d884dd0>\n",
      "<__builtin__.Stop instance at 0x7f6b5d884ef0>\n",
      "<__builtin__.Stop instance at 0x7f6b5d884fc8>\n",
      "<__builtin__.Stop instance at 0x7f6b5d8110e0>\n",
      "<__builtin__.Stop instance at 0x7f6b5d811248>\n",
      "<__builtin__.Stop instance at 0x7f6b5d811950>\n",
      "<__builtin__.Stop instance at 0x7f6b5d8118c0>\n",
      "<__builtin__.Stop instance at 0x7f6b5d8119e0>\n",
      "<__builtin__.Stop instance at 0x7f6b5d811ab8>\n",
      "<__builtin__.Stop instance at 0x7f6b5d811b90>\n",
      "<__builtin__.Stop instance at 0x7f6b5d811cf8>\n",
      "<__builtin__.Stop instance at 0x7f6b5d811e60>\n",
      "<__builtin__.Stop instance at 0x7f6b5d811fc8>\n",
      "<__builtin__.Stop instance at 0x7f6b5d81f170>\n",
      "<__builtin__.Stop instance at 0x7f6b5d81ffc8>\n",
      "<__builtin__.Stop instance at 0x7f6b5d8279e0>\n",
      "<__builtin__.Stop instance at 0x7f6b5d827950>\n",
      "<__builtin__.Stop instance at 0x7f6b5d827a70>\n",
      "<__builtin__.Stop instance at 0x7f6b5d827b48>\n",
      "<__builtin__.Stop instance at 0x7f6b5d827c20>\n",
      "<__builtin__.Stop instance at 0x7f6b5d827d88>\n",
      "<__builtin__.Stop instance at 0x7f6b5d835488>\n",
      "<__builtin__.Stop instance at 0x7f6b5d8355a8>\n",
      "<__builtin__.Stop instance at 0x7f6b5d835b00>\n",
      "<__builtin__.Stop instance at 0x7f6b5d835a28>\n",
      "<__builtin__.Stop instance at 0x7f6b5d835cf8>\n",
      "<__builtin__.Stop instance at 0x7f6b5d835c68>\n",
      "<__builtin__.Stop instance at 0x7f6b5d835d88>\n",
      "<__builtin__.Stop instance at 0x7f6b5d835e60>\n",
      "<__builtin__.Stop instance at 0x7f6b5d835f38>\n",
      "<__builtin__.Stop instance at 0x7f6b5d83df38>\n",
      "<__builtin__.Stop instance at 0x7f6b5d83de60>\n",
      "<__builtin__.Stop instance at 0x7f6b5d83dfc8>\n",
      "<__builtin__.Stop instance at 0x7f6b5d8460e0>\n",
      "<__builtin__.Stop instance at 0x7f6b5d8461b8>\n",
      "<__builtin__.Stop instance at 0x7f6b5d846320>\n",
      "<__builtin__.Stop instance at 0x7f6b5d846488>\n",
      "<__builtin__.Stop instance at 0x7f6b5d846950>\n",
      "<__builtin__.Stop instance at 0x7f6b5d8468c0>\n",
      "<__builtin__.Stop instance at 0x7f6b5d846a28>\n",
      "<__builtin__.Stop instance at 0x7f6b5d846cb0>\n",
      "<__builtin__.Stop instance at 0x7f6b5d846dd0>\n",
      "<__builtin__.Stop instance at 0x7f6b5d846f38>\n",
      "<__builtin__.Stop instance at 0x7f6b5d7d50e0>\n",
      "<__builtin__.Stop instance at 0x7f6b5d7d5248>\n",
      "<__builtin__.Stop instance at 0x7f6b5d7d53b0>\n",
      "<__builtin__.Stop instance at 0x7f6b5d7d5518>\n",
      "<__builtin__.Stop instance at 0x7f6b5d7d5680>\n",
      "<__builtin__.Stop instance at 0x7f6b5d7d57e8>\n",
      "<__builtin__.Stop instance at 0x7f6b5d7d5950>\n",
      "<__builtin__.Stop instance at 0x7f6b5d7d5ab8>\n",
      "<__builtin__.Stop instance at 0x7f6b5d7d5c20>\n",
      "<__builtin__.Stop instance at 0x7f6b5d7e25a8>\n",
      "<__builtin__.Stop instance at 0x7f6b5d7ea3b0>\n",
      "<__builtin__.Stop instance at 0x7f6b5d7ea878>\n",
      "<__builtin__.Stop instance at 0x7f6b5d7eac20>\n",
      "<__builtin__.Stop instance at 0x7f6b5d7ead40>\n",
      "<__builtin__.Stop instance at 0x7f6b5d7f1128>\n",
      "<__builtin__.Stop instance at 0x7f6b5d7f1248>\n",
      "<__builtin__.Stop instance at 0x7f6b5d7f1c68>\n",
      "<__builtin__.Stop instance at 0x7f6b5d7f1d88>\n",
      "<__builtin__.Stop instance at 0x7f6b5d7f1ef0>\n",
      "<__builtin__.Stop instance at 0x7f6b5d7f9098>\n",
      "<__builtin__.Stop instance at 0x7f6b5d7f9200>\n",
      "<__builtin__.Stop instance at 0x7f6b5d7f9368>\n",
      "<__builtin__.Stop instance at 0x7f6b5d7f9758>\n",
      "<__builtin__.Stop instance at 0x7f6b5d7f96c8>\n",
      "<__builtin__.Stop instance at 0x7f6b5d7f97e8>\n",
      "<__builtin__.Stop instance at 0x7f6b5d7f98c0>\n",
      "<__builtin__.Stop instance at 0x7f6b5d7f9998>\n",
      "<__builtin__.Stop instance at 0x7f6b5d7f9b00>\n",
      "<__builtin__.Stop instance at 0x7f6b5d7f9c68>\n",
      "<__builtin__.Stop instance at 0x7f6b5d7f9dd0>\n",
      "<__builtin__.Stop instance at 0x7f6b5d78e2d8>\n",
      "<__builtin__.Stop instance at 0x7f6b5d78e248>\n",
      "<__builtin__.Stop instance at 0x7f6b5d78e3b0>\n",
      "<__builtin__.Stop instance at 0x7f6b5d78e518>\n",
      "<__builtin__.Stop instance at 0x7f6b5d78e680>\n",
      "<__builtin__.Stop instance at 0x7f6b5d78e7e8>\n",
      "<__builtin__.Stop instance at 0x7f6b5d78e950>\n",
      "<__builtin__.Stop instance at 0x7f6b5d78eab8>\n",
      "<__builtin__.Stop instance at 0x7f6b5d78ec20>\n",
      "<__builtin__.Stop instance at 0x7f6b5d78ed88>\n",
      "<__builtin__.Stop instance at 0x7f6b5d78eef0>\n",
      "<__builtin__.Stop instance at 0x7f6b5d79d098>\n",
      "<__builtin__.Stop instance at 0x7f6b5d79d200>\n",
      "<__builtin__.Stop instance at 0x7f6b5d79d368>\n",
      "<__builtin__.Stop instance at 0x7f6b5d79d4d0>\n",
      "<__builtin__.Stop instance at 0x7f6b5d79d638>\n",
      "<__builtin__.Stop instance at 0x7f6b5d79d7a0>\n",
      "<__builtin__.Stop instance at 0x7f6b5d7ab560>\n",
      "<__builtin__.Stop instance at 0x7f6b5d7ab5a8>\n",
      "<__builtin__.Stop instance at 0x7f6b5d7abef0>\n",
      "<__builtin__.Stop instance at 0x7f6b5d7b2098>\n",
      "<__builtin__.Stop instance at 0x7f6b5d7b2488>\n",
      "<__builtin__.Stop instance at 0x7f6b5d7b25a8>\n",
      "<__builtin__.Stop instance at 0x7f6b5d7b2710>\n",
      "<__builtin__.Stop instance at 0x7f6b5d7b2950>\n",
      "<__builtin__.Stop instance at 0x7f6b5d7b2ab8>\n",
      "<__builtin__.Stop instance at 0x7f6b5d7b2c20>\n",
      "<__builtin__.Stop instance at 0x7f6b5d7b2d88>\n",
      "<__builtin__.Stop instance at 0x7f6b5d7b2ef0>\n",
      "<__builtin__.Stop instance at 0x7f6b5d7c03b0>\n",
      "<__builtin__.Stop instance at 0x7f6b5d7c02d8>\n",
      "<__builtin__.Stop instance at 0x7f6b5d7c0440>\n",
      "<__builtin__.Stop instance at 0x7f6b5d7c0758>\n",
      "<__builtin__.Stop instance at 0x7f6b5d7c0908>\n",
      "<__builtin__.Stop instance at 0x7f6b5d7c0a70>\n",
      "<__builtin__.Stop instance at 0x7f6b5d7c0bd8>\n",
      "<__builtin__.Stop instance at 0x7f6b5d7c0d40>\n",
      "<__builtin__.Stop instance at 0x7f6b5d7c0ea8>\n",
      "<__builtin__.Stop instance at 0x7f6b5d5d2050>\n",
      "<__builtin__.Stop instance at 0x7f6b5d5d21b8>\n",
      "<__builtin__.Stop instance at 0x7f6b5d5d2638>\n",
      "<__builtin__.Stop instance at 0x7f6b5d5d2758>\n",
      "<__builtin__.Stop instance at 0x7f6b5d5d28c0>\n",
      "<__builtin__.Stop instance at 0x7f6b5d5dc908>\n",
      "<__builtin__.Stop instance at 0x7f6b5d5e0200>\n",
      "<__builtin__.Stop instance at 0x7f6b5d5e0128>\n",
      "<__builtin__.Stop instance at 0x7f6b5d5e0290>\n",
      "<__builtin__.Stop instance at 0x7f6b5d5e0368>\n",
      "<__builtin__.Stop instance at 0x7f6b5d5e0440>\n",
      "<__builtin__.Stop instance at 0x7f6b5d5e05a8>\n",
      "<__builtin__.Stop instance at 0x7f6b5d5e0710>\n",
      "<__builtin__.Stop instance at 0x7f6b5d5e0878>\n",
      "<__builtin__.Stop instance at 0x7f6b5d5e09e0>\n",
      "<__builtin__.Stop instance at 0x7f6b5d5e0fc8>\n",
      "<__builtin__.Stop instance at 0x7f6b5d5e0f38>\n",
      "<__builtin__.Stop instance at 0x7f6b5d5ef5a8>\n",
      "<__builtin__.Stop instance at 0x7f6b5d5ef6c8>\n",
      "<__builtin__.Stop instance at 0x7f6b5d5ef7e8>\n",
      "<__builtin__.Stop instance at 0x7f6b5d5ef950>\n",
      "<__builtin__.Stop instance at 0x7f6b5d5efab8>\n",
      "<__builtin__.Stop instance at 0x7f6b5d5efdd0>\n",
      "<__builtin__.Stop instance at 0x7f6b5d5efef0>\n",
      "<__builtin__.Stop instance at 0x7f6b5d5ff9e0>\n",
      "<__builtin__.Stop instance at 0x7f6b5d5ff908>\n",
      "<__builtin__.Stop instance at 0x7f6b5d5ffb90>\n",
      "<__builtin__.Stop instance at 0x7f6b5d5ffcf8>\n",
      "<__builtin__.Stop instance at 0x7f6b5d5ffe60>\n",
      "<__builtin__.Stop instance at 0x7f6b5d5fffc8>\n",
      "<__builtin__.Stop instance at 0x7f6b5d605248>\n",
      "<__builtin__.Stop instance at 0x7f6b5d6053b0>\n",
      "<__builtin__.Stop instance at 0x7f6b5d605518>\n",
      "<__builtin__.Stop instance at 0x7f6b5d605908>\n",
      "<__builtin__.Stop instance at 0x7f6b5d605a70>\n",
      "<__builtin__.Stop instance at 0x7f6b5d605cb0>\n",
      "<__builtin__.Stop instance at 0x7f6b5d605e18>\n",
      "<__builtin__.Stop instance at 0x7f6b5d5594d0>\n",
      "<__builtin__.Stop instance at 0x7f6b5d5593f8>\n",
      "<__builtin__.Stop instance at 0x7f6b5d559560>\n",
      "<__builtin__.Stop instance at 0x7f6b5d559638>\n",
      "<__builtin__.Stop instance at 0x7f6b5d559710>\n",
      "<__builtin__.Stop instance at 0x7f6b5d559878>\n",
      "<__builtin__.Stop instance at 0x7f6b5d5599e0>\n",
      "<__builtin__.Stop instance at 0x7f6b5d559ea8>\n",
      "<__builtin__.Stop instance at 0x7f6b5d559e18>\n",
      "<__builtin__.Stop instance at 0x7f6b5d559fc8>\n",
      "<__builtin__.Stop instance at 0x7f6b5d569440>\n",
      "<__builtin__.Stop instance at 0x7f6b5d569680>\n",
      "<__builtin__.Stop instance at 0x7f6b5d569a28>\n",
      "<__builtin__.Stop instance at 0x7f6b5d569d40>\n",
      "<__builtin__.Stop instance at 0x7f6b5d572170>\n",
      "<__builtin__.Stop instance at 0x7f6b5d5722d8>\n",
      "<__builtin__.Stop instance at 0x7f6b5d57a098>\n",
      "<__builtin__.Stop instance at 0x7f6b5d57a128>\n",
      "<__builtin__.Stop instance at 0x7f6b5d57a758>\n",
      "<__builtin__.Stop instance at 0x7f6b5d57acf8>\n",
      "<__builtin__.Stop instance at 0x7f6b5d588710>\n",
      "<__builtin__.Stop instance at 0x7f6b5d510128>\n",
      "<__builtin__.Stop instance at 0x7f6b5d510248>\n",
      "<__builtin__.Stop instance at 0x7f6b5d5103b0>\n",
      "<__builtin__.Stop instance at 0x7f6b5d510518>\n",
      "<__builtin__.Stop instance at 0x7f6b5d510998>\n",
      "<__builtin__.Stop instance at 0x7f6b5d510e60>\n",
      "<__builtin__.Stop instance at 0x7f6b5d510dd0>\n",
      "<__builtin__.Stop instance at 0x7f6b5d510ef0>\n",
      "<__builtin__.Stop instance at 0x7f6b5d510fc8>\n",
      "<__builtin__.Stop instance at 0x7f6b5d51e0e0>\n",
      "<__builtin__.Stop instance at 0x7f6b5d51e248>\n",
      "<__builtin__.Stop instance at 0x7f6b5d51e3b0>\n",
      "<__builtin__.Stop instance at 0x7f6b5d51e518>\n",
      "<__builtin__.Stop instance at 0x7f6b5d51ec68>\n",
      "<__builtin__.Stop instance at 0x7f6b5d51ebd8>\n",
      "<__builtin__.Stop instance at 0x7f6b5d51ecf8>\n",
      "<__builtin__.Stop instance at 0x7f6b5d51edd0>\n",
      "<__builtin__.Stop instance at 0x7f6b5d51eea8>\n",
      "<__builtin__.Stop instance at 0x7f6b5d52c128>\n",
      "<__builtin__.Stop instance at 0x7f6b5d52c290>\n",
      "<__builtin__.Stop instance at 0x7f6b5d52c3f8>\n",
      "<__builtin__.Stop instance at 0x7f6b5d52c560>\n",
      "<__builtin__.Stop instance at 0x7f6b5d52c6c8>\n",
      "<__builtin__.Stop instance at 0x7f6b5d52c830>\n",
      "<__builtin__.Stop instance at 0x7f6b5d52c998>\n",
      "<__builtin__.Stop instance at 0x7f6b5d52cb00>\n",
      "<__builtin__.Stop instance at 0x7f6b5d52cd40>\n",
      "<__builtin__.Stop instance at 0x7f6b5d52cea8>\n",
      "<__builtin__.Stop instance at 0x7f6b5d53a200>\n",
      "<__builtin__.Stop instance at 0x7f6b5d53a320>\n",
      "<__builtin__.Stop instance at 0x7f6b5d53a488>\n",
      "<__builtin__.Stop instance at 0x7f6b5d5482d8>\n",
      "<__builtin__.Stop instance at 0x7f6b5d548248>\n",
      "<__builtin__.Stop instance at 0x7f6b5d548368>\n",
      "<__builtin__.Stop instance at 0x7f6b5d548440>\n",
      "<__builtin__.Stop instance at 0x7f6b5d548518>\n",
      "<__builtin__.Stop instance at 0x7f6b5d548680>\n",
      "<__builtin__.Stop instance at 0x7f6b5d5487e8>\n",
      "<__builtin__.Stop instance at 0x7f6b5d548950>\n",
      "<__builtin__.Stop instance at 0x7f6b5d548ab8>\n",
      "<__builtin__.Stop instance at 0x7f6b5d548c20>\n",
      "<__builtin__.Stop instance at 0x7f6b5d4d8128>\n",
      "<__builtin__.Stop instance at 0x7f6b5d4d81b8>\n",
      "<__builtin__.Stop instance at 0x7f6b5d4d8320>\n",
      "<__builtin__.Stop instance at 0x7f6b5d4d8560>\n",
      "<__builtin__.Stop instance at 0x7f6b5d4d86c8>\n",
      "<__builtin__.Stop instance at 0x7f6b5d4d8830>\n",
      "<__builtin__.Stop instance at 0x7f6b5d4d8998>\n",
      "<__builtin__.Stop instance at 0x7f6b5d4d8bd8>\n",
      "<__builtin__.Stop instance at 0x7f6b5d4d8d40>\n",
      "<__builtin__.Stop instance at 0x7f6b5d4d8ea8>\n",
      "<__builtin__.Stop instance at 0x7f6b5d4e9bd8>\n",
      "<__builtin__.Stop instance at 0x7f6b5d4e9b00>\n",
      "<__builtin__.Stop instance at 0x7f6b5d4e9cb0>\n",
      "<__builtin__.Stop instance at 0x7f6b5d4e9e18>\n",
      "<__builtin__.Stop instance at 0x7f6b5d4e9f80>\n",
      "<__builtin__.Stop instance at 0x7f6b5d4f6128>\n",
      "<__builtin__.Stop instance at 0x7f6b5d4f6290>\n",
      "<__builtin__.Stop instance at 0x7f6b5d4f63f8>\n",
      "<__builtin__.Stop instance at 0x7f6b5d4f6560>\n",
      "<__builtin__.Stop instance at 0x7f6b5d4f66c8>\n",
      "<__builtin__.Stop instance at 0x7f6b5d4f6830>\n",
      "<__builtin__.Stop instance at 0x7f6b5d4f6998>\n",
      "<__builtin__.Stop instance at 0x7f6b5d4f6d88>\n",
      "<__builtin__.Stop instance at 0x7f6b5d4f6cf8>\n",
      "<__builtin__.Stop instance at 0x7f6b5d503248>\n",
      "<__builtin__.Stop instance at 0x7f6b5d5033b0>\n",
      "<__builtin__.Stop instance at 0x7f6b5d503518>\n",
      "<__builtin__.Stop instance at 0x7f6b5d503680>\n",
      "<__builtin__.Stop instance at 0x7f6b5d503a70>\n",
      "<__builtin__.Stop instance at 0x7f6b5d5039e0>\n",
      "<__builtin__.Stop instance at 0x7f6b5d503b00>\n",
      "<__builtin__.Stop instance at 0x7f6b5d503bd8>\n",
      "<__builtin__.Stop instance at 0x7f6b5d503f38>\n",
      "<__builtin__.Stop instance at 0x7f6b5d492ea8>\n",
      "<__builtin__.Stop instance at 0x7f6b5d492e18>\n",
      "<__builtin__.Stop instance at 0x7f6b5d492f38>\n",
      "<__builtin__.Stop instance at 0x7f6b5d49a050>\n",
      "<__builtin__.Stop instance at 0x7f6b5d49a128>\n",
      "<__builtin__.Stop instance at 0x7f6b5d49a290>\n",
      "<__builtin__.Stop instance at 0x7f6b5d49a680>\n",
      "<__builtin__.Stop instance at 0x7f6b5d49a5f0>\n",
      "<__builtin__.Stop instance at 0x7f6b5d4a62d8>\n",
      "<__builtin__.Stop instance at 0x7f6b5d4a6200>\n",
      "<__builtin__.Stop instance at 0x7f6b5d4a63b0>\n",
      "<__builtin__.Stop instance at 0x7f6b5d4a6d40>\n",
      "<__builtin__.Stop instance at 0x7f6b5d4a6c68>\n",
      "<__builtin__.Stop instance at 0x7f6b5d4a6e18>\n",
      "<__builtin__.Stop instance at 0x7f6b5d4a6ef0>\n",
      "<__builtin__.Stop instance at 0x7f6b5d4af098>\n",
      "<__builtin__.Stop instance at 0x7f6b5d4af560>\n",
      "<__builtin__.Stop instance at 0x7f6b5d4af4d0>\n",
      "<__builtin__.Stop instance at 0x7f6b5d4af5f0>\n",
      "<__builtin__.Stop instance at 0x7f6b5d4af710>\n",
      "<__builtin__.Stop instance at 0x7f6b5d4af878>\n",
      "<__builtin__.Stop instance at 0x7f6b5d4af9e0>\n",
      "<__builtin__.Stop instance at 0x7f6b5d4afb48>\n",
      "<__builtin__.Stop instance at 0x7f6b5d4afcb0>\n",
      "<__builtin__.Stop instance at 0x7f6b5d4afe18>\n",
      "<__builtin__.Stop instance at 0x7f6b5d4aff80>\n",
      "<__builtin__.Stop instance at 0x7f6b5d4c5128>\n",
      "<__builtin__.Stop instance at 0x7f6b5d4c5290>\n",
      "<__builtin__.Stop instance at 0x7f6b5d4c53f8>\n",
      "<__builtin__.Stop instance at 0x7f6b5d4587e8>\n",
      "<__builtin__.Stop instance at 0x7f6b5d458710>\n",
      "<__builtin__.Stop instance at 0x7f6b5d45b170>\n",
      "<__builtin__.Stop instance at 0x7f6b5d45b0e0>\n",
      "<__builtin__.Stop instance at 0x7f6b5d45b200>\n",
      "<__builtin__.Stop instance at 0x7f6b5d45b2d8>\n",
      "<__builtin__.Stop instance at 0x7f6b5d45b3b0>\n",
      "<__builtin__.Stop instance at 0x7f6b5d45b518>\n",
      "<__builtin__.Stop instance at 0x7f6b5d45b680>\n",
      "<__builtin__.Stop instance at 0x7f6b5d45b7e8>\n",
      "<__builtin__.Stop instance at 0x7f6b5d45b950>\n",
      "<__builtin__.Stop instance at 0x7f6b5d45bab8>\n",
      "<__builtin__.Stop instance at 0x7f6b5d45bc20>\n",
      "<__builtin__.Stop instance at 0x7f6b5d45bd88>\n",
      "<__builtin__.Stop instance at 0x7f6b5d467a28>\n",
      "<__builtin__.Stop instance at 0x7f6b5d467a70>\n",
      "<__builtin__.Stop instance at 0x7f6b5d467b48>\n",
      "<__builtin__.Stop instance at 0x7f6b5d476ab8>\n",
      "<__builtin__.Stop instance at 0x7f6b5d476cb0>\n",
      "<__builtin__.Stop instance at 0x7f6b5d4750e0>\n",
      "<__builtin__.Stop instance at 0x7f6b5d475200>\n",
      "<__builtin__.Stop instance at 0x7f6b5d4757a0>\n",
      "<__builtin__.Stop instance at 0x7f6b5d475908>\n",
      "<__builtin__.Stop instance at 0x7f6b5d475a70>\n",
      "<__builtin__.Stop instance at 0x7f6b5d475bd8>\n",
      "<__builtin__.Stop instance at 0x7f6b5d475d40>\n",
      "<__builtin__.Stop instance at 0x7f6b5d475ea8>\n",
      "<__builtin__.Stop instance at 0x7f6b5d486050>\n",
      "<__builtin__.Stop instance at 0x7f6b5d4861b8>\n",
      "<__builtin__.Stop instance at 0x7f6b5d486320>\n",
      "<__builtin__.Stop instance at 0x7f6b5d486488>\n",
      "<__builtin__.Stop instance at 0x7f6b5d4865f0>\n",
      "<__builtin__.Stop instance at 0x7f6b5d486758>\n",
      "<__builtin__.Stop instance at 0x7f6b5d4868c0>\n",
      "<__builtin__.Stop instance at 0x7f6b5d3d79e0>\n",
      "<__builtin__.Stop instance at 0x7f6b5d3d7b48>\n",
      "<__builtin__.Stop instance at 0x7f6b5d3dd170>\n",
      "<__builtin__.Stop instance at 0x7f6b5d3dd098>\n",
      "<__builtin__.Stop instance at 0x7f6b5d3dd2d8>\n",
      "<__builtin__.Stop instance at 0x7f6b5d3dd440>\n",
      "<__builtin__.Stop instance at 0x7f6b5d3dd680>\n",
      "<__builtin__.Stop instance at 0x7f6b5d3dd7e8>\n",
      "<__builtin__.Stop instance at 0x7f6b5d3dd950>\n",
      "<__builtin__.Stop instance at 0x7f6b5d3ddab8>\n",
      "<__builtin__.Stop instance at 0x7f6b5d3ddc20>\n",
      "<__builtin__.Stop instance at 0x7f6b5d3ddfc8>\n",
      "<__builtin__.Stop instance at 0x7f6b5d3ea3b0>\n",
      "<__builtin__.Stop instance at 0x7f6b5d3ea320>\n",
      "<__builtin__.Stop instance at 0x7f6b5d3ea488>\n",
      "<__builtin__.Stop instance at 0x7f6b5d3ea7e8>\n",
      "<__builtin__.Stop instance at 0x7f6b5d3ead88>\n",
      "<__builtin__.Stop instance at 0x7f6b5d3fefc8>\n",
      "<__builtin__.Stop instance at 0x7f6b5d3feef0>\n",
      "<__builtin__.Stop instance at 0x7f6b5d3ff098>\n",
      "<__builtin__.Stop instance at 0x7f6b5d3ff170>\n",
      "<__builtin__.Stop instance at 0x7f6b5d3ff248>\n",
      "<__builtin__.Stop instance at 0x7f6b5d3ff3b0>\n",
      "<__builtin__.Stop instance at 0x7f6b5d3ff518>\n",
      "<__builtin__.Stop instance at 0x7f6b5d3ff680>\n",
      "<__builtin__.Stop instance at 0x7f6b5d3ff7e8>\n",
      "<__builtin__.Stop instance at 0x7f6b5d3ff950>\n",
      "<__builtin__.Stop instance at 0x7f6b5d3ffef0>\n",
      "<__builtin__.Stop instance at 0x7f6b5d04f4d0>\n",
      "<__builtin__.Stop instance at 0x7f6b5d04f638>\n",
      "<__builtin__.Stop instance at 0x7f6b5d04f7a0>\n",
      "<__builtin__.Stop instance at 0x7f6b5d04f908>\n",
      "<__builtin__.Stop instance at 0x7f6b5d04fcf8>\n",
      "<__builtin__.Stop instance at 0x7f6b5d04fc68>\n",
      "<__builtin__.Stop instance at 0x7f6b5d04fe60>\n",
      "<__builtin__.Stop instance at 0x7f6b5d04ffc8>\n",
      "<__builtin__.Stop instance at 0x7f6b5d058170>\n",
      "<__builtin__.Stop instance at 0x7f6b5d058cf8>\n",
      "<__builtin__.Stop instance at 0x7f6b5d058c20>\n",
      "<__builtin__.Stop instance at 0x7f6b5d058d88>\n",
      "<__builtin__.Stop instance at 0x7f6b5d058e60>\n",
      "<__builtin__.Stop instance at 0x7f6b5d058f38>\n",
      "<__builtin__.Stop instance at 0x7f6b5d06d680>\n",
      "<__builtin__.Stop instance at 0x7f6b5d06d5a8>\n",
      "<__builtin__.Stop instance at 0x7f6b5d06d710>\n",
      "<__builtin__.Stop instance at 0x7f6b5d06d7e8>\n",
      "<__builtin__.Stop instance at 0x7f6b5d06d8c0>\n",
      "<__builtin__.Stop instance at 0x7f6b5d06da28>\n",
      "<__builtin__.Stop instance at 0x7f6b5d06db90>\n",
      "<__builtin__.Stop instance at 0x7f6b5d06dcf8>\n",
      "<__builtin__.Stop instance at 0x7f6b5d07cb00>\n",
      "<__builtin__.Stop instance at 0x7f6b5d07cc20>\n",
      "<__builtin__.Stop instance at 0x7f6b5d07cd88>\n",
      "<__builtin__.Stop instance at 0x7f6b5d085290>\n",
      "<__builtin__.Stop instance at 0x7f6b5d085200>\n",
      "<__builtin__.Stop instance at 0x7f6b5d085488>\n",
      "<__builtin__.Stop instance at 0x7f6b5d0854d0>\n",
      "<__builtin__.Stop instance at 0x7f6b5d0855a8>\n",
      "<__builtin__.Stop instance at 0x7f6b5d085710>\n",
      "<__builtin__.Stop instance at 0x7f6b5d085878>\n",
      "<__builtin__.Stop instance at 0x7f6b5d085ab8>\n",
      "<__builtin__.Stop instance at 0x7f6b5d085c20>\n",
      "<__builtin__.Stop instance at 0x7f6b5d085d88>\n",
      "<__builtin__.Stop instance at 0x7f6b5d085ef0>\n",
      "<__builtin__.Stop instance at 0x7f6b5d0114d0>\n",
      "<__builtin__.Stop instance at 0x7f6b5d011440>\n",
      "<__builtin__.Stop instance at 0x7f6b5d0115a8>\n",
      "<__builtin__.Stop instance at 0x7f6b5d011680>\n",
      "<__builtin__.Stop instance at 0x7f6b5d021320>\n",
      "<__builtin__.Stop instance at 0x7f6b5d021290>\n",
      "<__builtin__.Stop instance at 0x7f6b5d0213b0>\n",
      "<__builtin__.Stop instance at 0x7f6b5d021488>\n",
      "<__builtin__.Stop instance at 0x7f6b5d021560>\n",
      "<__builtin__.Stop instance at 0x7f6b5d0216c8>\n",
      "<__builtin__.Stop instance at 0x7f6b5d039d88>\n",
      "<__builtin__.Stop instance at 0x7f6b5d039cb0>\n",
      "<__builtin__.Stop instance at 0x7f6b5d039e18>\n",
      "<__builtin__.Stop instance at 0x7f6b5d039ef0>\n",
      "<__builtin__.Stop instance at 0x7f6b5d039fc8>\n",
      "<__builtin__.Stop instance at 0x7f6b5d044170>\n",
      "<__builtin__.Stop instance at 0x7f6b5d0442d8>\n",
      "<__builtin__.Stop instance at 0x7f6b5d044440>\n",
      "<__builtin__.Stop instance at 0x7f6b5cfd0a28>\n",
      "<__builtin__.Stop instance at 0x7f6b5cfd6878>\n",
      "<__builtin__.Stop instance at 0x7f6b5cfd69e0>\n",
      "<__builtin__.Stop instance at 0x7f6b5cfe5f80>\n",
      "<__builtin__.Stop instance at 0x7f6b5cfe6128>\n",
      "<__builtin__.Stop instance at 0x7f6b5cfe6290>\n",
      "<__builtin__.Stop instance at 0x7f6b5cfe63f8>\n",
      "<__builtin__.Stop instance at 0x7f6b5cfe6560>\n",
      "<__builtin__.Stop instance at 0x7f6b5cfe6878>\n",
      "<__builtin__.Stop instance at 0x7f6b5cff3320>\n",
      "<__builtin__.Stop instance at 0x7f6b5cff3248>\n",
      "<__builtin__.Stop instance at 0x7f6b5cff33b0>\n",
      "<__builtin__.Stop instance at 0x7f6b5cff34d0>\n",
      "<__builtin__.Stop instance at 0x7f6b5cff37e8>\n",
      "<__builtin__.Stop instance at 0x7f6b5cff3950>\n",
      "<__builtin__.Stop instance at 0x7f6b5d001638>\n",
      "<__builtin__.Stop instance at 0x7f6b5cf510e0>\n",
      "<__builtin__.Stop instance at 0x7f6b5cf51050>\n",
      "<__builtin__.Stop instance at 0x7f6b5cf51170>\n",
      "<__builtin__.Stop instance at 0x7f6b5cf51248>\n",
      "<__builtin__.Stop instance at 0x7f6b5cf51320>\n",
      "<__builtin__.Stop instance at 0x7f6b5cf51488>\n",
      "<__builtin__.Stop instance at 0x7f6b5cf515f0>\n",
      "<__builtin__.Stop instance at 0x7f6b5cf51908>\n",
      "<__builtin__.Stop instance at 0x7f6b5cf51a28>\n",
      "<__builtin__.Stop instance at 0x7f6b5cf51b90>\n",
      "<__builtin__.Stop instance at 0x7f6b5cf51f80>\n",
      "<__builtin__.Stop instance at 0x7f6b5cf6e8c0>\n",
      "<__builtin__.Stop instance at 0x7f6b5cf6e7e8>\n",
      "<__builtin__.Stop instance at 0x7f6b5cf6e998>\n",
      "<__builtin__.Stop instance at 0x7f6b5cf6ea70>\n",
      "<__builtin__.Stop instance at 0x7f6b5cf6ebd8>\n",
      "<__builtin__.Stop instance at 0x7f6b5cf6ed40>\n",
      "<__builtin__.Stop instance at 0x7f6b5cf6eea8>\n",
      "<__builtin__.Stop instance at 0x7f6b5cf7c050>\n",
      "<__builtin__.Stop instance at 0x7f6b5cf7c1b8>\n",
      "<__builtin__.Stop instance at 0x7f6b5cf7c320>\n",
      "<__builtin__.Stop instance at 0x7f6b5cf89050>\n",
      "<__builtin__.Stop instance at 0x7f6b5cf89170>\n",
      "<__builtin__.Stop instance at 0x7f6b5cf893b0>\n",
      "<__builtin__.Stop instance at 0x7f6b5cf895f0>\n",
      "<__builtin__.Stop instance at 0x7f6b5d713950>\n",
      "<__builtin__.Stop instance at 0x7f6b5d725d88>\n",
      "<__builtin__.Stop instance at 0x7f6b5d725dd0>\n",
      "<__builtin__.Stop instance at 0x7f6b5d725ea8>\n",
      "<__builtin__.Stop instance at 0x7f6b5d72c050>\n",
      "<__builtin__.Stop instance at 0x7f6b5d72c1b8>\n",
      "<__builtin__.Stop instance at 0x7f6b5d72c320>\n",
      "<__builtin__.Stop instance at 0x7f6b5d72c488>\n",
      "<__builtin__.Stop instance at 0x7f6b5d73a248>\n",
      "<__builtin__.Stop instance at 0x7f6b5d73a290>\n",
      "<__builtin__.Stop instance at 0x7f6b5d74b908>\n",
      "<__builtin__.Stop instance at 0x7f6b5d74b830>\n",
      "<__builtin__.Stop instance at 0x7f6b5d6d9560>\n",
      "<__builtin__.Stop instance at 0x7f6b5d6d9680>\n",
      "<__builtin__.Stop instance at 0x7f6b5d6d97e8>\n",
      "<__builtin__.Stop instance at 0x7f6b5d6e5d88>\n",
      "<__builtin__.Stop instance at 0x7f6b5d6f49e0>\n",
      "<__builtin__.Stop instance at 0x7f6b5d6f4a28>\n",
      "<__builtin__.Stop instance at 0x7f6b5d6fc758>\n",
      "<__builtin__.Stop instance at 0x7f6b5d6fc680>\n",
      "<__builtin__.Stop instance at 0x7f6b5d6fc7e8>\n",
      "<__builtin__.Stop instance at 0x7f6b5d6fc8c0>\n",
      "<__builtin__.Stop instance at 0x7f6b5d709c68>\n",
      "<__builtin__.Stop instance at 0x7f6b5d709b90>\n",
      "<__builtin__.Stop instance at 0x7f6b5d709cf8>\n",
      "<__builtin__.Stop instance at 0x7f6b5d709dd0>\n",
      "<__builtin__.Stop instance at 0x7f6b5d709ea8>\n",
      "<__builtin__.Stop instance at 0x7f6b5d690050>\n",
      "<__builtin__.Stop instance at 0x7f6b5d6901b8>\n",
      "<__builtin__.Stop instance at 0x7f6b5d6905a8>\n",
      "<__builtin__.Stop instance at 0x7f6b5d69f5f0>\n",
      "<__builtin__.Stop instance at 0x7f6b5d6b62d8>\n",
      "<__builtin__.Stop instance at 0x7f6b5d6b6200>\n",
      "<__builtin__.Stop instance at 0x7f6b5d6b6368>\n",
      "<__builtin__.Stop instance at 0x7f6b5d6b6440>\n",
      "<__builtin__.Stop instance at 0x7f6b5d6b6518>\n",
      "<__builtin__.Stop instance at 0x7f6b5d6b6a28>\n",
      "<__builtin__.Stop instance at 0x7f6b5d6b6950>\n",
      "<__builtin__.Stop instance at 0x7f6b5d6b6b00>\n",
      "<__builtin__.Stop instance at 0x7f6b5d6b6bd8>\n",
      "<__builtin__.Stop instance at 0x7f6b5d6b6d40>\n",
      "<__builtin__.Stop instance at 0x7f6b5d6b6ea8>\n",
      "<__builtin__.Stop instance at 0x7f6b5d6c3050>\n",
      "<__builtin__.Stop instance at 0x7f6b5d6c31b8>\n",
      "<__builtin__.Stop instance at 0x7f6b5d6c3320>\n",
      "<__builtin__.Stop instance at 0x7f6b5d6cc1b8>\n",
      "<__builtin__.Stop instance at 0x7f6b5d6ccc68>\n",
      "<__builtin__.Stop instance at 0x7f6b5d65a560>\n",
      "<__builtin__.Stop instance at 0x7f6b5d65a488>\n",
      "<__builtin__.Stop instance at 0x7f6b5d65a5f0>\n",
      "<__builtin__.Stop instance at 0x7f6b5d65a6c8>\n",
      "<__builtin__.Stop instance at 0x7f6b5d65a7a0>\n",
      "<__builtin__.Stop instance at 0x7f6b5d65a908>\n",
      "<__builtin__.Stop instance at 0x7f6b5d65aa70>\n",
      "<__builtin__.Stop instance at 0x7f6b5d65abd8>\n",
      "<__builtin__.Stop instance at 0x7f6b5d65ad40>\n",
      "<__builtin__.Stop instance at 0x7f6b5d65aea8>\n",
      "<__builtin__.Stop instance at 0x7f6b5d66bfc8>\n",
      "<__builtin__.Stop instance at 0x7f6b5d66e050>\n",
      "<__builtin__.Stop instance at 0x7f6b5d66e128>\n",
      "<__builtin__.Stop instance at 0x7f6b5d66e200>\n",
      "<__builtin__.Stop instance at 0x7f6b5d66e368>\n",
      "<__builtin__.Stop instance at 0x7f6b5d684098>\n",
      "<__builtin__.Stop instance at 0x7f6b5d6841b8>\n",
      "<__builtin__.Stop instance at 0x7f6b5d684320>\n",
      "<__builtin__.Stop instance at 0x7f6b5d684710>\n",
      "<__builtin__.Stop instance at 0x7f6b5d684680>\n",
      "<__builtin__.Stop instance at 0x7f6b5d6847e8>\n",
      "<__builtin__.Stop instance at 0x7f6b5d684d88>\n",
      "<__builtin__.Stop instance at 0x7f6b5d684ea8>\n",
      "<__builtin__.Stop instance at 0x7f6b5d68a050>\n",
      "<__builtin__.Stop instance at 0x7f6b5d68a1b8>\n",
      "<__builtin__.Stop instance at 0x7f6b5d68a320>\n",
      "<__builtin__.Stop instance at 0x7f6b5d68a488>\n",
      "<__builtin__.Stop instance at 0x7f6b5d39ab90>\n",
      "<__builtin__.Stop instance at 0x7f6b5d3a8e18>\n",
      "<__builtin__.Stop instance at 0x7f6b5d3a8f38>\n",
      "<__builtin__.Stop instance at 0x7f6b5d3ab0e0>\n",
      "<__builtin__.Stop instance at 0x7f6b5d3b48c0>\n",
      "<__builtin__.Stop instance at 0x7f6b5d3b47e8>\n",
      "<__builtin__.Stop instance at 0x7f6b5d3b4950>\n",
      "<__builtin__.Stop instance at 0x7f6b5d3b4a28>\n",
      "<__builtin__.Stop instance at 0x7f6b5d3b4b00>\n",
      "<__builtin__.Stop instance at 0x7f6b5d3b4d40>\n",
      "<__builtin__.Stop instance at 0x7f6b5d3be248>\n",
      "<__builtin__.Stop instance at 0x7f6b5d3c3e60>\n",
      "<__builtin__.Stop instance at 0x7f6b5d3c3d88>\n",
      "<__builtin__.Stop instance at 0x7f6b5d3c3ef0>\n",
      "<__builtin__.Stop instance at 0x7f6b5d3c3fc8>\n",
      "<__builtin__.Stop instance at 0x7f6b5d3ca0e0>\n",
      "<__builtin__.Stop instance at 0x7f6b5d3ca248>\n",
      "<__builtin__.Stop instance at 0x7f6b5d3ca3b0>\n",
      "<__builtin__.Stop instance at 0x7f6b5d3ca518>\n",
      "<__builtin__.Stop instance at 0x7f6b5d3ca680>\n",
      "<__builtin__.Stop instance at 0x7f6b5d3ca7e8>\n",
      "<__builtin__.Stop instance at 0x7f6b5d2e6fc8>\n",
      "<__builtin__.Stop instance at 0x7f6b5d2e7050>\n",
      "<__builtin__.Stop instance at 0x7f6b5d2e7128>\n",
      "<__builtin__.Stop instance at 0x7f6b5d2e7200>\n",
      "<__builtin__.Stop instance at 0x7f6b5d2e72d8>\n",
      "<__builtin__.Stop instance at 0x7f6b5d2e7440>\n",
      "<__builtin__.Stop instance at 0x7f6b5d2e75a8>\n",
      "<__builtin__.Stop instance at 0x7f6b5d2f4290>\n",
      "<__builtin__.Stop instance at 0x7f6b5d2f4200>\n",
      "<__builtin__.Stop instance at 0x7f6b5d2f4a70>\n",
      "<__builtin__.Stop instance at 0x7f6b5d2f4998>\n",
      "<__builtin__.Stop instance at 0x7f6b5d2f4b00>\n",
      "<__builtin__.Stop instance at 0x7f6b5d2f4bd8>\n",
      "<__builtin__.Stop instance at 0x7f6b5d2f4cb0>\n",
      "<__builtin__.Stop instance at 0x7f6b5d2f4e18>\n",
      "<__builtin__.Stop instance at 0x7f6b5d2f4f80>\n",
      "<__builtin__.Stop instance at 0x7f6b5d303560>\n",
      "<__builtin__.Stop instance at 0x7f6b5d3036c8>\n",
      "<__builtin__.Stop instance at 0x7f6b5d30ad88>\n",
      "<__builtin__.Stop instance at 0x7f6b5d30acb0>\n",
      "<__builtin__.Stop instance at 0x7f6b5d30ae18>\n",
      "<__builtin__.Stop instance at 0x7f6b5d30aef0>\n",
      "<__builtin__.Stop instance at 0x7f6b5d30afc8>\n",
      "<__builtin__.Stop instance at 0x7f6b5d294170>\n",
      "<__builtin__.Stop instance at 0x7f6b5d2942d8>\n",
      "<__builtin__.Stop instance at 0x7f6b5d294440>\n",
      "<__builtin__.Stop instance at 0x7f6b5d2945a8>\n",
      "<__builtin__.Stop instance at 0x7f6b5d294a70>\n",
      "<__builtin__.Stop instance at 0x7f6b5d2949e0>\n",
      "<__builtin__.Stop instance at 0x7f6b5d294b48>\n",
      "<__builtin__.Stop instance at 0x7f6b5d2a8320>\n",
      "<__builtin__.Stop instance at 0x7f6b5d2a8488>\n",
      "<__builtin__.Stop instance at 0x7f6b5d2b53f8>\n",
      "<__builtin__.Stop instance at 0x7f6b5d2b5320>\n",
      "<__builtin__.Stop instance at 0x7f6b5d2c3f38>\n",
      "<__builtin__.Stop instance at 0x7f6b5d212c20>\n",
      "<__builtin__.Stop instance at 0x7f6b5d212fc8>\n",
      "<__builtin__.Stop instance at 0x7f6b5d212f38>\n",
      "<__builtin__.Stop instance at 0x7f6b5d218200>\n",
      "<__builtin__.Stop instance at 0x7f6b5d218170>\n",
      "<__builtin__.Stop instance at 0x7f6b5d218290>\n",
      "<__builtin__.Stop instance at 0x7f6b5d218908>\n",
      "<__builtin__.Stop instance at 0x7f6b5d1d4bd8>\n",
      "<__builtin__.Stop instance at 0x7f6b5d1d4b00>\n",
      "<__builtin__.Stop instance at 0x7f6b5d1d4cb0>\n",
      "<__builtin__.Stop instance at 0x7f6b5d1d4d88>\n",
      "<__builtin__.Stop instance at 0x7f6b5d1d4ef0>\n",
      "<__builtin__.Stop instance at 0x7f6b5d1da098>\n",
      "<__builtin__.Stop instance at 0x7f6b5d1da200>\n",
      "<__builtin__.Stop instance at 0x7f6b5d1da440>\n",
      "<__builtin__.Stop instance at 0x7f6b5d1da5a8>\n",
      "<__builtin__.Stop instance at 0x7f6b5d1da710>\n",
      "<__builtin__.Stop instance at 0x7f6b5d1da878>\n",
      "<__builtin__.Stop instance at 0x7f6b5d1da9e0>\n",
      "<__builtin__.Stop instance at 0x7f6b5d1e9c20>\n",
      "<__builtin__.Stop instance at 0x7f6b5d1e9b48>\n",
      "<__builtin__.Stop instance at 0x7f6b5d1e9cb0>\n",
      "<__builtin__.Stop instance at 0x7f6b5d1e9d88>\n",
      "<__builtin__.Stop instance at 0x7f6b5d1f01b8>\n",
      "<__builtin__.Stop instance at 0x7f6b5d1f0320>\n",
      "<__builtin__.Stop instance at 0x7f6b5d1f0488>\n",
      "<__builtin__.Stop instance at 0x7f6b5d1f05f0>\n",
      "<__builtin__.Stop instance at 0x7f6b5d1f0758>\n",
      "<__builtin__.Stop instance at 0x7f6b5d1f08c0>\n",
      "<__builtin__.Stop instance at 0x7f6b5d1f0cb0>\n",
      "<__builtin__.Stop instance at 0x7f6b5d1f0c20>\n",
      "<__builtin__.Stop instance at 0x7f6b5d1f0d88>\n",
      "<__builtin__.Stop instance at 0x7f6b5d1f0e60>\n",
      "<__builtin__.Stop instance at 0x7f6b5d1f0fc8>\n",
      "<__builtin__.Stop instance at 0x7f6b5d1fb170>\n",
      "<__builtin__.Stop instance at 0x7f6b5d1fb2d8>\n",
      "<__builtin__.Stop instance at 0x7f6b5d1fb440>\n",
      "<__builtin__.Stop instance at 0x7f6b5d1fb5a8>\n",
      "<__builtin__.Stop instance at 0x7f6b5d19a560>\n",
      "<__builtin__.Stop instance at 0x7f6b5d19a4d0>\n",
      "<__builtin__.Stop instance at 0x7f6b5d1c9128>\n",
      "<__builtin__.Stop instance at 0x7f6b5d1cbc68>\n",
      "<__builtin__.Stop instance at 0x7f6b5d1cbcf8>\n",
      "<__builtin__.Stop instance at 0x7f6b5d1cbe60>\n",
      "<__builtin__.Stop instance at 0x7f6b5d1cbfc8>\n",
      "<__builtin__.Stop instance at 0x7f6b5d112170>\n",
      "<__builtin__.Stop instance at 0x7f6b5d1127a0>\n",
      "<__builtin__.Stop instance at 0x7f6b5d1126c8>\n",
      "<__builtin__.Stop instance at 0x7f6b5d112830>\n",
      "<__builtin__.Stop instance at 0x7f6b5d121368>\n",
      "<__builtin__.Stop instance at 0x7f6b5d121e60>\n",
      "<__builtin__.Stop instance at 0x7f6b5d1290e0>\n",
      "<__builtin__.Stop instance at 0x7f6b5d129128>\n",
      "<__builtin__.Stop instance at 0x7f6b5d129200>\n",
      "<__builtin__.Stop instance at 0x7f6b5d129368>\n",
      "<__builtin__.Stop instance at 0x7f6b5d1294d0>\n",
      "<__builtin__.Stop instance at 0x7f6b5d129638>\n",
      "<__builtin__.Stop instance at 0x7f6b5d1297a0>\n",
      "<__builtin__.Stop instance at 0x7f6b5d129908>\n",
      "<__builtin__.Stop instance at 0x7f6b5d129a70>\n",
      "<__builtin__.Stop instance at 0x7f6b5d129e60>\n",
      "<__builtin__.Stop instance at 0x7f6b5d144710>\n",
      "<__builtin__.Stop instance at 0x7f6b5d144878>\n",
      "<__builtin__.Stop instance at 0x7f6b5ceaeab8>\n",
      "<__builtin__.Stop instance at 0x7f6b5ceaf9e0>\n",
      "<__builtin__.Stop instance at 0x7f6b5cebc878>\n",
      "<__builtin__.Stop instance at 0x7f6b5cebc7a0>\n",
      "<__builtin__.Stop instance at 0x7f6b5cebc950>\n",
      "<__builtin__.Stop instance at 0x7f6b5cebca28>\n",
      "<__builtin__.Stop instance at 0x7f6b5cebcb90>\n",
      "<__builtin__.Stop instance at 0x7f6b5cebccf8>\n",
      "<__builtin__.Stop instance at 0x7f6b5cebce60>\n",
      "<__builtin__.Stop instance at 0x7f6b5cebcfc8>\n",
      "<__builtin__.Stop instance at 0x7f6b5cec9170>\n",
      "<__builtin__.Stop instance at 0x7f6b5cec92d8>\n",
      "<__builtin__.Stop instance at 0x7f6b5cec9518>\n",
      "<__builtin__.Stop instance at 0x7f6b5cec9680>\n",
      "<__builtin__.Stop instance at 0x7f6b5ce6bb00>\n",
      "<__builtin__.Stop instance at 0x7f6b5ce6ba28>\n",
      "<__builtin__.Stop instance at 0x7f6b5ce6bbd8>\n",
      "<__builtin__.Stop instance at 0x7f6b5ce6bcb0>\n",
      "<__builtin__.Stop instance at 0x7f6b5ce6bfc8>\n",
      "<__builtin__.Stop instance at 0x7f6b5ce6d170>\n",
      "<__builtin__.Stop instance at 0x7f6b5ce6d2d8>\n",
      "<__builtin__.Stop instance at 0x7f6b5ce6d440>\n",
      "<__builtin__.Stop instance at 0x7f6b5ce6d5a8>\n",
      "<__builtin__.Stop instance at 0x7f6b5ce6d710>\n",
      "<__builtin__.Stop instance at 0x7f6b5ce6db00>\n",
      "<__builtin__.Stop instance at 0x7f6b5ce6da70>\n",
      "<__builtin__.Stop instance at 0x7f6b5ce6db90>\n",
      "<__builtin__.Stop instance at 0x7f6b5ce6dfc8>\n",
      "<__builtin__.Stop instance at 0x7f6b5ce7c170>\n",
      "<__builtin__.Stop instance at 0x7f6b5ce7c2d8>\n",
      "<__builtin__.Stop instance at 0x7f6b5ce7c440>\n",
      "<__builtin__.Stop instance at 0x7f6b5ce7c9e0>\n",
      "<__builtin__.Stop instance at 0x7f6b5ce1d998>\n",
      "<__builtin__.Stop instance at 0x7f6b5ce1d9e0>\n",
      "<__builtin__.Stop instance at 0x7f6b5ce1db48>\n",
      "<__builtin__.Stop instance at 0x7f6b5ce1dd88>\n",
      "<__builtin__.Stop instance at 0x7f6b5ce2bdd0>\n",
      "<__builtin__.Stop instance at 0x7f6b5ce2bcf8>\n",
      "<__builtin__.Stop instance at 0x7f6b5ce2bea8>\n",
      "<__builtin__.Stop instance at 0x7f6b5ce2bf80>\n",
      "<__builtin__.Stop instance at 0x7f6b5ce36128>\n",
      "<__builtin__.Stop instance at 0x7f6b5ce36290>\n",
      "<__builtin__.Stop instance at 0x7f6b5ce363f8>\n",
      "<__builtin__.Stop instance at 0x7f6b5cd9ab00>\n",
      "<__builtin__.Stop instance at 0x7f6b5cd9ac68>\n",
      "<__builtin__.Stop instance at 0x7f6b5cd9aea8>\n",
      "<__builtin__.Stop instance at 0x7f6b5cda0050>\n",
      "<__builtin__.Stop instance at 0x7f6b5cda01b8>\n",
      "<__builtin__.Stop instance at 0x7f6b5cda0320>\n",
      "<__builtin__.Stop instance at 0x7f6b5cda0488>\n",
      "<__builtin__.Stop instance at 0x7f6b5cc54f80>\n",
      "<__builtin__.Stop instance at 0x7f6b5cc57050>\n",
      "<__builtin__.Stop instance at 0x7f6b5cc57170>\n",
      "<__builtin__.Stop instance at 0x7f6b5cc65440>\n",
      "<__builtin__.Stop instance at 0x7f6b5cc65368>\n",
      "<__builtin__.Stop instance at 0x7f6b5cc654d0>\n",
      "<__builtin__.Stop instance at 0x7f6b5cc655a8>\n",
      "<__builtin__.Stop instance at 0x7f6b5cc65680>\n",
      "<__builtin__.Stop instance at 0x7f6b5cc657e8>\n",
      "<__builtin__.Stop instance at 0x7f6b5cc65950>\n",
      "<__builtin__.Stop instance at 0x7f6b5cc65ab8>\n",
      "<__builtin__.Stop instance at 0x7f6b5cc65cf8>\n",
      "<__builtin__.Stop instance at 0x7f6b5cc7bcf8>\n",
      "<__builtin__.Stop instance at 0x7f6b5cc7bd40>\n",
      "<__builtin__.Stop instance at 0x7f6b5cc7bf80>\n",
      "<__builtin__.Stop instance at 0x7f6b5cc810e0>\n",
      "<__builtin__.Stop instance at 0x7f6b5cc81908>\n",
      "<__builtin__.Stop instance at 0x7f6b5cc81878>\n",
      "<__builtin__.Stop instance at 0x7f6b5cc81998>\n",
      "<__builtin__.Stop instance at 0x7f6b5cc81a70>\n",
      "<__builtin__.Stop instance at 0x7f6b5cc81b48>\n",
      "<__builtin__.Stop instance at 0x7f6b5cc81cb0>\n",
      "<__builtin__.Stop instance at 0x7f6b5cc81e18>\n",
      "<__builtin__.Stop instance at 0x7f6b5cc81f80>\n",
      "<__builtin__.Stop instance at 0x7f6b5cb8f128>\n",
      "<__builtin__.Stop instance at 0x7f6b5cb8f290>\n",
      "<__builtin__.Stop instance at 0x7f6b5cb9d7a0>\n",
      "<__builtin__.Stop instance at 0x7f6b5cb9d6c8>\n",
      "<__builtin__.Stop instance at 0x7f6b5cb9d830>\n",
      "<__builtin__.Stop instance at 0x7f6b5cb9d908>\n",
      "<__builtin__.Stop instance at 0x7f6b5cb9d9e0>\n",
      "<__builtin__.Stop instance at 0x7f6b5cb9db48>\n",
      "<__builtin__.Stop instance at 0x7f6b5cb9dcb0>\n",
      "<__builtin__.Stop instance at 0x7f6b5cb9de18>\n",
      "<__builtin__.Stop instance at 0x7f6b5cba6200>\n",
      "<__builtin__.Stop instance at 0x7f6b5cba6320>\n",
      "<__builtin__.Stop instance at 0x7f6b5cba6488>\n",
      "<__builtin__.Stop instance at 0x7f6b5cba65f0>\n",
      "<__builtin__.Stop instance at 0x7f6b5cba6758>\n",
      "<__builtin__.Stop instance at 0x7f6b5cba68c0>\n",
      "<__builtin__.Stop instance at 0x7f6b5cba6a28>\n",
      "<__builtin__.Stop instance at 0x7f6b5cb56368>\n",
      "<__builtin__.Stop instance at 0x7f6b5cb565a8>\n",
      "<__builtin__.Stop instance at 0x7f6b5cb5f878>\n",
      "<__builtin__.Stop instance at 0x7f6b5cb5f7a0>\n",
      "<__builtin__.Stop instance at 0x7f6b5cb6bab8>\n",
      "<__builtin__.Stop instance at 0x7f6b5cb6bdd0>\n",
      "<__builtin__.Stop instance at 0x7f6b5cb6eb00>\n",
      "<__builtin__.Stop instance at 0x7f6b5cb6ea28>\n",
      "<__builtin__.Stop instance at 0x7f6b5ca24f38>\n",
      "<__builtin__.Stop instance at 0x7f6b5ca270e0>\n",
      "<__builtin__.Stop instance at 0x7f6b5ca27248>\n",
      "<__builtin__.Stop instance at 0x7f6b5ca27488>\n",
      "<__builtin__.Stop instance at 0x7f6b5ca277a0>\n",
      "<__builtin__.Stop instance at 0x7f6b5ca27908>\n",
      "<__builtin__.Stop instance at 0x7f6b5ca27a70>\n",
      "<__builtin__.Stop instance at 0x7f6b5ca27bd8>\n",
      "<__builtin__.Stop instance at 0x7f6b5ca27d40>\n",
      "<__builtin__.Stop instance at 0x7f6b5ca27ea8>\n",
      "<__builtin__.Stop instance at 0x7f6b5ca37128>\n",
      "<__builtin__.Stop instance at 0x7f6b5ca37d40>\n",
      "<__builtin__.Stop instance at 0x7f6b5c9f3a28>\n",
      "<__builtin__.Stop instance at 0x7f6b5c9f3ab8>\n",
      "<__builtin__.Stop instance at 0x7f6b5c9f3c20>\n",
      "<__builtin__.Stop instance at 0x7f6b5c9f3d88>\n",
      "<__builtin__.Stop instance at 0x7f6b5c9f3ef0>\n",
      "<__builtin__.Stop instance at 0x7f6b5c9fb098>\n",
      "<__builtin__.Stop instance at 0x7f6b5c9fb560>\n",
      "<__builtin__.Stop instance at 0x7f6b5c9aef80>\n",
      "<__builtin__.Stop instance at 0x7f6b5c919b48>\n",
      "<__builtin__.Stop instance at 0x7f6b5c919cb0>\n",
      "<__builtin__.Stop instance at 0x7f6b5c919e18>\n",
      "<__builtin__.Stop instance at 0x7f6b5c929290>\n",
      "<__builtin__.Stop instance at 0x7f6b5c9293f8>\n",
      "<__builtin__.Stop instance at 0x7f6b5c92e368>\n",
      "<__builtin__.Stop instance at 0x7f6b5c92e3f8>\n",
      "<__builtin__.Stop instance at 0x7f6b5c92e560>\n",
      "<__builtin__.Stop instance at 0x7f6b5c92e6c8>\n",
      "<__builtin__.Stop instance at 0x7f6b5c92e830>\n",
      "<__builtin__.Stop instance at 0x7f6b5c93c1b8>\n",
      "<__builtin__.Stop instance at 0x7f6b5c943c20>\n",
      "<__builtin__.Stop instance at 0x7f6b5c943b48>\n",
      "<__builtin__.Stop instance at 0x7f6b5c943cf8>\n",
      "<__builtin__.Stop instance at 0x7f6b5c943dd0>\n",
      "<__builtin__.Stop instance at 0x7f6b5c943f38>\n",
      "<__builtin__.Stop instance at 0x7f6b5c94a0e0>\n",
      "<__builtin__.Stop instance at 0x7f6b5c94a248>\n",
      "<__builtin__.Stop instance at 0x7f6b5a7e1f38>\n",
      "<__builtin__.Stop instance at 0x7f6b5a7f07e8>\n",
      "<__builtin__.Stop instance at 0x7f6b5a7ef488>\n",
      "<__builtin__.Stop instance at 0x7f6b5a7ef3b0>\n",
      "<__builtin__.Stop instance at 0x7f6b5a7ef560>\n",
      "<__builtin__.Stop instance at 0x7f6b5a7ef6c8>\n",
      "<__builtin__.Stop instance at 0x7f6b5a7ef830>\n",
      "<__builtin__.Stop instance at 0x7f6b5a7ef998>\n",
      "<__builtin__.Stop instance at 0x7f6b5a7efb00>\n",
      "<__builtin__.Stop instance at 0x7f6b5a7efc68>\n",
      "<__builtin__.Stop instance at 0x7f6b5a7efea8>\n",
      "<__builtin__.Stop instance at 0x7f6b5a800050>\n",
      "<__builtin__.Stop instance at 0x7f6b5a685128>\n",
      "<__builtin__.Stop instance at 0x7f6b5a685098>\n",
      "<__builtin__.Stop instance at 0x7f6b5a6851b8>\n",
      "<__builtin__.Stop instance at 0x7f6b5a685290>\n",
      "<__builtin__.Stop instance at 0x7f6b5a685368>\n",
      "<__builtin__.Stop instance at 0x7f6b5a633560>\n",
      "<__builtin__.Stop instance at 0x7f6b5a5d2dd0>\n",
      "<__builtin__.Stop instance at 0x7f6b5a5f1cf8>\n",
      "<__builtin__.Stop instance at 0x7f6b5a5f1c20>\n",
      "<__builtin__.Stop instance at 0x7f6b5a54de18>\n",
      "<__builtin__.Stop instance at 0x7f6b5a54dd40>\n",
      "<__builtin__.Stop instance at 0x7f6b5a54def0>\n",
      "<__builtin__.Stop instance at 0x7f6b5a4a5ef0>\n",
      "<__builtin__.Stop instance at 0x7f6b5a4ab170>\n",
      "<__builtin__.Stop instance at 0x7f6b5a4ab2d8>\n",
      "<__builtin__.Stop instance at 0x7f6b5a4ab440>\n",
      "<__builtin__.Stop instance at 0x7f6b5a4ab680>\n",
      "<__builtin__.Stop instance at 0x7f6b5a4b3a70>\n",
      "<__builtin__.Stop instance at 0x7f6b5a4b39e0>\n",
      "<__builtin__.Stop instance at 0x7f6b5a4b3b00>\n",
      "<__builtin__.Stop instance at 0x7f6b5a4be908>\n",
      "<__builtin__.Stop instance at 0x7f6b5a4be998>\n",
      "<__builtin__.Stop instance at 0x7f6b5a4beab8>\n",
      "<__builtin__.Stop instance at 0x7f6b5a4bec20>\n",
      "<__builtin__.Stop instance at 0x7f6b5a4bed88>\n",
      "<__builtin__.Stop instance at 0x7f6b5a4beef0>\n",
      "<__builtin__.Stop instance at 0x7f6b5a4ca098>\n",
      "<__builtin__.Stop instance at 0x7f6b5a4ca200>\n",
      "<__builtin__.Stop instance at 0x7f6b5a45d908>\n",
      "<__builtin__.Stop instance at 0x7f6b5a45d878>\n",
      "<__builtin__.Stop instance at 0x7f6b5a354950>\n",
      "<__builtin__.Stop instance at 0x7f6b5a354998>\n",
      "<__builtin__.Stop instance at 0x7f6b5a354a70>\n",
      "<__builtin__.Stop instance at 0x7f6b5a354bd8>\n",
      "<__builtin__.Stop instance at 0x7f6b5a354d40>\n",
      "<__builtin__.Stop instance at 0x7f6b5a354ea8>\n",
      "<__builtin__.Stop instance at 0x7f6b5a35d050>\n",
      "<__builtin__.Stop instance at 0x7f6b5a37a320>\n",
      "<__builtin__.Stop instance at 0x7f6b5a37a368>\n",
      "<__builtin__.Stop instance at 0x7f6b5a37a440>\n",
      "<__builtin__.Stop instance at 0x7f6b5a3222d8>\n",
      "<__builtin__.Stop instance at 0x7f6b5a322200>\n",
      "<__builtin__.Stop instance at 0x7f6b5a322368>\n",
      "<__builtin__.Stop instance at 0x7f6b5a322440>\n",
      "<__builtin__.Stop instance at 0x7f6b5a322518>\n",
      "<__builtin__.Stop instance at 0x7f6b5a322680>\n",
      "<__builtin__.Stop instance at 0x7f6b5a32b5a8>\n",
      "<__builtin__.Stop instance at 0x7f6b5a32b4d0>\n",
      "<__builtin__.Stop instance at 0x7f6b5a32b638>\n",
      "<__builtin__.Stop instance at 0x7f6b5a32b710>\n",
      "<__builtin__.Stop instance at 0x7f6b5a32b7e8>\n",
      "<__builtin__.Stop instance at 0x7f6b5a340ea8>\n",
      "<__builtin__.Stop instance at 0x7f6b5a340dd0>\n",
      "<__builtin__.Stop instance at 0x7f6b5a2cd1b8>\n",
      "<__builtin__.Stop instance at 0x7f6b5a2cd128>\n",
      "<__builtin__.Stop instance at 0x7f6b5a2cd248>\n",
      "<__builtin__.Stop instance at 0x7f6b5a2cd320>\n",
      "<__builtin__.Stop instance at 0x7f6b5a2cd3f8>\n",
      "<__builtin__.Stop instance at 0x7f6b5a2cd560>\n",
      "<__builtin__.Stop instance at 0x7f6b5a2cd6c8>\n",
      "<__builtin__.Stop instance at 0x7f6b5a2cd830>\n",
      "<__builtin__.Stop instance at 0x7f6b5a2cd998>\n",
      "<__builtin__.Stop instance at 0x7f6b5a2cdcb0>\n",
      "<__builtin__.Stop instance at 0x7f6b5a2f09e0>\n",
      "<__builtin__.Stop instance at 0x7f6b5a2f0908>\n",
      "<__builtin__.Stop instance at 0x7f6b5a2f0ab8>\n",
      "<__builtin__.Stop instance at 0x7f6b5a2a1f80>\n",
      "<__builtin__.Stop instance at 0x7f6b5a2a7050>\n",
      "<__builtin__.Stop instance at 0x7f6b5a2a7128>\n",
      "<__builtin__.Stop instance at 0x7f6b5a2a7200>\n",
      "<__builtin__.Stop instance at 0x7f6b5a27ee18>\n",
      "<__builtin__.Stop instance at 0x7f6b5a27ed40>\n",
      "<__builtin__.Stop instance at 0x7f6b5a228368>\n",
      "<__builtin__.Stop instance at 0x7f6b5a228290>\n",
      "<__builtin__.Stop instance at 0x7f6b5a228440>\n",
      "<__builtin__.Stop instance at 0x7f6b5a228518>\n",
      "<__builtin__.Stop instance at 0x7f6b5a228680>\n",
      "<__builtin__.Stop instance at 0x7f6b5a2287e8>\n",
      "<__builtin__.Stop instance at 0x7f6b5a228950>\n",
      "<__builtin__.Stop instance at 0x7f6b5a228ab8>\n",
      "<__builtin__.Stop instance at 0x7f6b5a228c20>\n",
      "<__builtin__.Stop instance at 0x7f6b5a228d88>\n",
      "<__builtin__.Stop instance at 0x7f6b5a228ef0>\n",
      "<__builtin__.Stop instance at 0x7f6b5a237098>\n",
      "<__builtin__.Stop instance at 0x7f6b5a237200>\n",
      "<__builtin__.Stop instance at 0x7f6b5a1a7680>\n",
      "<__builtin__.Stop instance at 0x7f6b5a14c998>\n",
      "<__builtin__.Stop instance at 0x7f6b5a14cb90>\n",
      "<__builtin__.Stop instance at 0x7f6b5a14ccf8>\n",
      "<__builtin__.Stop instance at 0x7f6b5a16f5f0>\n",
      "<__builtin__.Stop instance at 0x7f6b5a16f518>\n",
      "<__builtin__.Stop instance at 0x7f6b5a16f680>\n",
      "<__builtin__.Stop instance at 0x7f6b5a16f758>\n",
      "<__builtin__.Stop instance at 0x7f6b5a184170>\n",
      "<__builtin__.Stop instance at 0x7f6b5a184a28>\n",
      "<__builtin__.Stop instance at 0x7f6b5a184998>\n",
      "<__builtin__.Stop instance at 0x7f6b5a184cf8>\n",
      "<__builtin__.Stop instance at 0x7f6b5a110d88>\n",
      "<__builtin__.Stop instance at 0x7f6b5a110ef0>\n",
      "<__builtin__.Stop instance at 0x7f6b5a112098>\n",
      "<__builtin__.Stop instance at 0x7f6b5a112560>\n",
      "<__builtin__.Stop instance at 0x7f6b5a1124d0>\n",
      "<__builtin__.Stop instance at 0x7f6b5a1125f0>\n",
      "<__builtin__.Stop instance at 0x7f6b5a1126c8>\n",
      "<__builtin__.Stop instance at 0x7f6b5a1127a0>\n",
      "<__builtin__.Stop instance at 0x7f6b5802dd40>\n",
      "<__builtin__.Stop instance at 0x7f6b5802dc68>\n",
      "<__builtin__.Stop instance at 0x7f6b58047098>\n",
      "<__builtin__.Stop instance at 0x7f6b57feb440>\n",
      "<__builtin__.Stop instance at 0x7f6b58004cb0>\n",
      "<__builtin__.Stop instance at 0x7f6b58004e18>\n",
      "<__builtin__.Stop instance at 0x7f6b57fa8d88>\n",
      "<__builtin__.Stop instance at 0x7f6b57e44fc8>\n",
      "<__builtin__.Stop instance at 0x7f6b57e01f80>\n",
      "<__builtin__.Stop instance at 0x7f6b57e04050>\n",
      "<__builtin__.Stop instance at 0x7f6b57e04128>\n",
      "<__builtin__.Stop instance at 0x7f6b57e04200>\n",
      "<__builtin__.Stop instance at 0x7f6b57d723f8>\n",
      "<__builtin__.Stop instance at 0x7f6b57d72440>\n",
      "<__builtin__.Stop instance at 0x7f6b57d86170>\n",
      "<__builtin__.Stop instance at 0x7f6b57be9830>\n",
      "<__builtin__.Stop instance at 0x7f6b57bf10e0>\n",
      "<__builtin__.Stop instance at 0x7f6b57bf1320>\n",
      "<__builtin__.Stop instance at 0x7f6b57bf1488>\n",
      "<__builtin__.Stop instance at 0x7f6b57bf15f0>\n",
      "<__builtin__.Stop instance at 0x7f6b57bf1758>\n",
      "<__builtin__.Stop instance at 0x7f6b57b985f0>\n",
      "<__builtin__.Stop instance at 0x7f6b57b86170>\n",
      "<__builtin__.Stop instance at 0x7f6b57b24878>\n",
      "<__builtin__.Stop instance at 0x7f6b57a6be60>\n",
      "<__builtin__.Stop instance at 0x7f6b57a6bea8>\n",
      "<__builtin__.Stop instance at 0x7f6b57a6bf80>\n",
      "<__builtin__.Stop instance at 0x7f6b57a77128>\n",
      "<__builtin__.Stop instance at 0x7f6b57a77560>\n",
      "<__builtin__.Stop instance at 0x7f6b579e5440>\n",
      "<__builtin__.Stop instance at 0x7f6b579e5488>\n",
      "<__builtin__.Stop instance at 0x7f6b5796c8c0>\n",
      "<__builtin__.Stop instance at 0x7f6b5796cea8>\n",
      "<__builtin__.Stop instance at 0x7f6b5796cdd0>\n",
      "<__builtin__.Stop instance at 0x7f6b5796cf80>\n",
      "<__builtin__.Stop instance at 0x7f6b5796f098>\n",
      "<__builtin__.Stop instance at 0x7f6b5796f200>\n",
      "<__builtin__.Stop instance at 0x7f6b5796f368>\n",
      "<__builtin__.Stop instance at 0x7f6b578e4710>\n",
      "<__builtin__.Stop instance at 0x7f6b578eb248>\n",
      "<__builtin__.Stop instance at 0x7f6b578eb2d8>\n",
      "<__builtin__.Stop instance at 0x7f6b53850560>\n",
      "<__builtin__.Stop instance at 0x7f6b537a9878>\n",
      "<__builtin__.Stop instance at 0x7f6b537af320>\n",
      "<__builtin__.Stop instance at 0x7f6b537af248>\n",
      "<__builtin__.Stop instance at 0x7f6b53756248>\n",
      "<__builtin__.Stop instance at 0x7f6b537562d8>\n",
      "<__builtin__.Stop instance at 0x7f6b53756440>\n",
      "<__builtin__.Stop instance at 0x7f6b53706b00>\n",
      "<__builtin__.Stop instance at 0x7f6b61a4b1b8>\n",
      "<__builtin__.Stop instance at 0x7f6b61a4b290>\n",
      "<__builtin__.Stop instance at 0x7f6b61a4b3f8>\n",
      "<__builtin__.Stop instance at 0x7f6b61a4b560>\n",
      "<__builtin__.Stop instance at 0x7f6b5d0a2368>\n",
      "<__builtin__.Stop instance at 0x7f6b5d0a2320>\n",
      "<__builtin__.Stop instance at 0x7f6b5d0a2488>\n",
      "<__builtin__.Stop instance at 0x7f6b5cf95fc8>\n",
      "<__builtin__.Stop instance at 0x7f6b5d387a28>\n",
      "<__builtin__.Stop instance at 0x7f6b5d387998>\n",
      "<__builtin__.Stop instance at 0x7f6b5cd28878>\n",
      "<__builtin__.Stop instance at 0x7f6b5cd28998>\n",
      "<__builtin__.Stop instance at 0x7f6b5cc0e8c0>\n",
      "<__builtin__.Stop instance at 0x7f6b5cc0ea28>\n",
      "<__builtin__.Stop instance at 0x7f6b5cc33cf8>\n",
      "<__builtin__.Stop instance at 0x7f6b5cc33c20>\n",
      "<__builtin__.Stop instance at 0x7f6b5cc33d88>\n",
      "<__builtin__.Stop instance at 0x7f6b5cc33e60>\n",
      "<__builtin__.Stop instance at 0x7f6b5cc33f38>\n",
      "<__builtin__.Stop instance at 0x7f6b5a84fd88>\n",
      "<__builtin__.Stop instance at 0x7f6b5a871c20>\n",
      "<__builtin__.Stop instance at 0x7f6b5a7a70e0>\n",
      "<__builtin__.Stop instance at 0x7f6b5a5b7488>\n",
      "<__builtin__.Stop instance at 0x7f6b5a5b73b0>\n",
      "<__builtin__.Stop instance at 0x7f6b5a5b7518>\n",
      "<__builtin__.Stop instance at 0x7f6b5a5b75f0>\n",
      "<__builtin__.Stop instance at 0x7f6b5a5b7908>\n",
      "<__builtin__.Stop instance at 0x7f6b5a5b7a28>\n",
      "<__builtin__.Stop instance at 0x7f6b5a4f3ea8>\n",
      "<__builtin__.Stop instance at 0x7f6b5a4f3dd0>\n",
      "<__builtin__.Stop instance at 0x7f6b5a4f3f80>\n",
      "<__builtin__.Stop instance at 0x7f6b57db8368>\n",
      "<__builtin__.Stop instance at 0x7f6b57d44fc8>\n",
      "<__builtin__.Stop instance at 0x7f6b579ac518>\n",
      "<__builtin__.Stop instance at 0x7f6b579ac440>\n",
      "<__builtin__.Stop instance at 0x7f6b579ac638>\n",
      "<__builtin__.Stop instance at 0x7f6b535f71b8>\n",
      "<__builtin__.Stop instance at 0x7f6b535f72d8>\n",
      "<__builtin__.Stop instance at 0x7f6b535f7440>\n",
      "<__builtin__.Stop instance at 0x7f6b535f7758>\n",
      "<__builtin__.Stop instance at 0x7f6b535fd7a0>\n",
      "<__builtin__.Stop instance at 0x7f6b535c8950>\n",
      "<__builtin__.Stop instance at 0x7f6b535c8a70>\n",
      "<__builtin__.Stop instance at 0x7f6b5ceff638>\n",
      "<__builtin__.Stop instance at 0x7f6b5a20a3b0>\n",
      "<__builtin__.Stop instance at 0x7f6b5792ec68>\n",
      "<__builtin__.Stop instance at 0x7f6b5792eb90>\n",
      "<__builtin__.Stop instance at 0x7f6b53536248>\n",
      "<__builtin__.Stop instance at 0x7f6b53536290>\n",
      "<__builtin__.Stop instance at 0x7f6b535363f8>\n",
      "<__builtin__.Stop instance at 0x7f6b534dfbd8>\n",
      "<__builtin__.Stop instance at 0x7f6b534e2b90>\n",
      "<__builtin__.Stop instance at 0x7f6b534eaf38>\n",
      "<__builtin__.Stop instance at 0x7f6b534fbea8>\n",
      "<__builtin__.Stop instance at 0x7f6b534fbdd0>\n",
      "<__builtin__.Stop instance at 0x7f6b534fbf80>\n",
      "<__builtin__.Stop instance at 0x7f6b534fc098>\n",
      "<__builtin__.Stop instance at 0x7f6b534fc200>\n",
      "<__builtin__.Stop instance at 0x7f6b53506d40>\n",
      "<__builtin__.Stop instance at 0x7f6b53506c68>\n",
      "<__builtin__.Stop instance at 0x7f6b53506dd0>\n",
      "<__builtin__.Stop instance at 0x7f6b53506ea8>\n",
      "<__builtin__.Stop instance at 0x7f6b53506f80>\n",
      "<__builtin__.Stop instance at 0x7f6b53435b00>\n",
      "<__builtin__.Stop instance at 0x7f6b53402ef0>\n",
      "<__builtin__.Stop instance at 0x7f6b53403050>\n",
      "<__builtin__.Stop instance at 0x7f6b534031b8>\n",
      "<__builtin__.Stop instance at 0x7f6b5338e710>\n",
      "<__builtin__.Stop instance at 0x7f6b53374488>\n",
      "<__builtin__.Stop instance at 0x7f6b532c43f8>\n",
      "<__builtin__.Stop instance at 0x7f6b53192560>\n",
      "<__builtin__.Stop instance at 0x7f6b53192878>\n",
      "<__builtin__.Stop instance at 0x7f6b531929e0>\n",
      "<__builtin__.Stop instance at 0x7f6b53192b48>\n",
      "<__builtin__.Stop instance at 0x7f6b53192cb0>\n",
      "<__builtin__.Stop instance at 0x7f6b530cdfc8>\n",
      "<__builtin__.Stop instance at 0x7f6b530ce128>\n",
      "<__builtin__.Stop instance at 0x7f6b530ce290>\n",
      "<__builtin__.Stop instance at 0x7f6b52ef46c8>\n",
      "<__builtin__.Stop instance at 0x7f6b52c10680>\n",
      "<__builtin__.Stop instance at 0x7f6b52b1e2d8>\n",
      "<__builtin__.Stop instance at 0x7f6b52a9dc68>\n",
      "<__builtin__.Stop instance at 0x7f6b507ce710>\n",
      "<__builtin__.Stop instance at 0x7f6b503d2c20>\n",
      "<__builtin__.Stop instance at 0x7f6b503d2cb0>\n",
      "<__builtin__.Stop instance at 0x7f6b503d2e18>\n",
      "<__builtin__.Stop instance at 0x7f6b503ad368>\n",
      "<__builtin__.Stop instance at 0x7f6b501655f0>\n",
      "<__builtin__.Stop instance at 0x7f6b50165518>\n",
      "<__builtin__.Stop instance at 0x7f6b50165758>"
     ]
    }
   ],
   "source": [
    "#The following code constructs the network graph given the schedule\n",
    "\n",
    "def all_same_length(stop, seq, arr, dept):\n",
    "    return (stop == seq) and (seq == arr) and (arr == dept)\n",
    "\n",
    "iterable = timetable_df.iterrows()\n",
    "\n",
    "for index, row in iterable:\n",
    "    trip_id = row['trip_id']\n",
    "    stop_ids = row['stop_ids']\n",
    "    seq = row['stop_sequence']\n",
    "    arr = row['arrival_times']\n",
    "    dept = row['departure_times']\n",
    "    lats = row['lats']\n",
    "    lons = row['lons']\n",
    "    if not all_same_length(len(stop_ids), len(seq), len(arr), len(dept)):\n",
    "        continue\n",
    "    \n",
    "    for i in range(len(stop_ids) - 1):\n",
    "        if not network.isIn(stop_ids[i]):\n",
    "            network.addStop(stop_ids[i], lats[i], lons[i])\n",
    "        if not network.isIn(stop_ids[i + 1]):\n",
    "            network.addStop(stop_ids[i + 1], lats[i + 1], lons[i + 1])\n",
    "        if int(seq[i + 1]) - int(seq[i]) is not 1:\n",
    "            continue\n",
    "        network.addEdge(stop_ids[i + 1], stop_ids[i], (dept[i], arr[i + 1]), trip_id)"
   ]
  },
  {
   "cell_type": "code",
   "execution_count": 30,
   "metadata": {},
   "outputs": [
    {
     "data": {
      "application/vnd.jupyter.widget-view+json": {
       "model_id": "",
       "version_major": 2,
       "version_minor": 0
      },
      "text/plain": [
       "FloatProgress(value=0.0, bar_style='info', description='Progress:', layout=Layout(height='25px', width='50%'),…"
      ]
     },
     "metadata": {},
     "output_type": "display_data"
    }
   ],
   "source": [
    "#Map each stop with its latitude and longitude. This is for easier access in the cell below.\n",
    "\n",
    "allStops = network.getAllStops()\n",
    "\n",
    "loc = [None for x in allStops]\n",
    "\n",
    "for i in range(len(allStops)):\n",
    "    lat, lon = network.getStop(allStops[i]).getLoc()\n",
    "    loc[i] = (lat, lon)"
   ]
  },
  {
   "cell_type": "markdown",
   "metadata": {},
   "source": [
    "For every pair in the list of relavent stops, we add walkable edge between the two stops if\n",
    "their geo distance is below 500 meters. Walk time (in minutes) is also calculated using the formula walkTime = 2  + (dist / 50)\n",
    "where dist is the geo distance between two stops."
   ]
  },
  {
   "cell_type": "code",
   "execution_count": 31,
   "metadata": {},
   "outputs": [
    {
     "data": {
      "application/vnd.jupyter.widget-view+json": {
       "model_id": "",
       "version_major": 2,
       "version_minor": 0
      },
      "text/plain": [
       "FloatProgress(value=0.0, bar_style='info', description='Progress:', layout=Layout(height='25px', width='50%'),…"
      ]
     },
     "metadata": {},
     "output_type": "display_data"
    }
   ],
   "source": [
    "count = 0\n",
    "d = []\n",
    "\n",
    "for i in range(len(loc)):\n",
    "    lat1, lon1 = loc[i]\n",
    "    for j in range(i + 1, len(loc)):\n",
    "        lat2, lon2 = loc[j]\n",
    "        dist = calc_dist(lat1, lat2, lon1, lon2)\n",
    "        if dist <= 0.5 and allStops[i] is not allStops[j]:\n",
    "            count += 1\n",
    "            d.append(dist)\n",
    "            walkTime = math.ceil(float(dist)/50.0)\n",
    "            network.addWalkEdge(allStops[i], allStops[j], walkTime)\n",
    "            network.addWalkEdge(allStops[j], allStops[i], walkTime)"
   ]
  },
  {
   "cell_type": "markdown",
   "metadata": {},
   "source": [
    "## Modified Dijkstra Algorithm combined with Yen"
   ]
  },
  {
   "cell_type": "markdown",
   "metadata": {},
   "source": [
    "Given the node n representing the source node in a path the function `reconstructPath(n)` will return a path p from \n",
    "source to destination, where:\n",
    "- p[i] is a dictionary with following information\n",
    "    * p[i]['stop'] is the stop_id of the ith stop on the path\n",
    "    * p[i]['time'] is the departure time from ith stop to i+1st stop in the path\n",
    "    * p[i]['arrival'] is the arrival time at ith stop from i-1st stop\n",
    "    * p[i]['walk'] is True if the trasfer to i+1st stop is made via walking\n",
    "    * p[i]['trip'] is the trip ID from ith stop to i+1st stop\n",
    "- p[0]['stop'] == source\n",
    "- p[-1]['stop'] == destination"
   ]
  },
  {
   "cell_type": "code",
   "execution_count": 32,
   "metadata": {},
   "outputs": [
    {
     "data": {
      "application/vnd.jupyter.widget-view+json": {
       "model_id": "",
       "version_major": 2,
       "version_minor": 0
      },
      "text/plain": [
       "FloatProgress(value=0.0, bar_style='info', description='Progress:', layout=Layout(height='25px', width='50%'),…"
      ]
     },
     "metadata": {},
     "output_type": "display_data"
    }
   ],
   "source": [
    "#This class Node represents each node on a transporation path (route)\n",
    "\n",
    "class Node:\n",
    "    def __init__(self, curr, prev, time, elapsed, visited, parent, trip, walk, arrival):\n",
    "        self.curr = curr\n",
    "        self.prev = prev\n",
    "        self.time = time\n",
    "        self.elapsed = elapsed\n",
    "        self.visited = visited\n",
    "        self.parent = parent\n",
    "        self.trip = trip\n",
    "        self.walk = walk\n",
    "        self.arrival = arrival"
   ]
  },
  {
   "cell_type": "markdown",
   "metadata": {},
   "source": [
    "Given a transporation network graph network, a departing station *depart*, \n",
    "a destination station *des*, and desired arrival time *curr*, the function\n",
    "`astar`(network, depart, dest, curr) \n",
    "returns a path that ensures arrival by *curr* with the latest departing time.\n",
    "\n"
   ]
  },
  {
   "cell_type": "code",
   "execution_count": 33,
   "metadata": {},
   "outputs": [
    {
     "data": {
      "application/vnd.jupyter.widget-view+json": {
       "model_id": "",
       "version_major": 2,
       "version_minor": 0
      },
      "text/plain": [
       "FloatProgress(value=0.0, bar_style='info', description='Progress:', layout=Layout(height='25px', width='50%'),…"
      ]
     },
     "metadata": {},
     "output_type": "display_data"
    }
   ],
   "source": [
    "#Calculates the minimum transfer time at a stop\n",
    "def transfer_time(trip_1, trip_2):\n",
    "    if trip_1 is trip_2:\n",
    "        return 0\n",
    "    else:\n",
    "        return 2\n",
    "    \n",
    "    \n",
    "def reconstructPath(n):\n",
    "    path = []\n",
    "    c = n\n",
    "    \n",
    "    count = 0\n",
    "    arr = None\n",
    "    \n",
    "    while c is not None:\n",
    "        d = {'stop': c.curr, 'time': c.time, 'trip': c.trip, 'arrival': arr, 'walk': c.walk}\n",
    "        arr = c.arrival\n",
    "        path.append(d)\n",
    "        c = c.parent\n",
    "        count += 1\n",
    "        \n",
    "    return path"
   ]
  },
  {
   "cell_type": "markdown",
   "metadata": {},
   "source": [
    "Given a transportation network network, a node n in a path, \n",
    "and a desired final arrival time *final_arr*, \n",
    "the function `find_children`(network, n, final_arr) returns a list l of nodes s.t. :\n",
    "- there is a connection between n['stop'] and l[i]['stop'] for all i \n",
    "  (some can be walkable transfers)\n",
    "- l[i]['arrival'] + transfer_time(l[i]['stop'], n['stop']) <= n['time']\n",
    "    * meaning that the arrival time of the children node must be before\n",
    "      the parent node and allowing enought time for necessary transfers\n",
    "\n",
    "    "
   ]
  },
  {
   "cell_type": "code",
   "execution_count": 35,
   "metadata": {},
   "outputs": [
    {
     "data": {
      "application/vnd.jupyter.widget-view+json": {
       "model_id": "",
       "version_major": 2,
       "version_minor": 0
      },
      "text/plain": [
       "FloatProgress(value=0.0, bar_style='info', description='Progress:', layout=Layout(height='25px', width='50%'),…"
      ]
     },
     "metadata": {},
     "output_type": "display_data"
    }
   ],
   "source": [
    "def find_children(network, n, final_arr):\n",
    "    stop_id = n.curr\n",
    "    time = n.time\n",
    "    visited = n.visited\n",
    "    \n",
    "\n",
    "    stop = network.getStop(stop_id)\n",
    "    if stop is None:\n",
    "        return None\n",
    "\n",
    "    connections = stop.getAllConnections()\n",
    "\n",
    "    children = []\n",
    "\n",
    "    for connection in connections:\n",
    "        timeTable = stop.getTimes(connection)\n",
    "        if connection is n.prev:\n",
    "            continue\n",
    "\n",
    "        f = []\n",
    "\n",
    "        for entry in timeTable:\n",
    "            if entry[1] == n.trip:\n",
    "                if entry[0][1] <= time:\n",
    "                    f.append(entry)\n",
    "            else:\n",
    "                if entry[0][1] + 120 <= time:\n",
    "                    f.append(entry)\n",
    "\n",
    "        f.sort(key=lambda tup:tup[0][0])\n",
    "        if len(f) < 2:\n",
    "            nodes = f\n",
    "        else:\n",
    "            l = len(f)\n",
    "            nodes = [f[l - 2], f[l - 1]]\n",
    "            \n",
    "        for node in nodes:\n",
    "            depart_time = node[0][0]\n",
    "            arrival_time = node[0][1]\n",
    "            elapsed = final_arr - depart_time\n",
    "            n_visited = set()\n",
    "            n_visited.update(visited)\n",
    "            n_visited.add(connection)\n",
    "            n_node = Node(curr=connection, \n",
    "                          prev = stop_id, \n",
    "                          elapsed = elapsed, \n",
    "                          trip = node[1], \n",
    "                          visited = n_visited, \n",
    "                          parent = n, \n",
    "                          time = depart_time, \n",
    "                          arrival = arrival_time,\n",
    "                          walk = False)\n",
    "            children.append(n_node)\n",
    "\n",
    "    if not n.walk:\n",
    "        withinWalking = stop.getWalk()\n",
    "        for connection, walkTime in withinWalking.items():\n",
    "            elapsed = n.elapsed + (walkTime * 60)\n",
    "            n_time = time - (walkTime * 60)\n",
    "            n_visited = set()\n",
    "            n_visited.update(visited)\n",
    "            n_visited.add(connection)\n",
    "\n",
    "            n_node = Node(curr = connection, \n",
    "                          prev = stop_id,\n",
    "                          time = n_time, \n",
    "                          elapsed = final_arr - n_time,\n",
    "                          trip = None, \n",
    "                          visited = n_visited,\n",
    "                          parent = n,\n",
    "                          walk = True, \n",
    "                          arrival = time)\n",
    "            children.append(n_node)\n",
    "    return children    "
   ]
  },
  {
   "cell_type": "markdown",
   "metadata": {},
   "source": [
    "**Modified Djikstra and Improvements**\n",
    "\n",
    "Although the name of our shortest path algorithm is called A\\*, the actual implementation of it is actually just a modified Dijkstra algorithm. Specifically, the weight of the edge used in this algorithm is elapsed time, meaning the time difference between the departure time of the edge and the final desired arrival time. This allows us to prioritize the edges with later departure time, thus giving us a path with the latest departure time. \n",
    "If we were to implement the A* algorithm, we would use the geo distance between the source node to the current edge as the heuristics. With this addition, we would be able to not only prioritize later departure time, but also account for the travel time for potential paths from the source to the current node. \n",
    "\n",
    "If only the Dijkstra algorithm was implemented, we would expect the path to have more transfers since it only looks at departure time and arrival time. However in our version, we penalize transfers by adding two minutes of minimum required transfer time in the same station, therefore limiting the number of undesired transfers. "
   ]
  },
  {
   "cell_type": "code",
   "execution_count": 36,
   "metadata": {},
   "outputs": [
    {
     "data": {
      "application/vnd.jupyter.widget-view+json": {
       "model_id": "",
       "version_major": 2,
       "version_minor": 0
      },
      "text/plain": [
       "FloatProgress(value=0.0, bar_style='info', description='Progress:', layout=Layout(height='25px', width='50%'),…"
      ]
     },
     "metadata": {},
     "output_type": "display_data"
    }
   ],
   "source": [
    "def astar(network, depart, dest, curr):\n",
    "    df = spark.createDataFrame([curr], \"string\").toDF('time')\n",
    "    df = df.withColumn('unix', f.unix_timestamp(df.time, \"HH:mm:ss\"))\n",
    "\n",
    "    pd_df = df.toPandas()\n",
    "    time_iterable = pd_df.iterrows()\n",
    "\n",
    "    row0 = next(time_iterable)[1]\n",
    "    query_time = row0['unix']\n",
    "    \n",
    "    unvisited = []\n",
    "    \n",
    "    visited = set()\n",
    "    \n",
    "    path = []\n",
    "    \n",
    "    sink = Node(curr = dest, \n",
    "                prev = None, \n",
    "                time = query_time, \n",
    "                elapsed = 0, \n",
    "                trip = None, \n",
    "                visited = visited,\n",
    "                parent = None, \n",
    "                arrival = None, \n",
    "                walk = True)\n",
    "    \n",
    "    e = 0\n",
    "    #e += est[dst]\n",
    "    \n",
    "    unvisited.append((e, curr, sink))\n",
    "    \n",
    "    heapq.heapify(unvisited)\n",
    "    \n",
    "    p = []\n",
    "    \n",
    "    \n",
    "    while len(unvisited) > 0:\n",
    "        nxNode = heapq.heappop(unvisited)\n",
    "\n",
    "        n = nxNode[2]\n",
    "        t = nxNode[0]\n",
    "\n",
    "        stop_id = n.curr\n",
    "\n",
    "        if stop_id not in visited:\n",
    "            if stop_id == depart:\n",
    "                p = reconstructPath(n)\n",
    "                return p\n",
    "            else:\n",
    "                visited.add(stop_id)\n",
    "                children = find_children(network, n, query_time)\n",
    "                for child in children:\n",
    "                    #print(child.time)\n",
    "                    ct = child.elapsed\n",
    "                    #ct += est[child.curr]\n",
    "                    heapq.heappush(unvisited, (ct, child.time, child))\n",
    "    return None"
   ]
  },
  {
   "cell_type": "markdown",
   "metadata": {},
   "source": [
    "**Note**:\n",
    "One thing to node about this algorithm is that, despite what the name and the parameter suggests, it finds the path in the reverse order. Since the time frame of the travel given by the user is in the form of desired arrival time rather than the departure time, we can only do the path finding in the reverse order to get a departure time. The directed edges are also added this way when constructing the graph. "
   ]
  },
  {
   "cell_type": "code",
   "execution_count": 37,
   "metadata": {},
   "outputs": [
    {
     "data": {
      "application/vnd.jupyter.widget-view+json": {
       "model_id": "",
       "version_major": 2,
       "version_minor": 0
      },
      "text/plain": [
       "FloatProgress(value=0.0, bar_style='info', description='Progress:', layout=Layout(height='25px', width='50%'),…"
      ]
     },
     "metadata": {},
     "output_type": "display_data"
    }
   ],
   "source": [
    "#Finds all parent stations\n",
    "\n",
    "stops_df = stops_filt.toPandas()\n",
    "\n",
    "stops_iterable = stops_df.iterrows()\n",
    "\n",
    "children_station = {}\n",
    "\n",
    "stops = []\n",
    "\n",
    "for index, row in stops_iterable:\n",
    "    parent = row['parent_station']\n",
    "    stops.append(row['stop_id'])\n",
    "    if parent == '':\n",
    "        continue\n",
    "    elif parent not in children_station.keys():\n",
    "        children_station[parent] = [row['stop_id']]\n",
    "    else:\n",
    "        children_station[parent].append(row['stop_id'])"
   ]
  },
  {
   "cell_type": "code",
   "execution_count": 38,
   "metadata": {},
   "outputs": [
    {
     "data": {
      "application/vnd.jupyter.widget-view+json": {
       "model_id": "",
       "version_major": 2,
       "version_minor": 0
      },
      "text/plain": [
       "FloatProgress(value=0.0, bar_style='info', description='Progress:', layout=Layout(height='25px', width='50%'),…"
      ]
     },
     "metadata": {},
     "output_type": "display_data"
    }
   ],
   "source": [
    "#Finds the shortest path\n",
    "\n",
    "def shortestPath(network, depart, dest, arrival_time, multiple):\n",
    "    if depart not in children_station.keys():\n",
    "        return astar(network, depart, dest, arrival_time)\n",
    "    depart_children = children_station[depart]\n",
    "    if depart_children is None or len(depart_children) is 0:\n",
    "        return astar(network, depart, dest, arrival_time)\n",
    "    paths = list(map(lambda x: astar(network, x, dest, arrival_time), depart_children))\n",
    "    paths_filtered = list(filter(lambda x: x is not None, paths))\n",
    "    paths_filtered.sort(key = lambda x: x[0]['time'])\n",
    "    \n",
    "    if multiple:\n",
    "        return paths_filtered\n",
    "    else:\n",
    "        return paths_filtered[0]"
   ]
  },
  {
   "cell_type": "code",
   "execution_count": 39,
   "metadata": {},
   "outputs": [
    {
     "data": {
      "application/vnd.jupyter.widget-view+json": {
       "model_id": "",
       "version_major": 2,
       "version_minor": 0
      },
      "text/plain": [
       "FloatProgress(value=0.0, bar_style='info', description='Progress:', layout=Layout(height='25px', width='50%'),…"
      ]
     },
     "metadata": {},
     "output_type": "display_data"
    }
   ],
   "source": [
    "#Helper function to convert datetime format to unix timestamp\n",
    "def timeToTimestamp(s):\n",
    "    df = spark.createDataFrame([s], \"string\").toDF('time')\n",
    "    df = df.withColumn('unix', f.unix_timestamp(df.time, \"HH:mm:ss\"))\n",
    "\n",
    "    pd_df = df.toPandas()\n",
    "    time_iterable = pd_df.iterrows()\n",
    "\n",
    "    row0 = next(time_iterable)[1]\n",
    "    query_time = row0['unix']\n",
    "    \n",
    "    return query_time"
   ]
  },
  {
   "cell_type": "code",
   "execution_count": 40,
   "metadata": {},
   "outputs": [
    {
     "data": {
      "application/vnd.jupyter.widget-view+json": {
       "model_id": "",
       "version_major": 2,
       "version_minor": 0
      },
      "text/plain": [
       "FloatProgress(value=0.0, bar_style='info', description='Progress:', layout=Layout(height='25px', width='50%'),…"
      ]
     },
     "metadata": {},
     "output_type": "display_data"
    }
   ],
   "source": [
    "#Helper function to convert unix timestamp to datetime format\n",
    "\n",
    "def timestampToTime(s):\n",
    "    df = spark.createDataFrame([s], \"float\").toDF('time')\n",
    "    df = df.withColumn('unix', f.from_unixtime(df.time, \"HH:mm:ss\"))\n",
    "\n",
    "    pd_df = df.toPandas()\n",
    "    time_iterable = pd_df.iterrows()\n",
    "\n",
    "    row0 = next(time_iterable)[1]\n",
    "    query_time = row0['unix']\n",
    "    \n",
    "    return query_time"
   ]
  },
  {
   "cell_type": "markdown",
   "metadata": {},
   "source": [
    "**Yen's algorithm**\n",
    "\n",
    "The Yen algorithm is a generalization of the shortest path algorithm, which is a modified Djikstra in our case, \n",
    "as it searches for n-possible short path, starting from the shortest one that was calculated by Djikstra.\n",
    "https://www.semanticscholar.org/paper/Finding-the-K-Shortest-Loopless-Paths-in-a-Network-Yen-YENt/aa6a64afc25f48ad44e510d0055405836c8cc325\n",
    "\n",
    "It is useful for our case, since we are not only searching for one shortest path, but for a whole set of paths (routes) that are then filtered."
   ]
  },
  {
   "cell_type": "code",
   "execution_count": 41,
   "metadata": {},
   "outputs": [
    {
     "data": {
      "application/vnd.jupyter.widget-view+json": {
       "model_id": "",
       "version_major": 2,
       "version_minor": 0
      },
      "text/plain": [
       "FloatProgress(value=0.0, bar_style='info', description='Progress:', layout=Layout(height='25px', width='50%'),…"
      ]
     },
     "metadata": {},
     "output_type": "display_data"
    }
   ],
   "source": [
    "import copy\n",
    "\n",
    "nn = copy.deepcopy(network)\n",
    "\n",
    "def samePath(p1, p2):\n",
    "    if len(p1) is not len(p2):\n",
    "        return False\n",
    "    for i in range(len(p1)):\n",
    "        n1 = p1[i]\n",
    "        n2 = p2[i] \n",
    "        if (not(n1['stop'] is n2['stop'])) or (not (n1['trip'] is n2['trip'])) or (not(n1['time'] is n2['time'])) or (not(n1['arrival'] is n2['arrival'])):\n",
    "            if not n1['walk'] == n2['walk']:\n",
    "                #print('index at: ' + str(i))\n",
    "                return False\n",
    "        \n",
    "    return True\n",
    "\n",
    "def notIn(path, B):\n",
    "    for p in B:\n",
    "        if samePath(path, p):\n",
    "            return False\n",
    "        \n",
    "    return True\n",
    "\n",
    "#K-shortest path algorithm\n",
    "def ksp_yen(depart, dest, curr, max_k=2):\n",
    "    path = shortestPath(network, depart, dest, curr, False)\n",
    "\n",
    "    A = [path]\n",
    "    B = []\n",
    "\n",
    "    if not A[0]: return A\n",
    "\n",
    "    for k in range(1, max_k):\n",
    "        for i in range(len(A[-1]) - 1):\n",
    "            node_spur = A[-1][i]\n",
    "            path_root = A[-1][:i+1]\n",
    "\n",
    "            edges_removed = []\n",
    "            for path_k in A:\n",
    "                curr_path = path_k\n",
    "                if len(curr_path) > i and samePath(path_root, curr_path[:i+1]) and not curr_path[i]['walk']:\n",
    "                    depart = curr_path[i]['time']\n",
    "                    arrival = curr_path[i + 1]['arrival']\n",
    "                    trip = curr_path[i]['trip']\n",
    "                    s = curr_path[i]['stop']\n",
    "                    t = curr_path[i + 1]['stop']\n",
    "                    #network.removeEdge(t, s, (depart, arrival), trip)\n",
    "                    times = network.getAllTime(t, s)\n",
    "                    network.removeConnection(t, s)\n",
    "                    edges_removed.append((t, s, times))\n",
    "                    \n",
    "            path_spur = shortestPath(network, node_spur['stop'], dest, curr, False)\n",
    "            \n",
    "\n",
    "            if path_spur:\n",
    "                path_total = path_root[:-1] + path_spur\n",
    "\n",
    "                if notIn(path_total, B) and notIn(path_total, A):\n",
    "                    B.append(path_total)\n",
    "\n",
    "            for edge in edges_removed:\n",
    "                network.setTime(edge[0], edge[1], edge[2])\n",
    "\n",
    "        if len(B):\n",
    "            B = sorted(B, key=lambda tup: tup[0]['time'])\n",
    "            A.append(B[0])\n",
    "            B.pop(0)\n",
    "        else:\n",
    "            break\n",
    "\n",
    "    return A"
   ]
  },
  {
   "cell_type": "markdown",
   "metadata": {},
   "source": [
    "## Predictive modelling"
   ]
  },
  {
   "cell_type": "markdown",
   "metadata": {},
   "source": [
    "*Certainty Calculation at Stop ID's using inferential statistics*\n",
    "\n",
    "We want to calculate the gaussian distribution of the delays, at each stop in an hourly time interval. That is, for each stop and each hour between 7AM-5PM we have a mean and standard deviation value for the delay. We also take into account the transportation type and the arrival prognose status. The resulting distributions will then be used to define the certainty of sucess of a trip.\n",
    "\n",
    "### Retrieve the relevant SBB data"
   ]
  },
  {
   "cell_type": "code",
   "execution_count": 42,
   "metadata": {},
   "outputs": [
    {
     "data": {
      "application/vnd.jupyter.widget-view+json": {
       "model_id": "",
       "version_major": 2,
       "version_minor": 0
      },
      "text/plain": [
       "FloatProgress(value=0.0, bar_style='info', description='Progress:', layout=Layout(height='25px', width='50%'),…"
      ]
     },
     "metadata": {},
     "output_type": "display_data"
    }
   ],
   "source": [
    "# Load the entire sbb data\n",
    "sbb_data = spark.read.orc(\"/data/sbb/orc/istdaten/\")"
   ]
  },
  {
   "cell_type": "code",
   "execution_count": 43,
   "metadata": {},
   "outputs": [
    {
     "data": {
      "application/vnd.jupyter.widget-view+json": {
       "model_id": "",
       "version_major": 2,
       "version_minor": 0
      },
      "text/plain": [
       "FloatProgress(value=0.0, bar_style='info', description='Progress:', layout=Layout(height='25px', width='50%'),…"
      ]
     },
     "metadata": {},
     "output_type": "display_data"
    },
    {
     "name": "stdout",
     "output_type": "stream",
     "text": [
      "+-------+------------+----------------+-----------------+--------------------+--------------+\n",
      "|stop_id|   stop_name|    arrival_time|arrival_time_prog|arr_time_prog_status|transport_type|\n",
      "+-------+------------+----------------+-----------------+--------------------+--------------+\n",
      "|8500090|Basel Bad Bf|                |                 |            PROGNOSE|           Zug|\n",
      "|8500090|Basel Bad Bf|                |                 |            PROGNOSE|           Zug|\n",
      "|8500090|Basel Bad Bf|03.09.2018 06:25|                 |           UNBEKANNT|           Zug|\n",
      "+-------+------------+----------------+-----------------+--------------------+--------------+\n",
      "only showing top 3 rows"
     ]
    }
   ],
   "source": [
    "# Keep only the relevant columns\n",
    "sbb_data = sbb_data.select(f.col('bpuic').alias('stop_id'), f.col('haltestellen_name').alias('stop_name'), \n",
    "                           f.col('ankunftszeit').alias('arrival_time'), f.col('an_prognose').alias('arrival_time_prog'), \n",
    "                           f.col('an_prognose_status').alias('arr_time_prog_status'), f.col('produkt_id').alias('transport_type'))\n",
    "sbb_data.show(3)"
   ]
  },
  {
   "cell_type": "markdown",
   "metadata": {},
   "source": [
    "We choose to only keep the rows where *arr_time_prog_status* is set to GESCHAETZT, PROGNOSE or REAL as these are the ones that we are interested in. We also remove the rows where there is missing values for both *arrival_time* as well as *arrival_time_prog* as we are unable to use these."
   ]
  },
  {
   "cell_type": "code",
   "execution_count": 44,
   "metadata": {},
   "outputs": [
    {
     "data": {
      "application/vnd.jupyter.widget-view+json": {
       "model_id": "",
       "version_major": 2,
       "version_minor": 0
      },
      "text/plain": [
       "FloatProgress(value=0.0, bar_style='info', description='Progress:', layout=Layout(height='25px', width='50%'),…"
      ]
     },
     "metadata": {},
     "output_type": "display_data"
    }
   ],
   "source": [
    "relevant_data = sbb_data.where(f.col('arr_time_prog_status').isin(['GESCHAETZT', 'PROGNOSE', 'REAL']))\n",
    "relevant_data = relevant_data.where((relevant_data.arrival_time != '') & (relevant_data.arrival_time_prog != ''))"
   ]
  },
  {
   "cell_type": "markdown",
   "metadata": {},
   "source": [
    "### Join the dataframes\n",
    "\n",
    "The stops from the filtered *stop_times* dataframe are joined with the *relevant_data* dataframe, such that we only compute the mean and standard deviation for the stops that are actually going to be in our directed graph."
   ]
  },
  {
   "cell_type": "code",
   "execution_count": 45,
   "metadata": {},
   "outputs": [
    {
     "data": {
      "application/vnd.jupyter.widget-view+json": {
       "model_id": "",
       "version_major": 2,
       "version_minor": 0
      },
      "text/plain": [
       "FloatProgress(value=0.0, bar_style='info', description='Progress:', layout=Layout(height='25px', width='50%'),…"
      ]
     },
     "metadata": {},
     "output_type": "display_data"
    },
    {
     "name": "stdout",
     "output_type": "stream",
     "text": [
      "+-------+-----------------+----------------+-------------------+--------------------+--------------+\n",
      "|stop_id|        stop_name|    arrival_time|  arrival_time_prog|arr_time_prog_status|transport_type|\n",
      "+-------+-----------------+----------------+-------------------+--------------------+--------------+\n",
      "|8502274|          Zufikon|03.09.2018 05:06|03.09.2018 05:07:04|                REAL|           Zug|\n",
      "|8502275|         Heinrüti|03.09.2018 05:10|03.09.2018 05:10:27|                REAL|           Zug|\n",
      "|8502268|Zufikon Belvédère|03.09.2018 05:11|03.09.2018 05:11:28|                REAL|           Zug|\n",
      "+-------+-----------------+----------------+-------------------+--------------------+--------------+\n",
      "only showing top 3 rows"
     ]
    }
   ],
   "source": [
    "# Retrieve the stop ids from the stop_times_filt df and join with the relevant_data df\n",
    "ids = stop_times_filt.select('stop_id').distinct()\n",
    "joined_df = ids.join(relevant_data, 'stop_id', 'inner')\n",
    "joined_df.cache()\n",
    "\n",
    "joined_df.show(3)"
   ]
  },
  {
   "cell_type": "markdown",
   "metadata": {},
   "source": [
    "### Get the delay distributions\n",
    "\n",
    "Now we calculate the delay for each stop at every given time and transportation type. If a transport arrives before its scheduled arrival time, the delay will be negative. Since we are only interested in delays and not early arrivals, we set the negative delays to zero. Then we extract the hour from the timestamps and filter such that we only have times between 7AM to 5PM (which are business hours). "
   ]
  },
  {
   "cell_type": "markdown",
   "metadata": {},
   "source": [
    "#### Extract hour and filter for business hours\n",
    "\n",
    "Since the timestamps are stored as strings, we can easily extract the hour from each scheduled arrival timestamp. We only keep the times that are within our time interval 7AM-5PM."
   ]
  },
  {
   "cell_type": "code",
   "execution_count": 46,
   "metadata": {},
   "outputs": [
    {
     "data": {
      "application/vnd.jupyter.widget-view+json": {
       "model_id": "",
       "version_major": 2,
       "version_minor": 0
      },
      "text/plain": [
       "FloatProgress(value=0.0, bar_style='info', description='Progress:', layout=Layout(height='25px', width='50%'),…"
      ]
     },
     "metadata": {},
     "output_type": "display_data"
    },
    {
     "name": "stdout",
     "output_type": "stream",
     "text": [
      "+-------+-----------------+----------------+-------------------+--------------------+--------------+------------+\n",
      "|stop_id|        stop_name|    arrival_time|  arrival_time_prog|arr_time_prog_status|transport_type|arrival_hour|\n",
      "+-------+-----------------+----------------+-------------------+--------------------+--------------+------------+\n",
      "|8502274|          Zufikon|03.09.2018 07:06|03.09.2018 07:06:58|                REAL|           Zug|           7|\n",
      "|8502275|         Heinrüti|03.09.2018 07:10|03.09.2018 07:10:22|                REAL|           Zug|           7|\n",
      "|8502268|Zufikon Belvédère|03.09.2018 07:11|03.09.2018 07:12:00|                REAL|           Zug|           7|\n",
      "+-------+-----------------+----------------+-------------------+--------------------+--------------+------------+\n",
      "only showing top 3 rows"
     ]
    }
   ],
   "source": [
    "# Extract the hour from the scheduled arrival timestamp\n",
    "hour_df = joined_df.withColumn('arrival_hour', joined_df.arrival_time.substr(12, 2).cast(IntegerType()))\n",
    "\n",
    "# Filter such that we only keep times between 7-17\n",
    "hour_df = hour_df.where((f.col('arrival_hour') >= 7) & (f.col('arrival_hour') <= 17))\n",
    "\n",
    "hour_df.show(3)"
   ]
  },
  {
   "cell_type": "markdown",
   "metadata": {},
   "source": [
    "#### Calculate delays\n",
    "\n",
    "By converting the string formatted timestamp to unix_timestamp we can easily calculate the delay. We filter out delays that are very large or very small (more than an hour), as they don't belong to normal and may distort our distributions a lot. We also set the negative delays to zero as they are not delays."
   ]
  },
  {
   "cell_type": "code",
   "execution_count": 48,
   "metadata": {},
   "outputs": [
    {
     "data": {
      "application/vnd.jupyter.widget-view+json": {
       "model_id": "",
       "version_major": 2,
       "version_minor": 0
      },
      "text/plain": [
       "FloatProgress(value=0.0, bar_style='info', description='Progress:', layout=Layout(height='25px', width='50%'),…"
      ]
     },
     "metadata": {},
     "output_type": "display_data"
    },
    {
     "name": "stdout",
     "output_type": "stream",
     "text": [
      "+-------+-----------------+----------------+-------------------+--------------------+--------------+------------+------------+\n",
      "|stop_id|        stop_name|    arrival_time|  arrival_time_prog|arr_time_prog_status|transport_type|arrival_hour|minute_delay|\n",
      "+-------+-----------------+----------------+-------------------+--------------------+--------------+------------+------------+\n",
      "|8502274|          Zufikon|03.09.2018 07:06|03.09.2018 07:06:58|                REAL|           Zug|           7|         0.0|\n",
      "|8502275|         Heinrüti|03.09.2018 07:10|03.09.2018 07:10:22|                REAL|           Zug|           7|         0.0|\n",
      "|8502268|Zufikon Belvédère|03.09.2018 07:11|03.09.2018 07:12:00|                REAL|           Zug|           7|         1.0|\n",
      "+-------+-----------------+----------------+-------------------+--------------------+--------------+------------+------------+\n",
      "only showing top 3 rows"
     ]
    }
   ],
   "source": [
    "# Convert timestamp in string format to unix_timestamp format\n",
    "temp_df = hour_df.withColumn('scheduled', f.unix_timestamp(hour_df.arrival_time, 'dd.MM.yyy HH:mm'))\n",
    "temp_df = temp_df.withColumn('actual', f.unix_timestamp(temp_df.arrival_time_prog, 'dd.MM.yyy HH:mm'))\n",
    "\n",
    "# Calculate the delays\n",
    "delay_df = temp_df.withColumn('minute_delay', (temp_df.actual - temp_df.scheduled)/60).drop(*['scheduled', 'actual'])\n",
    "\n",
    "# Set negative delay to zero\n",
    "correctNegativeDiff = f.udf(lambda diff: 0 if diff < 0 else diff, FloatType())\n",
    "delay_df = delay_df.withColumn('minute_delay', correctNegativeDiff(delay_df.minute_delay))\n",
    "\n",
    "# Remove unreasonable delays that may distort the distributions\n",
    "delay_df = delay_df.where((f.col('minute_delay') < 60))\n",
    "\n",
    "delay_df.show(3)"
   ]
  },
  {
   "cell_type": "markdown",
   "metadata": {},
   "source": [
    "#### Group and calculate mean and standard deviation\n",
    "\n",
    "We group according to four columns: *stop_id*, *arrival_hour*, *transport_type*, *arr_time_prog_status*. Grouping by *stop_id* gives us all of the unique stop ids, grouping by *arrival_hour* gives us the *desired time intervals*, grouping by *transport_type* is done to see if there is a difference between diferent transport types, and grouping by *arr_time_prog_status* is done to distinguish the different prognose types.\n",
    "\n",
    "We are assuming that the delay will follow a normal distrubution. Thereby, we can describe it by its first moments of mean and standard deviation: $N \\approx (\\mu_d, \\sigma_d^2)$."
   ]
  },
  {
   "cell_type": "code",
   "execution_count": 49,
   "metadata": {},
   "outputs": [
    {
     "data": {
      "application/vnd.jupyter.widget-view+json": {
       "model_id": "",
       "version_major": 2,
       "version_minor": 0
      },
      "text/plain": [
       "FloatProgress(value=0.0, bar_style='info', description='Progress:', layout=Layout(height='25px', width='50%'),…"
      ]
     },
     "metadata": {},
     "output_type": "display_data"
    },
    {
     "name": "stdout",
     "output_type": "stream",
     "text": [
      "+-------+------------+--------------+--------------------+------------------+------------------+------------+\n",
      "|stop_id|arrival_hour|transport_type|arr_time_prog_status| mean_minute_delay|  std_minute_delay|values_count|\n",
      "+-------+------------+--------------+--------------------+------------------+------------------+------------+\n",
      "|8500926|           7|           Bus|            PROGNOSE|0.9601873536299765|1.7025759292522575|         854|\n",
      "|8500926|           8|           Bus|            PROGNOSE|0.7890345649582837|1.7687485692405442|         839|\n",
      "|8500926|           9|           Bus|            PROGNOSE|0.8143646408839779|1.3972211912061134|         905|\n",
      "|8500926|          10|           Bus|            PROGNOSE| 1.180576631259484| 1.609013073671679|         659|\n",
      "|8500926|          11|           Bus|            PROGNOSE|1.6502890173410405|1.8493828681613025|         692|\n",
      "+-------+------------+--------------+--------------------+------------------+------------------+------------+\n",
      "only showing top 5 rows"
     ]
    }
   ],
   "source": [
    "# Group the dataframe, calculate mean and std and sort\n",
    "distribution_df = delay_df.groupBy(['stop_id', 'arrival_hour', 'transport_type', 'arr_time_prog_status'])\\\n",
    "                          .agg(f.mean('minute_delay').alias('mean_minute_delay'), \n",
    "                               f.stddev('minute_delay').alias('std_minute_delay'), \n",
    "                               f.count('minute_delay').alias('values_count'))\\\n",
    "                          .sort(f.asc('stop_id'), f.asc('arrival_hour'))\n",
    "\n",
    "distribution_df.cache()\n",
    "distribution_df.show(5)"
   ]
  },
  {
   "cell_type": "markdown",
   "metadata": {},
   "source": [
    "**Note:** Some groupings don't have many samples, which could potentially lead to statistical insignificance. "
   ]
  },
  {
   "cell_type": "markdown",
   "metadata": {},
   "source": [
    "### Certainty Calculation"
   ]
  },
  {
   "cell_type": "markdown",
   "metadata": {},
   "source": [
    "As we have calculated the first moments of the delay for each grouping by *stop_id*, *time interval*, *transport type* and *arrival time* prognose status, we can now fit a cumulated density function (CDF):\n",
    "\n",
    "$P\\ ( \\ X\\ \\eqslantless x) \\ =\\ F\\ ( x) \\ =\\ \\int ^{x}_{-\\ \\infty } f( t) \\ dt$\n",
    "\n",
    ", where you can fit a delay value x and get the probability (certainty) for the delay value to happen, where f(t) is the probability density function. In our case, we insert the maximum allowable delay  that could happen, in order to not miss a connection. This is caculated after given a route or sequence of stops, at each stop. We look at each stop and substract the arrival time that was calculated from the departure time. The two minutes from on- and off-boarding are already incorporated in the routing algorithm. This probability $P(X)$ represents the probability (certainty) of being on time at a stop. To calculate the probability of an entire route, all of the stop probabilities are multiplied with each other."
   ]
  },
  {
   "cell_type": "markdown",
   "metadata": {},
   "source": [
    "*Example:* To find the probability that a variable x has a value less than or equal to\n",
    "let's say 113, you'd use the CDF.\n",
    "\n",
    "##### Function: scipy.stats.norm.cdf(113,100,12)\n",
    "Output: 0.86066975255037792 (or 86.07% probability)\n",
    "\n",
    "- Source :https://stackoverflow.com/questions/12412895/calculate-probability-in-normal-distribution-given-mean-std-in-python"
   ]
  },
  {
   "cell_type": "code",
   "execution_count": 50,
   "metadata": {},
   "outputs": [
    {
     "data": {
      "application/vnd.jupyter.widget-view+json": {
       "model_id": "",
       "version_major": 2,
       "version_minor": 0
      },
      "text/plain": [
       "FloatProgress(value=0.0, bar_style='info', description='Progress:', layout=Layout(height='25px', width='50%'),…"
      ]
     },
     "metadata": {},
     "output_type": "display_data"
    }
   ],
   "source": [
    "# Function to calculate probability\n",
    "def calc_proba(max_delay, mean, std): \n",
    "    p = scipy.stats.norm.cdf(max_delay, loc=mean, scale=std)\n",
    "    return float(p)\n",
    "\n",
    "calc_prob = f.udf(calc_proba, FloatType())"
   ]
  },
  {
   "cell_type": "markdown",
   "metadata": {},
   "source": [
    "The `route_probability` function goes through all of the possible routes returned from  Yen's algorithm and calculates the probability of succes (certainty for each route). The stop certainty calculation is done under following assumptions:\n",
    "\n",
    "- If the user is walking from stop to stop, the certainty is set to 1, as the shortest path gives walking trips only when the next departure time can be met (by calculating with distance and walking time).\n",
    "\n",
    "- The certainty is always 1 at the beginning of the route. However, the certainty of the last stop is not 1, since it could be that a you are on throughout the route *trip_id* is late and therefore arrives later at the final stop.\n",
    "\n",
    "- When the user is staying on the trip, so he does not transfer from trip to trip on a stop, the certainty is 1 since he stays in the bus.\n",
    "\n",
    "- For all other cases, we calculate the certainty of sucessful transfer by using our defined delay distributions of the groupings together with helper functions, as described. The delay distributions are chosen based on travel time intervall and *stop_id*, we left the transportation type and arrival time prognose status out to have statistical significance. This can be discussed, see Part Discussion on curse of dimensionality.\n",
    "\n",
    "Afterwards, the route probability is calculated by multiplying all stop certainties of a route: \n",
    "\n",
    "$P\\ ( \\ X_{r}) \\ =\\ \\prod ^{n}_{i=0} \\ P( X_{i})$, \n",
    "where $P\\ ( \\ X_{r})$ represents the route certainty, and $P( X_{i})$ the stop certainty.\n"
   ]
  },
  {
   "cell_type": "code",
   "execution_count": 51,
   "metadata": {},
   "outputs": [
    {
     "data": {
      "application/vnd.jupyter.widget-view+json": {
       "model_id": "",
       "version_major": 2,
       "version_minor": 0
      },
      "text/plain": [
       "FloatProgress(value=0.0, bar_style='info', description='Progress:', layout=Layout(height='25px', width='50%'),…"
      ]
     },
     "metadata": {},
     "output_type": "display_data"
    }
   ],
   "source": [
    "def route_probability(routes):\n",
    "\n",
    "    route = []\n",
    "    stop = []\n",
    "    route_counter = 0\n",
    "    \n",
    "    routes_2 = copy.deepcopy(routes)\n",
    "    #Loop through the calculated routes\n",
    "    for route in routes_2:\n",
    "        #Loop through stops\n",
    "        for stop in route:\n",
    "            if stop['walk']:\n",
    "                stop['certainty'] = 1\n",
    "            elif stop['arrival'] is None:\n",
    "                stop['certainty'] = 1\n",
    "            else:\n",
    "                stop['max_delay'] = (float(stop['time']) - float(stop['arrival']))/60\n",
    "                if stop['max_delay'] == 0.0:\n",
    "                    stop['certainty'] = 1\n",
    "                else:\n",
    "                    #Select time intervall and stop_id of stop, chose distribution and calculate certainty\n",
    "                    time = datetime.datetime.fromtimestamp(int(stop['arrival'])).strftime('%H:%M:%S')\n",
    "                    time = datetime.datetime.strptime(time, '%H:%M:%S').hour\n",
    "                    distribution = distribution_df.where((distribution_df.stop_id == stop['stop'].decode(\"utf-8\")) & (distribution_df.arrival_hour == str(time)))\n",
    "                    distribution = distribution.toPandas().fillna(0)\n",
    "                    distribution['values_count'] = distribution['values_count'].astype(int)\n",
    "                    distribution = distribution.nlargest(1, columns=['values_count'])\n",
    "                    mean, std = distribution['mean_minute_delay'].tolist(), distribution['std_minute_delay'].tolist()\n",
    "                    mean, std = [str(integer) for integer in mean], [str(integer) for integer in std]\n",
    "                    if not mean and not std:\n",
    "                        stop['certainty'] = 1\n",
    "                    else:\n",
    "                        mean, std = float(\"\".join(mean)), float(\"\".join(std))\n",
    "                        stop['certainty'] = calc_proba(stop['max_delay'], mean, std)\n",
    "        \n",
    "        #Calculate the certainty of last stop on route              \n",
    "        route[-1]['max_delay'] = (float(route[-1]['time']) - float(route[-1]['arrival']))/60 \n",
    "        time = datetime.datetime.fromtimestamp(int(route[-1]['arrival'])).strftime('%H:%M:%S')\n",
    "        time = datetime.datetime.strptime(time, '%H:%M:%S').hour\n",
    "        distribution = distribution_df.where((distribution_df.stop_id == route[-1]['stop'].decode(\"utf-8\")) & (distribution_df.arrival_hour == str(time)))\n",
    "        distribution = distribution.toPandas().fillna(0)\n",
    "        distribution['values_count'] = distribution['values_count'].astype(int)\n",
    "        distribution = distribution.nlargest(1, columns=['values_count'])\n",
    "        mean, std = distribution['mean_minute_delay'].tolist(), distribution['std_minute_delay'].tolist()\n",
    "        mean, std = [str(integer) for integer in mean], [str(integer) for integer in std]\n",
    "        mean, std = float(\"\".join(mean)), float(\"\".join(std))\n",
    "        route[-1]['certainty'] = calc_proba(route[-1]['max_delay'], mean, std)\n",
    "        #Count route number\n",
    "        route_number = {'route_number': route_counter}\n",
    "        route.append(route_number.copy())\n",
    "        route_counter += 1  \n",
    "        \n",
    "    #Calculate certainty of whole route                                            \n",
    "    for i in range(len(routes_2)):\n",
    "        certainties = [d['certainty'] for d in routes_2[i][:-1]]\n",
    "        route_probability = np.prod(certainties)\n",
    "        route_probability = {'probability': route_probability}\n",
    "        routes_2[i].append(route_probability.copy())\n",
    "\n",
    "    return routes_2"
   ]
  },
  {
   "cell_type": "code",
   "execution_count": 52,
   "metadata": {},
   "outputs": [
    {
     "data": {
      "application/vnd.jupyter.widget-view+json": {
       "model_id": "",
       "version_major": 2,
       "version_minor": 0
      },
      "text/plain": [
       "FloatProgress(value=0.0, bar_style='info', description='Progress:', layout=Layout(height='25px', width='50%'),…"
      ]
     },
     "metadata": {},
     "output_type": "display_data"
    }
   ],
   "source": [
    "#Yield a structured route plan df\n",
    "def route_df(routes):\n",
    "    \n",
    "    for route in routes:\n",
    "        route_number = route[-2].get('route_number', None)\n",
    "        route_probability = route[-1].get('probability', None)\n",
    "        for stop in route[:-2]:\n",
    "            yield dict(\n",
    "                route_number = route_number,\n",
    "                route_probability = route_probability,\n",
    "                arrival_time=stop.get('arrival', None),\n",
    "                certainty=stop.get('certainty', None),\n",
    "                stop_id=stop.get('stop', None),\n",
    "                walking=stop.get('walk', None),\n",
    "                departure_time=stop.get('time', None),\n",
    "                trip_id=stop.get('trip', None),\n",
    "            )"
   ]
  },
  {
   "cell_type": "code",
   "execution_count": 53,
   "metadata": {},
   "outputs": [
    {
     "data": {
      "application/vnd.jupyter.widget-view+json": {
       "model_id": "",
       "version_major": 2,
       "version_minor": 0
      },
      "text/plain": [
       "FloatProgress(value=0.0, bar_style='info', description='Progress:', layout=Layout(height='25px', width='50%'),…"
      ]
     },
     "metadata": {},
     "output_type": "display_data"
    }
   ],
   "source": [
    "#Helper function that filters for routes only in cerainty threshhold range\n",
    "def filter_route_plan(route_plan, threshhold):\n",
    "    route_plan = route_plan[route_plan.route_probability >= threshhold]\n",
    "    return route_plan"
   ]
  },
  {
   "cell_type": "code",
   "execution_count": 54,
   "metadata": {},
   "outputs": [
    {
     "data": {
      "application/vnd.jupyter.widget-view+json": {
       "model_id": "",
       "version_major": 2,
       "version_minor": 0
      },
      "text/plain": [
       "FloatProgress(value=0.0, bar_style='info', description='Progress:', layout=Layout(height='25px', width='50%'),…"
      ]
     },
     "metadata": {},
     "output_type": "display_data"
    }
   ],
   "source": [
    "#Wrapper function that incorporates shortest path calculation, route probability calculation and route plan filtering.\n",
    "\n",
    "import numpy as np\n",
    "\n",
    "def route_plan_help(source, dest, arrival_time, prob, k=30):\n",
    "    routes = ksp_yen(source, dest, arrival_time, max_k = k)\n",
    "    rroutes = route_probability(routes)\n",
    "    routes_plan = pd.DataFrame(\n",
    "        data=route_df(rroutes),\n",
    "        columns=['arrival_time', 'certainty', 'stop_id', 'walking', \n",
    "                 'departure_time', 'trip_id', 'route_number', 'route_probability'])\n",
    "    routes_plan['arrival_time'] = [timestampToTime(float(t)) for t in routes_plan['arrival_time']]\n",
    "    routes_plan['departure_time'] = [timestampToTime(float(t)) for t in routes_plan['departure_time']]\n",
    "    routes_plan.trip_id.fillna('Walking transfer', inplace = True) \n",
    "    \n",
    "    routes_filtered = filter_route_plan(routes_plan, prob)\n",
    "    \n",
    "    return routes_filtered\n",
    "\n",
    "#Generlazied wrapper function\n",
    "def route_plan(source, dest, arrival_time, prob):\n",
    "    k = 5\n",
    "    routes = route_plan_help(source, dest, arrival_time, prob, k)\n",
    "    \n",
    "    while routes.empty and k < 50:\n",
    "        k += 5\n",
    "        routes = route_plan_help(source, dest, arrival_time, prob, k)\n",
    "        \n",
    "    return routes"
   ]
  },
  {
   "cell_type": "markdown",
   "metadata": {},
   "source": [
    "## Important Note\n",
    "\n",
    "`route_plan`(source, dest, arrival_time, prob) is the wrapper function that accomplishes what the project asks, takes the input and output the route respecting the project constraints. \n",
    "\n",
    "Because of how the data set is generated, the function only searches for the path between the input source stop and its children stops. Meaning that if you want to find paths that starts in a station but do not care about the platform, please input the parent station ID. \n",
    "\n",
    "For example, the example input given by the user traveling from Zurich main station. In order to work properly, please enter the parent stop ID for this station, namely \"8503000P\" and NOT \"8503000\". If we had more time, we could improve this by searching for all stop ID's that starts with the input, but since this is a very minor fix, isn't a very important part of the main algorithm, and we only had two weeks, we decided to leave it as is. "
   ]
  },
  {
   "cell_type": "markdown",
   "metadata": {},
   "source": [
    "## Testing"
   ]
  },
  {
   "cell_type": "markdown",
   "metadata": {},
   "source": [
    "We have defined a wrapper function `route_plan_help` that runs our stochastic route planning algorithm. You simply load all necessary df and execute the needed function cells. Then define a test input, for e.g  `source_node` = 8503000P, `end_node` = 8591049, `arrival_time` = 12:30 and `certainty` = 0.8 and call the function. The output is a sorted `route plan` df, that encompasses the routes that meet given constraints - route above certainty threshhold, maximal departure time and route on stop_id graph."
   ]
  },
  {
   "cell_type": "code",
   "execution_count": 54,
   "metadata": {},
   "outputs": [
    {
     "data": {
      "application/vnd.jupyter.widget-view+json": {
       "model_id": "",
       "version_major": 2,
       "version_minor": 0
      },
      "text/plain": [
       "FloatProgress(value=0.0, bar_style='info', description='Progress:', layout=Layout(height='25px', width='50%'),…"
      ]
     },
     "metadata": {},
     "output_type": "display_data"
    }
   ],
   "source": [
    "rr_df = route_plan_help('8503000P','8591049','12:30:00', 0.8)"
   ]
  },
  {
   "cell_type": "markdown",
   "metadata": {},
   "source": [
    "## Methodology Validation"
   ]
  },
  {
   "cell_type": "markdown",
   "metadata": {},
   "source": [
    "**Delay distribution**"
   ]
  },
  {
   "cell_type": "markdown",
   "metadata": {},
   "source": [
    "In our predictive model, we have assumed that each delay obliges a normal distribution $N \\approx (\\mu_d, \\sigma_d^2)$. This asumption can be empirically validated by creating a delay histogram on a stop (8591200) and inspecting the histogram characteristics."
   ]
  },
  {
   "cell_type": "code",
   "execution_count": 67,
   "metadata": {},
   "outputs": [
    {
     "data": {
      "application/vnd.jupyter.widget-view+json": {
       "model_id": "",
       "version_major": 2,
       "version_minor": 0
      },
      "text/plain": [
       "FloatProgress(value=0.0, bar_style='info', description='Progress:', layout=Layout(height='25px', width='50%'),…"
      ]
     },
     "metadata": {},
     "output_type": "display_data"
    }
   ],
   "source": [
    "validation_hist = delay_df.where(delay_df.stop_id == 8591200).groupBy('minute_delay').count()"
   ]
  },
  {
   "cell_type": "code",
   "execution_count": 60,
   "metadata": {},
   "outputs": [
    {
     "data": {
      "application/vnd.jupyter.widget-view+json": {
       "model_id": "",
       "version_major": 2,
       "version_minor": 0
      },
      "text/plain": [
       "FloatProgress(value=0.0, bar_style='info', description='Progress:', layout=Layout(height='25px', width='50%'),…"
      ]
     },
     "metadata": {},
     "output_type": "display_data"
    },
    {
     "name": "stdout",
     "output_type": "stream",
     "text": [
      "+------------+-----+\n",
      "|minute_delay|count|\n",
      "+------------+-----+\n",
      "|        18.0|    1|\n",
      "|         9.0|   10|\n",
      "|         5.0|   86|\n",
      "|        17.0|    5|\n",
      "|        30.0|    1|\n",
      "+------------+-----+\n",
      "only showing top 5 rows"
     ]
    }
   ],
   "source": [
    "validation_hist.show(5)"
   ]
  },
  {
   "cell_type": "code",
   "execution_count": 69,
   "metadata": {},
   "outputs": [
    {
     "data": {
      "application/vnd.jupyter.widget-view+json": {
       "model_id": "",
       "version_major": 2,
       "version_minor": 0
      },
      "text/plain": [
       "FloatProgress(value=0.0, bar_style='info', description='Progress:', layout=Layout(height='25px', width='50%'),…"
      ]
     },
     "metadata": {},
     "output_type": "display_data"
    },
    {
     "data": {
      "application/vnd.jupyter.widget-view+json": {
       "model_id": "",
       "version_major": 2,
       "version_minor": 0
      },
      "text/plain": [
       "FloatProgress(value=0.0, bar_style='info', description='Progress:', layout=Layout(height='25px', width='50%'),…"
      ]
     },
     "metadata": {},
     "output_type": "display_data"
    }
   ],
   "source": [
    "%%spark -o validation_hist"
   ]
  },
  {
   "cell_type": "code",
   "execution_count": 83,
   "metadata": {},
   "outputs": [
    {
     "data": {
      "text/plain": [
       "Text(0.5, 1.0, 'Grouped delay counts for stop 8591200')"
      ]
     },
     "execution_count": 83,
     "metadata": {},
     "output_type": "execute_result"
    },
    {
     "data": {
      "image/png": "[encoded data removed]",
      "text/plain": [
       "<Figure size 432x288 with 1 Axes>"
      ]
     },
     "metadata": {
      "needs_background": "light"
     },
     "output_type": "display_data"
    }
   ],
   "source": [
    "%%local\n",
    "import matplotlib.pyplot as plt\n",
    "plt.plot(validation_hist)\n",
    "plt.xlabel('Delay [min]')\n",
    "plt.ylabel('Delay count')\n",
    "plt.title('Grouped delay counts for stop 8591200')"
   ]
  },
  {
   "cell_type": "markdown",
   "metadata": {},
   "source": [
    "We can certainly see that this delay count distribution shows a pattern, with delay clusters around $\\approx$ 13min, 30min and 49min. The assumption that it resembles a normal distribution was partly confirmed around the cluster centres."
   ]
  },
  {
   "cell_type": "markdown",
   "metadata": {},
   "source": [
    "**Aggregation method**"
   ]
  },
  {
   "cell_type": "code",
   "execution_count": 67,
   "metadata": {},
   "outputs": [
    {
     "data": {
      "application/vnd.jupyter.widget-view+json": {
       "model_id": "",
       "version_major": 2,
       "version_minor": 0
      },
      "text/plain": [
       "FloatProgress(value=0.0, bar_style='info', description='Progress:', layout=Layout(height='25px', width='50%'),…"
      ]
     },
     "metadata": {},
     "output_type": "display_data"
    },
    {
     "name": "stdout",
     "output_type": "stream",
     "text": [
      "+-------+------------+--------------+--------------------+------------------+------------------+------------+\n",
      "|stop_id|arrival_hour|transport_type|arr_time_prog_status| mean_minute_delay|  std_minute_delay|values_count|\n",
      "+-------+------------+--------------+--------------------+------------------+------------------+------------+\n",
      "|8503057|          13|           Zug|            PROGNOSE|              26.0| 35.35533905932738|           2|\n",
      "|8578679|          17|           Bus|            PROGNOSE|11.967391304347826| 6.213157055189497|          92|\n",
      "|8578679|          16|           Bus|            PROGNOSE|             10.24|6.3795280686253255|          75|\n",
      "|8503097|          17|           Zug|            PROGNOSE|              10.0|18.624953392931992|          10|\n",
      "|8578679|           8|           Bus|            PROGNOSE| 8.552238805970148| 7.693530501562419|          67|\n",
      "|8578679|          12|           Bus|            PROGNOSE| 8.472222222222221|7.3157599938728115|          72|\n",
      "|8503091|          17|           Zug|            PROGNOSE| 8.428571428571429|15.810032980899908|          21|\n",
      "|8578679|           7|           Bus|            PROGNOSE| 8.426229508196721| 6.048302837417679|          61|\n",
      "|8578679|           9|           Bus|            PROGNOSE|  8.39622641509434|7.0611058804866165|          53|\n",
      "|8578679|          11|           Bus|            PROGNOSE|          8.296875|  6.38619465275348|          64|\n",
      "+-------+------------+--------------+--------------------+------------------+------------------+------------+\n",
      "only showing top 10 rows"
     ]
    }
   ],
   "source": [
    "#High delay stops\n",
    "distribution_df.sort(distribution_df.mean_minute_delay.desc()).show(10)"
   ]
  },
  {
   "cell_type": "code",
   "execution_count": 78,
   "metadata": {},
   "outputs": [
    {
     "data": {
      "application/vnd.jupyter.widget-view+json": {
       "model_id": "",
       "version_major": 2,
       "version_minor": 0
      },
      "text/plain": [
       "FloatProgress(value=0.0, bar_style='info', description='Progress:', layout=Layout(height='25px', width='50%'),…"
      ]
     },
     "metadata": {},
     "output_type": "display_data"
    },
    {
     "name": "stdout",
     "output_type": "stream",
     "text": [
      "+-------+------------+--------------+--------------------+-------------------+------------------+------------+\n",
      "|stop_id|arrival_hour|transport_type|arr_time_prog_status|  mean_minute_delay|  std_minute_delay|values_count|\n",
      "+-------+------------+--------------+--------------------+-------------------+------------------+------------+\n",
      "|8500926|           7|           Bus|            PROGNOSE| 0.9601873536299765|1.7025759292522575|         854|\n",
      "|8500926|           8|           Bus|            PROGNOSE| 0.7890345649582837|1.7687485692405442|         839|\n",
      "|8500926|           9|           Bus|            PROGNOSE| 0.8143646408839779|1.3972211912061134|         905|\n",
      "|8502268|           7|           Zug|                REAL| 0.8662959381044487|1.1519461114641933|        4136|\n",
      "|8502268|           7|           Zug|          GESCHAETZT|               0.68|0.8889850752826973|         850|\n",
      "|8502268|           8|           Zug|          GESCHAETZT| 0.6886792452830188|0.8158779401170727|         848|\n",
      "|8502268|           8|           Zug|                REAL|      0.79541015625|1.0883503115804847|        4096|\n",
      "|8502268|           9|           Zug|            PROGNOSE| 0.6560509554140127|2.1083271281843774|         157|\n",
      "|8502268|           9|           Zug|          GESCHAETZT|0.45454545454545453|1.1309240264172915|         814|\n",
      "|8502268|           9|           Zug|                REAL|  0.504123969007748|0.9550107269700391|        4001|\n",
      "+-------+------------+--------------+--------------------+-------------------+------------------+------------+\n",
      "only showing top 10 rows"
     ]
    }
   ],
   "source": [
    "#Low delay stops\n",
    "distribution_df.where((distribution_df.mean_minute_delay > 0) & (distribution_df.mean_minute_delay < 1)).show(10)"
   ]
  },
  {
   "cell_type": "markdown",
   "metadata": {},
   "source": [
    "Why did we aggregate based on stops and time? Delay distribution on stops can be very different, for example Würenlos, Bettlen (a high delay stop) and Zürich, Auzelg, and they can also differ based on time (rush hours vs. casual hours).\n",
    "A similar grouping on time for this problematic was proposed in the paper: https://ieeexplore.ieee.org/document/7313363"
   ]
  },
  {
   "cell_type": "markdown",
   "metadata": {},
   "source": [
    "For the validation of the aggregation method, we chose to compare the means of two stops (Würenlos, Bettlen and Zürich, Auzelg). Furthermore, we also show the delay means on 2 different hours (rush hour vs. casual hour) of a stop (Zürich, Auzelg)."
   ]
  },
  {
   "cell_type": "code",
   "execution_count": 55,
   "metadata": {},
   "outputs": [
    {
     "data": {
      "application/vnd.jupyter.widget-view+json": {
       "model_id": "",
       "version_major": 2,
       "version_minor": 0
      },
      "text/plain": [
       "FloatProgress(value=0.0, bar_style='info', description='Progress:', layout=Layout(height='25px', width='50%'),…"
      ]
     },
     "metadata": {},
     "output_type": "display_data"
    },
    {
     "name": "stdout",
     "output_type": "stream",
     "text": [
      "+------------------+\n",
      "|              mean|\n",
      "+------------------+\n",
      "|0.7245436093448266|\n",
      "+------------------+"
     ]
    }
   ],
   "source": [
    "auzelg = distribution_df.where(distribution_df.stop_id == 8591049).select(f.mean('mean_minute_delay').alias('mean'))\n",
    "auzelg.show()"
   ]
  },
  {
   "cell_type": "code",
   "execution_count": 66,
   "metadata": {},
   "outputs": [
    {
     "data": {
      "application/vnd.jupyter.widget-view+json": {
       "model_id": "",
       "version_major": 2,
       "version_minor": 0
      },
      "text/plain": [
       "FloatProgress(value=0.0, bar_style='info', description='Progress:', layout=Layout(height='25px', width='50%'),…"
      ]
     },
     "metadata": {},
     "output_type": "display_data"
    },
    {
     "name": "stdout",
     "output_type": "stream",
     "text": [
      "+-----------------+\n",
      "|             mean|\n",
      "+-----------------+\n",
      "|6.323457067954561|\n",
      "+-----------------+"
     ]
    }
   ],
   "source": [
    "wuerenlos = distribution_df.where(distribution_df.stop_id == 8578679).select(f.mean('mean_minute_delay').alias('mean'))\n",
    "wuerenlos.show()"
   ]
  },
  {
   "cell_type": "code",
   "execution_count": 134,
   "metadata": {},
   "outputs": [
    {
     "data": {
      "application/vnd.jupyter.widget-view+json": {
       "model_id": "",
       "version_major": 2,
       "version_minor": 0
      },
      "text/plain": [
       "FloatProgress(value=0.0, bar_style='info', description='Progress:', layout=Layout(height='25px', width='50%'),…"
      ]
     },
     "metadata": {},
     "output_type": "display_data"
    },
    {
     "name": "stdout",
     "output_type": "stream",
     "text": [
      "+------------------+\n",
      "|              mean|\n",
      "+------------------+\n",
      "|0.6706638717778546|\n",
      "+------------------+"
     ]
    }
   ],
   "source": [
    "auzelg_8AM = distribution_df.where((distribution_df.stop_id == 8591049) & (distribution_df.arrival_hour == 8))\\\n",
    ".select(f.mean('mean_minute_delay').alias('mean'))\n",
    "auzelg_8AM.show()"
   ]
  },
  {
   "cell_type": "code",
   "execution_count": 136,
   "metadata": {},
   "outputs": [
    {
     "data": {
      "application/vnd.jupyter.widget-view+json": {
       "model_id": "",
       "version_major": 2,
       "version_minor": 0
      },
      "text/plain": [
       "FloatProgress(value=0.0, bar_style='info', description='Progress:', layout=Layout(height='25px', width='50%'),…"
      ]
     },
     "metadata": {},
     "output_type": "display_data"
    },
    {
     "name": "stdout",
     "output_type": "stream",
     "text": [
      "+------------------+\n",
      "|              mean|\n",
      "+------------------+\n",
      "|0.5940616357171079|\n",
      "+------------------+"
     ]
    }
   ],
   "source": [
    "auzelg_11AM = distribution_df.where((distribution_df.stop_id == 8591049) & (distribution_df.arrival_hour == 11))\\\n",
    ".select(f.mean('mean_minute_delay').alias('mean'))\n",
    "auzelg_11AM.show()"
   ]
  },
  {
   "cell_type": "markdown",
   "metadata": {},
   "source": [
    "As we can see, the mean delay for the stop 8591049 varies from hour to hour, which is why a grouping by hour makes sense."
   ]
  },
  {
   "cell_type": "markdown",
   "metadata": {},
   "source": [
    "**Route Certainty calculation** "
   ]
  },
  {
   "cell_type": "markdown",
   "metadata": {},
   "source": [
    "(According to the simplifying assumption) Independent delays on stops in a route lead to independent certainty rates on the stops, therefore it is valid to calculate the whole route certainty by mulitplying the stop certainties along the way. Each certainty is an independent event, with a calculation of the certainty of 2 consecutive events (stops) is calculated by $P( X_{i} \\land X_{i+1}) \\ =\\ P( X_{i}) \\ *\\ P( X_{i+1})$, where $P( X_{i})$ denotes the certainty of a stop."
   ]
  },
  {
   "cell_type": "markdown",
   "metadata": {},
   "source": [
    "**Route certainties of low/high delay risk trips**\n",
    "\n",
    "Does our route certainty calculation make sense? In order to check this, we select two trips, one that starts and ends on low mean delay stops, and another that starts and ends on high mean delay stops. The assumption here is that the low delay trip should have a higher route certainty than the high delay one. In the low delay trip, we start in 8502268 and end in 8500926, see sorted df above. In the high delay trip, we start in 8503057 and end in 8503091. We start at 12:30 and set the certainty level low (0.5), so that we do not filter out some interesting routes."
   ]
  },
  {
   "cell_type": "code",
   "execution_count": 70,
   "metadata": {},
   "outputs": [
    {
     "data": {
      "application/vnd.jupyter.widget-view+json": {
       "model_id": "",
       "version_major": 2,
       "version_minor": 0
      },
      "text/plain": [
       "FloatProgress(value=0.0, bar_style='info', description='Progress:', layout=Layout(height='25px', width='50%'),…"
      ]
     },
     "metadata": {},
     "output_type": "display_data"
    }
   ],
   "source": [
    "#Low delay trip\n",
    "low_delay = route_plan_help('8502268','8500926','12:30:00', 0.5)"
   ]
  },
  {
   "cell_type": "code",
   "execution_count": 81,
   "metadata": {},
   "outputs": [
    {
     "data": {
      "application/vnd.jupyter.widget-view+json": {
       "model_id": "",
       "version_major": 2,
       "version_minor": 0
      },
      "text/plain": [
       "FloatProgress(value=0.0, bar_style='info', description='Progress:', layout=Layout(height='25px', width='50%'),…"
      ]
     },
     "metadata": {},
     "output_type": "display_data"
    }
   ],
   "source": [
    "#High delay trip\n",
    "high_delay = route_plan_help('8503057','8503091','12:30:00', 0.5)"
   ]
  },
  {
   "cell_type": "code",
   "execution_count": 95,
   "metadata": {},
   "outputs": [
    {
     "data": {
      "application/vnd.jupyter.widget-view+json": {
       "model_id": "",
       "version_major": 2,
       "version_minor": 0
      },
      "text/plain": [
       "FloatProgress(value=0.0, bar_style='info', description='Progress:', layout=Layout(height='25px', width='50%'),…"
      ]
     },
     "metadata": {},
     "output_type": "display_data"
    },
    {
     "name": "stdout",
     "output_type": "stream",
     "text": [
      "0.9999999999968393"
     ]
    }
   ],
   "source": [
    "#Compare certainty means of all routes of high/low delay trips\n",
    "low_delay['route_probability'].mean()"
   ]
  },
  {
   "cell_type": "code",
   "execution_count": 92,
   "metadata": {},
   "outputs": [
    {
     "data": {
      "application/vnd.jupyter.widget-view+json": {
       "model_id": "",
       "version_major": 2,
       "version_minor": 0
      },
      "text/plain": [
       "FloatProgress(value=0.0, bar_style='info', description='Progress:', layout=Layout(height='25px', width='50%'),…"
      ]
     },
     "metadata": {},
     "output_type": "display_data"
    },
    {
     "name": "stdout",
     "output_type": "stream",
     "text": [
      "0.7261225060612587"
     ]
    }
   ],
   "source": [
    "high_delay['route_probability'].mean()"
   ]
  },
  {
   "cell_type": "markdown",
   "metadata": {},
   "source": [
    "The results confirm our assumption that trips with high delay stops lead to lower certainty levels than trips with low delay stops, which is reasonable."
   ]
  },
  {
   "cell_type": "markdown",
   "metadata": {},
   "source": [
    "## Discussion"
   ]
  },
  {
   "cell_type": "markdown",
   "metadata": {},
   "source": [
    "**Strengths**:"
   ]
  },
  {
   "cell_type": "markdown",
   "metadata": {},
   "source": [
    "+ Our implementation meets all required constraints. It optimizes the travel time for given endpoints and searches only for routes that are on graph. Furthermore, it filters for routes in given certainty intervall and sorts the routes by minimal travel time and maximal departure time."
   ]
  },
  {
   "cell_type": "markdown",
   "metadata": {},
   "source": [
    "+ The approach is easy to understand and was used in a similar way in academic publications. Also, the results look reasonable for\n",
    "many randomized tests we have done."
   ]
  },
  {
   "cell_type": "markdown",
   "metadata": {},
   "source": [
    "+ The algorithm has for now a surprisingly good performance, with a mean execution time of $\\approx$ 3min."
   ]
  },
  {
   "cell_type": "markdown",
   "metadata": {},
   "source": [
    "+ The modular approach and availability of actual data gives the potential to scale up to other metropolitan areas of Switzerland, like Lausanne or Bern."
   ]
  },
  {
   "cell_type": "markdown",
   "metadata": {},
   "source": [
    "+ We penalize the number of transfers on a route, which improves the users travel experience, if he chooses to take the recommended route."
   ]
  },
  {
   "cell_type": "markdown",
   "metadata": {},
   "source": [
    "**Weaknesses:**"
   ]
  },
  {
   "cell_type": "markdown",
   "metadata": {},
   "source": [
    "- The chosen aggregation provides a good method to get a sense on how the delays are distributed under different conditions. However, the reduced dimensionality also reduces the precision of  probability calculations, as certain important parameters (dimensions) are aggregated. This is the effect known as *curse of dimensionality*."
   ]
  },
  {
   "cell_type": "markdown",
   "metadata": {},
   "source": [
    "- The usage of pyspark sql only commands, and the dispense of hdfs3, proves to be somewhat irritating, as all of the df and functions need to be defined again."
   ]
  },
  {
   "cell_type": "markdown",
   "metadata": {},
   "source": [
    "- Our implementation does not work on some stops, which do not have enough time data."
   ]
  },
  {
   "cell_type": "markdown",
   "metadata": {},
   "source": [
    "- The creation of the connected stop graph is rather complex and could be done in a neater way."
   ]
  },
  {
   "cell_type": "markdown",
   "metadata": {},
   "source": [
    "**What's next**:"
   ]
  },
  {
   "cell_type": "markdown",
   "metadata": {},
   "source": [
    "+ Improve the route probability calculation. This can be done in various ways. For example, we could increase the dimensionality by \n",
    "looking at the transportation type of a trip, or looking at how the arrival/departure times were calculated. \n",
    "We have the grouping for that already. Another improvement measure would be to integrate new data sets that correlate with the actual SBB\n",
    "data, for example weather data, data on some big events in the city or data from users."
   ]
  },
  {
   "cell_type": "markdown",
   "metadata": {},
   "source": [
    "+ Make the tool more user friendly, by incorporating trip visualization on a map and making the route plan df more structured."
   ]
  },
  {
   "cell_type": "markdown",
   "metadata": {},
   "source": [
    "+ Expanding the tool to other areas of Switzerland. Since we have the  SBB data for all of Switzerland and the methods are reproducible, \n",
    "we can incorporate other city areas like Lausanne or Bern."
   ]
  },
  {
   "cell_type": "markdown",
   "metadata": {},
   "source": [
    "# Summary"
   ]
  },
  {
   "cell_type": "markdown",
   "metadata": {},
   "source": [
    "We have sucessfully implemented a stochastic route planning algorithm for the Zürich area. Our implementation relies on the methodological part on the usage of inferential statistics and a modified version of n-path Djikstra. The algorithm meets all of the requested constraints and gives reasonable results. Some parts of our implementation are not optimal, such as the user interface and the certainty precision. However, this can be solved by our proposed next steps. The implementation is particularly useful as it can be expanded to other metropolitan areas of Switzerland."
   ]
  },
  {
   "cell_type": "markdown",
   "metadata": {},
   "source": [
    "## Distribution of work"
   ]
  },
  {
   "cell_type": "markdown",
   "metadata": {},
   "source": [
    "-*Adam* has mostly focused on the methodological part, did literature research on stochastic route planning and n-shortest path algorithms.\n",
    "He  implemented the `route_probability` function and helper functions. He also worked on the Validation and Discussion part."
   ]
  },
  {
   "cell_type": "markdown",
   "metadata": {},
   "source": [
    "-*Yuan* implemented the connected graph creation (function and classes needed for that) and the shortest path algorithm (function and classes needed for that). She helped in the implementation of the predictive model, namely the creation of `distribution_df`."
   ]
  },
  {
   "cell_type": "markdown",
   "metadata": {},
   "source": [
    "-*Vera* did the data wrangling and modelled the transportation network, from the data filtering to the definition of a timetable.\n",
    "She also helped with the `route_probability` function."
   ]
  },
  {
   "cell_type": "markdown",
   "metadata": {},
   "source": [
    "-*Matthieu* helped *Vera* with the data wrangling and implemented the function `calc_proba`. He also helped with the calculation of \n",
    "delay distributions in the predictive modelling part."
   ]
  },
  {
   "cell_type": "markdown",
   "metadata": {},
   "source": [
    "## References"
   ]
  },
  {
   "cell_type": "markdown",
   "metadata": {},
   "source": [
    "[1] Peng Ni ; Hoang Tam Vo ; Daniel Dahlmeier ; Wentong Cai ; Jordan Ivanchev ; Heiko Aydt,\n",
    "DEPART: Dynamic Route Planning in Stochastic Time-Dependent Public Transit Networks, https://ieeexplore.ieee.org/document/7313363"
   ]
  },
  {
   "cell_type": "markdown",
   "metadata": {},
   "source": [
    "[2]Jin Y. Yen: Finding the K Shortest Loopless Paths in a Network,\n",
    "https://www.semanticscholar.org/paper/Finding-the-K-Shortest-Loopless-Paths-in-a-Network-Yen-YENt/aa6a64afc25f48ad44e510d0055405836c8cc325    "
   ]
  },
  {
   "cell_type": "markdown",
   "metadata": {},
   "source": [
    "[3] Yen algorithm in Python: https://github.com/handloomweaver/YenKSP/blob/master/algorithms.py"
   ]
  },
  {
   "cell_type": "markdown",
   "metadata": {},
   "source": [
    "[4]Adi Botea, Evdokia Nikolova, Michele Berlingerio, \"Multi-Modal Journey Planning in the Presence of Uncertainty\". \n",
    "ICAPS 2013."
   ]
  },
  {
   "cell_type": "markdown",
   "metadata": {},
   "source": [
    "## User Interface\n",
    "\n",
    "Creates a user  interface where a user can enter his query, consisting of the `source_node`, the `end_node`, the desired `arrival_time` and the `certainty` that the user wants. The interface isn't working at the moment as we haven't been able to figure out how to combine spark and the following local cells. However, the idea is to call the `route_plan_help` function from the `find_trip`  function, with the given user input.\n"
   ]
  },
  {
   "cell_type": "code",
   "execution_count": 85,
   "metadata": {},
   "outputs": [],
   "source": [
    "%%local\n",
    "import ipywidgets as widgets\n",
    "import datetime"
   ]
  },
  {
   "cell_type": "code",
   "execution_count": 86,
   "metadata": {},
   "outputs": [],
   "source": [
    "%%local\n",
    "#get_ipython().run_cell_magic('spark', '', '%%local\n",
    "\n",
    "# Function to search for the journey\n",
    "def find_trip(start, end, arr, perc):\n",
    "    \n",
    "    # Check if input values are in the correct format\n",
    "    try:\n",
    "        \n",
    "        float(perc)\n",
    "        date_time_str = '2018-06-29 ' + arr\n",
    "        arr_time = datetime.datetime.strptime(date_time_str, '%Y-%m-%d %H:%M')\n",
    "        \n",
    "    \n",
    "    except ValueError:\n",
    "        print('Input values are not in the correct format.\\n')\n",
    "        return\n",
    "        \n",
    "    # Check further that the input is correct\n",
    "    if ((start != end) \n",
    "        & ((float(perc) > 0) & (float(perc) <= 1))):\n",
    "        \n",
    "        print('Results for the trip:', start, '(Zürich HB) to', end,'(Zürich, Auzelg) arriving at', arr_time.time(), \n",
    "              'with a route sucess probability of at least', int(float(perc)*100), '%\\n')\n",
    "        \n",
    "        route_plan_help(start, end, arr, perc, k=30)\n",
    "        \n",
    "        print('MVAY - always on time')\n",
    "        \n",
    "    else:\n",
    "        print('Input values are not in the correct format.\\n')#'\n",
    "                            # )\n",
    "        "
   ]
  },
  {
   "cell_type": "code",
   "execution_count": 87,
   "metadata": {},
   "outputs": [],
   "source": [
    "%%local\n",
    "import a_star_helpers, graph_helpers\n",
    "# Set styling for widgets\n",
    "text_style = {'description_width': '40%'}\n",
    "text_layout = widgets.Layout(width='95%')\n",
    "button_layout = widgets.Layout(margin='20px 0 0 35%', width='30%')\n",
    "\n",
    "text_box_layout = widgets.Layout(width='100%', display='flex', flex_flow='column', align_items='stretch')\n",
    "big_box_layout = widgets.Layout(display='flex',flex_flow='column', align_items='center', \n",
    "                                width='60%', border='solid', padding='5%')\n",
    "\n",
    "# Create the widget elements\n",
    "start_ID = widgets.Text(description='Starting point\\'s stop ID:', \n",
    "                        placeholder='8503000', \n",
    "                        layout=text_layout, style=text_style)\n",
    "end_ID = widgets.Text(description='Ending point\\'s stop ID:', \n",
    "                      placeholder='8591049', \n",
    "                      layout=text_layout, style=text_style)\n",
    "arr_time = widgets.Text(description='Desired arrival time:', \n",
    "                        placeholder='12:00', \n",
    "                        layout=text_layout, style=text_style)\n",
    "uncertainty = widgets.Text(description='Route sucess probability:', \n",
    "                           placeholder='0.8', \n",
    "                           layout=text_layout, style=text_style)\n",
    "button = widgets.Button(description='Find trip', layout=button_layout)\n",
    "\n",
    "# Create boxes for formatting\n",
    "text_box = widgets.Box(children=[start_ID, end_ID, arr_time, uncertainty], layout=text_box_layout)\n",
    "big_box = widgets.Box(children=[text_box, button], layout=big_box_layout)"
   ]
  },
  {
   "cell_type": "code",
   "execution_count": 88,
   "metadata": {},
   "outputs": [
    {
     "name": "stdout",
     "output_type": "stream",
     "text": [
      "\n",
      "\n"
     ]
    },
    {
     "data": {
      "application/vnd.jupyter.widget-view+json": {
       "model_id": "149567ffb9b64f1a86dbd38d50c284e8",
       "version_major": 2,
       "version_minor": 0
      },
      "text/plain": [
       "Box(children=(Box(children=(Text(value='', description=\"Starting point's stop ID:\", layout=Layout(width='95%')…"
      ]
     },
     "metadata": {},
     "output_type": "display_data"
    },
    {
     "name": "stdout",
     "output_type": "stream",
     "text": [
      "\n",
      "\n"
     ]
    },
    {
     "data": {
      "application/vnd.jupyter.widget-view+json": {
       "model_id": "611ec3d0c6784d27928f84e9432f3fbd",
       "version_major": 2,
       "version_minor": 0
      },
      "text/plain": [
       "Output()"
      ]
     },
     "metadata": {},
     "output_type": "display_data"
    }
   ],
   "source": [
    "%%local\n",
    "\n",
    "print('\\n')\n",
    "display(big_box)\n",
    "\n",
    "# Create output in order to be able to show results\n",
    "print('\\n')\n",
    "out = widgets.Output()\n",
    "display(out)\n",
    "\n",
    "# Call find_trip when button is clicked and reset text boxes\n",
    "@out.capture()\n",
    "def on_button_click(self):\n",
    "    find_trip(start_ID.value, end_ID.value, arr_time.value, uncertainty.value)\n",
    "    start_ID.value = ''\n",
    "    end_ID.value = ''\n",
    "    arr_time.value = ''\n",
    "    uncertainty.value = ''\n",
    "\n",
    "button.on_click(on_button_click)"
   ]
  },
  {
   "cell_type": "code",
   "execution_count": 61,
   "metadata": {},
   "outputs": [
    {
     "data": {
      "application/vnd.jupyter.widget-view+json": {
       "model_id": "",
       "version_major": 2,
       "version_minor": 0
      },
      "text/plain": [
       "FloatProgress(value=0.0, bar_style='info', description='Progress:', layout=Layout(height='25px', width='50%'),…"
      ]
     },
     "metadata": {},
     "output_type": "display_data"
    },
    {
     "name": "stdout",
     "output_type": "stream",
     "text": [
      "+-----+----------------+--------------+------------------+----------------------------+----------------+---------------------+\n",
      "|     | arrival_time   | stop_id      | departure_time   | trip_id                    |   route_number |   route_probability |\n",
      "|-----+----------------+--------------+------------------+----------------------------+----------------+---------------------|\n",
      "|   0 | Starts Walking | 8503000:0:9  | 11:53:00         | Walking transfer           |              0 |            0.95695  |\n",
      "|   1 | 11:54:00       | 8591379      | 11:54:00         | 880.TA.26-14-A-j19-1.10.R  |              0 |            0.95695  |\n",
      "|   2 | 11:55:00       | 8591071      | 11:55:00         | 880.TA.26-14-A-j19-1.10.R  |              0 |            0.95695  |\n",
      "|   3 | 11:56:00       | 8591237      | 11:58:00         | Walking transfer           |              0 |            0.95695  |\n",
      "|   4 | 11:59:00       | 8591339      | 11:59:00         | 550.TA.26-33-B-j19-1.3.H   |              0 |            0.95695  |\n",
      "|   5 | 12:01:00       | 8591335      | 12:04:00         | Walking transfer           |              0 |            0.95695  |\n",
      "|   6 | 12:05:00       | 8591168      | 12:05:00         | 1183.TA.26-7-B-j19-1.6.R   |              0 |            0.95695  |\n",
      "|   7 | 12:06:00       | 8591276      | 12:08:00         | Walking transfer           |              0 |            0.95695  |\n",
      "|   8 | 12:09:00       | 8591193      | 12:09:00         | 879.TA.26-14-A-j19-1.10.R  |              0 |            0.95695  |\n",
      "|   9 | 12:11:00       | 8591073      | 12:11:00         | 879.TA.26-14-A-j19-1.10.R  |              0 |            0.95695  |\n",
      "|  10 | 12:11:00       | 8591332      | 12:16:00         | Walking transfer           |              0 |            0.95695  |\n",
      "|  11 | 12:17:00       | 8591382      | 12:17:00         | 1914.TA.26-11-A-j19-1.27.R |              0 |            0.95695  |\n",
      "|  12 | 12:18:00       | 8591273      | 12:20:00         | Walking transfer           |              0 |            0.95695  |\n",
      "|  13 | 12:21:00       | 8591175      | 12:21:00         | 254.TA.26-62-j19-1.2.H     |              0 |            0.95695  |\n",
      "|  14 | 12:21:00       | 8591319      | 12:21:00         | 254.TA.26-62-j19-1.2.H     |              0 |            0.95695  |\n",
      "|  15 | 12:22:00       | 8591330      | 12:22:00         | 254.TA.26-62-j19-1.2.H     |              0 |            0.95695  |\n",
      "|  16 | 12:23:00       | 8591113      | 12:25:00         | Walking transfer           |              0 |            0.95695  |\n",
      "|  17 | 12:26:00       | 8591050      | 12:26:00         | 134.TA.26-79-j19-1.2.H     |              0 |            0.95695  |\n",
      "|  18 | 12:27:00       | 8591049      | 12:30:00         | Walking transfer           |              0 |            0.95695  |\n",
      "|  19 | Starts Walking | 8503000:0:9  | 11:53:00         | Walking transfer           |              1 |            0.95695  |\n",
      "|  20 | Starts Walking | 8591379      | 12:08:00         | Walking transfer           |              1 |            0.95695  |\n",
      "|  21 | 12:09:00       | 8503000:0:14 | 12:09:00         | 424.TA.16-13-j19-1.233.R   |              1 |            0.95695  |\n",
      "|  22 | 12:15:00       | 8503006:0:6  | 12:18:00         | Walking transfer           |              1 |            0.95695  |\n",
      "|  23 | 12:19:00       | 8591382      | 12:19:00         | 254.TA.26-62-j19-1.2.H     |              1 |            0.95695  |\n",
      "|  24 | 12:20:00       | 8591273      | 12:20:00         | 254.TA.26-62-j19-1.2.H     |              1 |            0.95695  |\n",
      "|  25 | 12:21:00       | 8591175      | 12:21:00         | 254.TA.26-62-j19-1.2.H     |              1 |            0.95695  |\n",
      "|  26 | 12:21:00       | 8591319      | 12:21:00         | 254.TA.26-62-j19-1.2.H     |              1 |            0.95695  |\n",
      "|  27 | 12:22:00       | 8591330      | 12:22:00         | 254.TA.26-62-j19-1.2.H     |              1 |            0.95695  |\n",
      "|  28 | 12:23:00       | 8591113      | 12:25:00         | Walking transfer           |              1 |            0.95695  |\n",
      "|  29 | 12:26:00       | 8591050      | 12:26:00         | 134.TA.26-79-j19-1.2.H     |              1 |            0.95695  |\n",
      "|  30 | 12:27:00       | 8591049      | 12:30:00         | Walking transfer           |              1 |            0.95695  |\n",
      "|  31 | Starts Walking | 8503000:0:9  | 11:53:00         | Walking transfer           |              2 |            0.95695  |\n",
      "|  32 | 11:54:00       | 8591379      | 11:54:00         | 880.TA.26-14-A-j19-1.10.R  |              2 |            0.95695  |\n",
      "|  33 | Starts Walking | 8591071      | 12:03:00         | Walking transfer           |              2 |            0.95695  |\n",
      "|  34 | 12:04:00       | 8591282      | 12:04:00         | 1952.TA.26-13-j19-1.24.H   |              2 |            0.95695  |\n",
      "|  35 | 12:06:00       | 8591368      | 12:08:00         | Walking transfer           |              2 |            0.95695  |\n",
      "|  36 | 12:09:00       | 8503000:0:14 | 12:09:00         | 424.TA.16-13-j19-1.233.R   |              2 |            0.95695  |\n",
      "|  37 | 12:15:00       | 8503006:0:6  | 12:18:00         | Walking transfer           |              2 |            0.95695  |\n",
      "|  38 | 12:19:00       | 8591382      | 12:19:00         | 254.TA.26-62-j19-1.2.H     |              2 |            0.95695  |\n",
      "|  39 | 12:20:00       | 8591273      | 12:20:00         | 254.TA.26-62-j19-1.2.H     |              2 |            0.95695  |\n",
      "|  40 | 12:21:00       | 8591175      | 12:21:00         | 254.TA.26-62-j19-1.2.H     |              2 |            0.95695  |\n",
      "|  41 | 12:21:00       | 8591319      | 12:21:00         | 254.TA.26-62-j19-1.2.H     |              2 |            0.95695  |\n",
      "|  42 | 12:22:00       | 8591330      | 12:22:00         | 254.TA.26-62-j19-1.2.H     |              2 |            0.95695  |\n",
      "|  43 | 12:23:00       | 8591113      | 12:25:00         | Walking transfer           |              2 |            0.95695  |\n",
      "|  44 | 12:26:00       | 8591050      | 12:26:00         | 134.TA.26-79-j19-1.2.H     |              2 |            0.95695  |\n",
      "|  45 | 12:27:00       | 8591049      | 12:30:00         | Walking transfer           |              2 |            0.95695  |\n",
      "|  46 | Starts Walking | 8503000:0:9  | 11:53:00         | Walking transfer           |              3 |            0.95695  |\n",
      "|  47 | 11:54:00       | 8591379      | 11:54:00         | 880.TA.26-14-A-j19-1.10.R  |              3 |            0.95695  |\n",
      "|  48 | 11:55:00       | 8591071      | 11:55:00         | 880.TA.26-14-A-j19-1.10.R  |              3 |            0.95695  |\n",
      "|  49 | Starts Walking | 8591237      | 12:05:00         | Walking transfer           |              3 |            0.95695  |\n",
      "|  50 | 12:06:00       | 8591335      | 12:06:00         | 327.TA.26-15-A-j19-1.5.R   |              3 |            0.95695  |\n",
      "|  51 | 12:07:00       | 8591246      | 12:09:00         | Walking transfer           |              3 |            0.95695  |\n",
      "|  52 | 12:10:00       | 8591101      | 12:10:00         | 1914.TA.26-11-A-j19-1.27.R |              3 |            0.95695  |\n",
      "|  53 | 12:11:00       | 8591307      | 12:11:00         | 1914.TA.26-11-A-j19-1.27.R |              3 |            0.95695  |\n",
      "|  54 | 12:13:00       | 8591053      | 12:15:00         | Walking transfer           |              3 |            0.95695  |\n",
      "|  55 | 12:16:00       | 8591314      | 12:16:00         | 254.TA.26-62-j19-1.2.H     |              3 |            0.95695  |\n",
      "|  56 | 12:17:00       | 8580449      | 12:19:00         | Walking transfer           |              3 |            0.95695  |\n",
      "|  57 | 12:20:00       | 8591273      | 12:20:00         | 254.TA.26-62-j19-1.2.H     |              3 |            0.95695  |\n",
      "|  58 | 12:21:00       | 8591175      | 12:21:00         | 254.TA.26-62-j19-1.2.H     |              3 |            0.95695  |\n",
      "|  59 | 12:21:00       | 8591319      | 12:21:00         | 254.TA.26-62-j19-1.2.H     |              3 |            0.95695  |\n",
      "|  60 | 12:22:00       | 8591330      | 12:22:00         | 254.TA.26-62-j19-1.2.H     |              3 |            0.95695  |\n",
      "|  61 | 12:23:00       | 8591113      | 12:25:00         | Walking transfer           |              3 |            0.95695  |\n",
      "|  62 | 12:26:00       | 8591050      | 12:26:00         | 134.TA.26-79-j19-1.2.H     |              3 |            0.95695  |\n",
      "|  63 | 12:27:00       | 8591049      | 12:30:00         | Walking transfer           |              3 |            0.95695  |\n",
      "|  64 | Starts Walking | 8503000:0:9  | 11:53:00         | Walking transfer           |              4 |            0.95695  |\n",
      "|  65 | 11:54:00       | 8591379      | 11:54:00         | 880.TA.26-14-A-j19-1.10.R  |              4 |            0.95695  |\n",
      "|  66 | 11:55:00       | 8591071      | 11:55:00         | 880.TA.26-14-A-j19-1.10.R  |              4 |            0.95695  |\n",
      "|  67 | 11:56:00       | 8591237      | 11:58:00         | Walking transfer           |              4 |            0.95695  |\n",
      "|  68 | Starts Walking | 8591339      | 12:02:00         | Walking transfer           |              4 |            0.95695  |\n",
      "|  69 | 12:03:00       | 8591298      | 12:03:00         | 655.TA.26-15-A-j19-1.6.H   |              4 |            0.95695  |\n",
      "|  70 | 12:04:00       | 8591373      | 12:04:00         | 655.TA.26-15-A-j19-1.6.H   |              4 |            0.95695  |\n",
      "|  71 | 12:05:00       | 8591174      | 12:08:00         | Walking transfer           |              4 |            0.95695  |\n",
      "|  72 | 12:09:00       | 8503000:0:14 | 12:09:00         | 424.TA.16-13-j19-1.233.R   |              4 |            0.95695  |\n",
      "|  73 | 12:15:00       | 8503006:0:6  | 12:18:00         | Walking transfer           |              4 |            0.95695  |\n",
      "|  74 | 12:19:00       | 8591382      | 12:19:00         | 254.TA.26-62-j19-1.2.H     |              4 |            0.95695  |\n",
      "|  75 | 12:20:00       | 8591273      | 12:20:00         | 254.TA.26-62-j19-1.2.H     |              4 |            0.95695  |\n",
      "|  76 | 12:21:00       | 8591175      | 12:21:00         | 254.TA.26-62-j19-1.2.H     |              4 |            0.95695  |\n",
      "|  77 | 12:21:00       | 8591319      | 12:21:00         | 254.TA.26-62-j19-1.2.H     |              4 |            0.95695  |\n",
      "|  78 | 12:22:00       | 8591330      | 12:22:00         | 254.TA.26-62-j19-1.2.H     |              4 |            0.95695  |\n",
      "|  79 | 12:23:00       | 8591113      | 12:25:00         | Walking transfer           |              4 |            0.95695  |\n",
      "|  80 | 12:26:00       | 8591050      | 12:26:00         | 134.TA.26-79-j19-1.2.H     |              4 |            0.95695  |\n",
      "|  81 | 12:27:00       | 8591049      | 12:30:00         | Walking transfer           |              4 |            0.95695  |\n",
      "|  82 | Starts Walking | 8503000:0:9  | 11:52:00         | Walking transfer           |              5 |            0.95695  |\n",
      "|  83 | 11:53:00       | 8588078      | 11:53:00         | 1489.TA.26-10-j19-1.11.R   |              5 |            0.95695  |\n",
      "|  84 | 11:55:00       | 8591174      | 11:58:00         | Walking transfer           |              5 |            0.95695  |\n",
      "|  85 | 11:59:00       | 8591433      | 11:59:00         | 1489.TA.26-10-j19-1.11.R   |              5 |            0.95695  |\n",
      "|  86 | 12:00:00       | 8591362      | 12:00:00         | 1489.TA.26-10-j19-1.11.R   |              5 |            0.95695  |\n",
      "|  87 | 12:01:00       | 8591229      | 12:01:00         | 1489.TA.26-10-j19-1.11.R   |              5 |            0.95695  |\n",
      "|  88 | 12:02:00       | 8591255      | 12:02:00         | 1489.TA.26-10-j19-1.11.R   |              5 |            0.95695  |\n",
      "|  89 | 12:03:00       | 8591244      | 12:05:00         | Walking transfer           |              5 |            0.95695  |\n",
      "|  90 | 12:06:00       | 8591276      | 12:06:00         | 1183.TA.26-7-B-j19-1.6.R   |              5 |            0.95695  |\n",
      "|  91 | 12:08:00       | 8591393      | 12:11:00         | Walking transfer           |              5 |            0.95695  |\n",
      "|  92 | 12:12:00       | 8591140      | 12:12:00         | 612.TA.26-75-A-j19-1.4.R   |              5 |            0.95695  |\n",
      "|  93 | 12:13:00       | 8591112      | 12:16:00         | Walking transfer           |              5 |            0.95695  |\n",
      "|  94 | 12:17:00       | 8591382      | 12:17:00         | 1914.TA.26-11-A-j19-1.27.R |              5 |            0.95695  |\n",
      "|  95 | 12:18:00       | 8591273      | 12:20:00         | Walking transfer           |              5 |            0.95695  |\n",
      "|  96 | 12:21:00       | 8591175      | 12:21:00         | 254.TA.26-62-j19-1.2.H     |              5 |            0.95695  |\n",
      "|  97 | 12:21:00       | 8591319      | 12:21:00         | 254.TA.26-62-j19-1.2.H     |              5 |            0.95695  |\n",
      "|  98 | 12:22:00       | 8591330      | 12:22:00         | 254.TA.26-62-j19-1.2.H     |              5 |            0.95695  |\n",
      "|  99 | 12:23:00       | 8591113      | 12:25:00         | Walking transfer           |              5 |            0.95695  |\n",
      "| 100 | 12:26:00       | 8591050      | 12:26:00         | 134.TA.26-79-j19-1.2.H     |              5 |            0.95695  |\n",
      "| 101 | 12:27:00       | 8591049      | 12:30:00         | Walking transfer           |              5 |            0.95695  |\n",
      "| 102 | Starts Walking | 8503000:0:9  | 11:51:00         | Walking transfer           |              6 |            0.95695  |\n",
      "| 103 | 11:52:00       | 8503000:0:33 | 11:52:00         | 80.TA.26-36-j19-1.28.R     |              6 |            0.95695  |\n",
      "| 104 | 11:57:00       | 8503006:0:5  | 12:16:00         | Walking transfer           |              6 |            0.95695  |\n",
      "| 105 | 12:17:00       | 8591382      | 12:17:00         | 1914.TA.26-11-A-j19-1.27.R |              6 |            0.95695  |\n",
      "| 106 | 12:18:00       | 8591273      | 12:20:00         | Walking transfer           |              6 |            0.95695  |\n",
      "| 107 | 12:21:00       | 8591175      | 12:21:00         | 254.TA.26-62-j19-1.2.H     |              6 |            0.95695  |\n",
      "| 108 | 12:21:00       | 8591319      | 12:21:00         | 254.TA.26-62-j19-1.2.H     |              6 |            0.95695  |\n",
      "| 109 | 12:22:00       | 8591330      | 12:22:00         | 254.TA.26-62-j19-1.2.H     |              6 |            0.95695  |\n",
      "| 110 | 12:23:00       | 8591113      | 12:25:00         | Walking transfer           |              6 |            0.95695  |\n",
      "| 111 | 12:26:00       | 8591050      | 12:26:00         | 134.TA.26-79-j19-1.2.H     |              6 |            0.95695  |\n",
      "| 112 | 12:27:00       | 8591049      | 12:30:00         | Walking transfer           |              6 |            0.95695  |\n",
      "| 113 | Starts Walking | 8503000:0:9  | 11:51:00         | Walking transfer           |              7 |            0.999977 |\n",
      "| 114 | Starts Walking | 8503000:0:33 | 11:53:00         | Walking transfer           |              7 |            0.999977 |\n",
      "| 115 | 11:54:00       | 8591174      | 11:54:00         | 328.TA.26-15-A-j19-1.5.R   |              7 |            0.999977 |\n",
      "| 116 | 11:55:00       | 8591373      | 11:57:00         | Walking transfer           |              7 |            0.999977 |\n",
      "| 117 | 11:58:00       | 8591362      | 11:58:00         | 550.TA.26-33-B-j19-1.3.H   |              7 |            0.999977 |\n",
      "| 118 | 11:59:00       | 8591339      | 12:01:00         | Walking transfer           |              7 |            0.999977 |\n",
      "| 119 | 12:02:00       | 8591255      | 12:02:00         | 1489.TA.26-10-j19-1.11.R   |              7 |            0.999977 |\n",
      "| 120 | 12:03:00       | 8591244      | 12:03:00         | 1489.TA.26-10-j19-1.11.R   |              7 |            0.999977 |\n",
      "| 121 | 12:04:00       | 8591406      | 12:06:00         | Walking transfer           |              7 |            0.999977 |\n",
      "| 122 | 12:07:00       | 8591193      | 12:07:00         | 1489.TA.26-10-j19-1.11.R   |              7 |            0.999977 |\n",
      "| 123 | 12:08:00       | 8591073      | 12:08:00         | 1489.TA.26-10-j19-1.11.R   |              7 |            0.999977 |\n",
      "| 124 | 12:09:00       | 8591332      | 12:12:00         | Walking transfer           |              7 |            0.999977 |\n",
      "| 125 | 12:13:00       | 8591382      | 12:13:00         | 879.TA.26-14-A-j19-1.10.R  |              7 |            0.999977 |\n",
      "| 126 | 12:15:00       | 8591063      | 12:17:00         | Walking transfer           |              7 |            0.999977 |\n",
      "| 127 | 12:18:00       | 8591256      | 12:18:00         | 660.TA.26-787-j19-1.4.R    |              7 |            0.999977 |\n",
      "| 128 | 12:19:00       | 8591172      | 12:19:00         | 660.TA.26-787-j19-1.4.R    |              7 |            0.999977 |\n",
      "| 129 | 12:20:00       | 8591318      | 12:22:00         | Walking transfer           |              7 |            0.999977 |\n",
      "| 130 | 12:23:00       | 8591128      | 12:23:00         | 1914.TA.26-11-A-j19-1.27.R |              7 |            0.999977 |\n",
      "| 131 | 12:24:00       | 8591049      | 12:30:00         | Walking transfer           |              7 |            0.999977 |\n",
      "| 132 | Starts Walking | 8503000:0:9  | 11:51:00         | Walking transfer           |              8 |            0.999977 |\n",
      "| 133 | 11:52:00       | 8503000:0:33 | 11:52:00         | 80.TA.26-36-j19-1.28.R     |              8 |            0.999977 |\n",
      "| 134 | Starts Walking | 8503006:0:5  | 12:11:00         | Walking transfer           |              8 |            0.999977 |\n",
      "| 135 | 12:12:00       | 8591063      | 12:12:00         | 1489.TA.26-10-j19-1.11.R   |              8 |            0.999977 |\n",
      "| 136 | 12:14:00       | 8591256      | 12:18:00         | Walking transfer           |              8 |            0.999977 |\n",
      "| 137 | 12:19:00       | 8591172      | 12:19:00         | 136.TA.26-787-j19-1.1.R    |              8 |            0.999977 |\n",
      "| 138 | 12:20:00       | 8591318      | 12:22:00         | Walking transfer           |              8 |            0.999977 |\n",
      "| 139 | 12:23:00       | 8591128      | 12:23:00         | 1914.TA.26-11-A-j19-1.27.R |              8 |            0.999977 |\n",
      "| 140 | 12:24:00       | 8591049      | 12:30:00         | Walking transfer           |              8 |            0.999977 |\n",
      "| 141 | Starts Walking | 8503000:0:9  | 11:51:00         | Walking transfer           |              9 |            0.999977 |\n",
      "| 142 | 11:52:00       | 8503000:0:33 | 11:52:00         | 80.TA.26-36-j19-1.28.R     |              9 |            0.999977 |\n",
      "| 143 | 11:57:00       | 8503006:0:5  | 12:16:00         | Walking transfer           |              9 |            0.999977 |\n",
      "| 144 | Starts Walking | 8591382      | 12:16:00         | Walking transfer           |              9 |            0.999977 |\n",
      "| 145 | 12:17:00       | 8591063      | 12:17:00         | 136.TA.26-787-j19-1.1.R    |              9 |            0.999977 |\n",
      "| 146 | 12:18:00       | 8591256      | 12:18:00         | 136.TA.26-787-j19-1.1.R    |              9 |            0.999977 |\n",
      "| 147 | 12:19:00       | 8591172      | 12:19:00         | 136.TA.26-787-j19-1.1.R    |              9 |            0.999977 |\n",
      "| 148 | 12:20:00       | 8591318      | 12:22:00         | Walking transfer           |              9 |            0.999977 |\n",
      "| 149 | 12:23:00       | 8591128      | 12:23:00         | 1914.TA.26-11-A-j19-1.27.R |              9 |            0.999977 |\n",
      "| 150 | 12:24:00       | 8591049      | 12:30:00         | Walking transfer           |              9 |            0.999977 |\n",
      "| 151 | Starts Walking | 8503000:0:9  | 11:51:00         | Walking transfer           |             10 |            0.999977 |\n",
      "| 152 | 11:52:00       | 8503000:0:33 | 11:52:00         | 80.TA.26-36-j19-1.28.R     |             10 |            0.999977 |\n",
      "| 153 | 11:57:00       | 8503006:0:5  | 12:16:00         | Walking transfer           |             10 |            0.999977 |\n",
      "| 154 | 12:17:00       | 8591382      | 12:17:00         | 1914.TA.26-11-A-j19-1.27.R |             10 |            0.999977 |\n",
      "| 155 | Starts Walking | 8591273      | 12:17:00         | Walking transfer           |             10 |            0.999977 |\n",
      "| 156 | 12:18:00       | 8591256      | 12:18:00         | 660.TA.26-787-j19-1.4.R    |             10 |            0.999977 |\n",
      "| 157 | 12:19:00       | 8591172      | 12:19:00         | 660.TA.26-787-j19-1.4.R    |             10 |            0.999977 |\n",
      "| 158 | 12:20:00       | 8591318      | 12:22:00         | Walking transfer           |             10 |            0.999977 |\n",
      "| 159 | 12:23:00       | 8591128      | 12:23:00         | 1914.TA.26-11-A-j19-1.27.R |             10 |            0.999977 |\n",
      "| 160 | 12:24:00       | 8591049      | 12:30:00         | Walking transfer           |             10 |            0.999977 |\n",
      "| 161 | Starts Walking | 8503000:0:9  | 11:51:00         | Walking transfer           |             11 |            0.999977 |\n",
      "| 162 | 11:52:00       | 8503000:0:33 | 11:52:00         | 80.TA.26-36-j19-1.28.R     |             11 |            0.999977 |\n",
      "| 163 | 11:57:00       | 8503006:0:5  | 12:16:00         | Walking transfer           |             11 |            0.999977 |\n",
      "| 164 | 12:17:00       | 8591382      | 12:17:00         | 1914.TA.26-11-A-j19-1.27.R |             11 |            0.999977 |\n",
      "| 165 | 12:18:00       | 8591273      | 12:20:00         | Walking transfer           |             11 |            0.999977 |\n",
      "| 166 | Starts Walking | 8591175      | 12:18:00         | Walking transfer           |             11 |            0.999977 |\n",
      "| 167 | 12:19:00       | 8591172      | 12:19:00         | 660.TA.26-787-j19-1.4.R    |             11 |            0.999977 |\n",
      "| 168 | 12:20:00       | 8591318      | 12:22:00         | Walking transfer           |             11 |            0.999977 |\n",
      "| 169 | 12:23:00       | 8591128      | 12:23:00         | 1914.TA.26-11-A-j19-1.27.R |             11 |            0.999977 |\n",
      "| 170 | 12:24:00       | 8591049      | 12:30:00         | Walking transfer           |             11 |            0.999977 |\n",
      "| 171 | Starts Walking | 8503000:0:9  | 11:51:00         | Walking transfer           |             12 |            0.95695  |\n",
      "| 172 | 11:52:00       | 8503000:0:33 | 11:52:00         | 80.TA.26-36-j19-1.28.R     |             12 |            0.95695  |\n",
      "| 173 | 11:57:00       | 8503006:0:5  | 12:16:00         | Walking transfer           |             12 |            0.95695  |\n",
      "| 174 | 12:17:00       | 8591382      | 12:17:00         | 1914.TA.26-11-A-j19-1.27.R |             12 |            0.95695  |\n",
      "| 175 | 12:18:00       | 8591273      | 12:20:00         | Walking transfer           |             12 |            0.95695  |\n",
      "| 176 | 12:21:00       | 8591175      | 12:21:00         | 254.TA.26-62-j19-1.2.H     |             12 |            0.95695  |\n",
      "| 177 | Starts Walking | 8591319      | 12:21:00         | Walking transfer           |             12 |            0.95695  |\n",
      "| 178 | 12:22:00       | 8591330      | 12:22:00         | 254.TA.26-62-j19-1.2.H     |             12 |            0.95695  |\n",
      "| 179 | 12:23:00       | 8591113      | 12:25:00         | Walking transfer           |             12 |            0.95695  |\n",
      "| 180 | 12:26:00       | 8591050      | 12:26:00         | 134.TA.26-79-j19-1.2.H     |             12 |            0.95695  |\n",
      "| 181 | 12:27:00       | 8591049      | 12:30:00         | Walking transfer           |             12 |            0.95695  |\n",
      "| 182 | Starts Walking | 8503000:0:9  | 11:51:00         | Walking transfer           |             13 |            0.999977 |\n",
      "| 183 | 11:52:00       | 8503000:0:33 | 11:52:00         | 80.TA.26-36-j19-1.28.R     |             13 |            0.999977 |\n",
      "| 184 | 11:57:00       | 8503006:0:5  | 12:16:00         | Walking transfer           |             13 |            0.999977 |\n",
      "| 185 | 12:17:00       | 8591382      | 12:17:00         | 1914.TA.26-11-A-j19-1.27.R |             13 |            0.999977 |\n",
      "| 186 | 12:18:00       | 8591273      | 12:20:00         | Walking transfer           |             13 |            0.999977 |\n",
      "| 187 | 12:21:00       | 8591175      | 12:21:00         | 254.TA.26-62-j19-1.2.H     |             13 |            0.999977 |\n",
      "| 188 | 12:21:00       | 8591319      | 12:21:00         | 254.TA.26-62-j19-1.2.H     |             13 |            0.999977 |\n",
      "| 189 | Starts Walking | 8591330      | 12:14:00         | 377.TA.26-94-j19-1.3.R     |             13 |            0.999977 |\n",
      "| 190 | 12:15:00       | 8591319      | 12:15:00         | 377.TA.26-94-j19-1.3.R     |             13 |            0.999977 |\n",
      "| 191 | 12:16:00       | 8591175      | 12:18:00         | Walking transfer           |             13 |            0.999977 |\n",
      "| 192 | 12:19:00       | 8591172      | 12:19:00         | 136.TA.26-787-j19-1.1.R    |             13 |            0.999977 |\n",
      "| 193 | 12:20:00       | 8591318      | 12:22:00         | Walking transfer           |             13 |            0.999977 |\n",
      "| 194 | 12:23:00       | 8591128      | 12:23:00         | 1914.TA.26-11-A-j19-1.27.R |             13 |            0.999977 |\n",
      "| 195 | 12:24:00       | 8591049      | 12:30:00         | Walking transfer           |             13 |            0.999977 |\n",
      "| 196 | Starts Walking | 8503000:0:9  | 11:51:00         | Walking transfer           |             14 |            0.999977 |\n",
      "| 197 | 11:52:00       | 8503000:0:33 | 11:52:00         | 80.TA.26-36-j19-1.28.R     |             14 |            0.999977 |\n",
      "| 198 | 11:57:00       | 8503006:0:5  | 12:16:00         | Walking transfer           |             14 |            0.999977 |\n",
      "| 199 | 12:17:00       | 8591382      | 12:17:00         | 1914.TA.26-11-A-j19-1.27.R |             14 |            0.999977 |\n",
      "| 200 | 12:18:00       | 8591273      | 12:20:00         | Walking transfer           |             14 |            0.999977 |\n",
      "| 201 | 12:21:00       | 8591175      | 12:21:00         | 254.TA.26-62-j19-1.2.H     |             14 |            0.999977 |\n",
      "| 202 | 12:21:00       | 8591319      | 12:21:00         | 254.TA.26-62-j19-1.2.H     |             14 |            0.999977 |\n",
      "| 203 | 12:22:00       | 8591330      | 12:22:00         | 254.TA.26-62-j19-1.2.H     |             14 |            0.999977 |\n",
      "| 204 | 12:23:00       | 8591113      | 12:25:00         | Walking transfer           |             14 |            0.999977 |\n",
      "| 205 | Starts Walking | 8591050      | 12:03:00         | Walking transfer           |             14 |            0.999977 |\n",
      "| 206 | 12:04:00       | 8591047      | 12:04:00         | 247.TA.26-787-j19-1.2.H    |             14 |            0.999977 |\n",
      "| 207 | 12:07:00       | 8591225      | 12:22:00         | Walking transfer           |             14 |            0.999977 |\n",
      "| 208 | 12:23:00       | 8591128      | 12:23:00         | 1914.TA.26-11-A-j19-1.27.R |             14 |            0.999977 |\n",
      "| 209 | 12:24:00       | 8591049      | 12:30:00         | Walking transfer           |             14 |            0.999977 |\n",
      "| 210 | Starts Walking | 8503000:0:9  | 11:50:00         | Walking transfer           |             15 |            0.999977 |\n",
      "| 211 | 11:51:00       | 8587349      | 11:51:00         | 672.TA.26-46-j19-1.8.R     |             15 |            0.999977 |\n",
      "| 212 | 11:52:00       | 8591379      | 11:54:00         | Walking transfer           |             15 |            0.999977 |\n",
      "| 213 | 11:55:00       | 8591373      | 11:55:00         | 328.TA.26-15-A-j19-1.5.R   |             15 |            0.999977 |\n",
      "| 214 | 11:55:00       | 8591298      | 11:58:00         | Walking transfer           |             15 |            0.999977 |\n",
      "| 215 | 11:59:00       | 8591339      | 11:59:00         | 550.TA.26-33-B-j19-1.3.H   |             15 |            0.999977 |\n",
      "| 216 | 12:01:00       | 8591335      | 12:04:00         | Walking transfer           |             15 |            0.999977 |\n",
      "| 217 | 12:05:00       | 8591168      | 12:05:00         | 1183.TA.26-7-B-j19-1.6.R   |             15 |            0.999977 |\n",
      "| 218 | 12:06:00       | 8591276      | 12:08:00         | Walking transfer           |             15 |            0.999977 |\n",
      "| 219 | 12:09:00       | 8591193      | 12:09:00         | 879.TA.26-14-A-j19-1.10.R  |             15 |            0.999977 |\n",
      "| 220 | 12:11:00       | 8591073      | 12:11:00         | 879.TA.26-14-A-j19-1.10.R  |             15 |            0.999977 |\n",
      "| 221 | 12:11:00       | 8591332      | 12:11:00         | 879.TA.26-14-A-j19-1.10.R  |             15 |            0.999977 |\n",
      "| 222 | 12:13:00       | 8591382      | 12:16:00         | Walking transfer           |             15 |            0.999977 |\n",
      "| 223 | 12:17:00       | 8591063      | 12:17:00         | 136.TA.26-787-j19-1.1.R    |             15 |            0.999977 |\n",
      "| 224 | 12:18:00       | 8591256      | 12:18:00         | 136.TA.26-787-j19-1.1.R    |             15 |            0.999977 |\n",
      "| 225 | 12:19:00       | 8591172      | 12:19:00         | 136.TA.26-787-j19-1.1.R    |             15 |            0.999977 |\n",
      "| 226 | 12:20:00       | 8591318      | 12:22:00         | Walking transfer           |             15 |            0.999977 |\n",
      "| 227 | 12:23:00       | 8591128      | 12:23:00         | 1914.TA.26-11-A-j19-1.27.R |             15 |            0.999977 |\n",
      "| 228 | 12:24:00       | 8591049      | 12:30:00         | Walking transfer           |             15 |            0.999977 |\n",
      "| 229 | Starts Walking | 8503000:0:9  | 11:50:00         | Walking transfer           |             16 |            0.999977 |\n",
      "| 230 | Starts Walking | 8587349      | 11:53:00         | Walking transfer           |             16 |            0.999977 |\n",
      "| 231 | 11:54:00       | 8591174      | 11:54:00         | 328.TA.26-15-A-j19-1.5.R   |             16 |            0.999977 |\n",
      "| 232 | 11:55:00       | 8591373      | 11:55:00         | 328.TA.26-15-A-j19-1.5.R   |             16 |            0.999977 |\n",
      "| 233 | 11:55:00       | 8591298      | 11:58:00         | Walking transfer           |             16 |            0.999977 |\n",
      "| 234 | 11:59:00       | 8591339      | 11:59:00         | 550.TA.26-33-B-j19-1.3.H   |             16 |            0.999977 |\n",
      "| 235 | 12:01:00       | 8591335      | 12:04:00         | Walking transfer           |             16 |            0.999977 |\n",
      "| 236 | 12:05:00       | 8591168      | 12:05:00         | 1183.TA.26-7-B-j19-1.6.R   |             16 |            0.999977 |\n",
      "| 237 | 12:06:00       | 8591276      | 12:08:00         | Walking transfer           |             16 |            0.999977 |\n",
      "| 238 | 12:09:00       | 8591193      | 12:09:00         | 879.TA.26-14-A-j19-1.10.R  |             16 |            0.999977 |\n",
      "| 239 | 12:11:00       | 8591073      | 12:11:00         | 879.TA.26-14-A-j19-1.10.R  |             16 |            0.999977 |\n",
      "| 240 | 12:11:00       | 8591332      | 12:11:00         | 879.TA.26-14-A-j19-1.10.R  |             16 |            0.999977 |\n",
      "| 241 | 12:13:00       | 8591382      | 12:16:00         | Walking transfer           |             16 |            0.999977 |\n",
      "| 242 | 12:17:00       | 8591063      | 12:17:00         | 660.TA.26-787-j19-1.4.R    |             16 |            0.999977 |\n",
      "| 243 | 12:18:00       | 8591256      | 12:18:00         | 660.TA.26-787-j19-1.4.R    |             16 |            0.999977 |\n",
      "| 244 | 12:19:00       | 8591172      | 12:19:00         | 660.TA.26-787-j19-1.4.R    |             16 |            0.999977 |\n",
      "| 245 | 12:20:00       | 8591318      | 12:22:00         | Walking transfer           |             16 |            0.999977 |\n",
      "| 246 | 12:23:00       | 8591128      | 12:23:00         | 1914.TA.26-11-A-j19-1.27.R |             16 |            0.999977 |\n",
      "| 247 | 12:24:00       | 8591049      | 12:30:00         | Walking transfer           |             16 |            0.999977 |\n",
      "| 248 | Starts Walking | 8503000:0:9  | 11:50:00         | Walking transfer           |             17 |            0.95695  |\n",
      "| 249 | 11:51:00       | 8587349      | 11:51:00         | 672.TA.26-46-j19-1.8.R     |             17 |            0.95695  |\n",
      "| 250 | 11:52:00       | 8591379      | 11:54:00         | Walking transfer           |             17 |            0.95695  |\n",
      "| 251 | Starts Walking | 8591373      | 11:57:00         | Walking transfer           |             17 |            0.95695  |\n",
      "| 252 | 11:58:00       | 8591362      | 11:58:00         | 261.TA.26-9-B-j19-1.1.R    |             17 |            0.95695  |\n",
      "| 253 | 11:59:00       | 8591229      | 12:01:00         | Walking transfer           |             17 |            0.95695  |\n",
      "| 254 | 12:02:00       | 8591255      | 12:02:00         | 1489.TA.26-10-j19-1.11.R   |             17 |            0.95695  |\n",
      "| 255 | 12:03:00       | 8591244      | 12:05:00         | Walking transfer           |             17 |            0.95695  |\n",
      "| 256 | 12:06:00       | 8591276      | 12:06:00         | 1183.TA.26-7-B-j19-1.6.R   |             17 |            0.95695  |\n",
      "| 257 | 12:08:00       | 8591393      | 12:08:00         | 1183.TA.26-7-B-j19-1.6.R   |             17 |            0.95695  |\n",
      "| 258 | 12:09:00       | 8591420      | 12:14:00         | Walking transfer           |             17 |            0.95695  |\n",
      "| 259 | 12:15:00       | 8591152      | 12:15:00         | 1144.TA.26-75-A-j19-1.5.H  |             17 |            0.95695  |\n",
      "| 260 | 12:16:00       | 8591148      | 12:18:00         | Walking transfer           |             17 |            0.95695  |\n",
      "| 261 | 12:19:00       | 8591188      | 12:19:00         | 46.TA.26-79-j19-1.1.R      |             17 |            0.95695  |\n",
      "| 262 | 12:20:00       | 8591047      | 12:25:00         | Walking transfer           |             17 |            0.95695  |\n",
      "| 263 | 12:26:00       | 8591050      | 12:26:00         | 134.TA.26-79-j19-1.2.H     |             17 |            0.95695  |\n",
      "| 264 | 12:27:00       | 8591049      | 12:30:00         | Walking transfer           |             17 |            0.95695  |\n",
      "| 265 | Starts Walking | 8503000:0:9  | 11:50:00         | Walking transfer           |             18 |            0.956407 |\n",
      "| 266 | 11:51:00       | 8587349      | 11:51:00         | 672.TA.26-46-j19-1.8.R     |             18 |            0.956407 |\n",
      "| 267 | 11:52:00       | 8591379      | 11:54:00         | Walking transfer           |             18 |            0.956407 |\n",
      "| 268 | 11:55:00       | 8591373      | 11:55:00         | 328.TA.26-15-A-j19-1.5.R   |             18 |            0.956407 |\n",
      "| 269 | Starts Walking | 8591298      | 11:59:00         | Walking transfer           |             18 |            0.956407 |\n",
      "| 270 | 12:00:00       | 8591362      | 12:00:00         | 1489.TA.26-10-j19-1.11.R   |             18 |            0.956407 |\n",
      "| 271 | 12:01:00       | 8591229      | 12:01:00         | 1489.TA.26-10-j19-1.11.R   |             18 |            0.956407 |\n",
      "| 272 | 12:02:00       | 8591255      | 12:02:00         | 1489.TA.26-10-j19-1.11.R   |             18 |            0.956407 |\n",
      "| 273 | 12:03:00       | 8591244      | 12:05:00         | Walking transfer           |             18 |            0.956407 |\n",
      "| 274 | 12:06:00       | 8591276      | 12:06:00         | 1183.TA.26-7-B-j19-1.6.R   |             18 |            0.956407 |\n",
      "| 275 | 12:08:00       | 8591393      | 12:08:00         | 1183.TA.26-7-B-j19-1.6.R   |             18 |            0.956407 |\n",
      "| 276 | 12:09:00       | 8591420      | 12:14:00         | 1144.TA.26-75-A-j19-1.5.H  |             18 |            0.956407 |\n",
      "| 277 | 12:15:00       | 8591152      | 12:15:00         | 1144.TA.26-75-A-j19-1.5.H  |             18 |            0.956407 |\n",
      "| 278 | 12:16:00       | 8591148      | 12:18:00         | Walking transfer           |             18 |            0.956407 |\n",
      "| 279 | 12:19:00       | 8591188      | 12:19:00         | 46.TA.26-79-j19-1.1.R      |             18 |            0.956407 |\n",
      "| 280 | 12:20:00       | 8591047      | 12:25:00         | Walking transfer           |             18 |            0.956407 |\n",
      "| 281 | 12:26:00       | 8591050      | 12:26:00         | 134.TA.26-79-j19-1.2.H     |             18 |            0.956407 |\n",
      "| 282 | 12:27:00       | 8591049      | 12:30:00         | Walking transfer           |             18 |            0.956407 |\n",
      "| 283 | Starts Walking | 8503000:0:9  | 11:50:00         | Walking transfer           |             19 |            0.95695  |\n",
      "| 284 | 11:51:00       | 8587349      | 11:51:00         | 672.TA.26-46-j19-1.8.R     |             19 |            0.95695  |\n",
      "| 285 | 11:52:00       | 8591379      | 11:54:00         | Walking transfer           |             19 |            0.95695  |\n",
      "| 286 | 11:55:00       | 8591373      | 11:55:00         | 328.TA.26-15-A-j19-1.5.R   |             19 |            0.95695  |\n",
      "| 287 | 11:55:00       | 8591298      | 11:58:00         | Walking transfer           |             19 |            0.95695  |\n",
      "| 288 | Starts Walking | 8591339      | 12:01:00         | Walking transfer           |             19 |            0.95695  |\n",
      "| 289 | 12:02:00       | 8591255      | 12:02:00         | 1489.TA.26-10-j19-1.11.R   |             19 |            0.95695  |\n",
      "| 290 | 12:03:00       | 8591244      | 12:05:00         | Walking transfer           |             19 |            0.95695  |\n",
      "| 291 | 12:06:00       | 8591276      | 12:06:00         | 1183.TA.26-7-B-j19-1.6.R   |             19 |            0.95695  |\n",
      "| 292 | 12:08:00       | 8591393      | 12:08:00         | 1183.TA.26-7-B-j19-1.6.R   |             19 |            0.95695  |\n",
      "| 293 | 12:09:00       | 8591420      | 12:14:00         | Walking transfer           |             19 |            0.95695  |\n",
      "| 294 | 12:15:00       | 8591152      | 12:15:00         | 1144.TA.26-75-A-j19-1.5.H  |             19 |            0.95695  |\n",
      "| 295 | 12:16:00       | 8591148      | 12:18:00         | Walking transfer           |             19 |            0.95695  |\n",
      "| 296 | 12:19:00       | 8591188      | 12:19:00         | 46.TA.26-79-j19-1.1.R      |             19 |            0.95695  |\n",
      "| 297 | 12:20:00       | 8591047      | 12:25:00         | Walking transfer           |             19 |            0.95695  |\n",
      "| 298 | 12:26:00       | 8591050      | 12:26:00         | 134.TA.26-79-j19-1.2.H     |             19 |            0.95695  |\n",
      "| 299 | 12:27:00       | 8591049      | 12:30:00         | Walking transfer           |             19 |            0.95695  |\n",
      "| 300 | Starts Walking | 8503000:0:9  | 11:50:00         | Walking transfer           |             20 |            0.95695  |\n",
      "| 301 | 11:51:00       | 8587349      | 11:51:00         | 672.TA.26-46-j19-1.8.R     |             20 |            0.95695  |\n",
      "| 302 | 11:52:00       | 8591379      | 11:54:00         | Walking transfer           |             20 |            0.95695  |\n",
      "| 303 | 11:55:00       | 8591373      | 11:55:00         | 328.TA.26-15-A-j19-1.5.R   |             20 |            0.95695  |\n",
      "| 304 | 11:55:00       | 8591298      | 11:58:00         | Walking transfer           |             20 |            0.95695  |\n",
      "| 305 | 11:59:00       | 8591339      | 11:59:00         | 550.TA.26-33-B-j19-1.3.H   |             20 |            0.95695  |\n",
      "| 306 | Starts Walking | 8591335      | 12:04:00         | Walking transfer           |             20 |            0.95695  |\n",
      "| 307 | 12:05:00       | 8591168      | 12:05:00         | 1183.TA.26-7-B-j19-1.6.R   |             20 |            0.95695  |\n",
      "| 308 | 12:06:00       | 8591276      | 12:06:00         | 1183.TA.26-7-B-j19-1.6.R   |             20 |            0.95695  |\n",
      "| 309 | 12:08:00       | 8591393      | 12:12:00         | Walking transfer           |             20 |            0.95695  |\n",
      "| 310 | 12:13:00       | 8591140      | 12:13:00         | 1144.TA.26-75-A-j19-1.5.H  |             20 |            0.95695  |\n",
      "| 311 | 12:14:00       | 8591420      | 12:14:00         | 1144.TA.26-75-A-j19-1.5.H  |             20 |            0.95695  |\n",
      "| 312 | 12:15:00       | 8591152      | 12:15:00         | 1144.TA.26-75-A-j19-1.5.H  |             20 |            0.95695  |\n",
      "| 313 | 12:16:00       | 8591148      | 12:18:00         | Walking transfer           |             20 |            0.95695  |\n",
      "| 314 | 12:19:00       | 8591188      | 12:19:00         | 46.TA.26-79-j19-1.1.R      |             20 |            0.95695  |\n",
      "| 315 | 12:20:00       | 8591047      | 12:25:00         | Walking transfer           |             20 |            0.95695  |\n",
      "| 316 | 12:26:00       | 8591050      | 12:26:00         | 134.TA.26-79-j19-1.2.H     |             20 |            0.95695  |\n",
      "| 317 | 12:27:00       | 8591049      | 12:30:00         | Walking transfer           |             20 |            0.95695  |\n",
      "| 318 | Starts Walking | 8503000:0:9  | 11:48:00         | Walking transfer           |             21 |            0.999977 |\n",
      "| 319 | 11:49:00       | 8503000:0:34 | 11:49:00         | 63.TA.26-19-j19-1.16.H     |             21 |            0.999977 |\n",
      "| 320 | 11:54:00       | 8503006:0:2  | 12:16:00         | Walking transfer           |             21 |            0.999977 |\n",
      "| 321 | 12:17:00       | 8591063      | 12:17:00         | 136.TA.26-787-j19-1.1.R    |             21 |            0.999977 |\n",
      "| 322 | 12:18:00       | 8591256      | 12:18:00         | 136.TA.26-787-j19-1.1.R    |             21 |            0.999977 |\n",
      "| 323 | 12:19:00       | 8591172      | 12:19:00         | 136.TA.26-787-j19-1.1.R    |             21 |            0.999977 |\n",
      "| 324 | 12:20:00       | 8591318      | 12:22:00         | Walking transfer           |             21 |            0.999977 |\n",
      "| 325 | 12:23:00       | 8591128      | 12:23:00         | 1914.TA.26-11-A-j19-1.27.R |             21 |            0.999977 |\n",
      "| 326 | 12:24:00       | 8591049      | 12:30:00         | Walking transfer           |             21 |            0.999977 |\n",
      "| 327 | Starts Walking | 8503000:0:9  | 11:48:00         | Walking transfer           |             22 |            0.999977 |\n",
      "| 328 | Starts Walking | 8503000:0:34 | 11:48:00         | Walking transfer           |             22 |            0.999977 |\n",
      "| 329 | 11:49:00       | 8503000:0:32 | 11:49:00         | 64.TA.26-19-j19-1.17.H     |             22 |            0.999977 |\n",
      "| 330 | 11:54:00       | 8503006:0:2  | 12:12:00         | Walking transfer           |             22 |            0.999977 |\n",
      "| 331 | 12:13:00       | 8591382      | 12:13:00         | 879.TA.26-14-A-j19-1.10.R  |             22 |            0.999977 |\n",
      "| 332 | 12:15:00       | 8591063      | 12:17:00         | Walking transfer           |             22 |            0.999977 |\n",
      "| 333 | 12:18:00       | 8591256      | 12:18:00         | 660.TA.26-787-j19-1.4.R    |             22 |            0.999977 |\n",
      "| 334 | 12:19:00       | 8591172      | 12:19:00         | 660.TA.26-787-j19-1.4.R    |             22 |            0.999977 |\n",
      "| 335 | 12:20:00       | 8591318      | 12:22:00         | Walking transfer           |             22 |            0.999977 |\n",
      "| 336 | 12:23:00       | 8591128      | 12:23:00         | 1914.TA.26-11-A-j19-1.27.R |             22 |            0.999977 |\n",
      "| 337 | 12:24:00       | 8591049      | 12:30:00         | Walking transfer           |             22 |            0.999977 |\n",
      "| 338 | Starts Walking | 8503000:0:9  | 11:48:00         | Walking transfer           |             23 |            0.999977 |\n",
      "| 339 | 11:49:00       | 8503000:0:34 | 11:49:00         | 63.TA.26-19-j19-1.16.H     |             23 |            0.999977 |\n",
      "| 340 | 11:54:00       | 8503006:0:2  | 12:16:00         | Walking transfer           |             23 |            0.999977 |\n",
      "| 341 | 12:17:00       | 8591063      | 12:17:00         | 136.TA.26-787-j19-1.1.R    |             23 |            0.999977 |\n",
      "| 342 | 12:18:00       | 8591256      | 12:18:00         | 136.TA.26-787-j19-1.1.R    |             23 |            0.999977 |\n",
      "| 343 | Starts Walking | 8591172      | 12:13:00         | Walking transfer           |             23 |            0.999977 |\n",
      "| 344 | 12:14:00       | 8591256      | 12:14:00         | 1489.TA.26-10-j19-1.11.R   |             23 |            0.999977 |\n",
      "| 345 | 12:15:00       | 8591294      | 12:21:00         | Walking transfer           |             23 |            0.999977 |\n",
      "| 346 | 12:22:00       | 8591830      | 12:22:00         | 1914.TA.26-11-A-j19-1.27.R |             23 |            0.999977 |\n",
      "| 347 | 12:23:00       | 8591128      | 12:23:00         | 1914.TA.26-11-A-j19-1.27.R |             23 |            0.999977 |\n",
      "| 348 | 12:24:00       | 8591049      | 12:30:00         | Walking transfer           |             23 |            0.999977 |\n",
      "| 349 | Starts Walking | 8503000:0:9  | 11:48:00         | Walking transfer           |             24 |            1        |\n",
      "| 350 | 11:49:00       | 8503000:0:34 | 11:49:00         | 63.TA.26-19-j19-1.16.H     |             24 |            1        |\n",
      "| 351 | 11:54:00       | 8503006:0:2  | 12:16:00         | Walking transfer           |             24 |            1        |\n",
      "| 352 | 12:17:00       | 8591063      | 12:17:00         | 136.TA.26-787-j19-1.1.R    |             24 |            1        |\n",
      "| 353 | 12:18:00       | 8591256      | 12:18:00         | 136.TA.26-787-j19-1.1.R    |             24 |            1        |\n",
      "| 354 | 12:19:00       | 8591172      | 12:19:00         | 136.TA.26-787-j19-1.1.R    |             24 |            1        |\n",
      "| 355 | 12:20:00       | 8591318      | 12:22:00         | Walking transfer           |             24 |            1        |\n",
      "| 356 | Starts Walking | 8591128      | 12:20:00         | Walking transfer           |             24 |            1        |\n",
      "| 357 | 12:21:00       | 8591297      | 12:21:00         | 46.TA.26-79-j19-1.1.R      |             24 |            1        |\n",
      "| 358 | 12:22:00       | 8591049      | 12:30:00         | Walking transfer           |             24 |            1        |\n",
      "| 359 | Starts Walking | 8503000:0:9  | 11:48:00         | Walking transfer           |             25 |            0.999977 |\n",
      "| 360 | Starts Walking | 8503000:0:34 | 11:48:00         | Walking transfer           |             25 |            0.999977 |\n",
      "| 361 | Starts Walking | 8503000:0:32 | 11:48:00         | Walking transfer           |             25 |            0.999977 |\n",
      "| 362 | 11:49:00       | 8503000:0:34 | 11:49:00         | 63.TA.26-19-j19-1.16.H     |             25 |            0.999977 |\n",
      "| 363 | 11:54:00       | 8503006:0:2  | 12:08:00         | Walking transfer           |             25 |            0.999977 |\n",
      "| 364 | 12:09:00       | 8591314      | 12:09:00         | 245.TA.26-61-j19-1.1.H     |             25 |            0.999977 |\n",
      "| 365 | 12:10:00       | 8580449      | 12:12:00         | Walking transfer           |             25 |            0.999977 |\n",
      "| 366 | 12:13:00       | 8591273      | 12:13:00         | 245.TA.26-61-j19-1.1.H     |             25 |            0.999977 |\n",
      "| 367 | 12:14:00       | 8591175      | 12:18:00         | Walking transfer           |             25 |            0.999977 |\n",
      "| 368 | 12:19:00       | 8591172      | 12:19:00         | 136.TA.26-787-j19-1.1.R    |             25 |            0.999977 |\n",
      "| 369 | 12:20:00       | 8591318      | 12:22:00         | Walking transfer           |             25 |            0.999977 |\n",
      "| 370 | 12:23:00       | 8591128      | 12:23:00         | 1914.TA.26-11-A-j19-1.27.R |             25 |            0.999977 |\n",
      "| 371 | 12:24:00       | 8591049      | 12:30:00         | Walking transfer           |             25 |            0.999977 |\n",
      "| 372 | Starts Walking | 8503000:0:9  | 11:48:00         | Walking transfer           |             26 |            0.999977 |\n",
      "| 373 | Starts Walking | 8503000:0:34 | 11:48:00         | Walking transfer           |             26 |            0.999977 |\n",
      "| 374 | 11:49:00       | 8503000:0:32 | 11:49:00         | 64.TA.26-19-j19-1.17.H     |             26 |            0.999977 |\n",
      "| 375 | 11:54:00       | 8503006:0:2  | 12:12:00         | Walking transfer           |             26 |            0.999977 |\n",
      "| 376 | Starts Walking | 8591382      | 12:07:00         | Walking transfer           |             26 |            0.999977 |\n",
      "| 377 | 12:08:00       | 8580449      | 12:08:00         | 598.TA.26-768-j19-1.2.R    |             26 |            0.999977 |\n",
      "| 378 | 12:09:00       | 8591063      | 12:17:00         | Walking transfer           |             26 |            0.999977 |\n",
      "| 379 | 12:18:00       | 8591256      | 12:18:00         | 660.TA.26-787-j19-1.4.R    |             26 |            0.999977 |\n",
      "| 380 | 12:19:00       | 8591172      | 12:19:00         | 660.TA.26-787-j19-1.4.R    |             26 |            0.999977 |\n",
      "| 381 | 12:20:00       | 8591318      | 12:22:00         | Walking transfer           |             26 |            0.999977 |\n",
      "| 382 | 12:23:00       | 8591128      | 12:23:00         | 1914.TA.26-11-A-j19-1.27.R |             26 |            0.999977 |\n",
      "| 383 | 12:24:00       | 8591049      | 12:30:00         | Walking transfer           |             26 |            0.999977 |\n",
      "| 384 | Starts Walking | 8503000:0:9  | 11:48:00         | Walking transfer           |             27 |            0.999977 |\n",
      "| 385 | Starts Walking | 8503000:0:34 | 11:48:00         | Walking transfer           |             27 |            0.999977 |\n",
      "| 386 | 11:49:00       | 8503000:0:32 | 11:49:00         | 64.TA.26-19-j19-1.17.H     |             27 |            0.999977 |\n",
      "| 387 | 11:54:00       | 8503006:0:2  | 12:12:00         | Walking transfer           |             27 |            0.999977 |\n",
      "| 388 | 12:13:00       | 8591382      | 12:13:00         | 879.TA.26-14-A-j19-1.10.R  |             27 |            0.999977 |\n",
      "| 389 | 12:15:00       | 8591063      | 12:17:00         | Walking transfer           |             27 |            0.999977 |\n",
      "| 390 | Starts Walking | 8591256      | 12:18:00         | Walking transfer           |             27 |            0.999977 |\n",
      "| 391 | 12:19:00       | 8591172      | 12:19:00         | 660.TA.26-787-j19-1.4.R    |             27 |            0.999977 |\n",
      "| 392 | 12:20:00       | 8591318      | 12:22:00         | Walking transfer           |             27 |            0.999977 |\n",
      "| 393 | 12:23:00       | 8591128      | 12:23:00         | 1914.TA.26-11-A-j19-1.27.R |             27 |            0.999977 |\n",
      "| 394 | 12:24:00       | 8591049      | 12:30:00         | Walking transfer           |             27 |            0.999977 |\n",
      "| 395 | Starts Walking | 8503000:0:9  | 11:48:00         | Walking transfer           |             28 |            0.999977 |\n",
      "| 396 | Starts Walking | 8503000:0:34 | 11:48:00         | Walking transfer           |             28 |            0.999977 |\n",
      "| 397 | 11:49:00       | 8503000:0:32 | 11:49:00         | 64.TA.26-19-j19-1.17.H     |             28 |            0.999977 |\n",
      "| 398 | 11:54:00       | 8503006:0:2  | 12:12:00         | Walking transfer           |             28 |            0.999977 |\n",
      "| 399 | 12:13:00       | 8591382      | 12:13:00         | 879.TA.26-14-A-j19-1.10.R  |             28 |            0.999977 |\n",
      "| 400 | 12:15:00       | 8591063      | 12:17:00         | Walking transfer           |             28 |            0.999977 |\n",
      "| 401 | 12:18:00       | 8591256      | 12:18:00         | 660.TA.26-787-j19-1.4.R    |             28 |            0.999977 |\n",
      "| 402 | Starts Walking | 8591172      | 12:13:00         | Walking transfer           |             28 |            0.999977 |\n",
      "| 403 | 12:14:00       | 8591256      | 12:14:00         | 1489.TA.26-10-j19-1.11.R   |             28 |            0.999977 |\n",
      "| 404 | 12:15:00       | 8591294      | 12:21:00         | Walking transfer           |             28 |            0.999977 |\n",
      "| 405 | 12:22:00       | 8591830      | 12:22:00         | 1914.TA.26-11-A-j19-1.27.R |             28 |            0.999977 |\n",
      "| 406 | 12:23:00       | 8591128      | 12:23:00         | 1914.TA.26-11-A-j19-1.27.R |             28 |            0.999977 |\n",
      "| 407 | 12:24:00       | 8591049      | 12:30:00         | Walking transfer           |             28 |            0.999977 |\n",
      "| 408 | Starts Walking | 8503000:0:9  | 11:47:00         | Walking transfer           |             29 |            0.956407 |\n",
      "| 409 | 11:48:00       | 8587348      | 11:48:00         | 2701.TA.26-31-j19-1.17.H   |             29 |            0.956407 |\n",
      "| 410 | 11:50:00       | 8588078      | 11:54:00         | Walking transfer           |             29 |            0.956407 |\n",
      "| 411 | 11:55:00       | 8591123      | 11:55:00         | 261.TA.26-9-B-j19-1.1.R    |             29 |            0.956407 |\n",
      "| 412 | 11:56:00       | 8591173      | 11:56:00         | 261.TA.26-9-B-j19-1.1.R    |             29 |            0.956407 |\n",
      "| 413 | 11:57:00       | 8591433      | 11:57:00         | 261.TA.26-9-B-j19-1.1.R    |             29 |            0.956407 |\n",
      "| 414 | 11:58:00       | 8591362      | 12:00:00         | Walking transfer           |             29 |            0.956407 |\n",
      "| 415 | 12:01:00       | 8591229      | 12:01:00         | 1489.TA.26-10-j19-1.11.R   |             29 |            0.956407 |\n",
      "| 416 | 12:02:00       | 8591255      | 12:02:00         | 1489.TA.26-10-j19-1.11.R   |             29 |            0.956407 |\n",
      "| 417 | 12:03:00       | 8591244      | 12:05:00         | Walking transfer           |             29 |            0.956407 |\n",
      "| 418 | 12:06:00       | 8591276      | 12:06:00         | 1183.TA.26-7-B-j19-1.6.R   |             29 |            0.956407 |\n",
      "| 419 | 12:08:00       | 8591393      | 12:08:00         | 1183.TA.26-7-B-j19-1.6.R   |             29 |            0.956407 |\n",
      "| 420 | 12:09:00       | 8591420      | 12:14:00         | 1144.TA.26-75-A-j19-1.5.H  |             29 |            0.956407 |\n",
      "| 421 | 12:15:00       | 8591152      | 12:15:00         | 1144.TA.26-75-A-j19-1.5.H  |             29 |            0.956407 |\n",
      "| 422 | 12:16:00       | 8591148      | 12:18:00         | Walking transfer           |             29 |            0.956407 |\n",
      "| 423 | 12:19:00       | 8591188      | 12:19:00         | 46.TA.26-79-j19-1.1.R      |             29 |            0.956407 |\n",
      "| 424 | 12:20:00       | 8591047      | 12:25:00         | Walking transfer           |             29 |            0.956407 |\n",
      "| 425 | 12:26:00       | 8591050      | 12:26:00         | 134.TA.26-79-j19-1.2.H     |             29 |            0.956407 |\n",
      "| 426 | 12:27:00       | 8591049      | 12:30:00         | Walking transfer           |             29 |            0.956407 |\n",
      "+-----+----------------+--------------+------------------+----------------------------+----------------+---------------------+"
     ]
    }
   ],
   "source": [
    "#Example output from the user interface"
   ]
  },
  {
   "cell_type": "code",
   "execution_count": 57,
   "metadata": {},
   "outputs": [
    {
     "data": {
      "application/vnd.jupyter.widget-view+json": {
       "model_id": "",
       "version_major": 2,
       "version_minor": 0
      },
      "text/plain": [
       "FloatProgress(value=0.0, bar_style='info', description='Progress:', layout=Layout(height='25px', width='50%'),…"
      ]
     },
     "metadata": {},
     "output_type": "display_data"
    }
   ],
   "source": [
    "rr_df.arrival_time.replace({'01:00:00': 'Starts Walking'}, inplace=True)"
   ]
  },
  {
   "cell_type": "code",
   "execution_count": 179,
   "metadata": {},
   "outputs": [
    {
     "data": {
      "application/vnd.jupyter.widget-view+json": {
       "model_id": "",
       "version_major": 2,
       "version_minor": 0
      },
      "text/plain": [
       "FloatProgress(value=0.0, bar_style='info', description='Progress:', layout=Layout(height='25px', width='50%'),…"
      ]
     },
     "metadata": {},
     "output_type": "display_data"
    }
   ],
   "source": [
    "r_df.arrival_time.replace({'Trip Start':'Walk Start'}, inplace=True)"
   ]
  },
  {
   "cell_type": "code",
   "execution_count": 60,
   "metadata": {},
   "outputs": [
    {
     "data": {
      "application/vnd.jupyter.widget-view+json": {
       "model_id": "",
       "version_major": 2,
       "version_minor": 0
      },
      "text/plain": [
       "FloatProgress(value=0.0, bar_style='info', description='Progress:', layout=Layout(height='25px', width='50%'),…"
      ]
     },
     "metadata": {},
     "output_type": "display_data"
    }
   ],
   "source": [
    "rr_df.drop(['certainty', 'walking'], axis=1, inplace=True)"
   ]
  }
 ],
 "metadata": {
  "kernelspec": {
   "display_name": "PySpark",
   "language": "",
   "name": "pysparkkernel"
  },
  "language_info": {
   "codemirror_mode": {
    "name": "python",
    "version": 3
   },
   "mimetype": "text/x-python",
   "name": "pyspark",
   "pygments_lexer": "python3"
  }
 },
 "nbformat": 4,
 "nbformat_minor": 4
}
